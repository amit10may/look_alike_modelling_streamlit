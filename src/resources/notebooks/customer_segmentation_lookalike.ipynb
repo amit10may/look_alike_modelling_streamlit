{
  "nbformat": 4,
  "nbformat_minor": 0,
  "metadata": {
    "colab": {
      "provenance": []
    },
    "kernelspec": {
      "name": "python3",
      "display_name": "Python 3"
    },
    "language_info": {
      "name": "python"
    },
    "widgets": {
      "application/vnd.jupyter.widget-state+json": {
        "9b853cef653746a083cde92c0b97fc8c": {
          "model_module": "@jupyter-widgets/controls",
          "model_name": "HBoxModel",
          "model_module_version": "1.5.0",
          "state": {
            "_dom_classes": [],
            "_model_module": "@jupyter-widgets/controls",
            "_model_module_version": "1.5.0",
            "_model_name": "HBoxModel",
            "_view_count": null,
            "_view_module": "@jupyter-widgets/controls",
            "_view_module_version": "1.5.0",
            "_view_name": "HBoxView",
            "box_style": "",
            "children": [
              "IPY_MODEL_a325adf35f774015964d97d85c6a1d8b",
              "IPY_MODEL_924e6a4d36da4f91863ca609f73fd84b",
              "IPY_MODEL_4d460171645d460d9d71ae6a2070a2fe"
            ],
            "layout": "IPY_MODEL_cb56c30f819e4d9ab7d8641bdfa7d88c"
          }
        },
        "a325adf35f774015964d97d85c6a1d8b": {
          "model_module": "@jupyter-widgets/controls",
          "model_name": "HTMLModel",
          "model_module_version": "1.5.0",
          "state": {
            "_dom_classes": [],
            "_model_module": "@jupyter-widgets/controls",
            "_model_module_version": "1.5.0",
            "_model_name": "HTMLModel",
            "_view_count": null,
            "_view_module": "@jupyter-widgets/controls",
            "_view_module_version": "1.5.0",
            "_view_name": "HTMLView",
            "description": "",
            "description_tooltip": null,
            "layout": "IPY_MODEL_19dab2d6573444c49fc8d005eca05d2d",
            "placeholder": "​",
            "style": "IPY_MODEL_742edc27d4fa42409c980be02abae165",
            "value": "config.json: 100%"
          }
        },
        "924e6a4d36da4f91863ca609f73fd84b": {
          "model_module": "@jupyter-widgets/controls",
          "model_name": "FloatProgressModel",
          "model_module_version": "1.5.0",
          "state": {
            "_dom_classes": [],
            "_model_module": "@jupyter-widgets/controls",
            "_model_module_version": "1.5.0",
            "_model_name": "FloatProgressModel",
            "_view_count": null,
            "_view_module": "@jupyter-widgets/controls",
            "_view_module_version": "1.5.0",
            "_view_name": "ProgressView",
            "bar_style": "success",
            "description": "",
            "description_tooltip": null,
            "layout": "IPY_MODEL_9295ce69e54f49ec9a8b7ff283d391e5",
            "max": 794,
            "min": 0,
            "orientation": "horizontal",
            "style": "IPY_MODEL_c00cbd0266db457eb70a10789e5caec7",
            "value": 794
          }
        },
        "4d460171645d460d9d71ae6a2070a2fe": {
          "model_module": "@jupyter-widgets/controls",
          "model_name": "HTMLModel",
          "model_module_version": "1.5.0",
          "state": {
            "_dom_classes": [],
            "_model_module": "@jupyter-widgets/controls",
            "_model_module_version": "1.5.0",
            "_model_name": "HTMLModel",
            "_view_count": null,
            "_view_module": "@jupyter-widgets/controls",
            "_view_module_version": "1.5.0",
            "_view_name": "HTMLView",
            "description": "",
            "description_tooltip": null,
            "layout": "IPY_MODEL_cd408cb4f5c24cd9851d0a88afcb60e3",
            "placeholder": "​",
            "style": "IPY_MODEL_0f2f939ed9c74d68abf96d2ccacf11a1",
            "value": " 794/794 [00:00&lt;00:00, 10.4kB/s]"
          }
        },
        "cb56c30f819e4d9ab7d8641bdfa7d88c": {
          "model_module": "@jupyter-widgets/base",
          "model_name": "LayoutModel",
          "model_module_version": "1.2.0",
          "state": {
            "_model_module": "@jupyter-widgets/base",
            "_model_module_version": "1.2.0",
            "_model_name": "LayoutModel",
            "_view_count": null,
            "_view_module": "@jupyter-widgets/base",
            "_view_module_version": "1.2.0",
            "_view_name": "LayoutView",
            "align_content": null,
            "align_items": null,
            "align_self": null,
            "border": null,
            "bottom": null,
            "display": null,
            "flex": null,
            "flex_flow": null,
            "grid_area": null,
            "grid_auto_columns": null,
            "grid_auto_flow": null,
            "grid_auto_rows": null,
            "grid_column": null,
            "grid_gap": null,
            "grid_row": null,
            "grid_template_areas": null,
            "grid_template_columns": null,
            "grid_template_rows": null,
            "height": null,
            "justify_content": null,
            "justify_items": null,
            "left": null,
            "margin": null,
            "max_height": null,
            "max_width": null,
            "min_height": null,
            "min_width": null,
            "object_fit": null,
            "object_position": null,
            "order": null,
            "overflow": null,
            "overflow_x": null,
            "overflow_y": null,
            "padding": null,
            "right": null,
            "top": null,
            "visibility": null,
            "width": null
          }
        },
        "19dab2d6573444c49fc8d005eca05d2d": {
          "model_module": "@jupyter-widgets/base",
          "model_name": "LayoutModel",
          "model_module_version": "1.2.0",
          "state": {
            "_model_module": "@jupyter-widgets/base",
            "_model_module_version": "1.2.0",
            "_model_name": "LayoutModel",
            "_view_count": null,
            "_view_module": "@jupyter-widgets/base",
            "_view_module_version": "1.2.0",
            "_view_name": "LayoutView",
            "align_content": null,
            "align_items": null,
            "align_self": null,
            "border": null,
            "bottom": null,
            "display": null,
            "flex": null,
            "flex_flow": null,
            "grid_area": null,
            "grid_auto_columns": null,
            "grid_auto_flow": null,
            "grid_auto_rows": null,
            "grid_column": null,
            "grid_gap": null,
            "grid_row": null,
            "grid_template_areas": null,
            "grid_template_columns": null,
            "grid_template_rows": null,
            "height": null,
            "justify_content": null,
            "justify_items": null,
            "left": null,
            "margin": null,
            "max_height": null,
            "max_width": null,
            "min_height": null,
            "min_width": null,
            "object_fit": null,
            "object_position": null,
            "order": null,
            "overflow": null,
            "overflow_x": null,
            "overflow_y": null,
            "padding": null,
            "right": null,
            "top": null,
            "visibility": null,
            "width": null
          }
        },
        "742edc27d4fa42409c980be02abae165": {
          "model_module": "@jupyter-widgets/controls",
          "model_name": "DescriptionStyleModel",
          "model_module_version": "1.5.0",
          "state": {
            "_model_module": "@jupyter-widgets/controls",
            "_model_module_version": "1.5.0",
            "_model_name": "DescriptionStyleModel",
            "_view_count": null,
            "_view_module": "@jupyter-widgets/base",
            "_view_module_version": "1.2.0",
            "_view_name": "StyleView",
            "description_width": ""
          }
        },
        "9295ce69e54f49ec9a8b7ff283d391e5": {
          "model_module": "@jupyter-widgets/base",
          "model_name": "LayoutModel",
          "model_module_version": "1.2.0",
          "state": {
            "_model_module": "@jupyter-widgets/base",
            "_model_module_version": "1.2.0",
            "_model_name": "LayoutModel",
            "_view_count": null,
            "_view_module": "@jupyter-widgets/base",
            "_view_module_version": "1.2.0",
            "_view_name": "LayoutView",
            "align_content": null,
            "align_items": null,
            "align_self": null,
            "border": null,
            "bottom": null,
            "display": null,
            "flex": null,
            "flex_flow": null,
            "grid_area": null,
            "grid_auto_columns": null,
            "grid_auto_flow": null,
            "grid_auto_rows": null,
            "grid_column": null,
            "grid_gap": null,
            "grid_row": null,
            "grid_template_areas": null,
            "grid_template_columns": null,
            "grid_template_rows": null,
            "height": null,
            "justify_content": null,
            "justify_items": null,
            "left": null,
            "margin": null,
            "max_height": null,
            "max_width": null,
            "min_height": null,
            "min_width": null,
            "object_fit": null,
            "object_position": null,
            "order": null,
            "overflow": null,
            "overflow_x": null,
            "overflow_y": null,
            "padding": null,
            "right": null,
            "top": null,
            "visibility": null,
            "width": null
          }
        },
        "c00cbd0266db457eb70a10789e5caec7": {
          "model_module": "@jupyter-widgets/controls",
          "model_name": "ProgressStyleModel",
          "model_module_version": "1.5.0",
          "state": {
            "_model_module": "@jupyter-widgets/controls",
            "_model_module_version": "1.5.0",
            "_model_name": "ProgressStyleModel",
            "_view_count": null,
            "_view_module": "@jupyter-widgets/base",
            "_view_module_version": "1.2.0",
            "_view_name": "StyleView",
            "bar_color": null,
            "description_width": ""
          }
        },
        "cd408cb4f5c24cd9851d0a88afcb60e3": {
          "model_module": "@jupyter-widgets/base",
          "model_name": "LayoutModel",
          "model_module_version": "1.2.0",
          "state": {
            "_model_module": "@jupyter-widgets/base",
            "_model_module_version": "1.2.0",
            "_model_name": "LayoutModel",
            "_view_count": null,
            "_view_module": "@jupyter-widgets/base",
            "_view_module_version": "1.2.0",
            "_view_name": "LayoutView",
            "align_content": null,
            "align_items": null,
            "align_self": null,
            "border": null,
            "bottom": null,
            "display": null,
            "flex": null,
            "flex_flow": null,
            "grid_area": null,
            "grid_auto_columns": null,
            "grid_auto_flow": null,
            "grid_auto_rows": null,
            "grid_column": null,
            "grid_gap": null,
            "grid_row": null,
            "grid_template_areas": null,
            "grid_template_columns": null,
            "grid_template_rows": null,
            "height": null,
            "justify_content": null,
            "justify_items": null,
            "left": null,
            "margin": null,
            "max_height": null,
            "max_width": null,
            "min_height": null,
            "min_width": null,
            "object_fit": null,
            "object_position": null,
            "order": null,
            "overflow": null,
            "overflow_x": null,
            "overflow_y": null,
            "padding": null,
            "right": null,
            "top": null,
            "visibility": null,
            "width": null
          }
        },
        "0f2f939ed9c74d68abf96d2ccacf11a1": {
          "model_module": "@jupyter-widgets/controls",
          "model_name": "DescriptionStyleModel",
          "model_module_version": "1.5.0",
          "state": {
            "_model_module": "@jupyter-widgets/controls",
            "_model_module_version": "1.5.0",
            "_model_name": "DescriptionStyleModel",
            "_view_count": null,
            "_view_module": "@jupyter-widgets/base",
            "_view_module_version": "1.2.0",
            "_view_name": "StyleView",
            "description_width": ""
          }
        },
        "6bbbed7e36ff4466a6f2a47443823d16": {
          "model_module": "@jupyter-widgets/controls",
          "model_name": "HBoxModel",
          "model_module_version": "1.5.0",
          "state": {
            "_dom_classes": [],
            "_model_module": "@jupyter-widgets/controls",
            "_model_module_version": "1.5.0",
            "_model_name": "HBoxModel",
            "_view_count": null,
            "_view_module": "@jupyter-widgets/controls",
            "_view_module_version": "1.5.0",
            "_view_name": "HBoxView",
            "box_style": "",
            "children": [
              "IPY_MODEL_84e6c0c2667f4510b5c512fd468f8d5a",
              "IPY_MODEL_c44a30ad71c547cfb09a1e720b2d4f41",
              "IPY_MODEL_8a871428ef8346ec9670f900503335a8"
            ],
            "layout": "IPY_MODEL_c7f02f51406c48a9910b6a4aca1cf922"
          }
        },
        "84e6c0c2667f4510b5c512fd468f8d5a": {
          "model_module": "@jupyter-widgets/controls",
          "model_name": "HTMLModel",
          "model_module_version": "1.5.0",
          "state": {
            "_dom_classes": [],
            "_model_module": "@jupyter-widgets/controls",
            "_model_module_version": "1.5.0",
            "_model_name": "HTMLModel",
            "_view_count": null,
            "_view_module": "@jupyter-widgets/controls",
            "_view_module_version": "1.5.0",
            "_view_name": "HTMLView",
            "description": "",
            "description_tooltip": null,
            "layout": "IPY_MODEL_ed5d81b13f554aaba5b09aac6ddb7b67",
            "placeholder": "​",
            "style": "IPY_MODEL_cec5046502fb4d8cb5db2d4b38f6d2ea",
            "value": "pytorch_model.bin: 100%"
          }
        },
        "c44a30ad71c547cfb09a1e720b2d4f41": {
          "model_module": "@jupyter-widgets/controls",
          "model_name": "FloatProgressModel",
          "model_module_version": "1.5.0",
          "state": {
            "_dom_classes": [],
            "_model_module": "@jupyter-widgets/controls",
            "_model_module_version": "1.5.0",
            "_model_name": "FloatProgressModel",
            "_view_count": null,
            "_view_module": "@jupyter-widgets/controls",
            "_view_module_version": "1.5.0",
            "_view_name": "ProgressView",
            "bar_style": "success",
            "description": "",
            "description_tooltip": null,
            "layout": "IPY_MODEL_6d5e40963496467bab5337a2f479c879",
            "max": 90903017,
            "min": 0,
            "orientation": "horizontal",
            "style": "IPY_MODEL_1ccdac7dbe03448d8833724882fbadbb",
            "value": 90903017
          }
        },
        "8a871428ef8346ec9670f900503335a8": {
          "model_module": "@jupyter-widgets/controls",
          "model_name": "HTMLModel",
          "model_module_version": "1.5.0",
          "state": {
            "_dom_classes": [],
            "_model_module": "@jupyter-widgets/controls",
            "_model_module_version": "1.5.0",
            "_model_name": "HTMLModel",
            "_view_count": null,
            "_view_module": "@jupyter-widgets/controls",
            "_view_module_version": "1.5.0",
            "_view_name": "HTMLView",
            "description": "",
            "description_tooltip": null,
            "layout": "IPY_MODEL_4fe4a8823fd24fa0859e0b19d2ad0e2d",
            "placeholder": "​",
            "style": "IPY_MODEL_740b0d861cda4451a5f07c7c95af6132",
            "value": " 90.9M/90.9M [00:00&lt;00:00, 238MB/s]"
          }
        },
        "c7f02f51406c48a9910b6a4aca1cf922": {
          "model_module": "@jupyter-widgets/base",
          "model_name": "LayoutModel",
          "model_module_version": "1.2.0",
          "state": {
            "_model_module": "@jupyter-widgets/base",
            "_model_module_version": "1.2.0",
            "_model_name": "LayoutModel",
            "_view_count": null,
            "_view_module": "@jupyter-widgets/base",
            "_view_module_version": "1.2.0",
            "_view_name": "LayoutView",
            "align_content": null,
            "align_items": null,
            "align_self": null,
            "border": null,
            "bottom": null,
            "display": null,
            "flex": null,
            "flex_flow": null,
            "grid_area": null,
            "grid_auto_columns": null,
            "grid_auto_flow": null,
            "grid_auto_rows": null,
            "grid_column": null,
            "grid_gap": null,
            "grid_row": null,
            "grid_template_areas": null,
            "grid_template_columns": null,
            "grid_template_rows": null,
            "height": null,
            "justify_content": null,
            "justify_items": null,
            "left": null,
            "margin": null,
            "max_height": null,
            "max_width": null,
            "min_height": null,
            "min_width": null,
            "object_fit": null,
            "object_position": null,
            "order": null,
            "overflow": null,
            "overflow_x": null,
            "overflow_y": null,
            "padding": null,
            "right": null,
            "top": null,
            "visibility": null,
            "width": null
          }
        },
        "ed5d81b13f554aaba5b09aac6ddb7b67": {
          "model_module": "@jupyter-widgets/base",
          "model_name": "LayoutModel",
          "model_module_version": "1.2.0",
          "state": {
            "_model_module": "@jupyter-widgets/base",
            "_model_module_version": "1.2.0",
            "_model_name": "LayoutModel",
            "_view_count": null,
            "_view_module": "@jupyter-widgets/base",
            "_view_module_version": "1.2.0",
            "_view_name": "LayoutView",
            "align_content": null,
            "align_items": null,
            "align_self": null,
            "border": null,
            "bottom": null,
            "display": null,
            "flex": null,
            "flex_flow": null,
            "grid_area": null,
            "grid_auto_columns": null,
            "grid_auto_flow": null,
            "grid_auto_rows": null,
            "grid_column": null,
            "grid_gap": null,
            "grid_row": null,
            "grid_template_areas": null,
            "grid_template_columns": null,
            "grid_template_rows": null,
            "height": null,
            "justify_content": null,
            "justify_items": null,
            "left": null,
            "margin": null,
            "max_height": null,
            "max_width": null,
            "min_height": null,
            "min_width": null,
            "object_fit": null,
            "object_position": null,
            "order": null,
            "overflow": null,
            "overflow_x": null,
            "overflow_y": null,
            "padding": null,
            "right": null,
            "top": null,
            "visibility": null,
            "width": null
          }
        },
        "cec5046502fb4d8cb5db2d4b38f6d2ea": {
          "model_module": "@jupyter-widgets/controls",
          "model_name": "DescriptionStyleModel",
          "model_module_version": "1.5.0",
          "state": {
            "_model_module": "@jupyter-widgets/controls",
            "_model_module_version": "1.5.0",
            "_model_name": "DescriptionStyleModel",
            "_view_count": null,
            "_view_module": "@jupyter-widgets/base",
            "_view_module_version": "1.2.0",
            "_view_name": "StyleView",
            "description_width": ""
          }
        },
        "6d5e40963496467bab5337a2f479c879": {
          "model_module": "@jupyter-widgets/base",
          "model_name": "LayoutModel",
          "model_module_version": "1.2.0",
          "state": {
            "_model_module": "@jupyter-widgets/base",
            "_model_module_version": "1.2.0",
            "_model_name": "LayoutModel",
            "_view_count": null,
            "_view_module": "@jupyter-widgets/base",
            "_view_module_version": "1.2.0",
            "_view_name": "LayoutView",
            "align_content": null,
            "align_items": null,
            "align_self": null,
            "border": null,
            "bottom": null,
            "display": null,
            "flex": null,
            "flex_flow": null,
            "grid_area": null,
            "grid_auto_columns": null,
            "grid_auto_flow": null,
            "grid_auto_rows": null,
            "grid_column": null,
            "grid_gap": null,
            "grid_row": null,
            "grid_template_areas": null,
            "grid_template_columns": null,
            "grid_template_rows": null,
            "height": null,
            "justify_content": null,
            "justify_items": null,
            "left": null,
            "margin": null,
            "max_height": null,
            "max_width": null,
            "min_height": null,
            "min_width": null,
            "object_fit": null,
            "object_position": null,
            "order": null,
            "overflow": null,
            "overflow_x": null,
            "overflow_y": null,
            "padding": null,
            "right": null,
            "top": null,
            "visibility": null,
            "width": null
          }
        },
        "1ccdac7dbe03448d8833724882fbadbb": {
          "model_module": "@jupyter-widgets/controls",
          "model_name": "ProgressStyleModel",
          "model_module_version": "1.5.0",
          "state": {
            "_model_module": "@jupyter-widgets/controls",
            "_model_module_version": "1.5.0",
            "_model_name": "ProgressStyleModel",
            "_view_count": null,
            "_view_module": "@jupyter-widgets/base",
            "_view_module_version": "1.2.0",
            "_view_name": "StyleView",
            "bar_color": null,
            "description_width": ""
          }
        },
        "4fe4a8823fd24fa0859e0b19d2ad0e2d": {
          "model_module": "@jupyter-widgets/base",
          "model_name": "LayoutModel",
          "model_module_version": "1.2.0",
          "state": {
            "_model_module": "@jupyter-widgets/base",
            "_model_module_version": "1.2.0",
            "_model_name": "LayoutModel",
            "_view_count": null,
            "_view_module": "@jupyter-widgets/base",
            "_view_module_version": "1.2.0",
            "_view_name": "LayoutView",
            "align_content": null,
            "align_items": null,
            "align_self": null,
            "border": null,
            "bottom": null,
            "display": null,
            "flex": null,
            "flex_flow": null,
            "grid_area": null,
            "grid_auto_columns": null,
            "grid_auto_flow": null,
            "grid_auto_rows": null,
            "grid_column": null,
            "grid_gap": null,
            "grid_row": null,
            "grid_template_areas": null,
            "grid_template_columns": null,
            "grid_template_rows": null,
            "height": null,
            "justify_content": null,
            "justify_items": null,
            "left": null,
            "margin": null,
            "max_height": null,
            "max_width": null,
            "min_height": null,
            "min_width": null,
            "object_fit": null,
            "object_position": null,
            "order": null,
            "overflow": null,
            "overflow_x": null,
            "overflow_y": null,
            "padding": null,
            "right": null,
            "top": null,
            "visibility": null,
            "width": null
          }
        },
        "740b0d861cda4451a5f07c7c95af6132": {
          "model_module": "@jupyter-widgets/controls",
          "model_name": "DescriptionStyleModel",
          "model_module_version": "1.5.0",
          "state": {
            "_model_module": "@jupyter-widgets/controls",
            "_model_module_version": "1.5.0",
            "_model_name": "DescriptionStyleModel",
            "_view_count": null,
            "_view_module": "@jupyter-widgets/base",
            "_view_module_version": "1.2.0",
            "_view_name": "StyleView",
            "description_width": ""
          }
        },
        "e091978b8eee40148d66ed8af414084b": {
          "model_module": "@jupyter-widgets/controls",
          "model_name": "HBoxModel",
          "model_module_version": "1.5.0",
          "state": {
            "_dom_classes": [],
            "_model_module": "@jupyter-widgets/controls",
            "_model_module_version": "1.5.0",
            "_model_name": "HBoxModel",
            "_view_count": null,
            "_view_module": "@jupyter-widgets/controls",
            "_view_module_version": "1.5.0",
            "_view_name": "HBoxView",
            "box_style": "",
            "children": [
              "IPY_MODEL_b68b2037dcc846149457eb17a44c62e7",
              "IPY_MODEL_df3262abebfb45578af7bcdbee89b991",
              "IPY_MODEL_ab27229e3eba4c79a7154008687a45ad"
            ],
            "layout": "IPY_MODEL_c23008cc024d4d27a8ee666757c35cc4"
          }
        },
        "b68b2037dcc846149457eb17a44c62e7": {
          "model_module": "@jupyter-widgets/controls",
          "model_name": "HTMLModel",
          "model_module_version": "1.5.0",
          "state": {
            "_dom_classes": [],
            "_model_module": "@jupyter-widgets/controls",
            "_model_module_version": "1.5.0",
            "_model_name": "HTMLModel",
            "_view_count": null,
            "_view_module": "@jupyter-widgets/controls",
            "_view_module_version": "1.5.0",
            "_view_name": "HTMLView",
            "description": "",
            "description_tooltip": null,
            "layout": "IPY_MODEL_4e526a73bd734877934018983dc4acde",
            "placeholder": "​",
            "style": "IPY_MODEL_ce9c9d33e8cc485bb4854b5e629c0f27",
            "value": "tokenizer_config.json: 100%"
          }
        },
        "df3262abebfb45578af7bcdbee89b991": {
          "model_module": "@jupyter-widgets/controls",
          "model_name": "FloatProgressModel",
          "model_module_version": "1.5.0",
          "state": {
            "_dom_classes": [],
            "_model_module": "@jupyter-widgets/controls",
            "_model_module_version": "1.5.0",
            "_model_name": "FloatProgressModel",
            "_view_count": null,
            "_view_module": "@jupyter-widgets/controls",
            "_view_module_version": "1.5.0",
            "_view_name": "ProgressView",
            "bar_style": "success",
            "description": "",
            "description_tooltip": null,
            "layout": "IPY_MODEL_41238698788d4811b4dd6acb351d9712",
            "max": 316,
            "min": 0,
            "orientation": "horizontal",
            "style": "IPY_MODEL_2d38a47657e8428c96caea441ed42c28",
            "value": 316
          }
        },
        "ab27229e3eba4c79a7154008687a45ad": {
          "model_module": "@jupyter-widgets/controls",
          "model_name": "HTMLModel",
          "model_module_version": "1.5.0",
          "state": {
            "_dom_classes": [],
            "_model_module": "@jupyter-widgets/controls",
            "_model_module_version": "1.5.0",
            "_model_name": "HTMLModel",
            "_view_count": null,
            "_view_module": "@jupyter-widgets/controls",
            "_view_module_version": "1.5.0",
            "_view_name": "HTMLView",
            "description": "",
            "description_tooltip": null,
            "layout": "IPY_MODEL_65b189bc4ee4442d82a252ddc26ca0c8",
            "placeholder": "​",
            "style": "IPY_MODEL_1604e18df8d0479f9b9b51a2cfb4795f",
            "value": " 316/316 [00:00&lt;00:00, 15.9kB/s]"
          }
        },
        "c23008cc024d4d27a8ee666757c35cc4": {
          "model_module": "@jupyter-widgets/base",
          "model_name": "LayoutModel",
          "model_module_version": "1.2.0",
          "state": {
            "_model_module": "@jupyter-widgets/base",
            "_model_module_version": "1.2.0",
            "_model_name": "LayoutModel",
            "_view_count": null,
            "_view_module": "@jupyter-widgets/base",
            "_view_module_version": "1.2.0",
            "_view_name": "LayoutView",
            "align_content": null,
            "align_items": null,
            "align_self": null,
            "border": null,
            "bottom": null,
            "display": null,
            "flex": null,
            "flex_flow": null,
            "grid_area": null,
            "grid_auto_columns": null,
            "grid_auto_flow": null,
            "grid_auto_rows": null,
            "grid_column": null,
            "grid_gap": null,
            "grid_row": null,
            "grid_template_areas": null,
            "grid_template_columns": null,
            "grid_template_rows": null,
            "height": null,
            "justify_content": null,
            "justify_items": null,
            "left": null,
            "margin": null,
            "max_height": null,
            "max_width": null,
            "min_height": null,
            "min_width": null,
            "object_fit": null,
            "object_position": null,
            "order": null,
            "overflow": null,
            "overflow_x": null,
            "overflow_y": null,
            "padding": null,
            "right": null,
            "top": null,
            "visibility": null,
            "width": null
          }
        },
        "4e526a73bd734877934018983dc4acde": {
          "model_module": "@jupyter-widgets/base",
          "model_name": "LayoutModel",
          "model_module_version": "1.2.0",
          "state": {
            "_model_module": "@jupyter-widgets/base",
            "_model_module_version": "1.2.0",
            "_model_name": "LayoutModel",
            "_view_count": null,
            "_view_module": "@jupyter-widgets/base",
            "_view_module_version": "1.2.0",
            "_view_name": "LayoutView",
            "align_content": null,
            "align_items": null,
            "align_self": null,
            "border": null,
            "bottom": null,
            "display": null,
            "flex": null,
            "flex_flow": null,
            "grid_area": null,
            "grid_auto_columns": null,
            "grid_auto_flow": null,
            "grid_auto_rows": null,
            "grid_column": null,
            "grid_gap": null,
            "grid_row": null,
            "grid_template_areas": null,
            "grid_template_columns": null,
            "grid_template_rows": null,
            "height": null,
            "justify_content": null,
            "justify_items": null,
            "left": null,
            "margin": null,
            "max_height": null,
            "max_width": null,
            "min_height": null,
            "min_width": null,
            "object_fit": null,
            "object_position": null,
            "order": null,
            "overflow": null,
            "overflow_x": null,
            "overflow_y": null,
            "padding": null,
            "right": null,
            "top": null,
            "visibility": null,
            "width": null
          }
        },
        "ce9c9d33e8cc485bb4854b5e629c0f27": {
          "model_module": "@jupyter-widgets/controls",
          "model_name": "DescriptionStyleModel",
          "model_module_version": "1.5.0",
          "state": {
            "_model_module": "@jupyter-widgets/controls",
            "_model_module_version": "1.5.0",
            "_model_name": "DescriptionStyleModel",
            "_view_count": null,
            "_view_module": "@jupyter-widgets/base",
            "_view_module_version": "1.2.0",
            "_view_name": "StyleView",
            "description_width": ""
          }
        },
        "41238698788d4811b4dd6acb351d9712": {
          "model_module": "@jupyter-widgets/base",
          "model_name": "LayoutModel",
          "model_module_version": "1.2.0",
          "state": {
            "_model_module": "@jupyter-widgets/base",
            "_model_module_version": "1.2.0",
            "_model_name": "LayoutModel",
            "_view_count": null,
            "_view_module": "@jupyter-widgets/base",
            "_view_module_version": "1.2.0",
            "_view_name": "LayoutView",
            "align_content": null,
            "align_items": null,
            "align_self": null,
            "border": null,
            "bottom": null,
            "display": null,
            "flex": null,
            "flex_flow": null,
            "grid_area": null,
            "grid_auto_columns": null,
            "grid_auto_flow": null,
            "grid_auto_rows": null,
            "grid_column": null,
            "grid_gap": null,
            "grid_row": null,
            "grid_template_areas": null,
            "grid_template_columns": null,
            "grid_template_rows": null,
            "height": null,
            "justify_content": null,
            "justify_items": null,
            "left": null,
            "margin": null,
            "max_height": null,
            "max_width": null,
            "min_height": null,
            "min_width": null,
            "object_fit": null,
            "object_position": null,
            "order": null,
            "overflow": null,
            "overflow_x": null,
            "overflow_y": null,
            "padding": null,
            "right": null,
            "top": null,
            "visibility": null,
            "width": null
          }
        },
        "2d38a47657e8428c96caea441ed42c28": {
          "model_module": "@jupyter-widgets/controls",
          "model_name": "ProgressStyleModel",
          "model_module_version": "1.5.0",
          "state": {
            "_model_module": "@jupyter-widgets/controls",
            "_model_module_version": "1.5.0",
            "_model_name": "ProgressStyleModel",
            "_view_count": null,
            "_view_module": "@jupyter-widgets/base",
            "_view_module_version": "1.2.0",
            "_view_name": "StyleView",
            "bar_color": null,
            "description_width": ""
          }
        },
        "65b189bc4ee4442d82a252ddc26ca0c8": {
          "model_module": "@jupyter-widgets/base",
          "model_name": "LayoutModel",
          "model_module_version": "1.2.0",
          "state": {
            "_model_module": "@jupyter-widgets/base",
            "_model_module_version": "1.2.0",
            "_model_name": "LayoutModel",
            "_view_count": null,
            "_view_module": "@jupyter-widgets/base",
            "_view_module_version": "1.2.0",
            "_view_name": "LayoutView",
            "align_content": null,
            "align_items": null,
            "align_self": null,
            "border": null,
            "bottom": null,
            "display": null,
            "flex": null,
            "flex_flow": null,
            "grid_area": null,
            "grid_auto_columns": null,
            "grid_auto_flow": null,
            "grid_auto_rows": null,
            "grid_column": null,
            "grid_gap": null,
            "grid_row": null,
            "grid_template_areas": null,
            "grid_template_columns": null,
            "grid_template_rows": null,
            "height": null,
            "justify_content": null,
            "justify_items": null,
            "left": null,
            "margin": null,
            "max_height": null,
            "max_width": null,
            "min_height": null,
            "min_width": null,
            "object_fit": null,
            "object_position": null,
            "order": null,
            "overflow": null,
            "overflow_x": null,
            "overflow_y": null,
            "padding": null,
            "right": null,
            "top": null,
            "visibility": null,
            "width": null
          }
        },
        "1604e18df8d0479f9b9b51a2cfb4795f": {
          "model_module": "@jupyter-widgets/controls",
          "model_name": "DescriptionStyleModel",
          "model_module_version": "1.5.0",
          "state": {
            "_model_module": "@jupyter-widgets/controls",
            "_model_module_version": "1.5.0",
            "_model_name": "DescriptionStyleModel",
            "_view_count": null,
            "_view_module": "@jupyter-widgets/base",
            "_view_module_version": "1.2.0",
            "_view_name": "StyleView",
            "description_width": ""
          }
        },
        "05cbca92aa72431db52f386719bc5e2a": {
          "model_module": "@jupyter-widgets/controls",
          "model_name": "HBoxModel",
          "model_module_version": "1.5.0",
          "state": {
            "_dom_classes": [],
            "_model_module": "@jupyter-widgets/controls",
            "_model_module_version": "1.5.0",
            "_model_name": "HBoxModel",
            "_view_count": null,
            "_view_module": "@jupyter-widgets/controls",
            "_view_module_version": "1.5.0",
            "_view_name": "HBoxView",
            "box_style": "",
            "children": [
              "IPY_MODEL_9c935d7eeaf949168e268e9b34875f31",
              "IPY_MODEL_aa4b8251d77947c48afd8867468bb277",
              "IPY_MODEL_e55205ffa4054d78a55fab48ca03da67"
            ],
            "layout": "IPY_MODEL_8b6ad43d9d9443a687a32aeca0ca0ccb"
          }
        },
        "9c935d7eeaf949168e268e9b34875f31": {
          "model_module": "@jupyter-widgets/controls",
          "model_name": "HTMLModel",
          "model_module_version": "1.5.0",
          "state": {
            "_dom_classes": [],
            "_model_module": "@jupyter-widgets/controls",
            "_model_module_version": "1.5.0",
            "_model_name": "HTMLModel",
            "_view_count": null,
            "_view_module": "@jupyter-widgets/controls",
            "_view_module_version": "1.5.0",
            "_view_name": "HTMLView",
            "description": "",
            "description_tooltip": null,
            "layout": "IPY_MODEL_c46d017bfa6b4c9498094a1a255cf570",
            "placeholder": "​",
            "style": "IPY_MODEL_8801ea6569bf4ff3b9e7c016c53a12be",
            "value": "vocab.txt: 100%"
          }
        },
        "aa4b8251d77947c48afd8867468bb277": {
          "model_module": "@jupyter-widgets/controls",
          "model_name": "FloatProgressModel",
          "model_module_version": "1.5.0",
          "state": {
            "_dom_classes": [],
            "_model_module": "@jupyter-widgets/controls",
            "_model_module_version": "1.5.0",
            "_model_name": "FloatProgressModel",
            "_view_count": null,
            "_view_module": "@jupyter-widgets/controls",
            "_view_module_version": "1.5.0",
            "_view_name": "ProgressView",
            "bar_style": "success",
            "description": "",
            "description_tooltip": null,
            "layout": "IPY_MODEL_c2bdd28385fa45c6a0ef7073a1af7bae",
            "max": 231508,
            "min": 0,
            "orientation": "horizontal",
            "style": "IPY_MODEL_250376d8e0604fd381affabedd8ba0dc",
            "value": 231508
          }
        },
        "e55205ffa4054d78a55fab48ca03da67": {
          "model_module": "@jupyter-widgets/controls",
          "model_name": "HTMLModel",
          "model_module_version": "1.5.0",
          "state": {
            "_dom_classes": [],
            "_model_module": "@jupyter-widgets/controls",
            "_model_module_version": "1.5.0",
            "_model_name": "HTMLModel",
            "_view_count": null,
            "_view_module": "@jupyter-widgets/controls",
            "_view_module_version": "1.5.0",
            "_view_name": "HTMLView",
            "description": "",
            "description_tooltip": null,
            "layout": "IPY_MODEL_a9405e8da3e0493183bf37c2a446df71",
            "placeholder": "​",
            "style": "IPY_MODEL_3a2d4d638e604afab54f3893cba87c8e",
            "value": " 232k/232k [00:00&lt;00:00, 1.42MB/s]"
          }
        },
        "8b6ad43d9d9443a687a32aeca0ca0ccb": {
          "model_module": "@jupyter-widgets/base",
          "model_name": "LayoutModel",
          "model_module_version": "1.2.0",
          "state": {
            "_model_module": "@jupyter-widgets/base",
            "_model_module_version": "1.2.0",
            "_model_name": "LayoutModel",
            "_view_count": null,
            "_view_module": "@jupyter-widgets/base",
            "_view_module_version": "1.2.0",
            "_view_name": "LayoutView",
            "align_content": null,
            "align_items": null,
            "align_self": null,
            "border": null,
            "bottom": null,
            "display": null,
            "flex": null,
            "flex_flow": null,
            "grid_area": null,
            "grid_auto_columns": null,
            "grid_auto_flow": null,
            "grid_auto_rows": null,
            "grid_column": null,
            "grid_gap": null,
            "grid_row": null,
            "grid_template_areas": null,
            "grid_template_columns": null,
            "grid_template_rows": null,
            "height": null,
            "justify_content": null,
            "justify_items": null,
            "left": null,
            "margin": null,
            "max_height": null,
            "max_width": null,
            "min_height": null,
            "min_width": null,
            "object_fit": null,
            "object_position": null,
            "order": null,
            "overflow": null,
            "overflow_x": null,
            "overflow_y": null,
            "padding": null,
            "right": null,
            "top": null,
            "visibility": null,
            "width": null
          }
        },
        "c46d017bfa6b4c9498094a1a255cf570": {
          "model_module": "@jupyter-widgets/base",
          "model_name": "LayoutModel",
          "model_module_version": "1.2.0",
          "state": {
            "_model_module": "@jupyter-widgets/base",
            "_model_module_version": "1.2.0",
            "_model_name": "LayoutModel",
            "_view_count": null,
            "_view_module": "@jupyter-widgets/base",
            "_view_module_version": "1.2.0",
            "_view_name": "LayoutView",
            "align_content": null,
            "align_items": null,
            "align_self": null,
            "border": null,
            "bottom": null,
            "display": null,
            "flex": null,
            "flex_flow": null,
            "grid_area": null,
            "grid_auto_columns": null,
            "grid_auto_flow": null,
            "grid_auto_rows": null,
            "grid_column": null,
            "grid_gap": null,
            "grid_row": null,
            "grid_template_areas": null,
            "grid_template_columns": null,
            "grid_template_rows": null,
            "height": null,
            "justify_content": null,
            "justify_items": null,
            "left": null,
            "margin": null,
            "max_height": null,
            "max_width": null,
            "min_height": null,
            "min_width": null,
            "object_fit": null,
            "object_position": null,
            "order": null,
            "overflow": null,
            "overflow_x": null,
            "overflow_y": null,
            "padding": null,
            "right": null,
            "top": null,
            "visibility": null,
            "width": null
          }
        },
        "8801ea6569bf4ff3b9e7c016c53a12be": {
          "model_module": "@jupyter-widgets/controls",
          "model_name": "DescriptionStyleModel",
          "model_module_version": "1.5.0",
          "state": {
            "_model_module": "@jupyter-widgets/controls",
            "_model_module_version": "1.5.0",
            "_model_name": "DescriptionStyleModel",
            "_view_count": null,
            "_view_module": "@jupyter-widgets/base",
            "_view_module_version": "1.2.0",
            "_view_name": "StyleView",
            "description_width": ""
          }
        },
        "c2bdd28385fa45c6a0ef7073a1af7bae": {
          "model_module": "@jupyter-widgets/base",
          "model_name": "LayoutModel",
          "model_module_version": "1.2.0",
          "state": {
            "_model_module": "@jupyter-widgets/base",
            "_model_module_version": "1.2.0",
            "_model_name": "LayoutModel",
            "_view_count": null,
            "_view_module": "@jupyter-widgets/base",
            "_view_module_version": "1.2.0",
            "_view_name": "LayoutView",
            "align_content": null,
            "align_items": null,
            "align_self": null,
            "border": null,
            "bottom": null,
            "display": null,
            "flex": null,
            "flex_flow": null,
            "grid_area": null,
            "grid_auto_columns": null,
            "grid_auto_flow": null,
            "grid_auto_rows": null,
            "grid_column": null,
            "grid_gap": null,
            "grid_row": null,
            "grid_template_areas": null,
            "grid_template_columns": null,
            "grid_template_rows": null,
            "height": null,
            "justify_content": null,
            "justify_items": null,
            "left": null,
            "margin": null,
            "max_height": null,
            "max_width": null,
            "min_height": null,
            "min_width": null,
            "object_fit": null,
            "object_position": null,
            "order": null,
            "overflow": null,
            "overflow_x": null,
            "overflow_y": null,
            "padding": null,
            "right": null,
            "top": null,
            "visibility": null,
            "width": null
          }
        },
        "250376d8e0604fd381affabedd8ba0dc": {
          "model_module": "@jupyter-widgets/controls",
          "model_name": "ProgressStyleModel",
          "model_module_version": "1.5.0",
          "state": {
            "_model_module": "@jupyter-widgets/controls",
            "_model_module_version": "1.5.0",
            "_model_name": "ProgressStyleModel",
            "_view_count": null,
            "_view_module": "@jupyter-widgets/base",
            "_view_module_version": "1.2.0",
            "_view_name": "StyleView",
            "bar_color": null,
            "description_width": ""
          }
        },
        "a9405e8da3e0493183bf37c2a446df71": {
          "model_module": "@jupyter-widgets/base",
          "model_name": "LayoutModel",
          "model_module_version": "1.2.0",
          "state": {
            "_model_module": "@jupyter-widgets/base",
            "_model_module_version": "1.2.0",
            "_model_name": "LayoutModel",
            "_view_count": null,
            "_view_module": "@jupyter-widgets/base",
            "_view_module_version": "1.2.0",
            "_view_name": "LayoutView",
            "align_content": null,
            "align_items": null,
            "align_self": null,
            "border": null,
            "bottom": null,
            "display": null,
            "flex": null,
            "flex_flow": null,
            "grid_area": null,
            "grid_auto_columns": null,
            "grid_auto_flow": null,
            "grid_auto_rows": null,
            "grid_column": null,
            "grid_gap": null,
            "grid_row": null,
            "grid_template_areas": null,
            "grid_template_columns": null,
            "grid_template_rows": null,
            "height": null,
            "justify_content": null,
            "justify_items": null,
            "left": null,
            "margin": null,
            "max_height": null,
            "max_width": null,
            "min_height": null,
            "min_width": null,
            "object_fit": null,
            "object_position": null,
            "order": null,
            "overflow": null,
            "overflow_x": null,
            "overflow_y": null,
            "padding": null,
            "right": null,
            "top": null,
            "visibility": null,
            "width": null
          }
        },
        "3a2d4d638e604afab54f3893cba87c8e": {
          "model_module": "@jupyter-widgets/controls",
          "model_name": "DescriptionStyleModel",
          "model_module_version": "1.5.0",
          "state": {
            "_model_module": "@jupyter-widgets/controls",
            "_model_module_version": "1.5.0",
            "_model_name": "DescriptionStyleModel",
            "_view_count": null,
            "_view_module": "@jupyter-widgets/base",
            "_view_module_version": "1.2.0",
            "_view_name": "StyleView",
            "description_width": ""
          }
        },
        "167b9674915644d68ba8f6f9fbb03d6d": {
          "model_module": "@jupyter-widgets/controls",
          "model_name": "HBoxModel",
          "model_module_version": "1.5.0",
          "state": {
            "_dom_classes": [],
            "_model_module": "@jupyter-widgets/controls",
            "_model_module_version": "1.5.0",
            "_model_name": "HBoxModel",
            "_view_count": null,
            "_view_module": "@jupyter-widgets/controls",
            "_view_module_version": "1.5.0",
            "_view_name": "HBoxView",
            "box_style": "",
            "children": [
              "IPY_MODEL_fcf5433574e44c6db549cb88e0515d6f",
              "IPY_MODEL_6ff30c76ecbd4b48a94a5ed590e35bbf",
              "IPY_MODEL_cf645e9562e64e8ea772d639381d04c8"
            ],
            "layout": "IPY_MODEL_c77211d9715942bda4b346322a1c2332"
          }
        },
        "fcf5433574e44c6db549cb88e0515d6f": {
          "model_module": "@jupyter-widgets/controls",
          "model_name": "HTMLModel",
          "model_module_version": "1.5.0",
          "state": {
            "_dom_classes": [],
            "_model_module": "@jupyter-widgets/controls",
            "_model_module_version": "1.5.0",
            "_model_name": "HTMLModel",
            "_view_count": null,
            "_view_module": "@jupyter-widgets/controls",
            "_view_module_version": "1.5.0",
            "_view_name": "HTMLView",
            "description": "",
            "description_tooltip": null,
            "layout": "IPY_MODEL_2856640ca9a34b80ba41c44ac023bd1d",
            "placeholder": "​",
            "style": "IPY_MODEL_d5e22e9d65ae48f4a78bf0a3fd258b7e",
            "value": "special_tokens_map.json: 100%"
          }
        },
        "6ff30c76ecbd4b48a94a5ed590e35bbf": {
          "model_module": "@jupyter-widgets/controls",
          "model_name": "FloatProgressModel",
          "model_module_version": "1.5.0",
          "state": {
            "_dom_classes": [],
            "_model_module": "@jupyter-widgets/controls",
            "_model_module_version": "1.5.0",
            "_model_name": "FloatProgressModel",
            "_view_count": null,
            "_view_module": "@jupyter-widgets/controls",
            "_view_module_version": "1.5.0",
            "_view_name": "ProgressView",
            "bar_style": "success",
            "description": "",
            "description_tooltip": null,
            "layout": "IPY_MODEL_354daacd4f814e1aba50a839d70004e3",
            "max": 112,
            "min": 0,
            "orientation": "horizontal",
            "style": "IPY_MODEL_bd73916041724f2cb255c54b3af31a59",
            "value": 112
          }
        },
        "cf645e9562e64e8ea772d639381d04c8": {
          "model_module": "@jupyter-widgets/controls",
          "model_name": "HTMLModel",
          "model_module_version": "1.5.0",
          "state": {
            "_dom_classes": [],
            "_model_module": "@jupyter-widgets/controls",
            "_model_module_version": "1.5.0",
            "_model_name": "HTMLModel",
            "_view_count": null,
            "_view_module": "@jupyter-widgets/controls",
            "_view_module_version": "1.5.0",
            "_view_name": "HTMLView",
            "description": "",
            "description_tooltip": null,
            "layout": "IPY_MODEL_a51b91a761d849ca86a861a88d8bae43",
            "placeholder": "​",
            "style": "IPY_MODEL_39b2db39a0f147d8805d3bd1f3f2958e",
            "value": " 112/112 [00:00&lt;00:00, 4.05kB/s]"
          }
        },
        "c77211d9715942bda4b346322a1c2332": {
          "model_module": "@jupyter-widgets/base",
          "model_name": "LayoutModel",
          "model_module_version": "1.2.0",
          "state": {
            "_model_module": "@jupyter-widgets/base",
            "_model_module_version": "1.2.0",
            "_model_name": "LayoutModel",
            "_view_count": null,
            "_view_module": "@jupyter-widgets/base",
            "_view_module_version": "1.2.0",
            "_view_name": "LayoutView",
            "align_content": null,
            "align_items": null,
            "align_self": null,
            "border": null,
            "bottom": null,
            "display": null,
            "flex": null,
            "flex_flow": null,
            "grid_area": null,
            "grid_auto_columns": null,
            "grid_auto_flow": null,
            "grid_auto_rows": null,
            "grid_column": null,
            "grid_gap": null,
            "grid_row": null,
            "grid_template_areas": null,
            "grid_template_columns": null,
            "grid_template_rows": null,
            "height": null,
            "justify_content": null,
            "justify_items": null,
            "left": null,
            "margin": null,
            "max_height": null,
            "max_width": null,
            "min_height": null,
            "min_width": null,
            "object_fit": null,
            "object_position": null,
            "order": null,
            "overflow": null,
            "overflow_x": null,
            "overflow_y": null,
            "padding": null,
            "right": null,
            "top": null,
            "visibility": null,
            "width": null
          }
        },
        "2856640ca9a34b80ba41c44ac023bd1d": {
          "model_module": "@jupyter-widgets/base",
          "model_name": "LayoutModel",
          "model_module_version": "1.2.0",
          "state": {
            "_model_module": "@jupyter-widgets/base",
            "_model_module_version": "1.2.0",
            "_model_name": "LayoutModel",
            "_view_count": null,
            "_view_module": "@jupyter-widgets/base",
            "_view_module_version": "1.2.0",
            "_view_name": "LayoutView",
            "align_content": null,
            "align_items": null,
            "align_self": null,
            "border": null,
            "bottom": null,
            "display": null,
            "flex": null,
            "flex_flow": null,
            "grid_area": null,
            "grid_auto_columns": null,
            "grid_auto_flow": null,
            "grid_auto_rows": null,
            "grid_column": null,
            "grid_gap": null,
            "grid_row": null,
            "grid_template_areas": null,
            "grid_template_columns": null,
            "grid_template_rows": null,
            "height": null,
            "justify_content": null,
            "justify_items": null,
            "left": null,
            "margin": null,
            "max_height": null,
            "max_width": null,
            "min_height": null,
            "min_width": null,
            "object_fit": null,
            "object_position": null,
            "order": null,
            "overflow": null,
            "overflow_x": null,
            "overflow_y": null,
            "padding": null,
            "right": null,
            "top": null,
            "visibility": null,
            "width": null
          }
        },
        "d5e22e9d65ae48f4a78bf0a3fd258b7e": {
          "model_module": "@jupyter-widgets/controls",
          "model_name": "DescriptionStyleModel",
          "model_module_version": "1.5.0",
          "state": {
            "_model_module": "@jupyter-widgets/controls",
            "_model_module_version": "1.5.0",
            "_model_name": "DescriptionStyleModel",
            "_view_count": null,
            "_view_module": "@jupyter-widgets/base",
            "_view_module_version": "1.2.0",
            "_view_name": "StyleView",
            "description_width": ""
          }
        },
        "354daacd4f814e1aba50a839d70004e3": {
          "model_module": "@jupyter-widgets/base",
          "model_name": "LayoutModel",
          "model_module_version": "1.2.0",
          "state": {
            "_model_module": "@jupyter-widgets/base",
            "_model_module_version": "1.2.0",
            "_model_name": "LayoutModel",
            "_view_count": null,
            "_view_module": "@jupyter-widgets/base",
            "_view_module_version": "1.2.0",
            "_view_name": "LayoutView",
            "align_content": null,
            "align_items": null,
            "align_self": null,
            "border": null,
            "bottom": null,
            "display": null,
            "flex": null,
            "flex_flow": null,
            "grid_area": null,
            "grid_auto_columns": null,
            "grid_auto_flow": null,
            "grid_auto_rows": null,
            "grid_column": null,
            "grid_gap": null,
            "grid_row": null,
            "grid_template_areas": null,
            "grid_template_columns": null,
            "grid_template_rows": null,
            "height": null,
            "justify_content": null,
            "justify_items": null,
            "left": null,
            "margin": null,
            "max_height": null,
            "max_width": null,
            "min_height": null,
            "min_width": null,
            "object_fit": null,
            "object_position": null,
            "order": null,
            "overflow": null,
            "overflow_x": null,
            "overflow_y": null,
            "padding": null,
            "right": null,
            "top": null,
            "visibility": null,
            "width": null
          }
        },
        "bd73916041724f2cb255c54b3af31a59": {
          "model_module": "@jupyter-widgets/controls",
          "model_name": "ProgressStyleModel",
          "model_module_version": "1.5.0",
          "state": {
            "_model_module": "@jupyter-widgets/controls",
            "_model_module_version": "1.5.0",
            "_model_name": "ProgressStyleModel",
            "_view_count": null,
            "_view_module": "@jupyter-widgets/base",
            "_view_module_version": "1.2.0",
            "_view_name": "StyleView",
            "bar_color": null,
            "description_width": ""
          }
        },
        "a51b91a761d849ca86a861a88d8bae43": {
          "model_module": "@jupyter-widgets/base",
          "model_name": "LayoutModel",
          "model_module_version": "1.2.0",
          "state": {
            "_model_module": "@jupyter-widgets/base",
            "_model_module_version": "1.2.0",
            "_model_name": "LayoutModel",
            "_view_count": null,
            "_view_module": "@jupyter-widgets/base",
            "_view_module_version": "1.2.0",
            "_view_name": "LayoutView",
            "align_content": null,
            "align_items": null,
            "align_self": null,
            "border": null,
            "bottom": null,
            "display": null,
            "flex": null,
            "flex_flow": null,
            "grid_area": null,
            "grid_auto_columns": null,
            "grid_auto_flow": null,
            "grid_auto_rows": null,
            "grid_column": null,
            "grid_gap": null,
            "grid_row": null,
            "grid_template_areas": null,
            "grid_template_columns": null,
            "grid_template_rows": null,
            "height": null,
            "justify_content": null,
            "justify_items": null,
            "left": null,
            "margin": null,
            "max_height": null,
            "max_width": null,
            "min_height": null,
            "min_width": null,
            "object_fit": null,
            "object_position": null,
            "order": null,
            "overflow": null,
            "overflow_x": null,
            "overflow_y": null,
            "padding": null,
            "right": null,
            "top": null,
            "visibility": null,
            "width": null
          }
        },
        "39b2db39a0f147d8805d3bd1f3f2958e": {
          "model_module": "@jupyter-widgets/controls",
          "model_name": "DescriptionStyleModel",
          "model_module_version": "1.5.0",
          "state": {
            "_model_module": "@jupyter-widgets/controls",
            "_model_module_version": "1.5.0",
            "_model_name": "DescriptionStyleModel",
            "_view_count": null,
            "_view_module": "@jupyter-widgets/base",
            "_view_module_version": "1.2.0",
            "_view_name": "StyleView",
            "description_width": ""
          }
        }
      }
    }
  },
  "cells": [
    {
      "cell_type": "code",
      "execution_count": null,
      "metadata": {
        "id": "57a1Ti1WRyiu"
      },
      "outputs": [],
      "source": [
        "%pip install langchain==0.0.268 chromadb==0.3.26 sentence_transformers==2.2.2 InstructorEmbedding==1.0.1 fastapi pydantic==1.10.13 pyspark"
      ]
    },
    {
      "cell_type": "code",
      "source": [
        "!python3 --version\n",
        "#checking python version"
      ],
      "metadata": {
        "colab": {
          "base_uri": "https://localhost:8080/"
        },
        "id": "OtjdlTVuR8En",
        "outputId": "0d977a80-abda-494b-80dc-4e3bceec36d1"
      },
      "execution_count": null,
      "outputs": [
        {
          "output_type": "stream",
          "name": "stdout",
          "text": [
            "Python 3.10.12\n"
          ]
        }
      ]
    },
    {
      "cell_type": "code",
      "source": [
        "%run config.py"
      ],
      "metadata": {
        "id": "2YNxL_kuSAvW"
      },
      "execution_count": null,
      "outputs": []
    },
    {
      "cell_type": "code",
      "source": [
        "%run functions.py"
      ],
      "metadata": {
        "id": "tojX5kL4SAs_"
      },
      "execution_count": null,
      "outputs": []
    },
    {
      "cell_type": "code",
      "source": [
        "from pyspark.sql import SparkSession\n",
        "\n",
        "# Create a Spark session\n",
        "spark = SparkSession.builder.appName(\"customer_look_alike_modelling\").getOrCreate()\n"
      ],
      "metadata": {
        "id": "j4e4xHgnSAq5"
      },
      "execution_count": null,
      "outputs": []
    },
    {
      "cell_type": "code",
      "source": [
        "# input_df = spark.read.csv(\"MOCK_DATA.csv\")\n",
        "# input_df.count()\n",
        "input_df = spark.read.option(\"header\", \"true\").option(\"inferSchema\", \"true\").csv(\"./Train.csv\")"
      ],
      "metadata": {
        "id": "_Ja2zl4XSAok"
      },
      "execution_count": null,
      "outputs": []
    },
    {
      "cell_type": "code",
      "source": [
        "input_df.printSchema()"
      ],
      "metadata": {
        "colab": {
          "base_uri": "https://localhost:8080/"
        },
        "id": "BuXw9KA1SAmM",
        "outputId": "ea3131c3-f7ff-43f4-8598-ba9fb73d2e5b"
      },
      "execution_count": null,
      "outputs": [
        {
          "output_type": "stream",
          "name": "stdout",
          "text": [
            "root\n",
            " |-- ID: integer (nullable = true)\n",
            " |-- Gender: string (nullable = true)\n",
            " |-- Ever_Married: string (nullable = true)\n",
            " |-- Age: integer (nullable = true)\n",
            " |-- Graduated: string (nullable = true)\n",
            " |-- Profession: string (nullable = true)\n",
            " |-- Work_Experience: double (nullable = true)\n",
            " |-- Spending_Score: string (nullable = true)\n",
            " |-- Family_Size: double (nullable = true)\n",
            " |-- Var_1: string (nullable = true)\n",
            " |-- Segmentation: string (nullable = true)\n",
            "\n"
          ]
        }
      ]
    },
    {
      "cell_type": "code",
      "source": [
        "input_df.show(20)\n",
        "input_df.groupBy(\"Segmentation\").count().show()"
      ],
      "metadata": {
        "colab": {
          "base_uri": "https://localhost:8080/"
        },
        "id": "Tc5QwGRsSAhL",
        "outputId": "4ce06f50-2522-413f-d58d-28e96bcf7057"
      },
      "execution_count": null,
      "outputs": [
        {
          "output_type": "stream",
          "name": "stdout",
          "text": [
            "+------+------+------------+---+---------+-------------+---------------+--------------+-----------+-----+------------+\n",
            "|    ID|Gender|Ever_Married|Age|Graduated|   Profession|Work_Experience|Spending_Score|Family_Size|Var_1|Segmentation|\n",
            "+------+------+------------+---+---------+-------------+---------------+--------------+-----------+-----+------------+\n",
            "|462809|  Male|          No| 22|       No|   Healthcare|            1.0|           Low|        4.0|Cat_4|           D|\n",
            "|462643|Female|         Yes| 38|      Yes|     Engineer|           NULL|       Average|        3.0|Cat_4|           A|\n",
            "|466315|Female|         Yes| 67|      Yes|     Engineer|            1.0|           Low|        1.0|Cat_6|           B|\n",
            "|461735|  Male|         Yes| 67|      Yes|       Lawyer|            0.0|          High|        2.0|Cat_6|           B|\n",
            "|462669|Female|         Yes| 40|      Yes|Entertainment|           NULL|          High|        6.0|Cat_6|           A|\n",
            "|461319|  Male|         Yes| 56|       No|       Artist|            0.0|       Average|        2.0|Cat_6|           C|\n",
            "|460156|  Male|          No| 32|      Yes|   Healthcare|            1.0|           Low|        3.0|Cat_6|           C|\n",
            "|464347|Female|          No| 33|      Yes|   Healthcare|            1.0|           Low|        3.0|Cat_6|           D|\n",
            "|465015|Female|         Yes| 61|      Yes|     Engineer|            0.0|           Low|        3.0|Cat_7|           D|\n",
            "|465176|Female|         Yes| 55|      Yes|       Artist|            1.0|       Average|        4.0|Cat_6|           C|\n",
            "|464041|Female|          No| 26|      Yes|     Engineer|            1.0|           Low|        3.0|Cat_6|           A|\n",
            "|464942|  Male|          No| 19|       No|   Healthcare|            4.0|           Low|        4.0|Cat_4|           D|\n",
            "|461230|Female|          No| 19|       No|    Executive|            0.0|           Low|       NULL|Cat_3|           D|\n",
            "|459573|  Male|         Yes| 70|       No|       Lawyer|           NULL|           Low|        1.0|Cat_6|           A|\n",
            "|460849|Female|         Yes| 58|       No|       Doctor|            0.0|           Low|        1.0|Cat_3|           B|\n",
            "|460563|Female|          No| 41|       No|   Healthcare|            1.0|           Low|        2.0|Cat_1|           C|\n",
            "|466865|Female|          No| 32|       No|    Homemaker|            9.0|           Low|        5.0|Cat_3|           D|\n",
            "|461644|  Male|          No| 31|       No|   Healthcare|            1.0|           Low|        6.0|Cat_6|           B|\n",
            "|466772|  Male|         Yes| 58|      Yes|Entertainment|            1.0|       Average|        4.0|Cat_6|           B|\n",
            "|464291|Female|         Yes| 79|      Yes|       Artist|            0.0|          High|        1.0|Cat_6|           C|\n",
            "+------+------+------------+---+---------+-------------+---------------+--------------+-----------+-----+------------+\n",
            "only showing top 20 rows\n",
            "\n",
            "+------------+-----+\n",
            "|Segmentation|count|\n",
            "+------------+-----+\n",
            "|           B| 1858|\n",
            "|           D| 2268|\n",
            "|           C| 1970|\n",
            "|           A| 1972|\n",
            "+------------+-----+\n",
            "\n"
          ]
        }
      ]
    },
    {
      "cell_type": "code",
      "source": [
        "# Create row containing all columns in the format (column_name: column_value) except target\n",
        "\n",
        "# rename to cols_to_convert\n",
        "rows_to_convert = input_df.columns\n",
        "rows_to_convert.remove(\"Segmentation\")\n",
        "rows_to_convert.remove(\"ID\")\n",
        "rows_to_convert"
      ],
      "metadata": {
        "colab": {
          "base_uri": "https://localhost:8080/"
        },
        "id": "nMbaPgcLSRO7",
        "outputId": "2fadbd22-42cc-4171-da1b-ac0ad2278ea4"
      },
      "execution_count": null,
      "outputs": [
        {
          "output_type": "execute_result",
          "data": {
            "text/plain": [
              "['Gender',\n",
              " 'Ever_Married',\n",
              " 'Age',\n",
              " 'Graduated',\n",
              " 'Profession',\n",
              " 'Work_Experience',\n",
              " 'Spending_Score',\n",
              " 'Family_Size',\n",
              " 'Var_1']"
            ]
          },
          "metadata": {},
          "execution_count": 9
        }
      ]
    },
    {
      "cell_type": "code",
      "source": [
        "train_df = get_row_as_text(input_df, rows_to_convert)\n",
        "train_df.printSchema()"
      ],
      "metadata": {
        "colab": {
          "base_uri": "https://localhost:8080/"
        },
        "id": "R8RxFYXUSRMH",
        "outputId": "524d7b02-8981-474d-9b4f-338ce2a42495"
      },
      "execution_count": null,
      "outputs": [
        {
          "output_type": "stream",
          "name": "stdout",
          "text": [
            "root\n",
            " |-- ID: integer (nullable = true)\n",
            " |-- Gender: string (nullable = true)\n",
            " |-- Ever_Married: string (nullable = true)\n",
            " |-- Age: integer (nullable = true)\n",
            " |-- Graduated: string (nullable = true)\n",
            " |-- Profession: string (nullable = true)\n",
            " |-- Work_Experience: double (nullable = true)\n",
            " |-- Spending_Score: string (nullable = true)\n",
            " |-- Family_Size: double (nullable = true)\n",
            " |-- Var_1: string (nullable = true)\n",
            " |-- Segmentation: string (nullable = true)\n",
            " |-- row_as_text: string (nullable = false)\n",
            "\n"
          ]
        }
      ]
    },
    {
      "cell_type": "code",
      "source": [
        "train_df.select(\"row_as_text\").show(2, truncate=False)"
      ],
      "metadata": {
        "colab": {
          "base_uri": "https://localhost:8080/"
        },
        "id": "twrpp6ZuSRJv",
        "outputId": "abfc4551-3d47-4945-f1ea-5974afccf0e0"
      },
      "execution_count": null,
      "outputs": [
        {
          "output_type": "stream",
          "name": "stdout",
          "text": [
            "+---------------------------------------------------------------------------------------------------------------------------------------------------------+\n",
            "|row_as_text                                                                                                                                              |\n",
            "+---------------------------------------------------------------------------------------------------------------------------------------------------------+\n",
            "|Gender: Male; Ever_Married: No; Age: 22; Graduated: No; Profession: Healthcare; Work_Experience: 1.0; Spending_Score: Low; Family_Size: 4.0; Var_1: Cat_4|\n",
            "|Gender: Female; Ever_Married: Yes; Age: 38; Graduated: Yes; Profession: Engineer; Spending_Score: Average; Family_Size: 3.0; Var_1: Cat_4                |\n",
            "+---------------------------------------------------------------------------------------------------------------------------------------------------------+\n",
            "only showing top 2 rows\n",
            "\n"
          ]
        }
      ]
    },
    {
      "cell_type": "code",
      "source": [
        "\n",
        "import os\n",
        "\n",
        "# Specify the path of the directory you want to create\n",
        "db_dir = \"resources/embeddings_01\"\n",
        "\n",
        "# Create the directory\n",
        "os.makedirs(db_dir, exist_ok=True)"
      ],
      "metadata": {
        "id": "l8D4oLzCSRHV"
      },
      "execution_count": null,
      "outputs": []
    },
    {
      "cell_type": "code",
      "source": [
        "\n",
        "step = 500\n",
        "k = 2000\n",
        "hf_embeddings = get_embedding_model()\n",
        "texts_list = train_df.rdd.collect()\n",
        "# texts_list = [x[0] for x in texts_label_list]\n",
        "# texts_list\n",
        "texts_list[0]"
      ],
      "metadata": {
        "colab": {
          "base_uri": "https://localhost:8080/"
        },
        "id": "iAo4NPKDSRE5",
        "outputId": "24f12ccf-a68f-438a-a267-2f19884b7f04"
      },
      "execution_count": null,
      "outputs": [
        {
          "output_type": "execute_result",
          "data": {
            "text/plain": [
              "Row(ID=462809, Gender='Male', Ever_Married='No', Age=22, Graduated='No', Profession='Healthcare', Work_Experience=1.0, Spending_Score='Low', Family_Size=4.0, Var_1='Cat_4', Segmentation='D', row_as_text='Gender: Male; Ever_Married: No; Age: 22; Graduated: No; Profession: Healthcare; Work_Experience: 1.0; Spending_Score: Low; Family_Size: 4.0; Var_1: Cat_4')"
            ]
          },
          "metadata": {},
          "execution_count": 13
        }
      ]
    },
    {
      "cell_type": "code",
      "source": [
        "vdb = Chroma(persist_directory=db_dir, embedding_function=hf_embeddings,)\n",
        "for i in range(0, len(texts_list), step):\n",
        "    texts = [x.row_as_text for x in texts_list[i:i+step]]\n",
        "    metadata = [{\"ID\": str(x.ID), \"Gender\": str(x.Gender), \"Ever_Married\": str(x.Ever_Married), \"Age\": str(x.Age), \"Graduated\": str(x.Graduated), \"Profession\": str(x.Profession), \"Work_Experience\": str(x.Work_Experience), \"Spending_Score\": str(x.Spending_Score), \"Family_Size\": str(x.Family_Size), \"Var_1\": str(x.Var_1), \"Segmentation\": str(x.Segmentation)} for x in texts_list[i:i+step]]\n",
        "    vdb.add_texts(texts, metadata)\n",
        "vdb.persist()"
      ],
      "metadata": {
        "id": "RkWwUaZKSbJa"
      },
      "execution_count": null,
      "outputs": []
    },
    {
      "cell_type": "code",
      "source": [
        "vdb = Chroma(persist_directory=db_dir, embedding_function=hf_embeddings,)\n",
        "retriever = vdb.as_retriever(search_kwargs={\"k\": k})"
      ],
      "metadata": {
        "id": "ApRh4PskSbEO"
      },
      "execution_count": null,
      "outputs": []
    },
    {
      "cell_type": "code",
      "source": [
        "print(f\"\\n\\nNumber of embeddings in chromadb: {vdb._collection.count()}\")"
      ],
      "metadata": {
        "colab": {
          "base_uri": "https://localhost:8080/"
        },
        "id": "9GPObltcSbBp",
        "outputId": "1a9a6ea5-fb3f-423a-8035-8af9726bb50b"
      },
      "execution_count": null,
      "outputs": [
        {
          "output_type": "stream",
          "name": "stdout",
          "text": [
            "\n",
            "\n",
            "Number of embeddings in chromadb: 8068\n"
          ]
        }
      ]
    },
    {
      "cell_type": "code",
      "source": [
        "val_A, _ = train_df.filter(F.col(\"Segmentation\") == \"A\").randomSplit([0.20, 0.80])\n",
        "val_B, _ = train_df.filter(F.col(\"Segmentation\") == \"B\").randomSplit([0.20, 0.80])\n",
        "val_C, _ = train_df.filter(F.col(\"Segmentation\") == \"C\").randomSplit([0.20, 0.80])\n",
        "val_D, _ = train_df.filter(F.col(\"Segmentation\") == \"D\").randomSplit([0.20, 0.80])"
      ],
      "metadata": {
        "id": "cogv1jqQSa_e"
      },
      "execution_count": null,
      "outputs": []
    },
    {
      "cell_type": "code",
      "source": [
        "val_A_row2txt = get_row_as_text(val_A.limit(10), rows_to_convert)\n",
        "val_B_row2txt = get_row_as_text(val_B.limit(10), rows_to_convert)\n",
        "val_C_row2txt = get_row_as_text(val_C.limit(10), rows_to_convert)\n",
        "val_D_row2txt = get_row_as_text(val_D.limit(10), rows_to_convert)"
      ],
      "metadata": {
        "id": "Vg8qVm0RSa9U"
      },
      "execution_count": null,
      "outputs": []
    },
    {
      "cell_type": "code",
      "source": [
        "def get_retrived_df(input_df, val_df, retriever):\n",
        "  texts_list = val_df.rdd.map(lambda x: x.row_as_text).collect()\n",
        "\n",
        "  input_rows = val_df.rdd.map(lambda x: x.row_as_text).collect()\n",
        "  relevant_rows = []\n",
        "\n",
        "  step = 5\n",
        "  for i in range(0, len(input_rows)):\n",
        "      for relevant_row in retriever.get_relevant_documents(\"\\n\".join(input_rows[i])):\n",
        "          relevant_rows.append(relevant_row.page_content + f\"; Segmentation_predicted: {relevant_row.metadata['Segmentation']}; ID: {relevant_row.metadata['ID']}\")\n",
        "\n",
        "  converted_rows = [dict(pair.split(\": \") for pair in row.split(\"; \")) for row in relevant_rows]\n",
        "  return spark.createDataFrame(converted_rows).distinct().join(input_df.select(\"ID\", \"Segmentation\"), how=\"left\", on=[\"ID\"])\n"
      ],
      "metadata": {
        "id": "ApfedV_bSqNZ"
      },
      "execution_count": null,
      "outputs": []
    },
    {
      "cell_type": "code",
      "source": [
        "input_rows = val_A_row2txt.rdd.map(lambda x: x.row_as_text).collect()\n",
        "relevant_rows = []\n",
        "retrieved_labels = []\n",
        "for i in range(0, len(input_rows), 500):\n",
        "    for relevant_row in retriever.get_relevant_documents(\"\\n\".join(input_rows[i:(i+500)])):\n",
        "        relevant_rows.append(relevant_row.page_content)\n",
        "        retrieved_labels.append(relevant_row.metadata[\"Segmentation\"])\n",
        "\n",
        "converted_rows = [dict(pair.split(\": \") for pair in row.split(\"; \")) for row in relevant_rows]\n",
        "retrieved_df = spark.createDataFrame(converted_rows)"
      ],
      "metadata": {
        "id": "KEVdOlBBSqKo"
      },
      "execution_count": null,
      "outputs": []
    },
    {
      "cell_type": "code",
      "source": [
        "result_df_A = get_retrived_df(input_df, val_A_row2txt, retriever)\n",
        "result_df_A.distinct().groupBy(\"Segmentation\").count().show()"
      ],
      "metadata": {
        "colab": {
          "base_uri": "https://localhost:8080/"
        },
        "id": "jZP0sCpLSqIS",
        "outputId": "191a8441-818e-45e6-d281-b492f2cd65db"
      },
      "execution_count": null,
      "outputs": [
        {
          "output_type": "stream",
          "name": "stdout",
          "text": [
            "+------------+-----+\n",
            "|Segmentation|count|\n",
            "+------------+-----+\n",
            "|           B|  887|\n",
            "|           D| 1378|\n",
            "|           C| 1007|\n",
            "|           A|  958|\n",
            "+------------+-----+\n",
            "\n"
          ]
        }
      ]
    },
    {
      "cell_type": "code",
      "source": [
        "get_retrived_df(input_df, val_B_row2txt, retriever).groupBy(\"Segmentation\").count().show()"
      ],
      "metadata": {
        "colab": {
          "base_uri": "https://localhost:8080/"
        },
        "id": "RG2e2xD6Svk0",
        "outputId": "98273123-7b8f-4bab-9357-fabd12d88a1f"
      },
      "execution_count": null,
      "outputs": [
        {
          "output_type": "stream",
          "name": "stdout",
          "text": [
            "+------------+-----+\n",
            "|Segmentation|count|\n",
            "+------------+-----+\n",
            "|           B|  803|\n",
            "|           D| 1428|\n",
            "|           C|  892|\n",
            "|           A|  893|\n",
            "+------------+-----+\n",
            "\n"
          ]
        }
      ]
    },
    {
      "cell_type": "code",
      "source": [
        "get_retrived_df(input_df, val_C_row2txt, retriever).groupBy(\"Segmentation\").count().show()"
      ],
      "metadata": {
        "colab": {
          "base_uri": "https://localhost:8080/"
        },
        "id": "eIGhB7KMSviA",
        "outputId": "23202fcc-9007-4c1c-b5af-18c2ce9991fe"
      },
      "execution_count": null,
      "outputs": [
        {
          "output_type": "stream",
          "name": "stdout",
          "text": [
            "+------------+-----+\n",
            "|Segmentation|count|\n",
            "+------------+-----+\n",
            "|           B|  600|\n",
            "|           D| 1219|\n",
            "|           C|  700|\n",
            "|           A|  668|\n",
            "+------------+-----+\n",
            "\n"
          ]
        }
      ]
    },
    {
      "cell_type": "code",
      "source": [
        "get_retrived_df(input_df, val_D_row2txt, retriever).groupBy(\"Segmentation\").count().show()"
      ],
      "metadata": {
        "colab": {
          "base_uri": "https://localhost:8080/"
        },
        "id": "oqFr3gbTSvfn",
        "outputId": "77c2ad00-7751-4052-b7d3-afaf77937a35"
      },
      "execution_count": null,
      "outputs": [
        {
          "output_type": "stream",
          "name": "stdout",
          "text": [
            "+------------+-----+\n",
            "|Segmentation|count|\n",
            "+------------+-----+\n",
            "|           B|  749|\n",
            "|           D| 1356|\n",
            "|           C|  840|\n",
            "|           A|  828|\n",
            "+------------+-----+\n",
            "\n"
          ]
        }
      ]
    },
    {
      "cell_type": "code",
      "source": [
        "test_df = spark.read.option(\"header\", \"true\").option(\"inferSchema\", \"true\").csv(\"./Test.csv\")\n",
        "test_df = get_row_as_text(test_df, rows_to_convert).limit(10)\n"
      ],
      "metadata": {
        "id": "w9WsasJ4SvdG"
      },
      "execution_count": null,
      "outputs": []
    },
    {
      "cell_type": "code",
      "source": [
        "from collections import Counter\n",
        "\n",
        "\n",
        "def get_retrieved_rows(input_row, retriever):\n",
        "  relevant_rows = []\n",
        "  labels = []\n",
        "  for relevant_row in retriever.get_relevant_documents(input_row):\n",
        "      relevant_rows.append(relevant_row.page_content + f\"; Segmentation_predicted: {relevant_row.metadata['Segmentation']}; ID: {relevant_row.metadata['ID']}\")\n",
        "      labels.append(relevant_row.metadata['Segmentation'])\n",
        "\n",
        "\n",
        "  converted_rows = [dict(pair.split(\": \") for pair in row.split(\"; \")) for row in relevant_rows]\n",
        "  spark.createDataFrame(converted_rows).distinct().join(input_df.select(\"ID\", \"Segmentation\"), how=\"left\", on=[\"ID\"]).groupBy(\"Segmentation\").count().show()\n",
        "\n",
        "  # most common label\n",
        "  counter = Counter(labels)\n",
        "  most_common_label, count = counter.most_common(1)[0]\n",
        "  return most_common_label\n",
        "\n",
        "from pyspark.sql.functions import udf\n",
        "from pyspark.sql.types import StringType\n",
        "\n",
        "get_retrieved_rows_udf = udf(lambda x: get_retrieved_rows(x, retriever), StringType())\n"
      ],
      "metadata": {
        "id": "e_CmPqz_SvaZ"
      },
      "execution_count": null,
      "outputs": []
    },
    {
      "cell_type": "code",
      "source": [
        "import pandas as pd\n",
        "test_pdf = test_df.toPandas()\n",
        "test_pdf[\"Segmentation_predicted\"] = test_pdf[\"row_as_text\"].apply(lambda x: get_retrieved_rows(x, retriever))"
      ],
      "metadata": {
        "colab": {
          "base_uri": "https://localhost:8080/"
        },
        "id": "TTaDL8_TS-1B",
        "outputId": "69c51553-9de3-48b9-a54b-5b15bfa40eb9"
      },
      "execution_count": null,
      "outputs": [
        {
          "output_type": "stream",
          "name": "stdout",
          "text": [
            "+------------+-----+\n",
            "|Segmentation|count|\n",
            "+------------+-----+\n",
            "|           B|  430|\n",
            "|           D|  609|\n",
            "|           C|  336|\n",
            "|           A|  625|\n",
            "+------------+-----+\n",
            "\n",
            "+------------+-----+\n",
            "|Segmentation|count|\n",
            "+------------+-----+\n",
            "|           B|  537|\n",
            "|           D|  425|\n",
            "|           C|  608|\n",
            "|           A|  430|\n",
            "+------------+-----+\n",
            "\n",
            "+------------+-----+\n",
            "|Segmentation|count|\n",
            "+------------+-----+\n",
            "|           B|  436|\n",
            "|           D|  594|\n",
            "|           C|  406|\n",
            "|           A|  564|\n",
            "+------------+-----+\n",
            "\n",
            "+------------+-----+\n",
            "|Segmentation|count|\n",
            "+------------+-----+\n",
            "|           B|  499|\n",
            "|           D|  495|\n",
            "|           C|  456|\n",
            "|           A|  550|\n",
            "+------------+-----+\n",
            "\n",
            "+------------+-----+\n",
            "|Segmentation|count|\n",
            "+------------+-----+\n",
            "|           B|  202|\n",
            "|           D| 1175|\n",
            "|           C|  206|\n",
            "|           A|  417|\n",
            "+------------+-----+\n",
            "\n",
            "+------------+-----+\n",
            "|Segmentation|count|\n",
            "+------------+-----+\n",
            "|           B|  410|\n",
            "|           D|  638|\n",
            "|           C|  400|\n",
            "|           A|  552|\n",
            "+------------+-----+\n",
            "\n",
            "+------------+-----+\n",
            "|Segmentation|count|\n",
            "+------------+-----+\n",
            "|           B|  442|\n",
            "|           D|  561|\n",
            "|           C|  468|\n",
            "|           A|  529|\n",
            "+------------+-----+\n",
            "\n",
            "+------------+-----+\n",
            "|Segmentation|count|\n",
            "+------------+-----+\n",
            "|           B|  605|\n",
            "|           D|   66|\n",
            "|           C|  962|\n",
            "|           A|  367|\n",
            "+------------+-----+\n",
            "\n",
            "+------------+-----+\n",
            "|Segmentation|count|\n",
            "+------------+-----+\n",
            "|           B|  610|\n",
            "|           D|   65|\n",
            "|           C|  959|\n",
            "|           A|  366|\n",
            "+------------+-----+\n",
            "\n",
            "+------------+-----+\n",
            "|Segmentation|count|\n",
            "+------------+-----+\n",
            "|           B|  183|\n",
            "|           D| 1276|\n",
            "|           C|  223|\n",
            "|           A|  318|\n",
            "+------------+-----+\n",
            "\n"
          ]
        }
      ]
    },
    {
      "cell_type": "code",
      "source": [
        "result_df = spark.createDataFrame(test_pdf)\n",
        "actual_results_df = spark.read.option(\"header\", \"true\").option(\"inferSchema\", \"true\").csv(\"./results.csv\")\n",
        "result_df.select(\"ID\", \"Segmentation_predicted\").join(actual_results_df, on=[\"ID\"], how=\"left\").show(200)"
      ],
      "metadata": {
        "colab": {
          "base_uri": "https://localhost:8080/"
        },
        "id": "Gi7mZA97TBI2",
        "outputId": "7f396aca-f001-4982-ad29-2afef0564886"
      },
      "execution_count": null,
      "outputs": [
        {
          "output_type": "stream",
          "name": "stdout",
          "text": [
            "+------+----------------------+------------+\n",
            "|    ID|Segmentation_predicted|Segmentation|\n",
            "+------+----------------------+------------+\n",
            "|458989|                     A|           B|\n",
            "|458994|                     C|           C|\n",
            "|458996|                     D|           A|\n",
            "|459000|                     A|           C|\n",
            "|459001|                     D|           D|\n",
            "|459003|                     D|           B|\n",
            "|459005|                     D|           A|\n",
            "|459008|                     C|           C|\n",
            "|459013|                     C|           C|\n",
            "|459014|                     D|           D|\n",
            "+------+----------------------+------------+\n",
            "\n"
          ]
        }
      ]
    },
    {
      "cell_type": "code",
      "source": [
        "# from helper_utils import load_chroma, word_wrap, project_embeddings\n",
        "from chromadb.utils.embedding_functions import SentenceTransformerEmbeddingFunction\n",
        "import numpy as np"
      ],
      "metadata": {
        "id": "juBZIvX3TBGH"
      },
      "execution_count": null,
      "outputs": []
    },
    {
      "cell_type": "code",
      "source": [
        "from sentence_transformers import CrossEncoder\n",
        "cross_encoder = CrossEncoder('cross-encoder/ms-marco-MiniLM-L-6-v2')"
      ],
      "metadata": {
        "colab": {
          "base_uri": "https://localhost:8080/",
          "height": 177,
          "referenced_widgets": [
            "9b853cef653746a083cde92c0b97fc8c",
            "a325adf35f774015964d97d85c6a1d8b",
            "924e6a4d36da4f91863ca609f73fd84b",
            "4d460171645d460d9d71ae6a2070a2fe",
            "cb56c30f819e4d9ab7d8641bdfa7d88c",
            "19dab2d6573444c49fc8d005eca05d2d",
            "742edc27d4fa42409c980be02abae165",
            "9295ce69e54f49ec9a8b7ff283d391e5",
            "c00cbd0266db457eb70a10789e5caec7",
            "cd408cb4f5c24cd9851d0a88afcb60e3",
            "0f2f939ed9c74d68abf96d2ccacf11a1",
            "6bbbed7e36ff4466a6f2a47443823d16",
            "84e6c0c2667f4510b5c512fd468f8d5a",
            "c44a30ad71c547cfb09a1e720b2d4f41",
            "8a871428ef8346ec9670f900503335a8",
            "c7f02f51406c48a9910b6a4aca1cf922",
            "ed5d81b13f554aaba5b09aac6ddb7b67",
            "cec5046502fb4d8cb5db2d4b38f6d2ea",
            "6d5e40963496467bab5337a2f479c879",
            "1ccdac7dbe03448d8833724882fbadbb",
            "4fe4a8823fd24fa0859e0b19d2ad0e2d",
            "740b0d861cda4451a5f07c7c95af6132",
            "e091978b8eee40148d66ed8af414084b",
            "b68b2037dcc846149457eb17a44c62e7",
            "df3262abebfb45578af7bcdbee89b991",
            "ab27229e3eba4c79a7154008687a45ad",
            "c23008cc024d4d27a8ee666757c35cc4",
            "4e526a73bd734877934018983dc4acde",
            "ce9c9d33e8cc485bb4854b5e629c0f27",
            "41238698788d4811b4dd6acb351d9712",
            "2d38a47657e8428c96caea441ed42c28",
            "65b189bc4ee4442d82a252ddc26ca0c8",
            "1604e18df8d0479f9b9b51a2cfb4795f",
            "05cbca92aa72431db52f386719bc5e2a",
            "9c935d7eeaf949168e268e9b34875f31",
            "aa4b8251d77947c48afd8867468bb277",
            "e55205ffa4054d78a55fab48ca03da67",
            "8b6ad43d9d9443a687a32aeca0ca0ccb",
            "c46d017bfa6b4c9498094a1a255cf570",
            "8801ea6569bf4ff3b9e7c016c53a12be",
            "c2bdd28385fa45c6a0ef7073a1af7bae",
            "250376d8e0604fd381affabedd8ba0dc",
            "a9405e8da3e0493183bf37c2a446df71",
            "3a2d4d638e604afab54f3893cba87c8e",
            "167b9674915644d68ba8f6f9fbb03d6d",
            "fcf5433574e44c6db549cb88e0515d6f",
            "6ff30c76ecbd4b48a94a5ed590e35bbf",
            "cf645e9562e64e8ea772d639381d04c8",
            "c77211d9715942bda4b346322a1c2332",
            "2856640ca9a34b80ba41c44ac023bd1d",
            "d5e22e9d65ae48f4a78bf0a3fd258b7e",
            "354daacd4f814e1aba50a839d70004e3",
            "bd73916041724f2cb255c54b3af31a59",
            "a51b91a761d849ca86a861a88d8bae43",
            "39b2db39a0f147d8805d3bd1f3f2958e"
          ]
        },
        "id": "Hxg_vTNwTA_v",
        "outputId": "e526d594-0028-4790-bf9e-39888662347b"
      },
      "execution_count": null,
      "outputs": [
        {
          "output_type": "display_data",
          "data": {
            "text/plain": [
              "config.json:   0%|          | 0.00/794 [00:00<?, ?B/s]"
            ],
            "application/vnd.jupyter.widget-view+json": {
              "version_major": 2,
              "version_minor": 0,
              "model_id": "9b853cef653746a083cde92c0b97fc8c"
            }
          },
          "metadata": {}
        },
        {
          "output_type": "display_data",
          "data": {
            "text/plain": [
              "pytorch_model.bin:   0%|          | 0.00/90.9M [00:00<?, ?B/s]"
            ],
            "application/vnd.jupyter.widget-view+json": {
              "version_major": 2,
              "version_minor": 0,
              "model_id": "6bbbed7e36ff4466a6f2a47443823d16"
            }
          },
          "metadata": {}
        },
        {
          "output_type": "display_data",
          "data": {
            "text/plain": [
              "tokenizer_config.json:   0%|          | 0.00/316 [00:00<?, ?B/s]"
            ],
            "application/vnd.jupyter.widget-view+json": {
              "version_major": 2,
              "version_minor": 0,
              "model_id": "e091978b8eee40148d66ed8af414084b"
            }
          },
          "metadata": {}
        },
        {
          "output_type": "display_data",
          "data": {
            "text/plain": [
              "vocab.txt:   0%|          | 0.00/232k [00:00<?, ?B/s]"
            ],
            "application/vnd.jupyter.widget-view+json": {
              "version_major": 2,
              "version_minor": 0,
              "model_id": "05cbca92aa72431db52f386719bc5e2a"
            }
          },
          "metadata": {}
        },
        {
          "output_type": "display_data",
          "data": {
            "text/plain": [
              "special_tokens_map.json:   0%|          | 0.00/112 [00:00<?, ?B/s]"
            ],
            "application/vnd.jupyter.widget-view+json": {
              "version_major": 2,
              "version_minor": 0,
              "model_id": "167b9674915644d68ba8f6f9fbb03d6d"
            }
          },
          "metadata": {}
        }
      ]
    },
    {
      "cell_type": "code",
      "source": [
        "from collections import Counter\n",
        "\n",
        "\n",
        "def get_retrieved_rows_with_crossenc(input_row, retriever, k):\n",
        "    relevant_rows = []\n",
        "    labels = []\n",
        "    for relevant_row in retriever.get_relevant_documents(input_row):\n",
        "      score = cross_encoder.predict([input_row, relevant_row.page_content])\n",
        "      relevant_rows.append(relevant_row.page_content + f\"; Segmentation_predicted: {relevant_row.metadata['Segmentation']}; ID: {relevant_row.metadata['ID']}; Score: {score}\")\n",
        "      labels.append(relevant_row.metadata['Segmentation'])\n",
        "\n",
        "\n",
        "    converted_rows = [dict(pair.split(\": \") for pair in row.split(\"; \")) for row in relevant_rows]\n",
        "    df = spark.createDataFrame(converted_rows).distinct().join(input_df.select(\"ID\", \"Segmentation\"), how=\"left\", on=[\"ID\"])\n",
        "    # df.groupBy(\"Segmentation\").count().show()\n",
        "\n",
        "    df = spark.createDataFrame(converted_rows).distinct().join(input_df.select(\"ID\", \"Segmentation\"), how=\"left\", on=[\"ID\"])\n",
        "    most_common_label = df.orderBy(df[\"Score\"].desc()).limit(int(k*0.1)).groupBy(\"Segmentation\").count().orderBy(F.col(\"count\").desc()).first()[\"Segmentation\"]\n",
        "\n",
        "    return most_common_label\n"
      ],
      "metadata": {
        "id": "vcbiiPUHTIBU"
      },
      "execution_count": null,
      "outputs": []
    },
    {
      "cell_type": "code",
      "source": [
        "k = 100\n",
        "retriever = vdb.as_retriever(search_kwargs={\"k\": k})"
      ],
      "metadata": {
        "id": "uCk7nwdMTH_n"
      },
      "execution_count": null,
      "outputs": []
    },
    {
      "cell_type": "code",
      "source": [
        "#for 300 rows\n",
        "import pandas as pd\n",
        "test_df = spark.read.option(\"header\", \"true\").option(\"inferSchema\", \"true\").csv(\"./Test.csv\")\n",
        "test_df = get_row_as_text(test_df, rows_to_convert).limit(300)\n",
        "\n",
        "test_pdf = test_df.toPandas()\n",
        "test_pdf[\"Segmentation_predicted\"] = test_pdf[\"row_as_text\"].apply(lambda x: get_retrieved_rows_with_crossenc(x, retriever, k))"
      ],
      "metadata": {
        "id": "A_VVZYABTH78"
      },
      "execution_count": null,
      "outputs": []
    },
    {
      "cell_type": "code",
      "source": [
        "result_df = spark.createDataFrame(test_pdf)\n",
        "actual_results_df = spark.read.option(\"header\", \"true\").option(\"inferSchema\", \"true\").csv(\"./results.csv\")\n",
        "df = result_df.select(\"ID\", \"Segmentation_predicted\").join(actual_results_df, on=[\"ID\"], how=\"left\")\n",
        "df.show()"
      ],
      "metadata": {
        "colab": {
          "base_uri": "https://localhost:8080/"
        },
        "id": "QUYaCzWLTH0t",
        "outputId": "87e99a01-dbc2-4176-a2bb-9a4d02a1b95f"
      },
      "execution_count": null,
      "outputs": [
        {
          "output_type": "stream",
          "name": "stdout",
          "text": [
            "+------+----------------------+------------+\n",
            "|    ID|Segmentation_predicted|Segmentation|\n",
            "+------+----------------------+------------+\n",
            "|458989|                     A|           B|\n",
            "|458994|                     A|           C|\n",
            "|458996|                     B|           A|\n",
            "|459000|                     C|           C|\n",
            "|459001|                     D|           D|\n",
            "|459003|                     A|           B|\n",
            "|459005|                     A|           A|\n",
            "|459008|                     C|           C|\n",
            "|459013|                     C|           C|\n",
            "|459014|                     D|           D|\n",
            "|459015|                     D|           D|\n",
            "|459016|                     D|           D|\n",
            "|459024|                     C|           C|\n",
            "|459026|                     C|           D|\n",
            "|459032|                     D|           D|\n",
            "|459033|                     C|           B|\n",
            "|459036|                     A|           A|\n",
            "|459039|                     C|           C|\n",
            "|459041|                     B|           B|\n",
            "|459045|                     B|           C|\n",
            "+------+----------------------+------------+\n",
            "only showing top 20 rows\n",
            "\n"
          ]
        }
      ]
    },
    {
      "cell_type": "code",
      "source": [
        "from pyspark.sql.functions import col\n",
        "\n",
        "matched = df.filter(col(\"Segmentation\") == col(\"Segmentation_predicted\")).count()\n",
        "unmatched = df.filter(col(\"Segmentation\") != col(\"Segmentation_predicted\")).count()\n",
        "\n",
        "print(matched)\n",
        "print(unmatched)"
      ],
      "metadata": {
        "colab": {
          "base_uri": "https://localhost:8080/"
        },
        "id": "_aEvt1SATQ3l",
        "outputId": "918efaa5-52bd-4670-e8d6-dc3305ae3901"
      },
      "execution_count": null,
      "outputs": [
        {
          "output_type": "stream",
          "name": "stdout",
          "text": [
            "214\n",
            "86\n"
          ]
        }
      ]
    },
    {
      "cell_type": "code",
      "source": [
        "total = matched + unmatched\n",
        "\n",
        "percentage_matched = (matched / total) * 100\n",
        "percentage_unmatched = (unmatched / total) * 100\n",
        "\n",
        "print(\"Percentage Matched:\", percentage_matched, \"%\")\n",
        "print(\"Percentage Unmatched:\", percentage_unmatched, \"%\")\n"
      ],
      "metadata": {
        "colab": {
          "base_uri": "https://localhost:8080/"
        },
        "id": "guupjzW4TQ0w",
        "outputId": "68b4021a-06b6-496f-9ee6-2433c2f00c47"
      },
      "execution_count": null,
      "outputs": [
        {
          "output_type": "stream",
          "name": "stdout",
          "text": [
            "Percentage Matched: 71.33333333333334 %\n",
            "Percentage Unmatched: 28.666666666666668 %\n"
          ]
        }
      ]
    },
    {
      "cell_type": "code",
      "source": [
        "\n",
        "# Count occurrences of each label in prediction and test\n",
        "prediction_counts = df.groupBy(\"Segmentation_predicted\").count().orderBy(\"Segmentation_predicted\")\n",
        "test_counts = df.groupBy(\"Segmentation\").count().orderBy(\"Segmentation\")\n",
        "\n",
        "# Show counts\n",
        "print(\"Prediction Counts:\")\n",
        "prediction_counts.show()\n",
        "\n",
        "print(\"Test Counts:\")\n",
        "test_counts.show()\n",
        "\n",
        "\n"
      ],
      "metadata": {
        "colab": {
          "base_uri": "https://localhost:8080/"
        },
        "id": "NdZyPgn4xBFj",
        "outputId": "77a366e6-1f2f-4561-bbd9-386d2cd0f0ea"
      },
      "execution_count": null,
      "outputs": [
        {
          "output_type": "stream",
          "name": "stdout",
          "text": [
            "Prediction Counts:\n",
            "+----------------------+-----+\n",
            "|Segmentation_predicted|count|\n",
            "+----------------------+-----+\n",
            "|                     A|   67|\n",
            "|                     B|   61|\n",
            "|                     C|   95|\n",
            "|                     D|   77|\n",
            "+----------------------+-----+\n",
            "\n",
            "Test Counts:\n",
            "+------------+-----+\n",
            "|Segmentation|count|\n",
            "+------------+-----+\n",
            "|           A|   67|\n",
            "|           B|   60|\n",
            "|           C|   91|\n",
            "|           D|   82|\n",
            "+------------+-----+\n",
            "\n"
          ]
        }
      ]
    },
    {
      "cell_type": "code",
      "source": [
        "from pyspark.sql.functions import col\n",
        "\n",
        "# Define the target column name\n",
        "target_col = \"Segmentation\"\n",
        "\n",
        "# Calculate true positives, false positives, and false negatives for each class\n",
        "classes = ['A', 'B', 'C', 'D']\n",
        "metrics = {}\n",
        "for cls in classes:\n",
        "    tp = df.filter((col(target_col) == cls) & (col(target_col + \"_predicted\") == cls)).count()\n",
        "    fp = df.filter((col(target_col) != cls) & (col(target_col + \"_predicted\") == cls)).count()\n",
        "    fn = df.filter((col(target_col) == cls) & (col(target_col + \"_predicted\") != cls)).count()\n",
        "    metrics[cls] = (tp, fp, fn)\n",
        "\n",
        "# Calculate precision, recall, and F1-score for each class\n",
        "for cls, (tp, fp, fn) in metrics.items():\n",
        "    precision = tp / (tp + fp) if tp + fp != 0 else 0\n",
        "    recall = tp / (tp + fn) if tp + fn != 0 else 0\n",
        "    f1_score = 2 * (precision * recall) / (precision + recall) if precision + recall != 0 else 0\n",
        "    print(f\"Class {cls}: Precision = {precision:.2f}, Recall = {recall:.2f}, F1-score = {f1_score:.2f}\")\n"
      ],
      "metadata": {
        "id": "SqfP_63OiCne",
        "colab": {
          "base_uri": "https://localhost:8080/"
        },
        "outputId": "a50d3d3f-eac4-4186-a5cc-47ea04ef8e0a"
      },
      "execution_count": null,
      "outputs": [
        {
          "output_type": "stream",
          "name": "stdout",
          "text": [
            "Class A: Precision = 0.63, Recall = 0.63, F1-score = 0.63\n",
            "Class B: Precision = 0.61, Recall = 0.62, F1-score = 0.61\n",
            "Class C: Precision = 0.73, Recall = 0.76, F1-score = 0.74\n",
            "Class D: Precision = 0.86, Recall = 0.80, F1-score = 0.83\n"
          ]
        }
      ]
    },
    {
      "cell_type": "code",
      "source": [
        "from pyspark.sql.functions import col\n",
        "\n",
        "target_col = \"Segmentation\"\n",
        "\n",
        "classes = ['A', 'B', 'C', 'D']\n",
        "\n",
        "confusion_matrix = {(true_cls, pred_cls): 0 for true_cls in classes for pred_cls in classes}\n",
        "\n",
        "for true_cls in classes:\n",
        "    for pred_cls in classes:\n",
        "        tp = df.filter((col(target_col) == true_cls) & (col(target_col + \"_predicted\") == pred_cls)).count()\n",
        "        confusion_matrix[(true_cls, pred_cls)] = tp\n",
        "\n",
        "# Print the confusion matrix\n",
        "print(\"Confusion Matrix:\")\n",
        "for true_cls in classes:\n",
        "    row = [confusion_matrix[(true_cls, pred_cls)] for pred_cls in classes]\n",
        "    print(f\"True {true_cls}: {row}\")"
      ],
      "metadata": {
        "colab": {
          "base_uri": "https://localhost:8080/"
        },
        "id": "sE5OymYy5zRN",
        "outputId": "3e726196-0978-4c97-b5a8-be9f853f3cd8"
      },
      "execution_count": null,
      "outputs": [
        {
          "output_type": "stream",
          "name": "stdout",
          "text": [
            "Confusion Matrix:\n",
            "True A: [42, 12, 6, 7]\n",
            "True B: [6, 37, 17, 0]\n",
            "True C: [8, 10, 69, 4]\n",
            "True D: [11, 2, 3, 66]\n"
          ]
        }
      ]
    }
  ]
}