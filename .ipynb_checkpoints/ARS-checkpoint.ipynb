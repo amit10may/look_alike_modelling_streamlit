{
 "cells": [
  {
   "cell_type": "code",
   "execution_count": 1,
   "id": "f383f57f",
   "metadata": {},
   "outputs": [],
   "source": [
    "data_path = \"/Users/pshah1/Downloads/look_alike/aes_data\""
   ]
  },
  {
   "cell_type": "code",
   "execution_count": 7,
   "id": "15310f2d",
   "metadata": {},
   "outputs": [
    {
     "name": "stdout",
     "output_type": "stream",
     "text": [
      "+------------+----------------------+-----------+---------------------+---------------+------------+---------------+-------------+--------+--------------+-----------------+--------------------------+----------------------+------------------------+------------------------+-----------+-----------+---------------------+-----------------+-------------+------+-----------------+-----------------+------------+----------------------+-----+\n",
      "|infogroup_id|mapped_contact_id_cont|gender_cont|management_level_cont|job_titles_cont|primary_cont|infogroup_id_pl|place_type_pl|state_pl|city_pl       |contacts_count_pl|location_employee_count_pl|primary_sic_code_id_pl|location_sales_volume_pl|primary_naics_code_id_pl|b_abinumber|e_contactid|e_executivesourcecode|b_fulfillmentflag|b_countrycode|target|bus_abinumber_b2c|bus_contactid_b2c|cons_age_b2c|cons_maritalstatus_b2c|count|\n",
      "+------------+----------------------+-----------+---------------------+---------------+------------+---------------+-------------+--------+--------------+-----------------+--------------------------+----------------------+------------------------+------------------------+-----------+-----------+---------------------+-----------------+-------------+------+-----------------+-----------------+------------+----------------------+-----+\n",
      "|417862253   |000043012581          |M          |NULL                 |NULL           |true        |417862253      |branch       |CA      |Trabuco Canyon|1                |NULL                      |581208                |1305000                 |72251117                |NULL       |NULL       |NULL                 |NULL             |NULL         |0     |417862253        |000043012581     |78          |M                     |1    |\n",
      "|706609709   |000070360924          |M          |executive            |President      |true        |706609709      |independent  |TX      |El Paso       |1                |4                         |176109                |446000                  |23816014                |NULL       |NULL       |NULL                 |NULL             |NULL         |0     |NULL             |NULL             |NULL        |NULL                  |1    |\n",
      "|737978274   |NULL                  |F          |executive            |Principal      |true        |737978274      |independent  |CA      |Chatsworth    |1                |NULL                      |821103                |NULL                    |61111007                |NULL       |NULL       |NULL                 |NULL             |NULL         |0     |NULL             |NULL             |NULL        |NULL                  |1    |\n",
      "|723637821   |000076720147          |F          |owner                |Owner          |true        |723637821      |independent  |FL      |Naples        |1                |NULL                      |074201                |1035000                 |54194009                |NULL       |NULL       |NULL                 |NULL             |NULL         |0     |NULL             |NULL             |NULL        |NULL                  |1    |\n",
      "|417739730   |000056033062          |M          |NULL                 |NULL           |true        |417739730      |individual   |NJ      |Bayonne       |1                |NULL                      |801101                |513000                  |62111107                |NULL       |NULL       |NULL                 |NULL             |NULL         |0     |NULL             |NULL             |NULL        |NULL                  |1    |\n",
      "+------------+----------------------+-----------+---------------------+---------------+------------+---------------+-------------+--------+--------------+-----------------+--------------------------+----------------------+------------------------+------------------------+-----------+-----------+---------------------+-----------------+-------------+------+-----------------+-----------------+------------+----------------------+-----+\n",
      "\n"
     ]
    }
   ],
   "source": [
    "from pyspark.sql import SparkSession\n",
    "\n",
    "spark = SparkSession.builder.appName(\"customer_look_alike_modelling\").getOrCreate()\n",
    "df = spark.read.option(\"header\", \"true\").parquet(data_path)\n",
    "df.limit(5).show(truncate=False)"
   ]
  },
  {
   "cell_type": "code",
   "execution_count": 8,
   "id": "601c5aa9",
   "metadata": {},
   "outputs": [],
   "source": [
    "df = df.drop(\"count\")"
   ]
  },
  {
   "cell_type": "code",
   "execution_count": 14,
   "id": "db7a3e41",
   "metadata": {},
   "outputs": [
    {
     "ename": "ModuleNotFoundError",
     "evalue": "No module named 'functions'",
     "output_type": "error",
     "traceback": [
      "\u001b[0;31m---------------------------------------------------------------------------\u001b[0m",
      "\u001b[0;31mModuleNotFoundError\u001b[0m                       Traceback (most recent call last)",
      "\u001b[0;32m/var/folders/g1/wqd2jbyj7v5cdjc49p0f_1200000gq/T/ipykernel_28204/3316688768.py\u001b[0m in \u001b[0;36m<module>\u001b[0;34m\u001b[0m\n\u001b[1;32m      3\u001b[0m \u001b[0;34m\u001b[0m\u001b[0m\n\u001b[1;32m      4\u001b[0m \u001b[0;34m\u001b[0m\u001b[0m\n\u001b[0;32m----> 5\u001b[0;31m \u001b[0;32mfrom\u001b[0m \u001b[0mfunctions\u001b[0m \u001b[0;32mimport\u001b[0m \u001b[0mget_row_as_text\u001b[0m\u001b[0;34m,\u001b[0m \u001b[0mhf_embeddings\u001b[0m\u001b[0;34m,\u001b[0m \u001b[0mget_ars_vdb\u001b[0m\u001b[0;34m\u001b[0m\u001b[0;34m\u001b[0m\u001b[0m\n\u001b[0m\u001b[1;32m      6\u001b[0m \u001b[0;34m\u001b[0m\u001b[0m\n\u001b[1;32m      7\u001b[0m \u001b[0mtrain_df\u001b[0m \u001b[0;34m=\u001b[0m \u001b[0mget_row_as_text\u001b[0m\u001b[0;34m(\u001b[0m\u001b[0mdf\u001b[0m\u001b[0;34m,\u001b[0m \u001b[0mrows_to_convert\u001b[0m\u001b[0;34m)\u001b[0m\u001b[0;34m\u001b[0m\u001b[0;34m\u001b[0m\u001b[0m\n",
      "\u001b[0;31mModuleNotFoundError\u001b[0m: No module named 'functions'"
     ]
    }
   ],
   "source": [
    "rows_to_convert = df.columns\n",
    "rows_to_convert.remove(\"target\")\n",
    "\n",
    "\n",
    "from functions import get_row_as_text, hf_embeddings, get_ars_vdb\n",
    "\n",
    "train_df = get_row_as_text(df, rows_to_convert)\n",
    "train_df.printSchema()"
   ]
  },
  {
   "cell_type": "code",
   "execution_count": 1,
   "id": "3aa2f2f9",
   "metadata": {},
   "outputs": [],
   "source": [
    "embeddings_path = \"src/resources/ars_embeddings/embeddings_01\""
   ]
  },
  {
   "cell_type": "code",
   "execution_count": null,
   "id": "fb49ad49",
   "metadata": {},
   "outputs": [],
   "source": []
  },
  {
   "cell_type": "code",
   "execution_count": 2,
   "id": "c401728b",
   "metadata": {},
   "outputs": [
    {
     "name": "stderr",
     "output_type": "stream",
     "text": [
      "/usr/local/anaconda3/lib/python3.9/site-packages/transformers/utils/generic.py:441: UserWarning: torch.utils._pytree._register_pytree_node is deprecated. Please use torch.utils._pytree.register_pytree_node instead.\n",
      "  _torch_pytree._register_pytree_node(\n",
      "/usr/local/anaconda3/lib/python3.9/site-packages/transformers/utils/generic.py:309: UserWarning: torch.utils._pytree._register_pytree_node is deprecated. Please use torch.utils._pytree.register_pytree_node instead.\n",
      "  _torch_pytree._register_pytree_node(\n"
     ]
    }
   ],
   "source": [
    "from langchain.embeddings import HuggingFaceEmbeddings\n",
    "from langchain.vectorstores import Chroma\n",
    "from pyspark.sql import functions as F\n",
    "from src.utils.config import config\n",
    "# Read the dataset\n",
    "from src.utils.functions import hf_embeddings"
   ]
  },
  {
   "cell_type": "code",
   "execution_count": 3,
   "id": "059cbf37",
   "metadata": {},
   "outputs": [],
   "source": [
    "vdb = Chroma(persist_directory=embeddings_path, embedding_function=hf_embeddings,\n",
    "                 collection_metadata={\"hnsw:space\": \"cosine\"})"
   ]
  },
  {
   "cell_type": "code",
   "execution_count": 5,
   "id": "86819ed7",
   "metadata": {},
   "outputs": [
    {
     "data": {
      "text/plain": [
       "10000"
      ]
     },
     "execution_count": 5,
     "metadata": {},
     "output_type": "execute_result"
    }
   ],
   "source": [
    "vdb._collection.count()"
   ]
  },
  {
   "cell_type": "code",
   "execution_count": null,
   "id": "e15ea070",
   "metadata": {},
   "outputs": [],
   "source": []
  }
 ],
 "metadata": {
  "kernelspec": {
   "display_name": "Python 3 (ipykernel)",
   "language": "python",
   "name": "python3"
  },
  "language_info": {
   "codemirror_mode": {
    "name": "ipython",
    "version": 3
   },
   "file_extension": ".py",
   "mimetype": "text/x-python",
   "name": "python",
   "nbconvert_exporter": "python",
   "pygments_lexer": "ipython3",
   "version": "3.9.13"
  }
 },
 "nbformat": 4,
 "nbformat_minor": 5
}
