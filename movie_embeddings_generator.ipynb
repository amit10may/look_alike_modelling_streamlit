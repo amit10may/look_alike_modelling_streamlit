{
 "cells": [
  {
   "cell_type": "code",
   "execution_count": null,
   "metadata": {},
   "outputs": [],
   "source": []
  },
  {
   "cell_type": "code",
   "execution_count": null,
   "metadata": {},
   "outputs": [],
   "source": []
  },
  {
   "cell_type": "code",
   "execution_count": null,
   "metadata": {},
   "outputs": [],
   "source": []
  },
  {
   "cell_type": "code",
   "execution_count": 1,
   "metadata": {
    "application/vnd.databricks.v1+cell": {
     "cellMetadata": {
      "byteLimit": 2048000,
      "rowLimit": 10000
     },
     "inputWidgets": {},
     "nuid": "19a22c2a-59ed-4a68-9d8e-5d03e21420a3",
     "showTitle": false,
     "title": ""
    }
   },
   "outputs": [],
   "source": [
    "data_path = \"src/resources/data/movie.csv\""
   ]
  },
  {
   "cell_type": "code",
   "execution_count": 2,
   "metadata": {
    "application/vnd.databricks.v1+cell": {
     "cellMetadata": {
      "byteLimit": 2048000,
      "rowLimit": 10000
     },
     "inputWidgets": {},
     "nuid": "26b77078-c4a8-4b4e-9384-7b5691b68f95",
     "showTitle": false,
     "title": ""
    }
   },
   "outputs": [
    {
     "name": "stderr",
     "output_type": "stream",
     "text": [
      "Setting default log level to \"WARN\".\n",
      "To adjust logging level use sc.setLogLevel(newLevel). For SparkR, use setLogLevel(newLevel).\n",
      "24/03/12 12:07:38 WARN NativeCodeLoader: Unable to load native-hadoop library for your platform... using builtin-java classes where applicable\n",
      "24/03/12 12:07:39 WARN Utils: Service 'SparkUI' could not bind on port 4040. Attempting port 4041.\n",
      "24/03/12 12:07:39 WARN Utils: Service 'SparkUI' could not bind on port 4041. Attempting port 4042.\n"
     ]
    },
    {
     "name": "stdout",
     "output_type": "stream",
     "text": [
      "+---+-------------+-----------------+-------------+--------------------------+----------------+------+\n",
      "|Age|FrequentFlyer|AnnualIncomeClass|ServicesOpted|AccountSyncedToSocialMedia|BookedHotelOrNot|Target|\n",
      "+---+-------------+-----------------+-------------+--------------------------+----------------+------+\n",
      "| 34|           No|    Middle Income|            6|                        No|             Yes|     0|\n",
      "| 34|          Yes|       Low Income|            5|                       Yes|              No|     1|\n",
      "| 37|           No|    Middle Income|            3|                       Yes|              No|     0|\n",
      "| 30|           No|    Middle Income|            2|                        No|              No|     0|\n",
      "| 30|           No|       Low Income|            1|                        No|              No|     0|\n",
      "+---+-------------+-----------------+-------------+--------------------------+----------------+------+\n",
      "\n"
     ]
    }
   ],
   "source": [
    "from pyspark.sql import SparkSession\n",
    "\n",
    "spark = SparkSession.builder.appName(\"customer_look_alike_modelling\").getOrCreate()\n",
    "df = spark.read.option(\"header\", \"true\").csv(data_path)\n",
    "df.limit(5).show()"
   ]
  },
  {
   "cell_type": "code",
   "execution_count": 6,
   "metadata": {},
   "outputs": [
    {
     "name": "stdout",
     "output_type": "stream",
     "text": [
      "+---+---------------+-----------------+-------------+--------------------------+---------------+------+---+\n",
      "|Age|FrequentWatcher|AnnualIncomeClass|ServicesOpted|AccountSyncedToSocialMedia|BookedFoodOrNot|Target| Id|\n",
      "+---+---------------+-----------------+-------------+--------------------------+---------------+------+---+\n",
      "| 34|             No|    Middle Income|            6|                        No|            Yes|     0|  0|\n",
      "| 34|            Yes|       Low Income|            5|                       Yes|             No|     1|  1|\n",
      "| 37|             No|    Middle Income|            3|                       Yes|             No|     0|  2|\n",
      "| 30|             No|    Middle Income|            2|                        No|             No|     0|  3|\n",
      "| 30|             No|       Low Income|            1|                        No|             No|     0|  4|\n",
      "| 27|            Yes|      High Income|            1|                        No|            Yes|     1|  5|\n",
      "| 34|             No|    Middle Income|            4|                       Yes|            Yes|     0|  6|\n",
      "| 34|             No|       Low Income|            2|                       Yes|             No|     1|  7|\n",
      "| 30|             No|       Low Income|            3|                        No|            Yes|     0|  8|\n",
      "| 36|            Yes|      High Income|            1|                        No|             No|     1|  9|\n",
      "| 34|             No|       Low Income|            1|                       Yes|            Yes|     0| 10|\n",
      "| 28|             No|    Middle Income|            2|                        No|             No|     1| 11|\n",
      "| 35|      No Record|    Middle Income|            1|                       Yes|            Yes|     0| 12|\n",
      "| 34|            Yes|       Low Income|            4|                        No|             No|     0| 13|\n",
      "| 34|             No|    Middle Income|            5|                        No|             No|     0| 14|\n",
      "| 37|            Yes|       Low Income|            6|                        No|            Yes|     0| 15|\n",
      "| 30|             No|       Low Income|            1|                       Yes|            Yes|     0| 16|\n",
      "| 30|            Yes|      High Income|            1|                       Yes|             No|     0| 17|\n",
      "| 31|             No|    Middle Income|            1|                        No|            Yes|     0| 18|\n",
      "| 37|             No|       Low Income|            2|                       Yes|             No|     1| 19|\n",
      "+---+---------------+-----------------+-------------+--------------------------+---------------+------+---+\n",
      "\n"
     ]
    }
   ],
   "source": [
    "from pyspark.sql import functions as F\n",
    "df = df.withColumnRenamed(\"BookedHotelOrNot\", \"BookedFoodOrNot\")\n",
    "df = df.withColumnRenamed(\"FrequentFlyer\", \"FrequentWatcher\")\n",
    "df = df.withColumn(\"Id\", F.monotonically_increasing_id())\n",
    "df.limit(20).show()"
   ]
  },
  {
   "cell_type": "code",
   "execution_count": 7,
   "metadata": {},
   "outputs": [
    {
     "data": {
      "text/plain": [
       "['Age',\n",
       " 'FrequentWatcher',\n",
       " 'AnnualIncomeClass',\n",
       " 'ServicesOpted',\n",
       " 'AccountSyncedToSocialMedia',\n",
       " 'BookedFoodOrNot',\n",
       " 'Target',\n",
       " 'Id']"
      ]
     },
     "execution_count": 7,
     "metadata": {},
     "output_type": "execute_result"
    }
   ],
   "source": [
    "df.columns"
   ]
  },
  {
   "cell_type": "code",
   "execution_count": 8,
   "metadata": {
    "application/vnd.databricks.v1+cell": {
     "cellMetadata": {
      "byteLimit": 2048000,
      "rowLimit": 10000
     },
     "inputWidgets": {},
     "nuid": "70064537-447a-48f3-ad94-580c876ecc8e",
     "showTitle": false,
     "title": ""
    }
   },
   "outputs": [
    {
     "data": {
      "text/plain": [
       "['Age',\n",
       " 'FrequentWatcher',\n",
       " 'AnnualIncomeClass',\n",
       " 'ServicesOpted',\n",
       " 'AccountSyncedToSocialMedia',\n",
       " 'BookedFoodOrNot']"
      ]
     },
     "execution_count": 8,
     "metadata": {},
     "output_type": "execute_result"
    }
   ],
   "source": [
    "rows_to_convert = df.columns\n",
    "rows_to_convert.remove(\"Id\")\n",
    "rows_to_convert.remove(\"Target\")\n",
    "rows_to_convert"
   ]
  },
  {
   "cell_type": "code",
   "execution_count": 10,
   "metadata": {},
   "outputs": [
    {
     "data": {
      "text/plain": [
       "'Age,FrequentWatcher,AnnualIncomeClass,ServicesOpted,AccountSyncedToSocialMedia,BookedFoodOrNot'"
      ]
     },
     "execution_count": 10,
     "metadata": {},
     "output_type": "execute_result"
    }
   ],
   "source": [
    "\",\".join(rows_to_convert)"
   ]
  },
  {
   "cell_type": "code",
   "execution_count": 11,
   "metadata": {},
   "outputs": [
    {
     "name": "stdout",
     "output_type": "stream",
     "text": [
      "+------+-----+\n",
      "|Target|count|\n",
      "+------+-----+\n",
      "|     0|  730|\n",
      "|     1|  224|\n",
      "+------+-----+\n",
      "\n"
     ]
    }
   ],
   "source": [
    "df.groupBy(\"Target\").count().show()"
   ]
  },
  {
   "cell_type": "code",
   "execution_count": 18,
   "metadata": {},
   "outputs": [
    {
     "name": "stdout",
     "output_type": "stream",
     "text": [
      "+---+---------------+-----------------+-------------+--------------------------+---------------+------+---+\n",
      "|Age|FrequentWatcher|AnnualIncomeClass|ServicesOpted|AccountSyncedToSocialMedia|BookedFoodOrNot|Target| Id|\n",
      "+---+---------------+-----------------+-------------+--------------------------+---------------+------+---+\n",
      "| 34|             No|    Middle Income|            6|                        No|            Yes|     0|  0|\n",
      "| 34|            Yes|       Low Income|            5|                       Yes|             No|     1|  1|\n",
      "| 37|             No|    Middle Income|            3|                       Yes|             No|     0|  2|\n",
      "| 30|             No|    Middle Income|            2|                        No|             No|     0|  3|\n",
      "| 30|             No|       Low Income|            1|                        No|             No|     0|  4|\n",
      "| 27|            Yes|      High Income|            1|                        No|            Yes|     1|  5|\n",
      "| 34|             No|    Middle Income|            4|                       Yes|            Yes|     0|  6|\n",
      "| 34|             No|       Low Income|            2|                       Yes|             No|     1|  7|\n",
      "| 30|             No|       Low Income|            3|                        No|            Yes|     0|  8|\n",
      "| 36|            Yes|      High Income|            1|                        No|             No|     1|  9|\n",
      "| 34|             No|       Low Income|            1|                       Yes|            Yes|     0| 10|\n",
      "| 28|             No|    Middle Income|            2|                        No|             No|     1| 11|\n",
      "| 35|      No Record|    Middle Income|            1|                       Yes|            Yes|     0| 12|\n",
      "| 34|            Yes|       Low Income|            4|                        No|             No|     0| 13|\n",
      "| 34|             No|    Middle Income|            5|                        No|             No|     0| 14|\n",
      "| 37|            Yes|       Low Income|            6|                        No|            Yes|     0| 15|\n",
      "| 30|             No|       Low Income|            1|                       Yes|            Yes|     0| 16|\n",
      "| 30|            Yes|      High Income|            1|                       Yes|             No|     0| 17|\n",
      "| 31|             No|    Middle Income|            1|                        No|            Yes|     0| 18|\n",
      "| 37|             No|       Low Income|            2|                       Yes|             No|     1| 19|\n",
      "+---+---------------+-----------------+-------------+--------------------------+---------------+------+---+\n",
      "only showing top 20 rows\n",
      "\n"
     ]
    }
   ],
   "source": [
    "df.show()"
   ]
  },
  {
   "cell_type": "code",
   "execution_count": 19,
   "metadata": {},
   "outputs": [],
   "source": [
    "df.drop(\"Target\").toPandas().to_csv(\"src/resources/data/movie_master.csv\", header=True, index=False)"
   ]
  },
  {
   "cell_type": "code",
   "execution_count": 15,
   "metadata": {},
   "outputs": [],
   "source": [
    "from src.utils.functions import get_row_as_text, hf_embeddings, get_ars_retrieved_df\n",
    "train_df = get_row_as_text(df, rows_to_convert)"
   ]
  },
  {
   "cell_type": "code",
   "execution_count": null,
   "metadata": {},
   "outputs": [],
   "source": []
  },
  {
   "cell_type": "code",
   "execution_count": 16,
   "metadata": {
    "application/vnd.databricks.v1+cell": {
     "cellMetadata": {
      "byteLimit": 2048000,
      "rowLimit": 10000
     },
     "inputWidgets": {},
     "nuid": "bb2ae051-0b66-4773-8c61-c9df8cc533eb",
     "showTitle": false,
     "title": ""
    }
   },
   "outputs": [],
   "source": [
    "# train_df.select(\"row_as_text\").show(2, truncate=False)"
   ]
  },
  {
   "cell_type": "code",
   "execution_count": 17,
   "metadata": {
    "application/vnd.databricks.v1+cell": {
     "cellMetadata": {
      "byteLimit": 2048000,
      "rowLimit": 10000
     },
     "inputWidgets": {},
     "nuid": "b9417325-8389-445a-91c8-23a24ab14737",
     "showTitle": false,
     "title": ""
    }
   },
   "outputs": [],
   "source": [
    "# train_df.printSchema()"
   ]
  },
  {
   "cell_type": "code",
   "execution_count": null,
   "metadata": {
    "application/vnd.databricks.v1+cell": {
     "cellMetadata": {
      "byteLimit": 2048000,
      "rowLimit": 10000
     },
     "inputWidgets": {},
     "nuid": "089d7000-fd73-4657-a2fd-30e6059d0083",
     "showTitle": false,
     "title": ""
    }
   },
   "outputs": [],
   "source": []
  },
  {
   "cell_type": "code",
   "execution_count": 18,
   "metadata": {
    "application/vnd.databricks.v1+cell": {
     "cellMetadata": {
      "byteLimit": 2048000,
      "rowLimit": 10000
     },
     "inputWidgets": {},
     "nuid": "7a7d024e-68b2-4501-baaf-0255e7470c0d",
     "showTitle": false,
     "title": ""
    }
   },
   "outputs": [],
   "source": [
    "# step = 1500\n",
    "# k = 4000\n",
    "\n",
    "# texts_list = train_df.filter(F.col(\"Target\") == 0).rdd.collect()\n",
    "# # texts_list = [x[0] for x in texts_label_list]\n",
    "# # texts_list\n",
    "# texts_list[0]"
   ]
  },
  {
   "cell_type": "code",
   "execution_count": 19,
   "metadata": {},
   "outputs": [],
   "source": [
    "# import os\n",
    "\n",
    "# # Specify the path of the directory you want to create\n",
    "# db_dir = \"src/resources/embeddings/movie\"\n",
    "\n",
    "# # Create the directory\n",
    "# os.makedirs(db_dir, exist_ok=True)"
   ]
  },
  {
   "cell_type": "code",
   "execution_count": 20,
   "metadata": {},
   "outputs": [],
   "source": [
    "# from langchain.vectorstores import Chroma\n",
    "# from src.utils.functions import hf_embeddings\n",
    "# import chromadb\n",
    "# import os\n",
    "\n",
    "# client = chromadb.PersistentClient(path=db_dir)\n",
    "\n",
    "# vdb = Chroma(persist_directory=db_dir, embedding_function=hf_embeddings,\n",
    "#                  collection_metadata={\"hnsw:space\": \"cosine\"}, client=client)"
   ]
  },
  {
   "cell_type": "code",
   "execution_count": 21,
   "metadata": {
    "application/vnd.databricks.v1+cell": {
     "cellMetadata": {
      "byteLimit": 2048000,
      "rowLimit": 10000
     },
     "inputWidgets": {},
     "nuid": "51e8522a-c532-4a1b-8352-c027c0a875f6",
     "showTitle": false,
     "title": ""
    }
   },
   "outputs": [],
   "source": [
    "# from langchain.vectorstores import Chroma\n",
    "# vdb = Chroma(persist_directory=db_dir, embedding_function=hf_embeddings, collection_metadata={\"hnsw:space\": \"cosine\"})\n",
    "# for i in range(0, len(texts_list), step):\n",
    "#     texts = [x.row_as_text for x in texts_list[i:i+step]]\n",
    "#     metadata = [{\"Id\": str(x.Id), \"Target\": str(x.Target)} for x in texts_list[i:i+step]]\n",
    "#     vdb.add_texts(texts, metadata)\n",
    "#     vdb.persist()"
   ]
  },
  {
   "cell_type": "code",
   "execution_count": 22,
   "metadata": {},
   "outputs": [],
   "source": [
    "# from langchain.vectorstores import Chroma\n",
    "# from src.utils.functions import hf_embeddings\n",
    "# import chromadb\n",
    "\n",
    "# client = chromadb.PersistentClient(path=db_dir)\n",
    "\n",
    "# vdb = Chroma(persist_directory=db_dir, embedding_function=hf_embeddings,\n",
    "#                  collection_metadata={\"hnsw:space\": \"cosine\"}, client=client)"
   ]
  },
  {
   "cell_type": "code",
   "execution_count": 23,
   "metadata": {},
   "outputs": [],
   "source": [
    "# vdb._collection.count()"
   ]
  },
  {
   "cell_type": "code",
   "execution_count": 24,
   "metadata": {},
   "outputs": [],
   "source": [
    "# db_dir"
   ]
  },
  {
   "cell_type": "code",
   "execution_count": 25,
   "metadata": {},
   "outputs": [],
   "source": [
    "# train_df.filter(F.col(\"Target\") == 1).drop(\"row_as_text\").toPandas().to_csv(\"src/resources/data/movie_test.csv\", header=True, index=False)"
   ]
  },
  {
   "cell_type": "code",
   "execution_count": 26,
   "metadata": {},
   "outputs": [],
   "source": [
    "# spark.read.option(\"header\", \"true\").csv(\"src/resources/data/movie_test.csv\").show()"
   ]
  },
  {
   "cell_type": "code",
   "execution_count": null,
   "metadata": {},
   "outputs": [],
   "source": []
  },
  {
   "cell_type": "code",
   "execution_count": 14,
   "metadata": {},
   "outputs": [],
   "source": [
    "df_input = spark.read.option(\"header\", \"true\").csv(\"src/resources/data/movie_test.csv\")"
   ]
  },
  {
   "cell_type": "code",
   "execution_count": 16,
   "metadata": {},
   "outputs": [
    {
     "name": "stdout",
     "output_type": "stream",
     "text": [
      "+---+---------------+-----------------+-------------+--------------------------+---------------+------+---+\n",
      "|Age|FrequentWatcher|AnnualIncomeClass|ServicesOpted|AccountSyncedToSocialMedia|BookedFoodOrNot|Target| Id|\n",
      "+---+---------------+-----------------+-------------+--------------------------+---------------+------+---+\n",
      "| 34|            Yes|       Low Income|            5|                       Yes|             No|     1|  1|\n",
      "| 27|            Yes|      High Income|            1|                        No|            Yes|     1|  5|\n",
      "| 34|             No|       Low Income|            2|                       Yes|             No|     1|  7|\n",
      "| 36|            Yes|      High Income|            1|                        No|             No|     1|  9|\n",
      "| 28|             No|    Middle Income|            2|                        No|             No|     1| 11|\n",
      "| 37|             No|       Low Income|            2|                       Yes|             No|     1| 19|\n",
      "| 31|            Yes|      High Income|            1|                        No|             No|     1| 21|\n",
      "| 35|            Yes|      High Income|            1|                        No|             No|     1| 33|\n",
      "| 37|            Yes|       Low Income|            1|                       Yes|             No|     1| 37|\n",
      "| 37|            Yes|      High Income|            6|                        No|            Yes|     1| 45|\n",
      "| 34|            Yes|       Low Income|            3|                        No|            Yes|     1| 50|\n",
      "| 28|             No|       Low Income|            4|                       Yes|            Yes|     1| 55|\n",
      "| 37|            Yes|      High Income|            1|                       Yes|             No|     1| 57|\n",
      "| 28|            Yes|      High Income|            1|                        No|            Yes|     1| 65|\n",
      "| 37|      No Record|       Low Income|            2|                       Yes|             No|     1| 67|\n",
      "| 34|            Yes|      High Income|            4|                        No|             No|     1| 69|\n",
      "| 30|            Yes|       Low Income|            1|                       Yes|             No|     1| 73|\n",
      "| 27|            Yes|      High Income|            1|                        No|             No|     1| 81|\n",
      "| 27|            Yes|       Low Income|            1|                        No|            Yes|     1| 85|\n",
      "| 30|             No|       Low Income|            2|                       Yes|             No|     1| 91|\n",
      "+---+---------------+-----------------+-------------+--------------------------+---------------+------+---+\n",
      "only showing top 20 rows\n",
      "\n"
     ]
    }
   ],
   "source": [
    "df_input.show()"
   ]
  },
  {
   "cell_type": "code",
   "execution_count": 17,
   "metadata": {},
   "outputs": [],
   "source": [
    "df_input.drop(\"Target\").toPandas().to_csv(\"src/resources/data/movie_test.csv\", header=True, index=False)"
   ]
  },
  {
   "cell_type": "code",
   "execution_count": null,
   "metadata": {},
   "outputs": [],
   "source": []
  },
  {
   "cell_type": "code",
   "execution_count": null,
   "metadata": {},
   "outputs": [],
   "source": []
  },
  {
   "cell_type": "code",
   "execution_count": null,
   "metadata": {},
   "outputs": [],
   "source": []
  },
  {
   "cell_type": "code",
   "execution_count": null,
   "metadata": {},
   "outputs": [],
   "source": []
  },
  {
   "cell_type": "code",
   "execution_count": null,
   "metadata": {},
   "outputs": [],
   "source": []
  }
 ],
 "metadata": {
  "application/vnd.databricks.v1+notebook": {
   "dashboards": [],
   "language": "python",
   "notebookMetadata": {
    "pythonIndentUnit": 2
   },
   "notebookName": "AR_dummy_data",
   "widgets": {}
  },
  "kernelspec": {
   "display_name": "Python 3 (ipykernel)",
   "language": "python",
   "name": "python3"
  },
  "language_info": {
   "codemirror_mode": {
    "name": "ipython",
    "version": 3
   },
   "file_extension": ".py",
   "mimetype": "text/x-python",
   "name": "python",
   "nbconvert_exporter": "python",
   "pygments_lexer": "ipython3",
   "version": "3.9.13"
  }
 },
 "nbformat": 4,
 "nbformat_minor": 1
}
