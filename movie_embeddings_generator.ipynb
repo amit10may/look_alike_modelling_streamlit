{
 "cells": [
  {
   "cell_type": "code",
   "execution_count": null,
   "metadata": {},
   "outputs": [],
   "source": []
  },
  {
   "cell_type": "code",
   "execution_count": null,
   "metadata": {},
   "outputs": [],
   "source": []
  },
  {
   "cell_type": "code",
   "execution_count": null,
   "metadata": {},
   "outputs": [],
   "source": []
  },
  {
   "cell_type": "code",
   "execution_count": 1,
   "metadata": {
    "application/vnd.databricks.v1+cell": {
     "cellMetadata": {
      "byteLimit": 2048000,
      "rowLimit": 10000
     },
     "inputWidgets": {},
     "nuid": "19a22c2a-59ed-4a68-9d8e-5d03e21420a3",
     "showTitle": false,
     "title": ""
    }
   },
   "outputs": [],
   "source": [
    "data_path = \"src/resources/data/movie.csv\""
   ]
  },
  {
   "cell_type": "code",
   "execution_count": 2,
   "metadata": {
    "application/vnd.databricks.v1+cell": {
     "cellMetadata": {
      "byteLimit": 2048000,
      "rowLimit": 10000
     },
     "inputWidgets": {},
     "nuid": "26b77078-c4a8-4b4e-9384-7b5691b68f95",
     "showTitle": false,
     "title": ""
    }
   },
   "outputs": [
    {
     "name": "stderr",
     "output_type": "stream",
     "text": [
      "Setting default log level to \"WARN\".\n",
      "To adjust logging level use sc.setLogLevel(newLevel). For SparkR, use setLogLevel(newLevel).\n",
      "24/03/12 20:54:52 WARN NativeCodeLoader: Unable to load native-hadoop library for your platform... using builtin-java classes where applicable\n"
     ]
    },
    {
     "name": "stdout",
     "output_type": "stream",
     "text": [
      "+---+-------------+-----------------+-------------+--------------------------+----------------+------+\n",
      "|Age|FrequentFlyer|AnnualIncomeClass|ServicesOpted|AccountSyncedToSocialMedia|BookedHotelOrNot|Target|\n",
      "+---+-------------+-----------------+-------------+--------------------------+----------------+------+\n",
      "| 34|           No|    Middle Income|            6|                        No|             Yes|     0|\n",
      "| 34|          Yes|       Low Income|            5|                       Yes|              No|     1|\n",
      "| 37|           No|    Middle Income|            3|                       Yes|              No|     0|\n",
      "| 30|           No|    Middle Income|            2|                        No|              No|     0|\n",
      "| 30|           No|       Low Income|            1|                        No|              No|     0|\n",
      "+---+-------------+-----------------+-------------+--------------------------+----------------+------+\n",
      "\n"
     ]
    }
   ],
   "source": [
    "from pyspark.sql import SparkSession\n",
    "\n",
    "spark = SparkSession.builder.appName(\"customer_look_alike_modelling\").getOrCreate()\n",
    "df = spark.read.option(\"header\", \"true\").csv(data_path)\n",
    "df.limit(5).show()"
   ]
  },
  {
   "cell_type": "code",
   "execution_count": 3,
   "metadata": {},
   "outputs": [
    {
     "name": "stdout",
     "output_type": "stream",
     "text": [
      "+---+---------------+-----------------+--------------------------+---------------+------+---+-------------+\n",
      "|Age|FrequentWatcher|AnnualIncomeClass|AccountSyncedToSocialMedia|BookedFoodOrNot|Target| Id|ServicesOpted|\n",
      "+---+---------------+-----------------+--------------------------+---------------+------+---+-------------+\n",
      "| 34|             No|    Middle Income|                        No|            Yes|     0|  0|          8.0|\n",
      "| 34|            Yes|       Low Income|                       Yes|             No|     1|  1|          7.0|\n",
      "| 37|             No|    Middle Income|                       Yes|             No|     0|  2|          5.0|\n",
      "| 30|             No|    Middle Income|                        No|             No|     0|  3|          4.0|\n",
      "| 30|             No|       Low Income|                        No|             No|     0|  4|          3.0|\n",
      "| 27|            Yes|      High Income|                        No|            Yes|     1|  5|          3.0|\n",
      "| 34|             No|    Middle Income|                       Yes|            Yes|     0|  6|          6.0|\n",
      "| 34|             No|       Low Income|                       Yes|             No|     1|  7|          4.0|\n",
      "| 30|             No|       Low Income|                        No|            Yes|     0|  8|          5.0|\n",
      "| 36|            Yes|      High Income|                        No|             No|     1|  9|          3.0|\n",
      "| 34|             No|       Low Income|                       Yes|            Yes|     0| 10|          3.0|\n",
      "| 28|             No|    Middle Income|                        No|             No|     1| 11|          4.0|\n",
      "| 35|      No Record|    Middle Income|                       Yes|            Yes|     0| 12|          3.0|\n",
      "| 34|            Yes|       Low Income|                        No|             No|     0| 13|          6.0|\n",
      "| 34|             No|    Middle Income|                        No|             No|     0| 14|          7.0|\n",
      "| 37|            Yes|       Low Income|                        No|            Yes|     0| 15|          8.0|\n",
      "| 30|             No|       Low Income|                       Yes|            Yes|     0| 16|          3.0|\n",
      "| 30|            Yes|      High Income|                       Yes|             No|     0| 17|          3.0|\n",
      "| 31|             No|    Middle Income|                        No|            Yes|     0| 18|          3.0|\n",
      "| 37|             No|       Low Income|                       Yes|             No|     1| 19|          4.0|\n",
      "+---+---------------+-----------------+--------------------------+---------------+------+---+-------------+\n",
      "\n"
     ]
    }
   ],
   "source": [
    "from pyspark.sql import functions as F\n",
    "df = df.withColumnRenamed(\"BookedHotelOrNot\", \"BookedFoodOrNot\")\n",
    "df = df.withColumnRenamed(\"FrequentFlyer\", \"FrequentWatcher\")\n",
    "df = df.withColumn(\"Id\", F.monotonically_increasing_id())\n",
    "df = df.withColumn(\"temp\", F.col(\"ServicesOpted\") + 2)\n",
    "df = df.drop(\"ServicesOpted\").withColumn(\"ServicesOpted\", F.col(\"temp\")).drop(\"temp\")\n",
    "df.limit(20).show()"
   ]
  },
  {
   "cell_type": "code",
   "execution_count": 4,
   "metadata": {},
   "outputs": [
    {
     "name": "stdout",
     "output_type": "stream",
     "text": [
      "+---+---------------+-----------------+--------------------------+---------------+------+---+-------------+\n",
      "|Age|FrequentWatcher|AnnualIncomeClass|AccountSyncedToSocialMedia|BookedFoodOrNot|Target| Id|ServicesOpted|\n",
      "+---+---------------+-----------------+--------------------------+---------------+------+---+-------------+\n",
      "| 34|             No|    Middle Income|                        No|            Yes|     0|  0|            8|\n",
      "| 34|            Yes|       Low Income|                       Yes|             No|     1|  1|            7|\n",
      "| 37|             No|    Middle Income|                       Yes|             No|     0|  2|            5|\n",
      "| 30|             No|    Middle Income|                        No|             No|     0|  3|            4|\n",
      "| 30|             No|       Low Income|                        No|             No|     0|  4|            3|\n",
      "| 27|            Yes|      High Income|                        No|            Yes|     1|  5|            3|\n",
      "| 34|             No|    Middle Income|                       Yes|            Yes|     0|  6|            6|\n",
      "| 34|             No|       Low Income|                       Yes|             No|     1|  7|            4|\n",
      "| 30|             No|       Low Income|                        No|            Yes|     0|  8|            5|\n",
      "| 36|            Yes|      High Income|                        No|             No|     1|  9|            3|\n",
      "| 34|             No|       Low Income|                       Yes|            Yes|     0| 10|            3|\n",
      "| 28|             No|    Middle Income|                        No|             No|     1| 11|            4|\n",
      "| 35|      No Record|    Middle Income|                       Yes|            Yes|     0| 12|            3|\n",
      "| 34|            Yes|       Low Income|                        No|             No|     0| 13|            6|\n",
      "| 34|             No|    Middle Income|                        No|             No|     0| 14|            7|\n",
      "| 37|            Yes|       Low Income|                        No|            Yes|     0| 15|            8|\n",
      "| 30|             No|       Low Income|                       Yes|            Yes|     0| 16|            3|\n",
      "| 30|            Yes|      High Income|                       Yes|             No|     0| 17|            3|\n",
      "| 31|             No|    Middle Income|                        No|            Yes|     0| 18|            3|\n",
      "| 37|             No|       Low Income|                       Yes|             No|     1| 19|            4|\n",
      "+---+---------------+-----------------+--------------------------+---------------+------+---+-------------+\n",
      "only showing top 20 rows\n",
      "\n"
     ]
    }
   ],
   "source": [
    "df = df.withColumn(\"temp\", F.col(\"ServicesOpted\").cast(\"int\"))\n",
    "df = df.drop(\"ServicesOpted\").withColumn(\"ServicesOpted\", F.col(\"temp\")).drop(\"temp\")\n",
    "df.show()"
   ]
  },
  {
   "cell_type": "code",
   "execution_count": 5,
   "metadata": {},
   "outputs": [
    {
     "data": {
      "text/plain": [
       "['Age',\n",
       " 'FrequentWatcher',\n",
       " 'AnnualIncomeClass',\n",
       " 'AccountSyncedToSocialMedia',\n",
       " 'BookedFoodOrNot',\n",
       " 'Target',\n",
       " 'Id',\n",
       " 'ServicesOpted']"
      ]
     },
     "execution_count": 5,
     "metadata": {},
     "output_type": "execute_result"
    }
   ],
   "source": [
    "df.columns"
   ]
  },
  {
   "cell_type": "code",
   "execution_count": 6,
   "metadata": {
    "application/vnd.databricks.v1+cell": {
     "cellMetadata": {
      "byteLimit": 2048000,
      "rowLimit": 10000
     },
     "inputWidgets": {},
     "nuid": "70064537-447a-48f3-ad94-580c876ecc8e",
     "showTitle": false,
     "title": ""
    }
   },
   "outputs": [
    {
     "data": {
      "text/plain": [
       "['Age',\n",
       " 'FrequentWatcher',\n",
       " 'AnnualIncomeClass',\n",
       " 'AccountSyncedToSocialMedia',\n",
       " 'BookedFoodOrNot',\n",
       " 'ServicesOpted']"
      ]
     },
     "execution_count": 6,
     "metadata": {},
     "output_type": "execute_result"
    }
   ],
   "source": [
    "rows_to_convert = df.columns\n",
    "rows_to_convert.remove(\"Id\")\n",
    "rows_to_convert.remove(\"Target\")\n",
    "rows_to_convert"
   ]
  },
  {
   "cell_type": "code",
   "execution_count": 7,
   "metadata": {},
   "outputs": [
    {
     "data": {
      "text/plain": [
       "'Age,FrequentWatcher,AnnualIncomeClass,AccountSyncedToSocialMedia,BookedFoodOrNot,ServicesOpted'"
      ]
     },
     "execution_count": 7,
     "metadata": {},
     "output_type": "execute_result"
    }
   ],
   "source": [
    "\",\".join(rows_to_convert)"
   ]
  },
  {
   "cell_type": "code",
   "execution_count": 8,
   "metadata": {},
   "outputs": [
    {
     "name": "stdout",
     "output_type": "stream",
     "text": [
      "+------+-----+\n",
      "|Target|count|\n",
      "+------+-----+\n",
      "|     0|  730|\n",
      "|     1|  224|\n",
      "+------+-----+\n",
      "\n"
     ]
    }
   ],
   "source": [
    "df.groupBy(\"Target\").count().show()"
   ]
  },
  {
   "cell_type": "code",
   "execution_count": 9,
   "metadata": {},
   "outputs": [
    {
     "name": "stdout",
     "output_type": "stream",
     "text": [
      "+---+---------------+-----------------+--------------------------+---------------+------+---+-------------+\n",
      "|Age|FrequentWatcher|AnnualIncomeClass|AccountSyncedToSocialMedia|BookedFoodOrNot|Target| Id|ServicesOpted|\n",
      "+---+---------------+-----------------+--------------------------+---------------+------+---+-------------+\n",
      "| 34|             No|    Middle Income|                        No|            Yes|     0|  0|            8|\n",
      "| 34|            Yes|       Low Income|                       Yes|             No|     1|  1|            7|\n",
      "| 37|             No|    Middle Income|                       Yes|             No|     0|  2|            5|\n",
      "| 30|             No|    Middle Income|                        No|             No|     0|  3|            4|\n",
      "| 30|             No|       Low Income|                        No|             No|     0|  4|            3|\n",
      "| 27|            Yes|      High Income|                        No|            Yes|     1|  5|            3|\n",
      "| 34|             No|    Middle Income|                       Yes|            Yes|     0|  6|            6|\n",
      "| 34|             No|       Low Income|                       Yes|             No|     1|  7|            4|\n",
      "| 30|             No|       Low Income|                        No|            Yes|     0|  8|            5|\n",
      "| 36|            Yes|      High Income|                        No|             No|     1|  9|            3|\n",
      "| 34|             No|       Low Income|                       Yes|            Yes|     0| 10|            3|\n",
      "| 28|             No|    Middle Income|                        No|             No|     1| 11|            4|\n",
      "| 35|      No Record|    Middle Income|                       Yes|            Yes|     0| 12|            3|\n",
      "| 34|            Yes|       Low Income|                        No|             No|     0| 13|            6|\n",
      "| 34|             No|    Middle Income|                        No|             No|     0| 14|            7|\n",
      "| 37|            Yes|       Low Income|                        No|            Yes|     0| 15|            8|\n",
      "| 30|             No|       Low Income|                       Yes|            Yes|     0| 16|            3|\n",
      "| 30|            Yes|      High Income|                       Yes|             No|     0| 17|            3|\n",
      "| 31|             No|    Middle Income|                        No|            Yes|     0| 18|            3|\n",
      "| 37|             No|       Low Income|                       Yes|             No|     1| 19|            4|\n",
      "+---+---------------+-----------------+--------------------------+---------------+------+---+-------------+\n",
      "only showing top 20 rows\n",
      "\n"
     ]
    }
   ],
   "source": [
    "df.show()"
   ]
  },
  {
   "cell_type": "code",
   "execution_count": 10,
   "metadata": {},
   "outputs": [],
   "source": [
    "df.drop(\"Target\").toPandas().to_csv(\"src/resources/data/movie_master.csv\", header=True, index=False)"
   ]
  },
  {
   "cell_type": "code",
   "execution_count": 11,
   "metadata": {},
   "outputs": [],
   "source": [
    "from src.utils.functions import get_row_as_text, hf_embeddings, get_ars_retrieved_df\n",
    "train_df = get_row_as_text(df, rows_to_convert)"
   ]
  },
  {
   "cell_type": "code",
   "execution_count": null,
   "metadata": {},
   "outputs": [],
   "source": []
  },
  {
   "cell_type": "code",
   "execution_count": 12,
   "metadata": {
    "application/vnd.databricks.v1+cell": {
     "cellMetadata": {
      "byteLimit": 2048000,
      "rowLimit": 10000
     },
     "inputWidgets": {},
     "nuid": "bb2ae051-0b66-4773-8c61-c9df8cc533eb",
     "showTitle": false,
     "title": ""
    }
   },
   "outputs": [
    {
     "name": "stdout",
     "output_type": "stream",
     "text": [
      "+--------------------------------------------------------------------------------------------------------------------------------------+\n",
      "|row_as_text                                                                                                                           |\n",
      "+--------------------------------------------------------------------------------------------------------------------------------------+\n",
      "|Age: 34; FrequentWatcher: No; AnnualIncomeClass: Middle Income; AccountSyncedToSocialMedia: No; BookedFoodOrNot: Yes; ServicesOpted: 8|\n",
      "|Age: 34; FrequentWatcher: Yes; AnnualIncomeClass: Low Income; AccountSyncedToSocialMedia: Yes; BookedFoodOrNot: No; ServicesOpted: 7  |\n",
      "+--------------------------------------------------------------------------------------------------------------------------------------+\n",
      "only showing top 2 rows\n",
      "\n"
     ]
    }
   ],
   "source": [
    "train_df.select(\"row_as_text\").show(2, truncate=False)"
   ]
  },
  {
   "cell_type": "code",
   "execution_count": 13,
   "metadata": {
    "application/vnd.databricks.v1+cell": {
     "cellMetadata": {
      "byteLimit": 2048000,
      "rowLimit": 10000
     },
     "inputWidgets": {},
     "nuid": "b9417325-8389-445a-91c8-23a24ab14737",
     "showTitle": false,
     "title": ""
    }
   },
   "outputs": [
    {
     "name": "stdout",
     "output_type": "stream",
     "text": [
      "root\n",
      " |-- Age: string (nullable = true)\n",
      " |-- FrequentWatcher: string (nullable = true)\n",
      " |-- AnnualIncomeClass: string (nullable = true)\n",
      " |-- AccountSyncedToSocialMedia: string (nullable = true)\n",
      " |-- BookedFoodOrNot: string (nullable = true)\n",
      " |-- Target: string (nullable = true)\n",
      " |-- Id: long (nullable = false)\n",
      " |-- ServicesOpted: integer (nullable = true)\n",
      " |-- row_as_text: string (nullable = false)\n",
      "\n"
     ]
    }
   ],
   "source": [
    "train_df.printSchema()"
   ]
  },
  {
   "cell_type": "code",
   "execution_count": null,
   "metadata": {
    "application/vnd.databricks.v1+cell": {
     "cellMetadata": {
      "byteLimit": 2048000,
      "rowLimit": 10000
     },
     "inputWidgets": {},
     "nuid": "089d7000-fd73-4657-a2fd-30e6059d0083",
     "showTitle": false,
     "title": ""
    }
   },
   "outputs": [],
   "source": []
  },
  {
   "cell_type": "code",
   "execution_count": 14,
   "metadata": {
    "application/vnd.databricks.v1+cell": {
     "cellMetadata": {
      "byteLimit": 2048000,
      "rowLimit": 10000
     },
     "inputWidgets": {},
     "nuid": "7a7d024e-68b2-4501-baaf-0255e7470c0d",
     "showTitle": false,
     "title": ""
    }
   },
   "outputs": [
    {
     "data": {
      "text/plain": [
       "Row(Age='34', FrequentWatcher='No', AnnualIncomeClass='Middle Income', AccountSyncedToSocialMedia='No', BookedFoodOrNot='Yes', Target='0', Id=0, ServicesOpted=8, row_as_text='Age: 34; FrequentWatcher: No; AnnualIncomeClass: Middle Income; AccountSyncedToSocialMedia: No; BookedFoodOrNot: Yes; ServicesOpted: 8')"
      ]
     },
     "execution_count": 14,
     "metadata": {},
     "output_type": "execute_result"
    }
   ],
   "source": [
    "step = 1500\n",
    "k = 4000\n",
    "\n",
    "texts_list = train_df.rdd.collect()\n",
    "# texts_list = [x[0] for x in texts_label_list]\n",
    "# texts_list\n",
    "texts_list[0]"
   ]
  },
  {
   "cell_type": "code",
   "execution_count": 65,
   "metadata": {},
   "outputs": [],
   "source": [
    "import os\n",
    "\n",
    "# Specify the path of the directory you want to create\n",
    "db_dir = \"src/resources/embeddings/movie\"\n",
    "\n",
    "# Create the directory\n",
    "os.makedirs(db_dir, exist_ok=True)"
   ]
  },
  {
   "cell_type": "code",
   "execution_count": 66,
   "metadata": {},
   "outputs": [],
   "source": [
    "from langchain.vectorstores import Chroma\n",
    "from src.utils.functions import hf_embeddings\n",
    "import chromadb\n",
    "import os\n",
    "\n",
    "client = chromadb.PersistentClient(path=db_dir)\n",
    "\n",
    "vdb = Chroma(persist_directory=db_dir, embedding_function=hf_embeddings,\n",
    "                 collection_metadata={\"hnsw:space\": \"cosine\"}, client=client)"
   ]
  },
  {
   "cell_type": "code",
   "execution_count": 67,
   "metadata": {
    "application/vnd.databricks.v1+cell": {
     "cellMetadata": {
      "byteLimit": 2048000,
      "rowLimit": 10000
     },
     "inputWidgets": {},
     "nuid": "51e8522a-c532-4a1b-8352-c027c0a875f6",
     "showTitle": false,
     "title": ""
    }
   },
   "outputs": [
    {
     "ename": "OperationalError",
     "evalue": "attempt to write a readonly database",
     "output_type": "error",
     "traceback": [
      "\u001b[0;31m---------------------------------------------------------------------------\u001b[0m",
      "\u001b[0;31mOperationalError\u001b[0m                          Traceback (most recent call last)",
      "\u001b[0;32m/var/folders/g1/wqd2jbyj7v5cdjc49p0f_1200000gq/T/ipykernel_35853/3260668277.py\u001b[0m in \u001b[0;36m<module>\u001b[0;34m\u001b[0m\n\u001b[1;32m      4\u001b[0m     \u001b[0mtexts\u001b[0m \u001b[0;34m=\u001b[0m \u001b[0;34m[\u001b[0m\u001b[0mx\u001b[0m\u001b[0;34m.\u001b[0m\u001b[0mrow_as_text\u001b[0m \u001b[0;32mfor\u001b[0m \u001b[0mx\u001b[0m \u001b[0;32min\u001b[0m \u001b[0mtexts_list\u001b[0m\u001b[0;34m[\u001b[0m\u001b[0mi\u001b[0m\u001b[0;34m:\u001b[0m\u001b[0mi\u001b[0m\u001b[0;34m+\u001b[0m\u001b[0mstep\u001b[0m\u001b[0;34m]\u001b[0m\u001b[0;34m]\u001b[0m\u001b[0;34m\u001b[0m\u001b[0;34m\u001b[0m\u001b[0m\n\u001b[1;32m      5\u001b[0m     \u001b[0mmetadata\u001b[0m \u001b[0;34m=\u001b[0m \u001b[0;34m[\u001b[0m\u001b[0;34m{\u001b[0m\u001b[0;34m\"Id\"\u001b[0m\u001b[0;34m:\u001b[0m \u001b[0mstr\u001b[0m\u001b[0;34m(\u001b[0m\u001b[0mx\u001b[0m\u001b[0;34m.\u001b[0m\u001b[0mId\u001b[0m\u001b[0;34m)\u001b[0m\u001b[0;34m,\u001b[0m \u001b[0;34m\"Target\"\u001b[0m\u001b[0;34m:\u001b[0m \u001b[0mstr\u001b[0m\u001b[0;34m(\u001b[0m\u001b[0mx\u001b[0m\u001b[0;34m.\u001b[0m\u001b[0mTarget\u001b[0m\u001b[0;34m)\u001b[0m\u001b[0;34m}\u001b[0m \u001b[0;32mfor\u001b[0m \u001b[0mx\u001b[0m \u001b[0;32min\u001b[0m \u001b[0mtexts_list\u001b[0m\u001b[0;34m[\u001b[0m\u001b[0mi\u001b[0m\u001b[0;34m:\u001b[0m\u001b[0mi\u001b[0m\u001b[0;34m+\u001b[0m\u001b[0mstep\u001b[0m\u001b[0;34m]\u001b[0m\u001b[0;34m]\u001b[0m\u001b[0;34m\u001b[0m\u001b[0;34m\u001b[0m\u001b[0m\n\u001b[0;32m----> 6\u001b[0;31m     \u001b[0mvdb\u001b[0m\u001b[0;34m.\u001b[0m\u001b[0madd_texts\u001b[0m\u001b[0;34m(\u001b[0m\u001b[0mtexts\u001b[0m\u001b[0;34m,\u001b[0m \u001b[0mmetadata\u001b[0m\u001b[0;34m)\u001b[0m\u001b[0;34m\u001b[0m\u001b[0;34m\u001b[0m\u001b[0m\n\u001b[0m\u001b[1;32m      7\u001b[0m \u001b[0;34m\u001b[0m\u001b[0m\n\u001b[1;32m      8\u001b[0m \u001b[0mvdb\u001b[0m\u001b[0;34m.\u001b[0m\u001b[0mpersist\u001b[0m\u001b[0;34m(\u001b[0m\u001b[0;34m)\u001b[0m\u001b[0;34m\u001b[0m\u001b[0;34m\u001b[0m\u001b[0m\n",
      "\u001b[0;32m/usr/local/anaconda3/lib/python3.9/site-packages/langchain_community/vectorstores/chroma.py\u001b[0m in \u001b[0;36madd_texts\u001b[0;34m(self, texts, metadatas, ids, **kwargs)\u001b[0m\n\u001b[1;32m    295\u001b[0m                 \u001b[0mids_with_metadata\u001b[0m \u001b[0;34m=\u001b[0m \u001b[0;34m[\u001b[0m\u001b[0mids\u001b[0m\u001b[0;34m[\u001b[0m\u001b[0midx\u001b[0m\u001b[0;34m]\u001b[0m \u001b[0;32mfor\u001b[0m \u001b[0midx\u001b[0m \u001b[0;32min\u001b[0m \u001b[0mnon_empty_ids\u001b[0m\u001b[0;34m]\u001b[0m\u001b[0;34m\u001b[0m\u001b[0;34m\u001b[0m\u001b[0m\n\u001b[1;32m    296\u001b[0m                 \u001b[0;32mtry\u001b[0m\u001b[0;34m:\u001b[0m\u001b[0;34m\u001b[0m\u001b[0;34m\u001b[0m\u001b[0m\n\u001b[0;32m--> 297\u001b[0;31m                     self._collection.upsert(\n\u001b[0m\u001b[1;32m    298\u001b[0m                         \u001b[0mmetadatas\u001b[0m\u001b[0;34m=\u001b[0m\u001b[0mmetadatas\u001b[0m\u001b[0;34m,\u001b[0m\u001b[0;34m\u001b[0m\u001b[0;34m\u001b[0m\u001b[0m\n\u001b[1;32m    299\u001b[0m                         \u001b[0membeddings\u001b[0m\u001b[0;34m=\u001b[0m\u001b[0membeddings_with_metadatas\u001b[0m\u001b[0;34m,\u001b[0m\u001b[0;34m\u001b[0m\u001b[0;34m\u001b[0m\u001b[0m\n",
      "\u001b[0;32m/usr/local/anaconda3/lib/python3.9/site-packages/chromadb/api/models/Collection.py\u001b[0m in \u001b[0;36mupsert\u001b[0;34m(self, ids, embeddings, metadatas, documents, images, uris)\u001b[0m\n\u001b[1;32m    485\u001b[0m                 \u001b[0membeddings\u001b[0m \u001b[0;34m=\u001b[0m \u001b[0mself\u001b[0m\u001b[0;34m.\u001b[0m\u001b[0m_embed\u001b[0m\u001b[0;34m(\u001b[0m\u001b[0minput\u001b[0m\u001b[0;34m=\u001b[0m\u001b[0mimages\u001b[0m\u001b[0;34m)\u001b[0m\u001b[0;34m\u001b[0m\u001b[0;34m\u001b[0m\u001b[0m\n\u001b[1;32m    486\u001b[0m \u001b[0;34m\u001b[0m\u001b[0m\n\u001b[0;32m--> 487\u001b[0;31m         self._client._upsert(\n\u001b[0m\u001b[1;32m    488\u001b[0m             \u001b[0mcollection_id\u001b[0m\u001b[0;34m=\u001b[0m\u001b[0mself\u001b[0m\u001b[0;34m.\u001b[0m\u001b[0mid\u001b[0m\u001b[0;34m,\u001b[0m\u001b[0;34m\u001b[0m\u001b[0;34m\u001b[0m\u001b[0m\n\u001b[1;32m    489\u001b[0m             \u001b[0mids\u001b[0m\u001b[0;34m=\u001b[0m\u001b[0mids\u001b[0m\u001b[0;34m,\u001b[0m\u001b[0;34m\u001b[0m\u001b[0;34m\u001b[0m\u001b[0m\n",
      "\u001b[0;32m/usr/local/anaconda3/lib/python3.9/site-packages/chromadb/telemetry/opentelemetry/__init__.py\u001b[0m in \u001b[0;36mwrapper\u001b[0;34m(*args, **kwargs)\u001b[0m\n\u001b[1;32m    125\u001b[0m             \u001b[0;32mglobal\u001b[0m \u001b[0mtracer\u001b[0m\u001b[0;34m,\u001b[0m \u001b[0mgranularity\u001b[0m\u001b[0;34m\u001b[0m\u001b[0;34m\u001b[0m\u001b[0m\n\u001b[1;32m    126\u001b[0m             \u001b[0;32mif\u001b[0m \u001b[0mtrace_granularity\u001b[0m \u001b[0;34m<\u001b[0m \u001b[0mgranularity\u001b[0m\u001b[0;34m:\u001b[0m\u001b[0;34m\u001b[0m\u001b[0;34m\u001b[0m\u001b[0m\n\u001b[0;32m--> 127\u001b[0;31m                 \u001b[0;32mreturn\u001b[0m \u001b[0mf\u001b[0m\u001b[0;34m(\u001b[0m\u001b[0;34m*\u001b[0m\u001b[0margs\u001b[0m\u001b[0;34m,\u001b[0m \u001b[0;34m**\u001b[0m\u001b[0mkwargs\u001b[0m\u001b[0;34m)\u001b[0m\u001b[0;34m\u001b[0m\u001b[0;34m\u001b[0m\u001b[0m\n\u001b[0m\u001b[1;32m    128\u001b[0m             \u001b[0;32mif\u001b[0m \u001b[0;32mnot\u001b[0m \u001b[0mtracer\u001b[0m\u001b[0;34m:\u001b[0m\u001b[0;34m\u001b[0m\u001b[0;34m\u001b[0m\u001b[0m\n\u001b[1;32m    129\u001b[0m                 \u001b[0;32mreturn\u001b[0m \u001b[0mf\u001b[0m\u001b[0;34m(\u001b[0m\u001b[0;34m*\u001b[0m\u001b[0margs\u001b[0m\u001b[0;34m,\u001b[0m \u001b[0;34m**\u001b[0m\u001b[0mkwargs\u001b[0m\u001b[0;34m)\u001b[0m\u001b[0;34m\u001b[0m\u001b[0;34m\u001b[0m\u001b[0m\n",
      "\u001b[0;32m/usr/local/anaconda3/lib/python3.9/site-packages/chromadb/api/segment.py\u001b[0m in \u001b[0;36m_upsert\u001b[0;34m(self, collection_id, ids, embeddings, metadatas, documents, uris)\u001b[0m\n\u001b[1;32m    465\u001b[0m             \u001b[0mself\u001b[0m\u001b[0;34m.\u001b[0m\u001b[0m_validate_embedding_record\u001b[0m\u001b[0;34m(\u001b[0m\u001b[0mcoll\u001b[0m\u001b[0;34m,\u001b[0m \u001b[0mr\u001b[0m\u001b[0;34m)\u001b[0m\u001b[0;34m\u001b[0m\u001b[0;34m\u001b[0m\u001b[0m\n\u001b[1;32m    466\u001b[0m             \u001b[0mrecords_to_submit\u001b[0m\u001b[0;34m.\u001b[0m\u001b[0mappend\u001b[0m\u001b[0;34m(\u001b[0m\u001b[0mr\u001b[0m\u001b[0;34m)\u001b[0m\u001b[0;34m\u001b[0m\u001b[0;34m\u001b[0m\u001b[0m\n\u001b[0;32m--> 467\u001b[0;31m         \u001b[0mself\u001b[0m\u001b[0;34m.\u001b[0m\u001b[0m_producer\u001b[0m\u001b[0;34m.\u001b[0m\u001b[0msubmit_embeddings\u001b[0m\u001b[0;34m(\u001b[0m\u001b[0mcoll\u001b[0m\u001b[0;34m[\u001b[0m\u001b[0;34m\"topic\"\u001b[0m\u001b[0;34m]\u001b[0m\u001b[0;34m,\u001b[0m \u001b[0mrecords_to_submit\u001b[0m\u001b[0;34m)\u001b[0m\u001b[0;34m\u001b[0m\u001b[0;34m\u001b[0m\u001b[0m\n\u001b[0m\u001b[1;32m    468\u001b[0m \u001b[0;34m\u001b[0m\u001b[0m\n\u001b[1;32m    469\u001b[0m         \u001b[0;32mreturn\u001b[0m \u001b[0;32mTrue\u001b[0m\u001b[0;34m\u001b[0m\u001b[0;34m\u001b[0m\u001b[0m\n",
      "\u001b[0;32m/usr/local/anaconda3/lib/python3.9/site-packages/chromadb/telemetry/opentelemetry/__init__.py\u001b[0m in \u001b[0;36mwrapper\u001b[0;34m(*args, **kwargs)\u001b[0m\n\u001b[1;32m    125\u001b[0m             \u001b[0;32mglobal\u001b[0m \u001b[0mtracer\u001b[0m\u001b[0;34m,\u001b[0m \u001b[0mgranularity\u001b[0m\u001b[0;34m\u001b[0m\u001b[0;34m\u001b[0m\u001b[0m\n\u001b[1;32m    126\u001b[0m             \u001b[0;32mif\u001b[0m \u001b[0mtrace_granularity\u001b[0m \u001b[0;34m<\u001b[0m \u001b[0mgranularity\u001b[0m\u001b[0;34m:\u001b[0m\u001b[0;34m\u001b[0m\u001b[0;34m\u001b[0m\u001b[0m\n\u001b[0;32m--> 127\u001b[0;31m                 \u001b[0;32mreturn\u001b[0m \u001b[0mf\u001b[0m\u001b[0;34m(\u001b[0m\u001b[0;34m*\u001b[0m\u001b[0margs\u001b[0m\u001b[0;34m,\u001b[0m \u001b[0;34m**\u001b[0m\u001b[0mkwargs\u001b[0m\u001b[0;34m)\u001b[0m\u001b[0;34m\u001b[0m\u001b[0;34m\u001b[0m\u001b[0m\n\u001b[0m\u001b[1;32m    128\u001b[0m             \u001b[0;32mif\u001b[0m \u001b[0;32mnot\u001b[0m \u001b[0mtracer\u001b[0m\u001b[0;34m:\u001b[0m\u001b[0;34m\u001b[0m\u001b[0;34m\u001b[0m\u001b[0m\n\u001b[1;32m    129\u001b[0m                 \u001b[0;32mreturn\u001b[0m \u001b[0mf\u001b[0m\u001b[0;34m(\u001b[0m\u001b[0;34m*\u001b[0m\u001b[0margs\u001b[0m\u001b[0;34m,\u001b[0m \u001b[0;34m**\u001b[0m\u001b[0mkwargs\u001b[0m\u001b[0;34m)\u001b[0m\u001b[0;34m\u001b[0m\u001b[0;34m\u001b[0m\u001b[0m\n",
      "\u001b[0;32m/usr/local/anaconda3/lib/python3.9/site-packages/chromadb/db/mixins/embeddings_queue.py\u001b[0m in \u001b[0;36msubmit_embeddings\u001b[0;34m(self, topic_name, embeddings)\u001b[0m\n\u001b[1;32m    170\u001b[0m             \u001b[0;31m# the results. https://www.sqlite.org/lang_returning.html\u001b[0m\u001b[0;34m\u001b[0m\u001b[0;34m\u001b[0m\u001b[0m\n\u001b[1;32m    171\u001b[0m             \u001b[0msql\u001b[0m \u001b[0;34m=\u001b[0m \u001b[0;34mf\"{sql} RETURNING seq_id, id\"\u001b[0m  \u001b[0;31m# Pypika doesn't support RETURNING\u001b[0m\u001b[0;34m\u001b[0m\u001b[0;34m\u001b[0m\u001b[0m\n\u001b[0;32m--> 172\u001b[0;31m             \u001b[0mresults\u001b[0m \u001b[0;34m=\u001b[0m \u001b[0mcur\u001b[0m\u001b[0;34m.\u001b[0m\u001b[0mexecute\u001b[0m\u001b[0;34m(\u001b[0m\u001b[0msql\u001b[0m\u001b[0;34m,\u001b[0m \u001b[0mparams\u001b[0m\u001b[0;34m)\u001b[0m\u001b[0;34m.\u001b[0m\u001b[0mfetchall\u001b[0m\u001b[0;34m(\u001b[0m\u001b[0;34m)\u001b[0m\u001b[0;34m\u001b[0m\u001b[0;34m\u001b[0m\u001b[0m\n\u001b[0m\u001b[1;32m    173\u001b[0m             \u001b[0;31m# Reorder the results\u001b[0m\u001b[0;34m\u001b[0m\u001b[0;34m\u001b[0m\u001b[0m\n\u001b[1;32m    174\u001b[0m             seq_ids = [cast(SeqId, None)] * len(\n",
      "\u001b[0;31mOperationalError\u001b[0m: attempt to write a readonly database"
     ]
    }
   ],
   "source": [
    "from langchain.vectorstores import Chroma\n",
    "vdb = Chroma(persist_directory=db_dir, embedding_function=hf_embeddings, collection_metadata={\"hnsw:space\": \"cosine\"})\n",
    "for i in range(0, len(texts_list), step):\n",
    "    texts = [x.row_as_text for x in texts_list[i:i+step]]\n",
    "    metadata = [{\"Id\": str(x.Id), \"Target\": str(x.Target)} for x in texts_list[i:i+step]]\n",
    "    vdb.add_texts(texts, metadata)\n",
    "\n",
    "vdb.persist()"
   ]
  },
  {
   "cell_type": "code",
   "execution_count": null,
   "metadata": {},
   "outputs": [],
   "source": [
    "from langchain.vectorstores import Chroma\n",
    "from src.utils.functions import hf_embeddings\n",
    "import chromadb\n",
    "\n",
    "client = chromadb.PersistentClient(path=db_dir)\n",
    "\n",
    "vdb = Chroma(persist_directory=db_dir, embedding_function=hf_embeddings,\n",
    "                 collection_metadata={\"hnsw:space\": \"cosine\"}, client=client)"
   ]
  },
  {
   "cell_type": "code",
   "execution_count": null,
   "metadata": {},
   "outputs": [],
   "source": [
    "vdb._collection.count()"
   ]
  },
  {
   "cell_type": "code",
   "execution_count": 24,
   "metadata": {},
   "outputs": [],
   "source": [
    "# db_dir"
   ]
  },
  {
   "cell_type": "code",
   "execution_count": 25,
   "metadata": {},
   "outputs": [],
   "source": [
    "# train_df.filter(F.col(\"Target\") == 1).drop(\"row_as_text\").toPandas().to_csv(\"src/resources/data/movie_test.csv\", header=True, index=False)"
   ]
  },
  {
   "cell_type": "code",
   "execution_count": 26,
   "metadata": {},
   "outputs": [],
   "source": [
    "# spark.read.option(\"header\", \"true\").csv(\"src/resources/data/movie_test.csv\").show()"
   ]
  },
  {
   "cell_type": "code",
   "execution_count": null,
   "metadata": {},
   "outputs": [],
   "source": []
  },
  {
   "cell_type": "code",
   "execution_count": null,
   "metadata": {},
   "outputs": [],
   "source": [
    "df_input = train_df.drop(\"row_as_text\")\n",
    "df_input.show()"
   ]
  },
  {
   "cell_type": "code",
   "execution_count": 38,
   "metadata": {},
   "outputs": [],
   "source": [
    "df_input = df_input.filter(F.col(\"Target\") == 1).limit(10).union(df_input.filter(F.col(\"Target\") == 0).limit(10))"
   ]
  },
  {
   "cell_type": "code",
   "execution_count": 39,
   "metadata": {},
   "outputs": [
    {
     "name": "stdout",
     "output_type": "stream",
     "text": [
      "+---+---------------+-----------------+-------------+--------------------------+---------------+------+---+\n",
      "|Age|FrequentWatcher|AnnualIncomeClass|ServicesOpted|AccountSyncedToSocialMedia|BookedFoodOrNot|Target| Id|\n",
      "+---+---------------+-----------------+-------------+--------------------------+---------------+------+---+\n",
      "| 34|            Yes|       Low Income|            5|                       Yes|             No|     1|  1|\n",
      "| 27|            Yes|      High Income|            1|                        No|            Yes|     1|  5|\n",
      "| 34|             No|       Low Income|            2|                       Yes|             No|     1|  7|\n",
      "| 36|            Yes|      High Income|            1|                        No|             No|     1|  9|\n",
      "| 28|             No|    Middle Income|            2|                        No|             No|     1| 11|\n",
      "| 37|             No|       Low Income|            2|                       Yes|             No|     1| 19|\n",
      "| 31|            Yes|      High Income|            1|                        No|             No|     1| 21|\n",
      "| 35|            Yes|      High Income|            1|                        No|             No|     1| 33|\n",
      "| 37|            Yes|       Low Income|            1|                       Yes|             No|     1| 37|\n",
      "| 37|            Yes|      High Income|            6|                        No|            Yes|     1| 45|\n",
      "| 34|             No|    Middle Income|            6|                        No|            Yes|     0|  0|\n",
      "| 37|             No|    Middle Income|            3|                       Yes|             No|     0|  2|\n",
      "| 30|             No|    Middle Income|            2|                        No|             No|     0|  3|\n",
      "| 30|             No|       Low Income|            1|                        No|             No|     0|  4|\n",
      "| 34|             No|    Middle Income|            4|                       Yes|            Yes|     0|  6|\n",
      "| 30|             No|       Low Income|            3|                        No|            Yes|     0|  8|\n",
      "| 34|             No|       Low Income|            1|                       Yes|            Yes|     0| 10|\n",
      "| 35|      No Record|    Middle Income|            1|                       Yes|            Yes|     0| 12|\n",
      "| 34|            Yes|       Low Income|            4|                        No|             No|     0| 13|\n",
      "| 34|             No|    Middle Income|            5|                        No|             No|     0| 14|\n",
      "+---+---------------+-----------------+-------------+--------------------------+---------------+------+---+\n",
      "\n"
     ]
    }
   ],
   "source": [
    "df_input.show()"
   ]
  },
  {
   "cell_type": "code",
   "execution_count": 40,
   "metadata": {},
   "outputs": [],
   "source": [
    "df_input.drop(\"Target\").toPandas().to_csv(\"src/resources/data/movie_test.csv\", header=True, index=False)"
   ]
  },
  {
   "cell_type": "code",
   "execution_count": 37,
   "metadata": {},
   "outputs": [
    {
     "name": "stdout",
     "output_type": "stream",
     "text": [
      "+------+-----+\n",
      "|Target|count|\n",
      "+------+-----+\n",
      "|     0|  730|\n",
      "|     1|  224|\n",
      "+------+-----+\n",
      "\n"
     ]
    }
   ],
   "source": [
    "df_input.groupBy(\"Target\").count().show()"
   ]
  },
  {
   "cell_type": "code",
   "execution_count": null,
   "metadata": {},
   "outputs": [],
   "source": []
  },
  {
   "cell_type": "code",
   "execution_count": null,
   "metadata": {},
   "outputs": [],
   "source": []
  },
  {
   "cell_type": "code",
   "execution_count": null,
   "metadata": {},
   "outputs": [],
   "source": []
  },
  {
   "cell_type": "code",
   "execution_count": null,
   "metadata": {},
   "outputs": [],
   "source": []
  },
  {
   "cell_type": "code",
   "execution_count": null,
   "metadata": {},
   "outputs": [],
   "source": []
  }
 ],
 "metadata": {
  "application/vnd.databricks.v1+notebook": {
   "dashboards": [],
   "language": "python",
   "notebookMetadata": {
    "pythonIndentUnit": 2
   },
   "notebookName": "AR_dummy_data",
   "widgets": {}
  },
  "kernelspec": {
   "display_name": "Python 3 (ipykernel)",
   "language": "python",
   "name": "python3"
  },
  "language_info": {
   "codemirror_mode": {
    "name": "ipython",
    "version": 3
   },
   "file_extension": ".py",
   "mimetype": "text/x-python",
   "name": "python",
   "nbconvert_exporter": "python",
   "pygments_lexer": "ipython3",
   "version": "3.9.13"
  }
 },
 "nbformat": 4,
 "nbformat_minor": 1
}
