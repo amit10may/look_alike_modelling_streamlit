{
 "cells": [
  {
   "cell_type": "code",
   "execution_count": 0,
   "metadata": {
    "application/vnd.databricks.v1+cell": {
     "cellMetadata": {
      "byteLimit": 2048000,
      "rowLimit": 10000
     },
     "inputWidgets": {},
     "nuid": "131b7e66-3737-4771-aefc-30e30c1c1199",
     "showTitle": false,
     "title": ""
    }
   },
   "outputs": [
    {
     "name": "stdout",
     "output_type": "stream",
     "text": [
      "Requirement already satisfied: faiss-cpu==1.7.4 in /local_disk0/.ephemeral_nfs/envs/pythonEnv-2ef19197-1dcb-44dd-b83e-3cafdc6d4cd1/lib/python3.9/site-packages (1.7.4)\r\n",
      "Requirement already satisfied: tiktoken in /local_disk0/.ephemeral_nfs/envs/pythonEnv-2ef19197-1dcb-44dd-b83e-3cafdc6d4cd1/lib/python3.9/site-packages (0.5.1)\r\n",
      "Collecting openai\r\n",
      "  Obtaining dependency information for openai from https://files.pythonhosted.org/packages/1e/9f/385c25502f437686e4aa715969e5eaf5c2cb5e5ffa7c5cdd52f3c6ae967a/openai-0.28.1-py3-none-any.whl.metadata\r\n",
      "  Downloading openai-0.28.1-py3-none-any.whl.metadata (11 kB)\r\n",
      "Requirement already satisfied: regex>=2022.1.18 in /local_disk0/.ephemeral_nfs/envs/pythonEnv-2ef19197-1dcb-44dd-b83e-3cafdc6d4cd1/lib/python3.9/site-packages (from tiktoken) (2023.8.8)\r\n",
      "Requirement already satisfied: requests>=2.26.0 in /local_disk0/.ephemeral_nfs/envs/pythonEnv-2ef19197-1dcb-44dd-b83e-3cafdc6d4cd1/lib/python3.9/site-packages (from tiktoken) (2.31.0)\r\n",
      "Requirement already satisfied: tqdm in /local_disk0/.ephemeral_nfs/envs/pythonEnv-2ef19197-1dcb-44dd-b83e-3cafdc6d4cd1/lib/python3.9/site-packages (from openai) (4.66.1)\r\n",
      "Requirement already satisfied: aiohttp in /local_disk0/.ephemeral_nfs/envs/pythonEnv-2ef19197-1dcb-44dd-b83e-3cafdc6d4cd1/lib/python3.9/site-packages (from openai) (3.8.5)\r\n",
      "Requirement already satisfied: charset-normalizer<4,>=2 in /local_disk0/.ephemeral_nfs/envs/pythonEnv-2ef19197-1dcb-44dd-b83e-3cafdc6d4cd1/lib/python3.9/site-packages (from requests>=2.26.0->tiktoken) (3.3.0)\r\n",
      "Requirement already satisfied: idna<4,>=2.5 in /local_disk0/.ephemeral_nfs/envs/pythonEnv-2ef19197-1dcb-44dd-b83e-3cafdc6d4cd1/lib/python3.9/site-packages (from requests>=2.26.0->tiktoken) (3.4)\r\n",
      "Requirement already satisfied: urllib3<3,>=1.21.1 in /local_disk0/.ephemeral_nfs/envs/pythonEnv-2ef19197-1dcb-44dd-b83e-3cafdc6d4cd1/lib/python3.9/site-packages (from requests>=2.26.0->tiktoken) (2.0.6)\r\n",
      "Requirement already satisfied: certifi>=2017.4.17 in /local_disk0/.ephemeral_nfs/envs/pythonEnv-2ef19197-1dcb-44dd-b83e-3cafdc6d4cd1/lib/python3.9/site-packages (from requests>=2.26.0->tiktoken) (2023.7.22)\r\n",
      "Requirement already satisfied: attrs>=17.3.0 in /local_disk0/.ephemeral_nfs/envs/pythonEnv-2ef19197-1dcb-44dd-b83e-3cafdc6d4cd1/lib/python3.9/site-packages (from aiohttp->openai) (23.1.0)\r\n",
      "Requirement already satisfied: multidict<7.0,>=4.5 in /local_disk0/.ephemeral_nfs/envs/pythonEnv-2ef19197-1dcb-44dd-b83e-3cafdc6d4cd1/lib/python3.9/site-packages (from aiohttp->openai) (6.0.4)\r\n",
      "Requirement already satisfied: async-timeout<5.0,>=4.0.0a3 in /local_disk0/.ephemeral_nfs/envs/pythonEnv-2ef19197-1dcb-44dd-b83e-3cafdc6d4cd1/lib/python3.9/site-packages (from aiohttp->openai) (4.0.3)\r\n",
      "Requirement already satisfied: yarl<2.0,>=1.0 in /local_disk0/.ephemeral_nfs/envs/pythonEnv-2ef19197-1dcb-44dd-b83e-3cafdc6d4cd1/lib/python3.9/site-packages (from aiohttp->openai) (1.9.2)\r\n",
      "Requirement already satisfied: frozenlist>=1.1.1 in /local_disk0/.ephemeral_nfs/envs/pythonEnv-2ef19197-1dcb-44dd-b83e-3cafdc6d4cd1/lib/python3.9/site-packages (from aiohttp->openai) (1.4.0)\r\n",
      "Requirement already satisfied: aiosignal>=1.1.2 in /local_disk0/.ephemeral_nfs/envs/pythonEnv-2ef19197-1dcb-44dd-b83e-3cafdc6d4cd1/lib/python3.9/site-packages (from aiohttp->openai) (1.3.1)\r\n",
      "Downloading openai-0.28.1-py3-none-any.whl (76 kB)\r\n",
      "\u001b[?25l   \u001b[90m━━━━━━━━━━━━━━━━━━━━━━━━━━━━━━━━━━━━━━━━\u001b[0m \u001b[32m0.0/77.0 kB\u001b[0m \u001b[31m?\u001b[0m eta \u001b[36m-:--:--\u001b[0m\r",
      "\u001b[2K   \u001b[90m━━━━━━━━━━━━━━━━━━━━━━━━━━━━━━━━━━━━━━━━\u001b[0m \u001b[32m77.0/77.0 kB\u001b[0m \u001b[31m9.1 MB/s\u001b[0m eta \u001b[36m0:00:00\u001b[0m\r\n",
      "\u001b[?25hInstalling collected packages: openai\r\n",
      "Successfully installed openai-0.28.1\r\n",
      "Requirement already satisfied: transformers in /local_disk0/.ephemeral_nfs/envs/pythonEnv-2ef19197-1dcb-44dd-b83e-3cafdc6d4cd1/lib/python3.9/site-packages (4.33.3)\r\n",
      "Requirement already satisfied: InstructorEmbedding in /local_disk0/.ephemeral_nfs/envs/pythonEnv-2ef19197-1dcb-44dd-b83e-3cafdc6d4cd1/lib/python3.9/site-packages (1.0.1)\r\n",
      "Requirement already satisfied: filelock in /usr/local/lib/python3.9/dist-packages (from transformers) (3.8.0)\r\n",
      "Requirement already satisfied: huggingface-hub<1.0,>=0.15.1 in /local_disk0/.ephemeral_nfs/envs/pythonEnv-2ef19197-1dcb-44dd-b83e-3cafdc6d4cd1/lib/python3.9/site-packages (from transformers) (0.17.3)\r\n",
      "Requirement already satisfied: numpy>=1.17 in /local_disk0/.ephemeral_nfs/envs/pythonEnv-2ef19197-1dcb-44dd-b83e-3cafdc6d4cd1/lib/python3.9/site-packages (from transformers) (1.22.4)\r\n",
      "Requirement already satisfied: packaging>=20.0 in /local_disk0/.ephemeral_nfs/envs/pythonEnv-2ef19197-1dcb-44dd-b83e-3cafdc6d4cd1/lib/python3.9/site-packages (from transformers) (23.2)\r\n",
      "Requirement already satisfied: pyyaml>=5.1 in /local_disk0/.ephemeral_nfs/envs/pythonEnv-2ef19197-1dcb-44dd-b83e-3cafdc6d4cd1/lib/python3.9/site-packages (from transformers) (6.0.1)\r\n",
      "Requirement already satisfied: regex!=2019.12.17 in /local_disk0/.ephemeral_nfs/envs/pythonEnv-2ef19197-1dcb-44dd-b83e-3cafdc6d4cd1/lib/python3.9/site-packages (from transformers) (2023.8.8)\r\n",
      "Requirement already satisfied: requests in /local_disk0/.ephemeral_nfs/envs/pythonEnv-2ef19197-1dcb-44dd-b83e-3cafdc6d4cd1/lib/python3.9/site-packages (from transformers) (2.31.0)\r\n",
      "Requirement already satisfied: tokenizers!=0.11.3,<0.14,>=0.11.1 in /local_disk0/.ephemeral_nfs/envs/pythonEnv-2ef19197-1dcb-44dd-b83e-3cafdc6d4cd1/lib/python3.9/site-packages (from transformers) (0.13.3)\r\n",
      "Requirement already satisfied: safetensors>=0.3.1 in /local_disk0/.ephemeral_nfs/envs/pythonEnv-2ef19197-1dcb-44dd-b83e-3cafdc6d4cd1/lib/python3.9/site-packages (from transformers) (0.3.3)\r\n",
      "Requirement already satisfied: tqdm>=4.27 in /local_disk0/.ephemeral_nfs/envs/pythonEnv-2ef19197-1dcb-44dd-b83e-3cafdc6d4cd1/lib/python3.9/site-packages (from transformers) (4.66.1)\r\n",
      "Requirement already satisfied: fsspec in /local_disk0/.ephemeral_nfs/envs/pythonEnv-2ef19197-1dcb-44dd-b83e-3cafdc6d4cd1/lib/python3.9/site-packages (from huggingface-hub<1.0,>=0.15.1->transformers) (2023.9.2)\r\n",
      "Requirement already satisfied: typing-extensions>=3.7.4.3 in /local_disk0/.ephemeral_nfs/envs/pythonEnv-2ef19197-1dcb-44dd-b83e-3cafdc6d4cd1/lib/python3.9/site-packages (from huggingface-hub<1.0,>=0.15.1->transformers) (4.8.0)\r\n",
      "Requirement already satisfied: charset-normalizer<4,>=2 in /local_disk0/.ephemeral_nfs/envs/pythonEnv-2ef19197-1dcb-44dd-b83e-3cafdc6d4cd1/lib/python3.9/site-packages (from requests->transformers) (3.3.0)\r\n",
      "Requirement already satisfied: idna<4,>=2.5 in /local_disk0/.ephemeral_nfs/envs/pythonEnv-2ef19197-1dcb-44dd-b83e-3cafdc6d4cd1/lib/python3.9/site-packages (from requests->transformers) (3.4)\r\n",
      "Requirement already satisfied: urllib3<3,>=1.21.1 in /local_disk0/.ephemeral_nfs/envs/pythonEnv-2ef19197-1dcb-44dd-b83e-3cafdc6d4cd1/lib/python3.9/site-packages (from requests->transformers) (2.0.6)\r\n",
      "Requirement already satisfied: certifi>=2017.4.17 in /local_disk0/.ephemeral_nfs/envs/pythonEnv-2ef19197-1dcb-44dd-b83e-3cafdc6d4cd1/lib/python3.9/site-packages (from requests->transformers) (2023.7.22)\r\n",
      "Requirement already satisfied: sentence-transformers in /local_disk0/.ephemeral_nfs/envs/pythonEnv-2ef19197-1dcb-44dd-b83e-3cafdc6d4cd1/lib/python3.9/site-packages (2.2.2)\r\n",
      "Requirement already satisfied: transformers<5.0.0,>=4.6.0 in /local_disk0/.ephemeral_nfs/envs/pythonEnv-2ef19197-1dcb-44dd-b83e-3cafdc6d4cd1/lib/python3.9/site-packages (from sentence-transformers) (4.33.3)\r\n",
      "Requirement already satisfied: tqdm in /local_disk0/.ephemeral_nfs/envs/pythonEnv-2ef19197-1dcb-44dd-b83e-3cafdc6d4cd1/lib/python3.9/site-packages (from sentence-transformers) (4.66.1)\r\n",
      "Requirement already satisfied: torch>=1.6.0 in /local_disk0/.ephemeral_nfs/envs/pythonEnv-2ef19197-1dcb-44dd-b83e-3cafdc6d4cd1/lib/python3.9/site-packages (from sentence-transformers) (2.0.1)\r\n",
      "Requirement already satisfied: torchvision in /local_disk0/.ephemeral_nfs/envs/pythonEnv-2ef19197-1dcb-44dd-b83e-3cafdc6d4cd1/lib/python3.9/site-packages (from sentence-transformers) (0.15.2)\r\n",
      "Requirement already satisfied: numpy in /local_disk0/.ephemeral_nfs/envs/pythonEnv-2ef19197-1dcb-44dd-b83e-3cafdc6d4cd1/lib/python3.9/site-packages (from sentence-transformers) (1.22.4)\r\n",
      "Requirement already satisfied: scikit-learn in /databricks/python3/lib/python3.9/site-packages (from sentence-transformers) (0.24.2)\r\n",
      "Requirement already satisfied: scipy in /databricks/python3/lib/python3.9/site-packages (from sentence-transformers) (1.7.1)\r\n",
      "Requirement already satisfied: nltk in /local_disk0/.ephemeral_nfs/envs/pythonEnv-2ef19197-1dcb-44dd-b83e-3cafdc6d4cd1/lib/python3.9/site-packages (from sentence-transformers) (3.8.1)\r\n",
      "Requirement already satisfied: sentencepiece in /local_disk0/.ephemeral_nfs/envs/pythonEnv-2ef19197-1dcb-44dd-b83e-3cafdc6d4cd1/lib/python3.9/site-packages (from sentence-transformers) (0.1.99)\r\n",
      "Requirement already satisfied: huggingface-hub>=0.4.0 in /local_disk0/.ephemeral_nfs/envs/pythonEnv-2ef19197-1dcb-44dd-b83e-3cafdc6d4cd1/lib/python3.9/site-packages (from sentence-transformers) (0.17.3)\r\n",
      "Requirement already satisfied: filelock in /usr/local/lib/python3.9/dist-packages (from huggingface-hub>=0.4.0->sentence-transformers) (3.8.0)\r\n",
      "Requirement already satisfied: fsspec in /local_disk0/.ephemeral_nfs/envs/pythonEnv-2ef19197-1dcb-44dd-b83e-3cafdc6d4cd1/lib/python3.9/site-packages (from huggingface-hub>=0.4.0->sentence-transformers) (2023.9.2)\r\n",
      "Requirement already satisfied: requests in /local_disk0/.ephemeral_nfs/envs/pythonEnv-2ef19197-1dcb-44dd-b83e-3cafdc6d4cd1/lib/python3.9/site-packages (from huggingface-hub>=0.4.0->sentence-transformers) (2.31.0)\r\n",
      "Requirement already satisfied: pyyaml>=5.1 in /local_disk0/.ephemeral_nfs/envs/pythonEnv-2ef19197-1dcb-44dd-b83e-3cafdc6d4cd1/lib/python3.9/site-packages (from huggingface-hub>=0.4.0->sentence-transformers) (6.0.1)\r\n",
      "Requirement already satisfied: typing-extensions>=3.7.4.3 in /local_disk0/.ephemeral_nfs/envs/pythonEnv-2ef19197-1dcb-44dd-b83e-3cafdc6d4cd1/lib/python3.9/site-packages (from huggingface-hub>=0.4.0->sentence-transformers) (4.8.0)\r\n",
      "Requirement already satisfied: packaging>=20.9 in /local_disk0/.ephemeral_nfs/envs/pythonEnv-2ef19197-1dcb-44dd-b83e-3cafdc6d4cd1/lib/python3.9/site-packages (from huggingface-hub>=0.4.0->sentence-transformers) (23.2)\r\n",
      "Requirement already satisfied: sympy in /local_disk0/.ephemeral_nfs/envs/pythonEnv-2ef19197-1dcb-44dd-b83e-3cafdc6d4cd1/lib/python3.9/site-packages (from torch>=1.6.0->sentence-transformers) (1.12)\r\n",
      "Requirement already satisfied: networkx in /local_disk0/.ephemeral_nfs/envs/pythonEnv-2ef19197-1dcb-44dd-b83e-3cafdc6d4cd1/lib/python3.9/site-packages (from torch>=1.6.0->sentence-transformers) (3.1)\r\n",
      "Requirement already satisfied: jinja2 in /databricks/python3/lib/python3.9/site-packages (from torch>=1.6.0->sentence-transformers) (2.11.3)\r\n",
      "Requirement already satisfied: nvidia-cuda-nvrtc-cu11==11.7.99 in /local_disk0/.ephemeral_nfs/envs/pythonEnv-2ef19197-1dcb-44dd-b83e-3cafdc6d4cd1/lib/python3.9/site-packages (from torch>=1.6.0->sentence-transformers) (11.7.99)\r\n",
      "Requirement already satisfied: nvidia-cuda-runtime-cu11==11.7.99 in /local_disk0/.ephemeral_nfs/envs/pythonEnv-2ef19197-1dcb-44dd-b83e-3cafdc6d4cd1/lib/python3.9/site-packages (from torch>=1.6.0->sentence-transformers) (11.7.99)\r\n",
      "Requirement already satisfied: nvidia-cuda-cupti-cu11==11.7.101 in /local_disk0/.ephemeral_nfs/envs/pythonEnv-2ef19197-1dcb-44dd-b83e-3cafdc6d4cd1/lib/python3.9/site-packages (from torch>=1.6.0->sentence-transformers) (11.7.101)\r\n",
      "Requirement already satisfied: nvidia-cudnn-cu11==8.5.0.96 in /local_disk0/.ephemeral_nfs/envs/pythonEnv-2ef19197-1dcb-44dd-b83e-3cafdc6d4cd1/lib/python3.9/site-packages (from torch>=1.6.0->sentence-transformers) (8.5.0.96)\r\n",
      "Requirement already satisfied: nvidia-cublas-cu11==11.10.3.66 in /local_disk0/.ephemeral_nfs/envs/pythonEnv-2ef19197-1dcb-44dd-b83e-3cafdc6d4cd1/lib/python3.9/site-packages (from torch>=1.6.0->sentence-transformers) (11.10.3.66)\r\n",
      "Requirement already satisfied: nvidia-cufft-cu11==10.9.0.58 in /local_disk0/.ephemeral_nfs/envs/pythonEnv-2ef19197-1dcb-44dd-b83e-3cafdc6d4cd1/lib/python3.9/site-packages (from torch>=1.6.0->sentence-transformers) (10.9.0.58)\r\n",
      "Requirement already satisfied: nvidia-curand-cu11==10.2.10.91 in /local_disk0/.ephemeral_nfs/envs/pythonEnv-2ef19197-1dcb-44dd-b83e-3cafdc6d4cd1/lib/python3.9/site-packages (from torch>=1.6.0->sentence-transformers) (10.2.10.91)\r\n",
      "Requirement already satisfied: nvidia-cusolver-cu11==11.4.0.1 in /local_disk0/.ephemeral_nfs/envs/pythonEnv-2ef19197-1dcb-44dd-b83e-3cafdc6d4cd1/lib/python3.9/site-packages (from torch>=1.6.0->sentence-transformers) (11.4.0.1)\r\n",
      "Requirement already satisfied: nvidia-cusparse-cu11==11.7.4.91 in /local_disk0/.ephemeral_nfs/envs/pythonEnv-2ef19197-1dcb-44dd-b83e-3cafdc6d4cd1/lib/python3.9/site-packages (from torch>=1.6.0->sentence-transformers) (11.7.4.91)\r\n",
      "Requirement already satisfied: nvidia-nccl-cu11==2.14.3 in /local_disk0/.ephemeral_nfs/envs/pythonEnv-2ef19197-1dcb-44dd-b83e-3cafdc6d4cd1/lib/python3.9/site-packages (from torch>=1.6.0->sentence-transformers) (2.14.3)\r\n",
      "Requirement already satisfied: nvidia-nvtx-cu11==11.7.91 in /local_disk0/.ephemeral_nfs/envs/pythonEnv-2ef19197-1dcb-44dd-b83e-3cafdc6d4cd1/lib/python3.9/site-packages (from torch>=1.6.0->sentence-transformers) (11.7.91)\r\n",
      "Requirement already satisfied: triton==2.0.0 in /local_disk0/.ephemeral_nfs/envs/pythonEnv-2ef19197-1dcb-44dd-b83e-3cafdc6d4cd1/lib/python3.9/site-packages (from torch>=1.6.0->sentence-transformers) (2.0.0)\r\n",
      "Requirement already satisfied: setuptools in /usr/local/lib/python3.9/dist-packages (from nvidia-cublas-cu11==11.10.3.66->torch>=1.6.0->sentence-transformers) (58.0.4)\r\n",
      "Requirement already satisfied: wheel in /databricks/python3/lib/python3.9/site-packages (from nvidia-cublas-cu11==11.10.3.66->torch>=1.6.0->sentence-transformers) (0.37.0)\r\n",
      "Requirement already satisfied: cmake in /local_disk0/.ephemeral_nfs/envs/pythonEnv-2ef19197-1dcb-44dd-b83e-3cafdc6d4cd1/lib/python3.9/site-packages (from triton==2.0.0->torch>=1.6.0->sentence-transformers) (3.27.6)\r\n",
      "Requirement already satisfied: lit in /local_disk0/.ephemeral_nfs/envs/pythonEnv-2ef19197-1dcb-44dd-b83e-3cafdc6d4cd1/lib/python3.9/site-packages (from triton==2.0.0->torch>=1.6.0->sentence-transformers) (17.0.1)\r\n",
      "Requirement already satisfied: regex!=2019.12.17 in /local_disk0/.ephemeral_nfs/envs/pythonEnv-2ef19197-1dcb-44dd-b83e-3cafdc6d4cd1/lib/python3.9/site-packages (from transformers<5.0.0,>=4.6.0->sentence-transformers) (2023.8.8)\r\n",
      "Requirement already satisfied: tokenizers!=0.11.3,<0.14,>=0.11.1 in /local_disk0/.ephemeral_nfs/envs/pythonEnv-2ef19197-1dcb-44dd-b83e-3cafdc6d4cd1/lib/python3.9/site-packages (from transformers<5.0.0,>=4.6.0->sentence-transformers) (0.13.3)\r\n",
      "Requirement already satisfied: safetensors>=0.3.1 in /local_disk0/.ephemeral_nfs/envs/pythonEnv-2ef19197-1dcb-44dd-b83e-3cafdc6d4cd1/lib/python3.9/site-packages (from transformers<5.0.0,>=4.6.0->sentence-transformers) (0.3.3)\r\n",
      "Requirement already satisfied: click in /databricks/python3/lib/python3.9/site-packages (from nltk->sentence-transformers) (8.0.3)\r\n",
      "Requirement already satisfied: joblib in /databricks/python3/lib/python3.9/site-packages (from nltk->sentence-transformers) (1.0.1)\r\n",
      "Requirement already satisfied: threadpoolctl>=2.0.0 in /databricks/python3/lib/python3.9/site-packages (from scikit-learn->sentence-transformers) (2.2.0)\r\n",
      "Requirement already satisfied: pillow!=8.3.*,>=5.3.0 in /databricks/python3/lib/python3.9/site-packages (from torchvision->sentence-transformers) (8.4.0)\r\n",
      "Requirement already satisfied: MarkupSafe>=0.23 in /databricks/python3/lib/python3.9/site-packages (from jinja2->torch>=1.6.0->sentence-transformers) (2.0.1)\r\n",
      "Requirement already satisfied: charset-normalizer<4,>=2 in /local_disk0/.ephemeral_nfs/envs/pythonEnv-2ef19197-1dcb-44dd-b83e-3cafdc6d4cd1/lib/python3.9/site-packages (from requests->huggingface-hub>=0.4.0->sentence-transformers) (3.3.0)\r\n",
      "Requirement already satisfied: idna<4,>=2.5 in /local_disk0/.ephemeral_nfs/envs/pythonEnv-2ef19197-1dcb-44dd-b83e-3cafdc6d4cd1/lib/python3.9/site-packages (from requests->huggingface-hub>=0.4.0->sentence-transformers) (3.4)\r\n",
      "Requirement already satisfied: urllib3<3,>=1.21.1 in /local_disk0/.ephemeral_nfs/envs/pythonEnv-2ef19197-1dcb-44dd-b83e-3cafdc6d4cd1/lib/python3.9/site-packages (from requests->huggingface-hub>=0.4.0->sentence-transformers) (2.0.6)\r\n",
      "Requirement already satisfied: certifi>=2017.4.17 in /local_disk0/.ephemeral_nfs/envs/pythonEnv-2ef19197-1dcb-44dd-b83e-3cafdc6d4cd1/lib/python3.9/site-packages (from requests->huggingface-hub>=0.4.0->sentence-transformers) (2023.7.22)\r\n",
      "Requirement already satisfied: mpmath>=0.19 in /local_disk0/.ephemeral_nfs/envs/pythonEnv-2ef19197-1dcb-44dd-b83e-3cafdc6d4cd1/lib/python3.9/site-packages (from sympy->torch>=1.6.0->sentence-transformers) (1.3.0)\r\n",
      "Requirement already satisfied: typing-extensions in /local_disk0/.ephemeral_nfs/envs/pythonEnv-2ef19197-1dcb-44dd-b83e-3cafdc6d4cd1/lib/python3.9/site-packages (4.8.0)\r\n",
      "Requirement already satisfied: pip in /local_disk0/.ephemeral_nfs/envs/pythonEnv-2ef19197-1dcb-44dd-b83e-3cafdc6d4cd1/lib/python3.9/site-packages (23.2.1)\r\n"
     ]
    }
   ],
   "source": [
    "!pip install faiss-cpu==1.7.4 tiktoken openai\n",
    "!pip install transformers InstructorEmbedding\n",
    "!pip install sentence-transformers\n",
    "!pip install typing-extensions\n",
    "!python -m pip install --upgrade pip"
   ]
  },
  {
   "cell_type": "code",
   "execution_count": 0,
   "metadata": {
    "application/vnd.databricks.v1+cell": {
     "cellMetadata": {
      "byteLimit": 2048000,
      "rowLimit": 10000
     },
     "inputWidgets": {},
     "nuid": "08ab754b-27d5-49c3-b2fa-75d24902ae75",
     "showTitle": false,
     "title": ""
    }
   },
   "outputs": [
    {
     "name": "stdout",
     "output_type": "stream",
     "text": [
      "\u001b[43mNote: you may need to restart the kernel using dbutils.library.restartPython() to use updated packages.\u001b[0m\n",
      "Collecting langchain==0.0.251\n",
      "  Downloading langchain-0.0.251-py3-none-any.whl (1.4 MB)\n",
      "     ━━━━━━━━━━━━━━━━━━━━━━━━━━━━━━━━━━━━━━━━ 1.4/1.4 MB 15.5 MB/s eta 0:00:00\n",
      "Collecting async-timeout<5.0.0,>=4.0.0\n",
      "  Downloading async_timeout-4.0.3-py3-none-any.whl (5.7 kB)\n",
      "Collecting numpy<2,>=1\n",
      "  Downloading numpy-1.26.4-cp310-cp310-manylinux_2_17_x86_64.manylinux2014_x86_64.whl (18.2 MB)\n",
      "     ━━━━━━━━━━━━━━━━━━━━━━━━━━━━━━━━━━━━━━━━ 18.2/18.2 MB 48.1 MB/s eta 0:00:00\n",
      "Collecting SQLAlchemy<3,>=1.4\n",
      "  Downloading SQLAlchemy-2.0.27-cp310-cp310-manylinux_2_17_x86_64.manylinux2014_x86_64.whl (3.1 MB)\n",
      "     ━━━━━━━━━━━━━━━━━━━━━━━━━━━━━━━━━━━━━━━━ 3.1/3.1 MB 92.0 MB/s eta 0:00:00\n",
      "Collecting pydantic<2,>=1\n",
      "  Downloading pydantic-1.10.14-cp310-cp310-manylinux_2_17_x86_64.manylinux2014_x86_64.whl (3.1 MB)\n",
      "     ━━━━━━━━━━━━━━━━━━━━━━━━━━━━━━━━━━━━━━━━ 3.1/3.1 MB 94.6 MB/s eta 0:00:00\n",
      "Collecting requests<3,>=2\n",
      "  Downloading requests-2.31.0-py3-none-any.whl (62 kB)\n",
      "     ━━━━━━━━━━━━━━━━━━━━━━━━━━━━━━━━━━━━━━━━ 62.6/62.6 kB 9.3 MB/s eta 0:00:00\n",
      "Collecting openapi-schema-pydantic<2.0,>=1.2\n",
      "  Downloading openapi_schema_pydantic-1.2.4-py3-none-any.whl (90 kB)\n",
      "     ━━━━━━━━━━━━━━━━━━━━━━━━━━━━━━━━━━━━━━━━ 90.0/90.0 kB 14.3 MB/s eta 0:00:00\n",
      "Collecting aiohttp<4.0.0,>=3.8.3\n",
      "  Downloading aiohttp-3.9.3-cp310-cp310-manylinux_2_17_x86_64.manylinux2014_x86_64.whl (1.2 MB)\n",
      "     ━━━━━━━━━━━━━━━━━━━━━━━━━━━━━━━━━━━━━━━━ 1.2/1.2 MB 59.7 MB/s eta 0:00:00\n",
      "Collecting tenacity<9.0.0,>=8.1.0\n",
      "  Downloading tenacity-8.2.3-py3-none-any.whl (24 kB)\n",
      "Collecting PyYAML>=5.4.1\n",
      "  Downloading PyYAML-6.0.1-cp310-cp310-manylinux_2_17_x86_64.manylinux2014_x86_64.whl (705 kB)\n",
      "     ━━━━━━━━━━━━━━━━━━━━━━━━━━━━━━━━━━━━━━ 705.5/705.5 kB 61.1 MB/s eta 0:00:00\n",
      "Collecting langsmith<0.1.0,>=0.0.11\n",
      "  Downloading langsmith-0.0.92-py3-none-any.whl (56 kB)\n",
      "     ━━━━━━━━━━━━━━━━━━━━━━━━━━━━━━━━━━━━━━━━ 56.5/56.5 kB 10.5 MB/s eta 0:00:00\n",
      "Collecting dataclasses-json<0.6.0,>=0.5.7\n",
      "  Downloading dataclasses_json-0.5.14-py3-none-any.whl (26 kB)\n",
      "Collecting numexpr<3.0.0,>=2.8.4\n",
      "  Downloading numexpr-2.9.0-cp310-cp310-manylinux_2_17_x86_64.manylinux2014_x86_64.whl (375 kB)\n",
      "     ━━━━━━━━━━━━━━━━━━━━━━━━━━━━━━━━━━━━━━ 375.2/375.2 kB 50.5 MB/s eta 0:00:00\n",
      "Collecting yarl<2.0,>=1.0\n",
      "  Downloading yarl-1.9.4-cp310-cp310-manylinux_2_17_x86_64.manylinux2014_x86_64.whl (301 kB)\n",
      "     ━━━━━━━━━━━━━━━━━━━━━━━━━━━━━━━━━━━━━━ 301.6/301.6 kB 39.9 MB/s eta 0:00:00\n",
      "Collecting aiosignal>=1.1.2\n",
      "  Downloading aiosignal-1.3.1-py3-none-any.whl (7.6 kB)\n",
      "Collecting frozenlist>=1.1.1\n",
      "  Downloading frozenlist-1.4.1-cp310-cp310-manylinux_2_5_x86_64.manylinux1_x86_64.manylinux_2_17_x86_64.manylinux2014_x86_64.whl (239 kB)\n",
      "     ━━━━━━━━━━━━━━━━━━━━━━━━━━━━━━━━━━━━━━ 239.5/239.5 kB 35.9 MB/s eta 0:00:00\n",
      "Collecting multidict<7.0,>=4.5\n",
      "  Downloading multidict-6.0.5-cp310-cp310-manylinux_2_17_x86_64.manylinux2014_x86_64.whl (124 kB)\n",
      "     ━━━━━━━━━━━━━━━━━━━━━━━━━━━━━━━━━━━━━━ 124.3/124.3 kB 22.3 MB/s eta 0:00:00\n",
      "Collecting attrs>=17.3.0\n",
      "  Downloading attrs-23.2.0-py3-none-any.whl (60 kB)\n",
      "     ━━━━━━━━━━━━━━━━━━━━━━━━━━━━━━━━━━━━━━━━ 60.8/60.8 kB 9.4 MB/s eta 0:00:00\n",
      "Collecting marshmallow<4.0.0,>=3.18.0\n",
      "  Downloading marshmallow-3.20.2-py3-none-any.whl (49 kB)\n",
      "     ━━━━━━━━━━━━━━━━━━━━━━━━━━━━━━━━━━━━━━━━ 49.4/49.4 kB 9.7 MB/s eta 0:00:00\n",
      "Collecting typing-inspect<1,>=0.4.0\n",
      "  Downloading typing_inspect-0.9.0-py3-none-any.whl (8.8 kB)\n",
      "Collecting typing-extensions>=4.2.0\n",
      "  Downloading typing_extensions-4.9.0-py3-none-any.whl (32 kB)\n",
      "Collecting charset-normalizer<4,>=2\n",
      "  Downloading charset_normalizer-3.3.2-cp310-cp310-manylinux_2_17_x86_64.manylinux2014_x86_64.whl (142 kB)\n",
      "     ━━━━━━━━━━━━━━━━━━━━━━━━━━━━━━━━━━━━━━ 142.1/142.1 kB 23.6 MB/s eta 0:00:00\n",
      "Collecting urllib3<3,>=1.21.1\n",
      "  Downloading urllib3-2.2.1-py3-none-any.whl (121 kB)\n",
      "     ━━━━━━━━━━━━━━━━━━━━━━━━━━━━━━━━━━━━━━ 121.1/121.1 kB 19.6 MB/s eta 0:00:00\n",
      "Collecting certifi>=2017.4.17\n",
      "  Downloading certifi-2024.2.2-py3-none-any.whl (163 kB)\n",
      "     ━━━━━━━━━━━━━━━━━━━━━━━━━━━━━━━━━━━━━━ 163.8/163.8 kB 24.0 MB/s eta 0:00:00\n",
      "Collecting idna<4,>=2.5\n",
      "  Downloading idna-3.6-py3-none-any.whl (61 kB)\n",
      "     ━━━━━━━━━━━━━━━━━━━━━━━━━━━━━━━━━━━━━━━━ 61.6/61.6 kB 12.7 MB/s eta 0:00:00\n",
      "Collecting greenlet!=0.4.17\n",
      "  Downloading greenlet-3.0.3-cp310-cp310-manylinux_2_24_x86_64.manylinux_2_28_x86_64.whl (616 kB)\n",
      "     ━━━━━━━━━━━━━━━━━━━━━━━━━━━━━━━━━━━━━━ 616.0/616.0 kB 58.7 MB/s eta 0:00:00\n",
      "Collecting packaging>=17.0\n",
      "  Using cached packaging-23.2-py3-none-any.whl (53 kB)\n",
      "Collecting mypy-extensions>=0.3.0\n",
      "  Downloading mypy_extensions-1.0.0-py3-none-any.whl (4.7 kB)\n",
      "Installing collected packages: urllib3, typing-extensions, tenacity, PyYAML, packaging, numpy, mypy-extensions, multidict, idna, greenlet, frozenlist, charset-normalizer, certifi, attrs, async-timeout, yarl, typing-inspect, SQLAlchemy, requests, pydantic, numexpr, marshmallow, aiosignal, openapi-schema-pydantic, langsmith, dataclasses-json, aiohttp, langchain\n",
      "  Attempting uninstall: urllib3\n",
      "    Found existing installation: urllib3 1.26.11\n",
      "    Not uninstalling urllib3 at /databricks/python3/lib/python3.10/site-packages, outside environment /local_disk0/.ephemeral_nfs/envs/pythonEnv-8b623131-fa7f-4ef3-8eca-ad7cdda7c063\n",
      "    Can't uninstall 'urllib3'. No files were found to uninstall.\n",
      "  Attempting uninstall: typing-extensions\n",
      "    Found existing installation: typing_extensions 4.9.0\n",
      "    Not uninstalling typing-extensions at /local_disk0/.ephemeral_nfs/cluster_libraries/python/lib/python3.10/site-packages, outside environment /local_disk0/.ephemeral_nfs/envs/pythonEnv-8b623131-fa7f-4ef3-8eca-ad7cdda7c063\n",
      "    Can't uninstall 'typing_extensions'. No files were found to uninstall.\n",
      "  Attempting uninstall: tenacity\n",
      "    Found existing installation: tenacity 8.1.0\n",
      "    Not uninstalling tenacity at /databricks/python3/lib/python3.10/site-packages, outside environment /local_disk0/.ephemeral_nfs/envs/pythonEnv-8b623131-fa7f-4ef3-8eca-ad7cdda7c063\n",
      "    Can't uninstall 'tenacity'. No files were found to uninstall.\n",
      "  Attempting uninstall: PyYAML\n",
      "    Found existing installation: PyYAML 6.0.1\n",
      "    Not uninstalling pyyaml at /local_disk0/.ephemeral_nfs/cluster_libraries/python/lib/python3.10/site-packages, outside environment /local_disk0/.ephemeral_nfs/envs/pythonEnv-8b623131-fa7f-4ef3-8eca-ad7cdda7c063\n",
      "    Can't uninstall 'PyYAML'. No files were found to uninstall.\n",
      "  Attempting uninstall: packaging\n",
      "    Found existing installation: packaging 21.3\n",
      "    Not uninstalling packaging at /databricks/python3/lib/python3.10/site-packages, outside environment /local_disk0/.ephemeral_nfs/envs/pythonEnv-8b623131-fa7f-4ef3-8eca-ad7cdda7c063\n",
      "    Can't uninstall 'packaging'. No files were found to uninstall.\n",
      "  Attempting uninstall: numpy\n",
      "    Found existing installation: numpy 1.21.5\n",
      "    Not uninstalling numpy at /databricks/python3/lib/python3.10/site-packages, outside environment /local_disk0/.ephemeral_nfs/envs/pythonEnv-8b623131-fa7f-4ef3-8eca-ad7cdda7c063\n",
      "    Can't uninstall 'numpy'. No files were found to uninstall.\n",
      "  Attempting uninstall: mypy-extensions\n",
      "    Found existing installation: mypy-extensions 0.4.3\n",
      "    Not uninstalling mypy-extensions at /databricks/python3/lib/python3.10/site-packages, outside environment /local_disk0/.ephemeral_nfs/envs/pythonEnv-8b623131-fa7f-4ef3-8eca-ad7cdda7c063\n",
      "    Can't uninstall 'mypy-extensions'. No files were found to uninstall.\n",
      "  Attempting uninstall: idna\n",
      "    Found existing installation: idna 3.3\n",
      "    Not uninstalling idna at /databricks/python3/lib/python3.10/site-packages, outside environment /local_disk0/.ephemeral_nfs/envs/pythonEnv-8b623131-fa7f-4ef3-8eca-ad7cdda7c063\n",
      "    Can't uninstall 'idna'. No files were found to uninstall.\n",
      "  Attempting uninstall: charset-normalizer\n",
      "    Found existing installation: charset-normalizer 2.0.4\n",
      "    Not uninstalling charset-normalizer at /databricks/python3/lib/python3.10/site-packages, outside environment /local_disk0/.ephemeral_nfs/envs/pythonEnv-8b623131-fa7f-4ef3-8eca-ad7cdda7c063\n",
      "    Can't uninstall 'charset-normalizer'. No files were found to uninstall.\n",
      "  Attempting uninstall: certifi\n",
      "    Found existing installation: certifi 2022.9.14\n",
      "    Not uninstalling certifi at /databricks/python3/lib/python3.10/site-packages, outside environment /local_disk0/.ephemeral_nfs/envs/pythonEnv-8b623131-fa7f-4ef3-8eca-ad7cdda7c063\n",
      "    Can't uninstall 'certifi'. No files were found to uninstall.\n",
      "  Attempting uninstall: attrs\n",
      "    Found existing installation: attrs 21.4.0\n",
      "    Not uninstalling attrs at /databricks/python3/lib/python3.10/site-packages, outside environment /local_disk0/.ephemeral_nfs/envs/pythonEnv-8b623131-fa7f-4ef3-8eca-ad7cdda7c063\n",
      "    Can't uninstall 'attrs'. No files were found to uninstall.\n",
      "  Attempting uninstall: requests\n",
      "    Found existing installation: requests 2.28.1\n",
      "    Not uninstalling requests at /databricks/python3/lib/python3.10/site-packages, outside environment /local_disk0/.ephemeral_nfs/envs/pythonEnv-8b623131-fa7f-4ef3-8eca-ad7cdda7c063\n",
      "    Can't uninstall 'requests'. No files were found to uninstall.\n",
      "  Attempting uninstall: pydantic\n",
      "    Found existing installation: pydantic 1.10.6\n",
      "    Not uninstalling pydantic at /databricks/python3/lib/python3.10/site-packages, outside environment /local_disk0/.ephemeral_nfs/envs/pythonEnv-8b623131-fa7f-4ef3-8eca-ad7cdda7c063\n",
      "    Can't uninstall 'pydantic'. No files were found to uninstall.\n",
      "ERROR: pip's dependency resolver does not currently take into account all the packages that are installed. This behaviour is the source of the following dependency conflicts.\n",
      "scipy 1.9.1 requires numpy<1.25.0,>=1.18.5, but you have numpy 1.26.4 which is incompatible.\n",
      "databricks-sdk 0.1.6 requires requests<2.29.0,>=2.28.1, but you have requests 2.31.0 which is incompatible.\n",
      "botocore 1.27.28 requires urllib3<1.27,>=1.25.4, but you have urllib3 2.2.1 which is incompatible.\n",
      "Successfully installed PyYAML-6.0.1 SQLAlchemy-2.0.27 aiohttp-3.9.3 aiosignal-1.3.1 async-timeout-4.0.3 attrs-23.2.0 certifi-2024.2.2 charset-normalizer-3.3.2 dataclasses-json-0.5.14 frozenlist-1.4.1 greenlet-3.0.3 idna-3.6 langchain-0.0.251 langsmith-0.0.92 marshmallow-3.20.2 multidict-6.0.5 mypy-extensions-1.0.0 numexpr-2.9.0 numpy-1.26.4 openapi-schema-pydantic-1.2.4 packaging-23.2 pydantic-1.10.14 requests-2.31.0 tenacity-8.2.3 typing-extensions-4.9.0 typing-inspect-0.9.0 urllib3-2.2.1 yarl-1.9.4\n",
      "\u001b[43mNote: you may need to restart the kernel using dbutils.library.restartPython() to use updated packages.\u001b[0m\n"
     ]
    }
   ],
   "source": [
    "%pip install --force-reinstall langchain==0.0.251"
   ]
  },
  {
   "cell_type": "code",
   "execution_count": 0,
   "metadata": {
    "application/vnd.databricks.v1+cell": {
     "cellMetadata": {
      "byteLimit": 2048000,
      "rowLimit": 10000
     },
     "inputWidgets": {},
     "nuid": "25ff8b1e-4a00-4e5e-83b0-d80f8410659e",
     "showTitle": false,
     "title": ""
    }
   },
   "outputs": [],
   "source": [
    "dbutils.library.restartPython()"
   ]
  },
  {
   "cell_type": "markdown",
   "metadata": {
    "application/vnd.databricks.v1+cell": {
     "cellMetadata": {},
     "inputWidgets": {},
     "nuid": "47f7cd2d-fbaf-4ed8-b6b6-387d192484e3",
     "showTitle": false,
     "title": ""
    }
   },
   "source": [
    "#Define imports, global variables and functions"
   ]
  },
  {
   "cell_type": "code",
   "execution_count": 5,
   "metadata": {
    "application/vnd.databricks.v1+cell": {
     "cellMetadata": {
      "byteLimit": 2048000,
      "rowLimit": 10000
     },
     "inputWidgets": {},
     "nuid": "20ed65b8-083b-4ff3-8b6d-8a91f0ea9973",
     "showTitle": false,
     "title": ""
    }
   },
   "outputs": [
    {
     "ename": "ModuleNotFoundError",
     "evalue": "No module named 'tiktoken'",
     "output_type": "error",
     "traceback": [
      "\u001b[0;31m---------------------------------------------------------------------------\u001b[0m",
      "\u001b[0;31mModuleNotFoundError\u001b[0m                       Traceback (most recent call last)",
      "\u001b[0;32m/var/folders/g1/wqd2jbyj7v5cdjc49p0f_1200000gq/T/ipykernel_54235/745077409.py\u001b[0m in \u001b[0;36m<module>\u001b[0;34m\u001b[0m\n\u001b[1;32m      5\u001b[0m \u001b[0;32mimport\u001b[0m \u001b[0mnumpy\u001b[0m \u001b[0;32mas\u001b[0m \u001b[0mnp\u001b[0m\u001b[0;34m\u001b[0m\u001b[0;34m\u001b[0m\u001b[0m\n\u001b[1;32m      6\u001b[0m \u001b[0;32mimport\u001b[0m \u001b[0mpandas\u001b[0m \u001b[0;32mas\u001b[0m \u001b[0mpd\u001b[0m\u001b[0;34m\u001b[0m\u001b[0;34m\u001b[0m\u001b[0m\n\u001b[0;32m----> 7\u001b[0;31m \u001b[0;32mimport\u001b[0m \u001b[0mtiktoken\u001b[0m\u001b[0;34m\u001b[0m\u001b[0;34m\u001b[0m\u001b[0m\n\u001b[0m\u001b[1;32m      8\u001b[0m \u001b[0;32mfrom\u001b[0m \u001b[0mopenai\u001b[0m\u001b[0;34m.\u001b[0m\u001b[0membeddings_utils\u001b[0m \u001b[0;32mimport\u001b[0m \u001b[0mget_embedding\u001b[0m\u001b[0;34m\u001b[0m\u001b[0;34m\u001b[0m\u001b[0m\n\u001b[1;32m      9\u001b[0m \u001b[0;32mimport\u001b[0m \u001b[0mos\u001b[0m\u001b[0;34m\u001b[0m\u001b[0;34m\u001b[0m\u001b[0m\n",
      "\u001b[0;31mModuleNotFoundError\u001b[0m: No module named 'tiktoken'"
     ]
    }
   ],
   "source": [
    "from pyspark.sql.functions import col,lit\n",
    "from pyspark.sql.types import *\n",
    "import pandas as pd\n",
    "import pyspark.sql.functions as F\n",
    "import numpy as np\n",
    "import pandas as pd\n",
    "import tiktoken\n",
    "from openai.embeddings_utils import get_embedding\n",
    "import os\n",
    "import openai\n",
    "import logging as logger\n",
    "from langchain import FAISS\n",
    "from langchain.text_splitter import RecursiveCharacterTextSplitter\n",
    "from langchain.embeddings import HuggingFaceInstructEmbeddings"
   ]
  },
  {
   "cell_type": "code",
   "execution_count": 0,
   "metadata": {
    "application/vnd.databricks.v1+cell": {
     "cellMetadata": {
      "byteLimit": 2048000,
      "rowLimit": 10000
     },
     "inputWidgets": {},
     "nuid": "9528c248-d00d-451b-abc2-8afdf25ca1a4",
     "showTitle": false,
     "title": ""
    }
   },
   "outputs": [],
   "source": [
    "if 'config' not in locals():\n",
    "  config = {}\n",
    "\n",
    "# Default Instructor Model\n",
    "config[\"vector_store_path\"] = \"/dbfs/tmp/ars_embeddings_1\"\n",
    "config[\"data_path\"] = \"s3://ds-databricks-playground/prarthana/ars/data_pq/\"\n",
    "config[\"search_kwargs\"] = {'k': 30, 'score_threshold': 0.9}\n",
    "config[\"embedding_model_name\"] = \"sentence-transformers/all-mpnet-base-v2\"\n",
    "config[\"embedding_model_kwargs\"] = {'device': 'cpu'}\n",
    "config[\"embedding_model_encode_kwargs\"] = {'normalize_embeddings': False}"
   ]
  },
  {
   "cell_type": "code",
   "execution_count": 0,
   "metadata": {
    "application/vnd.databricks.v1+cell": {
     "cellMetadata": {
      "byteLimit": 2048000,
      "rowLimit": 10000
     },
     "inputWidgets": {},
     "nuid": "50b5e37b-d4e5-4f75-9b6d-816001641a8f",
     "showTitle": false,
     "title": ""
    }
   },
   "outputs": [],
   "source": [
    "def get_combined(x, columns):\n",
    "  row_str = \"\"\n",
    "  for col_name in columns:\n",
    "      col_value = f\"x.{col_name}\"\n",
    "      if row_str == \"\":\n",
    "        row_str += f\"{col_name}: {eval(col_value)}\"\n",
    "      else:\n",
    "        row_str += f\"; {col_name}: {eval(col_value)}\"\n",
    "  return row_str\n",
    "\n",
    "def get_decombined(x):\n",
    "    return [i.split(\": \")[1].replace(\"None\", \"null\") for i in x.split(\"; \")]\n",
    "\n",
    "def get_column_names(x):\n",
    "    return [i.split(\": \")[0] for i in x.split(\"; \")]"
   ]
  },
  {
   "cell_type": "markdown",
   "metadata": {
    "application/vnd.databricks.v1+cell": {
     "cellMetadata": {},
     "inputWidgets": {},
     "nuid": "dd5ecd37-0bae-4111-827b-cf617b6e9c11",
     "showTitle": false,
     "title": ""
    }
   },
   "source": [
    "# Trying with langchain's embeddings - Private Dummy Data"
   ]
  },
  {
   "cell_type": "code",
   "execution_count": 0,
   "metadata": {
    "application/vnd.databricks.v1+cell": {
     "cellMetadata": {
      "byteLimit": 2048000,
      "rowLimit": 10000
     },
     "inputWidgets": {},
     "nuid": "d454107a-45ff-4ea3-a961-ca3554ddf3ea",
     "showTitle": false,
     "title": ""
    }
   },
   "outputs": [],
   "source": [
    "import pandas as pd\n",
    "import tiktoken\n",
    "from openai.embeddings_utils import get_embedding\n",
    "import os\n",
    "import openai\n",
    "os.environ[\"OPENAI_API_KEY\"] = \"sk-\"\n",
    "openai.apikey = os.getenv(\"OPENAI_API_KEY\")\n",
    "# embedding model parameters\n",
    "embedding_model = \"text-embedding-ada-002\"\n",
    "embedding_encoding = \"cl100k_base\"  # this the encoding for text-embedding-ada-002\n",
    "max_tokens = 5000  # the maximum for text-embedding-ada-002 is 8191"
   ]
  },
  {
   "cell_type": "code",
   "execution_count": 0,
   "metadata": {
    "application/vnd.databricks.v1+cell": {
     "cellMetadata": {
      "byteLimit": 2048000,
      "rowLimit": 10000
     },
     "inputWidgets": {},
     "nuid": "01c42bf5-c79f-42fa-beca-94457ca50adf",
     "showTitle": false,
     "title": ""
    }
   },
   "outputs": [],
   "source": [
    "prompt_template = \"\"\"\n",
    "You are an intelligent recommendation bot who analyses and recommends users simillir to given users. Answer best of your knowledge.\n",
    "Following is the user information about his job:\n",
    "\n",
    "Context:\n",
    "{context}\n",
    "\n",
    "Create table for 20 users similar to below data(excluding below data), take a while to think:\n",
    "{users}\n",
    "\"\"\""
   ]
  },
  {
   "cell_type": "code",
   "execution_count": 0,
   "metadata": {
    "application/vnd.databricks.v1+cell": {
     "cellMetadata": {
      "byteLimit": 2048000,
      "rowLimit": 10000
     },
     "inputWidgets": {},
     "nuid": "294b631f-e30d-4a33-9359-cf212c94459c",
     "showTitle": false,
     "title": ""
    }
   },
   "outputs": [
    {
     "data": {
      "text/html": [
       "<style scoped>\n",
       "  .table-result-container {\n",
       "    max-height: 300px;\n",
       "    overflow: auto;\n",
       "  }\n",
       "  table, th, td {\n",
       "    border: 1px solid black;\n",
       "    border-collapse: collapse;\n",
       "  }\n",
       "  th, td {\n",
       "    padding: 5px;\n",
       "  }\n",
       "  th {\n",
       "    text-align: left;\n",
       "  }\n",
       "</style><div class='table-result-container'><table class='table-result'><thead style='background-color: white'><tr><th>id</th><th>apple_height</th><th>apple_weight</th><th>apple_tree_height_meter</th><th>apple_tree_age_years</th><th>apple_type</th></tr></thead><tbody><tr><td>1</td><td>5.1</td><td>3.5</td><td>1.4</td><td>0.2</td><td>apple_ps</td></tr><tr><td>2</td><td>4.9</td><td>3.0</td><td>1.4</td><td>0.2</td><td>apple_ps</td></tr><tr><td>3</td><td>4.7</td><td>3.2</td><td>1.3</td><td>0.2</td><td>apple_ps</td></tr><tr><td>4</td><td>4.6</td><td>3.1</td><td>1.5</td><td>0.2</td><td>apple_ps</td></tr><tr><td>5</td><td>5.0</td><td>3.6</td><td>1.4</td><td>0.2</td><td>apple_ps</td></tr><tr><td>6</td><td>5.4</td><td>3.9</td><td>1.7</td><td>0.4</td><td>apple_ps</td></tr><tr><td>7</td><td>4.6</td><td>3.4</td><td>1.4</td><td>0.3</td><td>apple_ps</td></tr><tr><td>8</td><td>5.0</td><td>3.4</td><td>1.5</td><td>0.2</td><td>apple_ps</td></tr><tr><td>9</td><td>4.4</td><td>2.9</td><td>1.4</td><td>0.2</td><td>apple_ps</td></tr><tr><td>10</td><td>4.9</td><td>3.1</td><td>1.5</td><td>0.1</td><td>apple_ps</td></tr><tr><td>11</td><td>5.4</td><td>3.7</td><td>1.5</td><td>0.2</td><td>apple_ps</td></tr><tr><td>12</td><td>4.8</td><td>3.4</td><td>1.6</td><td>0.2</td><td>apple_ps</td></tr><tr><td>13</td><td>4.8</td><td>3.0</td><td>1.4</td><td>0.1</td><td>apple_ps</td></tr><tr><td>14</td><td>4.3</td><td>3.0</td><td>1.1</td><td>0.1</td><td>apple_ps</td></tr><tr><td>15</td><td>5.8</td><td>4.0</td><td>1.2</td><td>0.2</td><td>apple_ps</td></tr><tr><td>16</td><td>5.7</td><td>4.4</td><td>1.5</td><td>0.4</td><td>apple_ps</td></tr><tr><td>17</td><td>5.4</td><td>3.9</td><td>1.3</td><td>0.4</td><td>apple_ps</td></tr><tr><td>18</td><td>5.1</td><td>3.5</td><td>1.4</td><td>0.3</td><td>apple_ps</td></tr><tr><td>19</td><td>5.7</td><td>3.8</td><td>1.7</td><td>0.3</td><td>apple_ps</td></tr><tr><td>20</td><td>5.1</td><td>3.8</td><td>1.5</td><td>0.3</td><td>apple_ps</td></tr><tr><td>21</td><td>5.4</td><td>3.4</td><td>1.7</td><td>0.2</td><td>apple_ps</td></tr><tr><td>22</td><td>5.1</td><td>3.7</td><td>1.5</td><td>0.4</td><td>apple_ps</td></tr><tr><td>23</td><td>4.6</td><td>3.6</td><td>1.0</td><td>0.2</td><td>apple_ps</td></tr><tr><td>24</td><td>5.1</td><td>3.3</td><td>1.7</td><td>0.5</td><td>apple_ps</td></tr><tr><td>25</td><td>4.8</td><td>3.4</td><td>1.9</td><td>0.2</td><td>apple_ps</td></tr><tr><td>26</td><td>5.0</td><td>3.0</td><td>1.6</td><td>0.2</td><td>apple_ps</td></tr><tr><td>27</td><td>5.0</td><td>3.4</td><td>1.6</td><td>0.4</td><td>apple_ps</td></tr><tr><td>28</td><td>5.2</td><td>3.5</td><td>1.5</td><td>0.2</td><td>apple_ps</td></tr><tr><td>29</td><td>5.2</td><td>3.4</td><td>1.4</td><td>0.2</td><td>apple_ps</td></tr><tr><td>30</td><td>4.7</td><td>3.2</td><td>1.6</td><td>0.2</td><td>apple_ps</td></tr><tr><td>31</td><td>4.8</td><td>3.1</td><td>1.6</td><td>0.2</td><td>apple_ps</td></tr><tr><td>32</td><td>5.4</td><td>3.4</td><td>1.5</td><td>0.4</td><td>apple_ps</td></tr><tr><td>33</td><td>5.2</td><td>4.1</td><td>1.5</td><td>0.1</td><td>apple_ps</td></tr><tr><td>34</td><td>5.5</td><td>4.2</td><td>1.4</td><td>0.2</td><td>apple_ps</td></tr><tr><td>35</td><td>4.9</td><td>3.1</td><td>1.5</td><td>0.1</td><td>apple_ps</td></tr><tr><td>36</td><td>5.0</td><td>3.2</td><td>1.2</td><td>0.2</td><td>apple_ps</td></tr><tr><td>37</td><td>5.5</td><td>3.5</td><td>1.3</td><td>0.2</td><td>apple_ps</td></tr><tr><td>38</td><td>4.9</td><td>3.1</td><td>1.5</td><td>0.1</td><td>apple_ps</td></tr><tr><td>39</td><td>4.4</td><td>3.0</td><td>1.3</td><td>0.2</td><td>apple_ps</td></tr><tr><td>40</td><td>5.1</td><td>3.4</td><td>1.5</td><td>0.2</td><td>apple_ps</td></tr><tr><td>41</td><td>5.0</td><td>3.5</td><td>1.3</td><td>0.3</td><td>apple_ps</td></tr><tr><td>42</td><td>4.5</td><td>2.3</td><td>1.3</td><td>0.3</td><td>apple_ps</td></tr><tr><td>43</td><td>4.4</td><td>3.2</td><td>1.3</td><td>0.2</td><td>apple_ps</td></tr><tr><td>44</td><td>5.0</td><td>3.5</td><td>1.6</td><td>0.6</td><td>apple_ps</td></tr><tr><td>45</td><td>5.1</td><td>3.8</td><td>1.9</td><td>0.4</td><td>apple_ps</td></tr><tr><td>46</td><td>4.8</td><td>3.0</td><td>1.4</td><td>0.3</td><td>apple_ps</td></tr><tr><td>47</td><td>5.1</td><td>3.8</td><td>1.6</td><td>0.2</td><td>apple_ps</td></tr><tr><td>48</td><td>4.6</td><td>3.2</td><td>1.4</td><td>0.2</td><td>apple_ps</td></tr><tr><td>49</td><td>5.3</td><td>3.7</td><td>1.5</td><td>0.2</td><td>apple_ps</td></tr><tr><td>50</td><td>5.0</td><td>3.3</td><td>1.4</td><td>0.2</td><td>apple_ps</td></tr><tr><td>51</td><td>7.0</td><td>3.2</td><td>4.7</td><td>1.4</td><td>apple_am</td></tr><tr><td>52</td><td>6.4</td><td>3.2</td><td>4.5</td><td>1.5</td><td>apple_am</td></tr><tr><td>53</td><td>6.9</td><td>3.1</td><td>4.9</td><td>1.5</td><td>apple_am</td></tr><tr><td>54</td><td>5.5</td><td>2.3</td><td>4.0</td><td>1.3</td><td>apple_am</td></tr><tr><td>55</td><td>6.5</td><td>2.8</td><td>4.6</td><td>1.5</td><td>apple_am</td></tr><tr><td>56</td><td>5.7</td><td>2.8</td><td>4.5</td><td>1.3</td><td>apple_am</td></tr><tr><td>57</td><td>6.3</td><td>3.3</td><td>4.7</td><td>1.6</td><td>apple_am</td></tr><tr><td>58</td><td>4.9</td><td>2.4</td><td>3.3</td><td>1.0</td><td>apple_am</td></tr><tr><td>59</td><td>6.6</td><td>2.9</td><td>4.6</td><td>1.3</td><td>apple_am</td></tr><tr><td>60</td><td>5.2</td><td>2.7</td><td>3.9</td><td>1.4</td><td>apple_am</td></tr><tr><td>61</td><td>5.0</td><td>2.0</td><td>3.5</td><td>1.0</td><td>apple_am</td></tr><tr><td>62</td><td>5.9</td><td>3.0</td><td>4.2</td><td>1.5</td><td>apple_am</td></tr><tr><td>63</td><td>6.0</td><td>2.2</td><td>4.0</td><td>1.0</td><td>apple_am</td></tr><tr><td>64</td><td>6.1</td><td>2.9</td><td>4.7</td><td>1.4</td><td>apple_am</td></tr><tr><td>65</td><td>5.6</td><td>2.9</td><td>3.6</td><td>1.3</td><td>apple_am</td></tr><tr><td>66</td><td>6.7</td><td>3.1</td><td>4.4</td><td>1.4</td><td>apple_am</td></tr><tr><td>67</td><td>5.6</td><td>3.0</td><td>4.5</td><td>1.5</td><td>apple_am</td></tr><tr><td>68</td><td>5.8</td><td>2.7</td><td>4.1</td><td>1.0</td><td>apple_am</td></tr><tr><td>69</td><td>6.2</td><td>2.2</td><td>4.5</td><td>1.5</td><td>apple_am</td></tr><tr><td>70</td><td>5.6</td><td>2.5</td><td>3.9</td><td>1.1</td><td>apple_am</td></tr><tr><td>71</td><td>5.9</td><td>3.2</td><td>4.8</td><td>1.8</td><td>apple_am</td></tr><tr><td>72</td><td>6.1</td><td>2.8</td><td>4.0</td><td>1.3</td><td>apple_am</td></tr><tr><td>73</td><td>6.3</td><td>2.5</td><td>4.9</td><td>1.5</td><td>apple_am</td></tr><tr><td>74</td><td>6.1</td><td>2.8</td><td>4.7</td><td>1.2</td><td>apple_am</td></tr><tr><td>75</td><td>6.4</td><td>2.9</td><td>4.3</td><td>1.3</td><td>apple_am</td></tr><tr><td>76</td><td>6.6</td><td>3.0</td><td>4.4</td><td>1.4</td><td>apple_am</td></tr><tr><td>77</td><td>6.8</td><td>2.8</td><td>4.8</td><td>1.4</td><td>apple_am</td></tr><tr><td>78</td><td>6.7</td><td>3.0</td><td>5.0</td><td>1.7</td><td>apple_am</td></tr><tr><td>79</td><td>6.0</td><td>2.9</td><td>4.5</td><td>1.5</td><td>apple_am</td></tr><tr><td>80</td><td>5.7</td><td>2.6</td><td>3.5</td><td>1.0</td><td>apple_am</td></tr><tr><td>81</td><td>5.5</td><td>2.4</td><td>3.8</td><td>1.1</td><td>apple_am</td></tr><tr><td>82</td><td>5.5</td><td>2.4</td><td>3.7</td><td>1.0</td><td>apple_am</td></tr><tr><td>83</td><td>5.8</td><td>2.7</td><td>3.9</td><td>1.2</td><td>apple_am</td></tr><tr><td>84</td><td>6.0</td><td>2.7</td><td>5.1</td><td>1.6</td><td>apple_am</td></tr><tr><td>85</td><td>5.4</td><td>3.0</td><td>4.5</td><td>1.5</td><td>apple_am</td></tr><tr><td>86</td><td>6.0</td><td>3.4</td><td>4.5</td><td>1.6</td><td>apple_am</td></tr><tr><td>87</td><td>6.7</td><td>3.1</td><td>4.7</td><td>1.5</td><td>apple_am</td></tr><tr><td>88</td><td>6.3</td><td>2.3</td><td>4.4</td><td>1.3</td><td>apple_am</td></tr><tr><td>89</td><td>5.6</td><td>3.0</td><td>4.1</td><td>1.3</td><td>apple_am</td></tr><tr><td>90</td><td>5.5</td><td>2.5</td><td>4.0</td><td>1.3</td><td>apple_am</td></tr><tr><td>91</td><td>5.5</td><td>2.6</td><td>4.4</td><td>1.2</td><td>apple_am</td></tr><tr><td>92</td><td>6.1</td><td>3.0</td><td>4.6</td><td>1.4</td><td>apple_am</td></tr><tr><td>93</td><td>5.8</td><td>2.6</td><td>4.0</td><td>1.2</td><td>apple_am</td></tr><tr><td>94</td><td>5.0</td><td>2.3</td><td>3.3</td><td>1.0</td><td>apple_am</td></tr><tr><td>95</td><td>5.6</td><td>2.7</td><td>4.2</td><td>1.3</td><td>apple_am</td></tr><tr><td>96</td><td>5.7</td><td>3.0</td><td>4.2</td><td>1.2</td><td>apple_am</td></tr><tr><td>97</td><td>5.7</td><td>2.9</td><td>4.2</td><td>1.3</td><td>apple_am</td></tr><tr><td>98</td><td>6.2</td><td>2.9</td><td>4.3</td><td>1.3</td><td>apple_am</td></tr><tr><td>99</td><td>5.1</td><td>2.5</td><td>3.0</td><td>1.1</td><td>apple_am</td></tr><tr><td>100</td><td>5.7</td><td>2.8</td><td>4.1</td><td>1.3</td><td>apple_am</td></tr><tr><td>101</td><td>6.3</td><td>3.3</td><td>6.0</td><td>2.5</td><td>apple_sm</td></tr><tr><td>102</td><td>5.8</td><td>2.7</td><td>5.1</td><td>1.9</td><td>apple_sm</td></tr><tr><td>103</td><td>7.1</td><td>3.0</td><td>5.9</td><td>2.1</td><td>apple_sm</td></tr><tr><td>104</td><td>6.3</td><td>2.9</td><td>5.6</td><td>1.8</td><td>apple_sm</td></tr><tr><td>105</td><td>6.5</td><td>3.0</td><td>5.8</td><td>2.2</td><td>apple_sm</td></tr><tr><td>106</td><td>7.6</td><td>3.0</td><td>6.6</td><td>2.1</td><td>apple_sm</td></tr><tr><td>107</td><td>4.9</td><td>2.5</td><td>4.5</td><td>1.7</td><td>apple_sm</td></tr><tr><td>108</td><td>7.3</td><td>2.9</td><td>6.3</td><td>1.8</td><td>apple_sm</td></tr><tr><td>109</td><td>6.7</td><td>2.5</td><td>5.8</td><td>1.8</td><td>apple_sm</td></tr><tr><td>110</td><td>7.2</td><td>3.6</td><td>6.1</td><td>2.5</td><td>apple_sm</td></tr><tr><td>111</td><td>6.5</td><td>3.2</td><td>5.1</td><td>2.0</td><td>apple_sm</td></tr><tr><td>112</td><td>6.4</td><td>2.7</td><td>5.3</td><td>1.9</td><td>apple_sm</td></tr><tr><td>113</td><td>6.8</td><td>3.0</td><td>5.5</td><td>2.1</td><td>apple_sm</td></tr><tr><td>114</td><td>5.7</td><td>2.5</td><td>5.0</td><td>2.0</td><td>apple_sm</td></tr><tr><td>115</td><td>5.8</td><td>2.8</td><td>5.1</td><td>2.4</td><td>apple_sm</td></tr><tr><td>116</td><td>6.4</td><td>3.2</td><td>5.3</td><td>2.3</td><td>apple_sm</td></tr><tr><td>117</td><td>6.5</td><td>3.0</td><td>5.5</td><td>1.8</td><td>apple_sm</td></tr><tr><td>118</td><td>7.7</td><td>3.8</td><td>6.7</td><td>2.2</td><td>apple_sm</td></tr><tr><td>119</td><td>7.7</td><td>2.6</td><td>6.9</td><td>2.3</td><td>apple_sm</td></tr><tr><td>120</td><td>6.0</td><td>2.2</td><td>5.0</td><td>1.5</td><td>apple_sm</td></tr><tr><td>121</td><td>6.9</td><td>3.2</td><td>5.7</td><td>2.3</td><td>apple_sm</td></tr><tr><td>122</td><td>5.6</td><td>2.8</td><td>4.9</td><td>2.0</td><td>apple_sm</td></tr><tr><td>123</td><td>7.7</td><td>2.8</td><td>6.7</td><td>2.0</td><td>apple_sm</td></tr><tr><td>124</td><td>6.3</td><td>2.7</td><td>4.9</td><td>1.8</td><td>apple_sm</td></tr><tr><td>125</td><td>6.7</td><td>3.3</td><td>5.7</td><td>2.1</td><td>apple_sm</td></tr><tr><td>126</td><td>7.2</td><td>3.2</td><td>6.0</td><td>1.8</td><td>apple_sm</td></tr><tr><td>127</td><td>6.2</td><td>2.8</td><td>4.8</td><td>1.8</td><td>apple_sm</td></tr><tr><td>128</td><td>6.1</td><td>3.0</td><td>4.9</td><td>1.8</td><td>apple_sm</td></tr><tr><td>129</td><td>6.4</td><td>2.8</td><td>5.6</td><td>2.1</td><td>apple_sm</td></tr><tr><td>130</td><td>7.2</td><td>3.0</td><td>5.8</td><td>1.6</td><td>apple_sm</td></tr><tr><td>131</td><td>7.4</td><td>2.8</td><td>6.1</td><td>1.9</td><td>apple_sm</td></tr><tr><td>132</td><td>7.9</td><td>3.8</td><td>6.4</td><td>2.0</td><td>apple_sm</td></tr><tr><td>133</td><td>6.4</td><td>2.8</td><td>5.6</td><td>2.2</td><td>apple_sm</td></tr><tr><td>134</td><td>6.3</td><td>2.8</td><td>5.1</td><td>1.5</td><td>apple_sm</td></tr><tr><td>135</td><td>6.1</td><td>2.6</td><td>5.6</td><td>1.4</td><td>apple_sm</td></tr><tr><td>136</td><td>7.7</td><td>3.0</td><td>6.1</td><td>2.3</td><td>apple_sm</td></tr><tr><td>137</td><td>6.3</td><td>3.4</td><td>5.6</td><td>2.4</td><td>apple_sm</td></tr><tr><td>138</td><td>6.4</td><td>3.1</td><td>5.5</td><td>1.8</td><td>apple_sm</td></tr><tr><td>139</td><td>6.0</td><td>3.0</td><td>4.8</td><td>1.8</td><td>apple_sm</td></tr><tr><td>140</td><td>6.9</td><td>3.1</td><td>5.4</td><td>2.1</td><td>apple_sm</td></tr><tr><td>141</td><td>6.7</td><td>3.1</td><td>5.6</td><td>2.4</td><td>apple_sm</td></tr><tr><td>142</td><td>6.9</td><td>3.1</td><td>5.1</td><td>2.3</td><td>apple_sm</td></tr><tr><td>143</td><td>5.8</td><td>2.7</td><td>5.1</td><td>1.9</td><td>apple_sm</td></tr><tr><td>144</td><td>6.8</td><td>3.2</td><td>5.9</td><td>2.3</td><td>apple_sm</td></tr><tr><td>145</td><td>6.7</td><td>3.3</td><td>5.7</td><td>2.5</td><td>apple_sm</td></tr><tr><td>146</td><td>6.7</td><td>3.0</td><td>5.2</td><td>2.3</td><td>apple_sm</td></tr><tr><td>147</td><td>6.3</td><td>2.5</td><td>5.0</td><td>1.9</td><td>apple_sm</td></tr><tr><td>148</td><td>6.5</td><td>3.0</td><td>5.2</td><td>2.0</td><td>apple_sm</td></tr><tr><td>149</td><td>6.2</td><td>3.4</td><td>5.4</td><td>2.3</td><td>apple_sm</td></tr><tr><td>150</td><td>5.9</td><td>3.0</td><td>5.1</td><td>1.8</td><td>apple_sm</td></tr></tbody></table></div>"
      ]
     },
     "metadata": {
      "application/vnd.databricks.v1+output": {
       "addedWidgets": {},
       "aggData": [],
       "aggError": "",
       "aggOverflow": false,
       "aggSchema": [],
       "aggSeriesLimitReached": false,
       "aggType": "",
       "arguments": {},
       "columnCustomDisplayInfos": {},
       "data": [
        [
         "1",
         "5.1",
         "3.5",
         "1.4",
         "0.2",
         "apple_ps"
        ],
        [
         "2",
         "4.9",
         "3.0",
         "1.4",
         "0.2",
         "apple_ps"
        ],
        [
         "3",
         "4.7",
         "3.2",
         "1.3",
         "0.2",
         "apple_ps"
        ],
        [
         "4",
         "4.6",
         "3.1",
         "1.5",
         "0.2",
         "apple_ps"
        ],
        [
         "5",
         "5.0",
         "3.6",
         "1.4",
         "0.2",
         "apple_ps"
        ],
        [
         "6",
         "5.4",
         "3.9",
         "1.7",
         "0.4",
         "apple_ps"
        ],
        [
         "7",
         "4.6",
         "3.4",
         "1.4",
         "0.3",
         "apple_ps"
        ],
        [
         "8",
         "5.0",
         "3.4",
         "1.5",
         "0.2",
         "apple_ps"
        ],
        [
         "9",
         "4.4",
         "2.9",
         "1.4",
         "0.2",
         "apple_ps"
        ],
        [
         "10",
         "4.9",
         "3.1",
         "1.5",
         "0.1",
         "apple_ps"
        ],
        [
         "11",
         "5.4",
         "3.7",
         "1.5",
         "0.2",
         "apple_ps"
        ],
        [
         "12",
         "4.8",
         "3.4",
         "1.6",
         "0.2",
         "apple_ps"
        ],
        [
         "13",
         "4.8",
         "3.0",
         "1.4",
         "0.1",
         "apple_ps"
        ],
        [
         "14",
         "4.3",
         "3.0",
         "1.1",
         "0.1",
         "apple_ps"
        ],
        [
         "15",
         "5.8",
         "4.0",
         "1.2",
         "0.2",
         "apple_ps"
        ],
        [
         "16",
         "5.7",
         "4.4",
         "1.5",
         "0.4",
         "apple_ps"
        ],
        [
         "17",
         "5.4",
         "3.9",
         "1.3",
         "0.4",
         "apple_ps"
        ],
        [
         "18",
         "5.1",
         "3.5",
         "1.4",
         "0.3",
         "apple_ps"
        ],
        [
         "19",
         "5.7",
         "3.8",
         "1.7",
         "0.3",
         "apple_ps"
        ],
        [
         "20",
         "5.1",
         "3.8",
         "1.5",
         "0.3",
         "apple_ps"
        ],
        [
         "21",
         "5.4",
         "3.4",
         "1.7",
         "0.2",
         "apple_ps"
        ],
        [
         "22",
         "5.1",
         "3.7",
         "1.5",
         "0.4",
         "apple_ps"
        ],
        [
         "23",
         "4.6",
         "3.6",
         "1.0",
         "0.2",
         "apple_ps"
        ],
        [
         "24",
         "5.1",
         "3.3",
         "1.7",
         "0.5",
         "apple_ps"
        ],
        [
         "25",
         "4.8",
         "3.4",
         "1.9",
         "0.2",
         "apple_ps"
        ],
        [
         "26",
         "5.0",
         "3.0",
         "1.6",
         "0.2",
         "apple_ps"
        ],
        [
         "27",
         "5.0",
         "3.4",
         "1.6",
         "0.4",
         "apple_ps"
        ],
        [
         "28",
         "5.2",
         "3.5",
         "1.5",
         "0.2",
         "apple_ps"
        ],
        [
         "29",
         "5.2",
         "3.4",
         "1.4",
         "0.2",
         "apple_ps"
        ],
        [
         "30",
         "4.7",
         "3.2",
         "1.6",
         "0.2",
         "apple_ps"
        ],
        [
         "31",
         "4.8",
         "3.1",
         "1.6",
         "0.2",
         "apple_ps"
        ],
        [
         "32",
         "5.4",
         "3.4",
         "1.5",
         "0.4",
         "apple_ps"
        ],
        [
         "33",
         "5.2",
         "4.1",
         "1.5",
         "0.1",
         "apple_ps"
        ],
        [
         "34",
         "5.5",
         "4.2",
         "1.4",
         "0.2",
         "apple_ps"
        ],
        [
         "35",
         "4.9",
         "3.1",
         "1.5",
         "0.1",
         "apple_ps"
        ],
        [
         "36",
         "5.0",
         "3.2",
         "1.2",
         "0.2",
         "apple_ps"
        ],
        [
         "37",
         "5.5",
         "3.5",
         "1.3",
         "0.2",
         "apple_ps"
        ],
        [
         "38",
         "4.9",
         "3.1",
         "1.5",
         "0.1",
         "apple_ps"
        ],
        [
         "39",
         "4.4",
         "3.0",
         "1.3",
         "0.2",
         "apple_ps"
        ],
        [
         "40",
         "5.1",
         "3.4",
         "1.5",
         "0.2",
         "apple_ps"
        ],
        [
         "41",
         "5.0",
         "3.5",
         "1.3",
         "0.3",
         "apple_ps"
        ],
        [
         "42",
         "4.5",
         "2.3",
         "1.3",
         "0.3",
         "apple_ps"
        ],
        [
         "43",
         "4.4",
         "3.2",
         "1.3",
         "0.2",
         "apple_ps"
        ],
        [
         "44",
         "5.0",
         "3.5",
         "1.6",
         "0.6",
         "apple_ps"
        ],
        [
         "45",
         "5.1",
         "3.8",
         "1.9",
         "0.4",
         "apple_ps"
        ],
        [
         "46",
         "4.8",
         "3.0",
         "1.4",
         "0.3",
         "apple_ps"
        ],
        [
         "47",
         "5.1",
         "3.8",
         "1.6",
         "0.2",
         "apple_ps"
        ],
        [
         "48",
         "4.6",
         "3.2",
         "1.4",
         "0.2",
         "apple_ps"
        ],
        [
         "49",
         "5.3",
         "3.7",
         "1.5",
         "0.2",
         "apple_ps"
        ],
        [
         "50",
         "5.0",
         "3.3",
         "1.4",
         "0.2",
         "apple_ps"
        ],
        [
         "51",
         "7.0",
         "3.2",
         "4.7",
         "1.4",
         "apple_am"
        ],
        [
         "52",
         "6.4",
         "3.2",
         "4.5",
         "1.5",
         "apple_am"
        ],
        [
         "53",
         "6.9",
         "3.1",
         "4.9",
         "1.5",
         "apple_am"
        ],
        [
         "54",
         "5.5",
         "2.3",
         "4.0",
         "1.3",
         "apple_am"
        ],
        [
         "55",
         "6.5",
         "2.8",
         "4.6",
         "1.5",
         "apple_am"
        ],
        [
         "56",
         "5.7",
         "2.8",
         "4.5",
         "1.3",
         "apple_am"
        ],
        [
         "57",
         "6.3",
         "3.3",
         "4.7",
         "1.6",
         "apple_am"
        ],
        [
         "58",
         "4.9",
         "2.4",
         "3.3",
         "1.0",
         "apple_am"
        ],
        [
         "59",
         "6.6",
         "2.9",
         "4.6",
         "1.3",
         "apple_am"
        ],
        [
         "60",
         "5.2",
         "2.7",
         "3.9",
         "1.4",
         "apple_am"
        ],
        [
         "61",
         "5.0",
         "2.0",
         "3.5",
         "1.0",
         "apple_am"
        ],
        [
         "62",
         "5.9",
         "3.0",
         "4.2",
         "1.5",
         "apple_am"
        ],
        [
         "63",
         "6.0",
         "2.2",
         "4.0",
         "1.0",
         "apple_am"
        ],
        [
         "64",
         "6.1",
         "2.9",
         "4.7",
         "1.4",
         "apple_am"
        ],
        [
         "65",
         "5.6",
         "2.9",
         "3.6",
         "1.3",
         "apple_am"
        ],
        [
         "66",
         "6.7",
         "3.1",
         "4.4",
         "1.4",
         "apple_am"
        ],
        [
         "67",
         "5.6",
         "3.0",
         "4.5",
         "1.5",
         "apple_am"
        ],
        [
         "68",
         "5.8",
         "2.7",
         "4.1",
         "1.0",
         "apple_am"
        ],
        [
         "69",
         "6.2",
         "2.2",
         "4.5",
         "1.5",
         "apple_am"
        ],
        [
         "70",
         "5.6",
         "2.5",
         "3.9",
         "1.1",
         "apple_am"
        ],
        [
         "71",
         "5.9",
         "3.2",
         "4.8",
         "1.8",
         "apple_am"
        ],
        [
         "72",
         "6.1",
         "2.8",
         "4.0",
         "1.3",
         "apple_am"
        ],
        [
         "73",
         "6.3",
         "2.5",
         "4.9",
         "1.5",
         "apple_am"
        ],
        [
         "74",
         "6.1",
         "2.8",
         "4.7",
         "1.2",
         "apple_am"
        ],
        [
         "75",
         "6.4",
         "2.9",
         "4.3",
         "1.3",
         "apple_am"
        ],
        [
         "76",
         "6.6",
         "3.0",
         "4.4",
         "1.4",
         "apple_am"
        ],
        [
         "77",
         "6.8",
         "2.8",
         "4.8",
         "1.4",
         "apple_am"
        ],
        [
         "78",
         "6.7",
         "3.0",
         "5.0",
         "1.7",
         "apple_am"
        ],
        [
         "79",
         "6.0",
         "2.9",
         "4.5",
         "1.5",
         "apple_am"
        ],
        [
         "80",
         "5.7",
         "2.6",
         "3.5",
         "1.0",
         "apple_am"
        ],
        [
         "81",
         "5.5",
         "2.4",
         "3.8",
         "1.1",
         "apple_am"
        ],
        [
         "82",
         "5.5",
         "2.4",
         "3.7",
         "1.0",
         "apple_am"
        ],
        [
         "83",
         "5.8",
         "2.7",
         "3.9",
         "1.2",
         "apple_am"
        ],
        [
         "84",
         "6.0",
         "2.7",
         "5.1",
         "1.6",
         "apple_am"
        ],
        [
         "85",
         "5.4",
         "3.0",
         "4.5",
         "1.5",
         "apple_am"
        ],
        [
         "86",
         "6.0",
         "3.4",
         "4.5",
         "1.6",
         "apple_am"
        ],
        [
         "87",
         "6.7",
         "3.1",
         "4.7",
         "1.5",
         "apple_am"
        ],
        [
         "88",
         "6.3",
         "2.3",
         "4.4",
         "1.3",
         "apple_am"
        ],
        [
         "89",
         "5.6",
         "3.0",
         "4.1",
         "1.3",
         "apple_am"
        ],
        [
         "90",
         "5.5",
         "2.5",
         "4.0",
         "1.3",
         "apple_am"
        ],
        [
         "91",
         "5.5",
         "2.6",
         "4.4",
         "1.2",
         "apple_am"
        ],
        [
         "92",
         "6.1",
         "3.0",
         "4.6",
         "1.4",
         "apple_am"
        ],
        [
         "93",
         "5.8",
         "2.6",
         "4.0",
         "1.2",
         "apple_am"
        ],
        [
         "94",
         "5.0",
         "2.3",
         "3.3",
         "1.0",
         "apple_am"
        ],
        [
         "95",
         "5.6",
         "2.7",
         "4.2",
         "1.3",
         "apple_am"
        ],
        [
         "96",
         "5.7",
         "3.0",
         "4.2",
         "1.2",
         "apple_am"
        ],
        [
         "97",
         "5.7",
         "2.9",
         "4.2",
         "1.3",
         "apple_am"
        ],
        [
         "98",
         "6.2",
         "2.9",
         "4.3",
         "1.3",
         "apple_am"
        ],
        [
         "99",
         "5.1",
         "2.5",
         "3.0",
         "1.1",
         "apple_am"
        ],
        [
         "100",
         "5.7",
         "2.8",
         "4.1",
         "1.3",
         "apple_am"
        ],
        [
         "101",
         "6.3",
         "3.3",
         "6.0",
         "2.5",
         "apple_sm"
        ],
        [
         "102",
         "5.8",
         "2.7",
         "5.1",
         "1.9",
         "apple_sm"
        ],
        [
         "103",
         "7.1",
         "3.0",
         "5.9",
         "2.1",
         "apple_sm"
        ],
        [
         "104",
         "6.3",
         "2.9",
         "5.6",
         "1.8",
         "apple_sm"
        ],
        [
         "105",
         "6.5",
         "3.0",
         "5.8",
         "2.2",
         "apple_sm"
        ],
        [
         "106",
         "7.6",
         "3.0",
         "6.6",
         "2.1",
         "apple_sm"
        ],
        [
         "107",
         "4.9",
         "2.5",
         "4.5",
         "1.7",
         "apple_sm"
        ],
        [
         "108",
         "7.3",
         "2.9",
         "6.3",
         "1.8",
         "apple_sm"
        ],
        [
         "109",
         "6.7",
         "2.5",
         "5.8",
         "1.8",
         "apple_sm"
        ],
        [
         "110",
         "7.2",
         "3.6",
         "6.1",
         "2.5",
         "apple_sm"
        ],
        [
         "111",
         "6.5",
         "3.2",
         "5.1",
         "2.0",
         "apple_sm"
        ],
        [
         "112",
         "6.4",
         "2.7",
         "5.3",
         "1.9",
         "apple_sm"
        ],
        [
         "113",
         "6.8",
         "3.0",
         "5.5",
         "2.1",
         "apple_sm"
        ],
        [
         "114",
         "5.7",
         "2.5",
         "5.0",
         "2.0",
         "apple_sm"
        ],
        [
         "115",
         "5.8",
         "2.8",
         "5.1",
         "2.4",
         "apple_sm"
        ],
        [
         "116",
         "6.4",
         "3.2",
         "5.3",
         "2.3",
         "apple_sm"
        ],
        [
         "117",
         "6.5",
         "3.0",
         "5.5",
         "1.8",
         "apple_sm"
        ],
        [
         "118",
         "7.7",
         "3.8",
         "6.7",
         "2.2",
         "apple_sm"
        ],
        [
         "119",
         "7.7",
         "2.6",
         "6.9",
         "2.3",
         "apple_sm"
        ],
        [
         "120",
         "6.0",
         "2.2",
         "5.0",
         "1.5",
         "apple_sm"
        ],
        [
         "121",
         "6.9",
         "3.2",
         "5.7",
         "2.3",
         "apple_sm"
        ],
        [
         "122",
         "5.6",
         "2.8",
         "4.9",
         "2.0",
         "apple_sm"
        ],
        [
         "123",
         "7.7",
         "2.8",
         "6.7",
         "2.0",
         "apple_sm"
        ],
        [
         "124",
         "6.3",
         "2.7",
         "4.9",
         "1.8",
         "apple_sm"
        ],
        [
         "125",
         "6.7",
         "3.3",
         "5.7",
         "2.1",
         "apple_sm"
        ],
        [
         "126",
         "7.2",
         "3.2",
         "6.0",
         "1.8",
         "apple_sm"
        ],
        [
         "127",
         "6.2",
         "2.8",
         "4.8",
         "1.8",
         "apple_sm"
        ],
        [
         "128",
         "6.1",
         "3.0",
         "4.9",
         "1.8",
         "apple_sm"
        ],
        [
         "129",
         "6.4",
         "2.8",
         "5.6",
         "2.1",
         "apple_sm"
        ],
        [
         "130",
         "7.2",
         "3.0",
         "5.8",
         "1.6",
         "apple_sm"
        ],
        [
         "131",
         "7.4",
         "2.8",
         "6.1",
         "1.9",
         "apple_sm"
        ],
        [
         "132",
         "7.9",
         "3.8",
         "6.4",
         "2.0",
         "apple_sm"
        ],
        [
         "133",
         "6.4",
         "2.8",
         "5.6",
         "2.2",
         "apple_sm"
        ],
        [
         "134",
         "6.3",
         "2.8",
         "5.1",
         "1.5",
         "apple_sm"
        ],
        [
         "135",
         "6.1",
         "2.6",
         "5.6",
         "1.4",
         "apple_sm"
        ],
        [
         "136",
         "7.7",
         "3.0",
         "6.1",
         "2.3",
         "apple_sm"
        ],
        [
         "137",
         "6.3",
         "3.4",
         "5.6",
         "2.4",
         "apple_sm"
        ],
        [
         "138",
         "6.4",
         "3.1",
         "5.5",
         "1.8",
         "apple_sm"
        ],
        [
         "139",
         "6.0",
         "3.0",
         "4.8",
         "1.8",
         "apple_sm"
        ],
        [
         "140",
         "6.9",
         "3.1",
         "5.4",
         "2.1",
         "apple_sm"
        ],
        [
         "141",
         "6.7",
         "3.1",
         "5.6",
         "2.4",
         "apple_sm"
        ],
        [
         "142",
         "6.9",
         "3.1",
         "5.1",
         "2.3",
         "apple_sm"
        ],
        [
         "143",
         "5.8",
         "2.7",
         "5.1",
         "1.9",
         "apple_sm"
        ],
        [
         "144",
         "6.8",
         "3.2",
         "5.9",
         "2.3",
         "apple_sm"
        ],
        [
         "145",
         "6.7",
         "3.3",
         "5.7",
         "2.5",
         "apple_sm"
        ],
        [
         "146",
         "6.7",
         "3.0",
         "5.2",
         "2.3",
         "apple_sm"
        ],
        [
         "147",
         "6.3",
         "2.5",
         "5.0",
         "1.9",
         "apple_sm"
        ],
        [
         "148",
         "6.5",
         "3.0",
         "5.2",
         "2.0",
         "apple_sm"
        ],
        [
         "149",
         "6.2",
         "3.4",
         "5.4",
         "2.3",
         "apple_sm"
        ],
        [
         "150",
         "5.9",
         "3.0",
         "5.1",
         "1.8",
         "apple_sm"
        ]
       ],
       "datasetInfos": [],
       "dbfsResultPath": null,
       "isJsonSchema": true,
       "metadata": {},
       "overflow": false,
       "plotOptions": {
        "customPlotOptions": {},
        "displayType": "table",
        "pivotAggregation": null,
        "pivotColumns": null,
        "xColumns": null,
        "yColumns": null
       },
       "removedWidgets": [],
       "schema": [
        {
         "metadata": "{}",
         "name": "id",
         "type": "\"string\""
        },
        {
         "metadata": "{}",
         "name": "apple_height",
         "type": "\"string\""
        },
        {
         "metadata": "{}",
         "name": "apple_weight",
         "type": "\"string\""
        },
        {
         "metadata": "{}",
         "name": "apple_tree_height_meter",
         "type": "\"string\""
        },
        {
         "metadata": "{}",
         "name": "apple_tree_age_years",
         "type": "\"string\""
        },
        {
         "metadata": "{}",
         "name": "apple_type",
         "type": "\"string\""
        }
       ],
       "type": "table"
      }
     },
     "output_type": "display_data"
    },
    {
     "name": "stdout",
     "output_type": "stream",
     "text": [
      "Out[61]: ['id',\n",
      " 'apple_height',\n",
      " 'apple_weight',\n",
      " 'apple_tree_height_meter',\n",
      " 'apple_tree_age_years',\n",
      " 'apple_type']"
     ]
    }
   ],
   "source": [
    "dummy_df = spark.read.csv(\"/FileStore/tmp/temp.csv\", header=True)\n",
    "display(dummy_df)\n",
    "dummy_df.columns"
   ]
  },
  {
   "cell_type": "code",
   "execution_count": 0,
   "metadata": {
    "application/vnd.databricks.v1+cell": {
     "cellMetadata": {
      "byteLimit": 2048000,
      "rowLimit": 10000
     },
     "inputWidgets": {},
     "nuid": "b8e1b881-6a90-4135-8d7c-cddb56b59751",
     "showTitle": true,
     "title": "Compile-Decompile"
    }
   },
   "outputs": [],
   "source": [
    "encoding = tiktoken.get_encoding(embedding_encoding)\n",
    "def get_combined(x):\n",
    "  return str(\"apple_height: \" + str(x.apple_height) + \n",
    "    \"; apple_weight: \" + str(x.apple_weight) +  \"; apple_tree_height_meters: \" + str(x.apple_tree_height_meter) +\n",
    "    \"; apple_tree_age_years: \" + str(x.apple_tree_age_years))\n",
    "\n",
    "def get_decombined(x):\n",
    "    return [i.split(\": \")[1] for i in x.split(\";\")]"
   ]
  },
  {
   "cell_type": "code",
   "execution_count": 0,
   "metadata": {
    "application/vnd.databricks.v1+cell": {
     "cellMetadata": {
      "byteLimit": 2048000,
      "rowLimit": 10000
     },
     "inputWidgets": {},
     "nuid": "037a49a0-d699-4623-9472-0c1444656be7",
     "showTitle": false,
     "title": ""
    }
   },
   "outputs": [],
   "source": [
    "# identify embedding model that will generate embedding vectors\n",
    "# Convert to prompt\n",
    "from langchain.embeddings import OpenAIEmbeddings\n",
    "# from langchain import Chroma\n",
    "from langchain import FAISS\n",
    "embeddings = OpenAIEmbeddings(model='text-embedding-ada-002')\n",
    "\n",
    "vector_store = FAISS.from_texts(\n",
    "  embedding=embeddings, \n",
    "  texts=list(dummy_df.drop(\"apple_type\").rdd.map(lambda x: get_combined(x)).collect())\n",
    "  )"
   ]
  },
  {
   "cell_type": "code",
   "execution_count": 0,
   "metadata": {
    "application/vnd.databricks.v1+cell": {
     "cellMetadata": {
      "byteLimit": 2048000,
      "rowLimit": 10000
     },
     "inputWidgets": {},
     "nuid": "d4f74eb5-9529-4db4-8416-fcb179818f2e",
     "showTitle": false,
     "title": ""
    }
   },
   "outputs": [],
   "source": [
    "vsr = vector_store.as_retriever(search_kwargs={'k': 30, 'score_threshold': 0.99})"
   ]
  },
  {
   "cell_type": "code",
   "execution_count": 0,
   "metadata": {
    "application/vnd.databricks.v1+cell": {
     "cellMetadata": {
      "byteLimit": 2048000,
      "rowLimit": 10000
     },
     "inputWidgets": {},
     "nuid": "095d2e2c-64af-4ce3-9bc3-be33e3bb364c",
     "showTitle": false,
     "title": ""
    }
   },
   "outputs": [
    {
     "name": "stdout",
     "output_type": "stream",
     "text": [
      "Out[74]: (['apple_height: 5.1; apple_weight: 3.5; apple_tree_height_meters: 1.4; apple_tree_age_years: 0.2',\n",
      "  'apple_height: 4.9; apple_weight: 3.0; apple_tree_height_meters: 1.4; apple_tree_age_years: 0.2',\n",
      "  'apple_height: 4.7; apple_weight: 3.2; apple_tree_height_meters: 1.3; apple_tree_age_years: 0.2',\n",
      "  'apple_height: 4.6; apple_weight: 3.1; apple_tree_height_meters: 1.5; apple_tree_age_years: 0.2',\n",
      "  'apple_height: 5.0; apple_weight: 3.6; apple_tree_height_meters: 1.4; apple_tree_age_years: 0.2',\n",
      "  'apple_height: 5.4; apple_weight: 3.9; apple_tree_height_meters: 1.7; apple_tree_age_years: 0.4',\n",
      "  'apple_height: 4.6; apple_weight: 3.4; apple_tree_height_meters: 1.4; apple_tree_age_years: 0.3',\n",
      "  'apple_height: 5.0; apple_weight: 3.4; apple_tree_height_meters: 1.5; apple_tree_age_years: 0.2',\n",
      "  'apple_height: 4.4; apple_weight: 2.9; apple_tree_height_meters: 1.4; apple_tree_age_years: 0.2',\n",
      "  'apple_height: 4.9; apple_weight: 3.1; apple_tree_height_meters: 1.5; apple_tree_age_years: 0.1'],\n",
      " [Document(page_content='apple_height: 5.0; apple_weight: 3.3; apple_tree_height_meters: 1.4; apple_tree_age_years: 0.2', metadata={}),\n",
      "  Document(page_content='apple_height: 5.0; apple_weight: 3.2; apple_tree_height_meters: 1.2; apple_tree_age_years: 0.2', metadata={}),\n",
      "  Document(page_content='apple_height: 5.0; apple_weight: 3.5; apple_tree_height_meters: 1.3; apple_tree_age_years: 0.3', metadata={}),\n",
      "  Document(page_content='apple_height: 5.0; apple_weight: 3.4; apple_tree_height_meters: 1.5; apple_tree_age_years: 0.2', metadata={}),\n",
      "  Document(page_content='apple_height: 5.0; apple_weight: 2.0; apple_tree_height_meters: 3.5; apple_tree_age_years: 1.0', metadata={}),\n",
      "  Document(page_content='apple_height: 5.0; apple_weight: 3.4; apple_tree_height_meters: 1.6; apple_tree_age_years: 0.4', metadata={}),\n",
      "  Document(page_content='apple_height: 5.0; apple_weight: 3.0; apple_tree_height_meters: 1.6; apple_tree_age_years: 0.2', metadata={}),\n",
      "  Document(page_content='apple_height: 5.0; apple_weight: 3.6; apple_tree_height_meters: 1.4; apple_tree_age_years: 0.2', metadata={}),\n",
      "  Document(page_content='apple_height: 5.0; apple_weight: 2.3; apple_tree_height_meters: 3.3; apple_tree_age_years: 1.0', metadata={}),\n",
      "  Document(page_content='apple_height: 4.3; apple_weight: 3.0; apple_tree_height_meters: 1.1; apple_tree_age_years: 0.1', metadata={}),\n",
      "  Document(page_content='apple_height: 5.2; apple_weight: 4.1; apple_tree_height_meters: 1.5; apple_tree_age_years: 0.1', metadata={}),\n",
      "  Document(page_content='apple_height: 5.0; apple_weight: 3.5; apple_tree_height_meters: 1.6; apple_tree_age_years: 0.6', metadata={}),\n",
      "  Document(page_content='apple_height: 5.1; apple_weight: 3.8; apple_tree_height_meters: 1.6; apple_tree_age_years: 0.2', metadata={}),\n",
      "  Document(page_content='apple_height: 5.1; apple_weight: 3.5; apple_tree_height_meters: 1.4; apple_tree_age_years: 0.2', metadata={}),\n",
      "  Document(page_content='apple_height: 5.1; apple_weight: 3.4; apple_tree_height_meters: 1.5; apple_tree_age_years: 0.2', metadata={}),\n",
      "  Document(page_content='apple_height: 5.1; apple_weight: 3.5; apple_tree_height_meters: 1.4; apple_tree_age_years: 0.3', metadata={}),\n",
      "  Document(page_content='apple_height: 5.2; apple_weight: 3.4; apple_tree_height_meters: 1.4; apple_tree_age_years: 0.2', metadata={}),\n",
      "  Document(page_content='apple_height: 4.8; apple_weight: 3.0; apple_tree_height_meters: 1.4; apple_tree_age_years: 0.1', metadata={}),\n",
      "  Document(page_content='apple_height: 5.5; apple_weight: 2.4; apple_tree_height_meters: 3.7; apple_tree_age_years: 1.0', metadata={}),\n",
      "  Document(page_content='apple_height: 5.1; apple_weight: 3.8; apple_tree_height_meters: 1.5; apple_tree_age_years: 0.3', metadata={}),\n",
      "  Document(page_content='apple_height: 5.2; apple_weight: 3.5; apple_tree_height_meters: 1.5; apple_tree_age_years: 0.2', metadata={}),\n",
      "  Document(page_content='apple_height: 4.8; apple_weight: 3.0; apple_tree_height_meters: 1.4; apple_tree_age_years: 0.3', metadata={}),\n",
      "  Document(page_content='apple_height: 6.0; apple_weight: 3.0; apple_tree_height_meters: 4.8; apple_tree_age_years: 1.8', metadata={}),\n",
      "  Document(page_content='apple_height: 5.5; apple_weight: 3.5; apple_tree_height_meters: 1.3; apple_tree_age_years: 0.2', metadata={}),\n",
      "  Document(page_content='apple_height: 5.1; apple_weight: 3.7; apple_tree_height_meters: 1.5; apple_tree_age_years: 0.4', metadata={}),\n",
      "  Document(page_content='apple_height: 6.0; apple_weight: 3.4; apple_tree_height_meters: 4.5; apple_tree_age_years: 1.6', metadata={}),\n",
      "  Document(page_content='apple_height: 5.1; apple_weight: 3.8; apple_tree_height_meters: 1.9; apple_tree_age_years: 0.4', metadata={}),\n",
      "  Document(page_content='apple_height: 5.1; apple_weight: 3.3; apple_tree_height_meters: 1.7; apple_tree_age_years: 0.5', metadata={}),\n",
      "  Document(page_content='apple_height: 5.1; apple_weight: 2.5; apple_tree_height_meters: 3.0; apple_tree_age_years: 1.1', metadata={}),\n",
      "  Document(page_content='apple_height: 5.5; apple_weight: 4.2; apple_tree_height_meters: 1.4; apple_tree_age_years: 0.2', metadata={})])"
     ]
    }
   ],
   "source": [
    "rows_list = dummy_df.filter(F.col(\"apple_type\")==\"apple_ps\").limit(10).rdd.map(lambda x: get_combined(x)).collect()\n",
    "relevant_rows = vsr.get_relevant_documents(\"\\n\".join(rows_list))\n",
    "rows_list, relevant_rows"
   ]
  },
  {
   "cell_type": "code",
   "execution_count": 0,
   "metadata": {
    "application/vnd.databricks.v1+cell": {
     "cellMetadata": {
      "byteLimit": 2048000,
      "rowLimit": 10000
     },
     "inputWidgets": {},
     "nuid": "828a376b-92e9-4765-9a59-74672c53fbaa",
     "showTitle": true,
     "title": "Checking returned embeddings"
    }
   },
   "outputs": [
    {
     "name": "stdout",
     "output_type": "stream",
     "text": [
      "+------------+------------+-----------------------+--------------------+---+----------+\n",
      "|apple_height|apple_weight|apple_tree_height_meter|apple_tree_age_years| id|apple_type|\n",
      "+------------+------------+-----------------------+--------------------+---+----------+\n",
      "|         5.0|         3.3|                    1.4|                 0.2| 50|  apple_ps|\n",
      "|         5.0|         3.2|                    1.2|                 0.2| 36|  apple_ps|\n",
      "|         5.0|         3.5|                    1.3|                 0.3| 41|  apple_ps|\n",
      "|         5.0|         3.4|                    1.5|                 0.2|  8|  apple_ps|\n",
      "|         5.0|         2.0|                    3.5|                 1.0| 61|  apple_am|\n",
      "|         5.0|         3.4|                    1.6|                 0.4| 27|  apple_ps|\n",
      "|         5.0|         3.0|                    1.6|                 0.2| 26|  apple_ps|\n",
      "|         5.0|         3.6|                    1.4|                 0.2|  5|  apple_ps|\n",
      "|         5.0|         2.3|                    3.3|                 1.0| 94|  apple_am|\n",
      "|         4.3|         3.0|                    1.1|                 0.1| 14|  apple_ps|\n",
      "|         5.2|         4.1|                    1.5|                 0.1| 33|  apple_ps|\n",
      "|         5.0|         3.5|                    1.6|                 0.6| 44|  apple_ps|\n",
      "|         5.1|         3.8|                    1.6|                 0.2| 47|  apple_ps|\n",
      "|         5.1|         3.5|                    1.4|                 0.2|  1|  apple_ps|\n",
      "|         5.1|         3.4|                    1.5|                 0.2| 40|  apple_ps|\n",
      "|         5.1|         3.5|                    1.4|                 0.3| 18|  apple_ps|\n",
      "|         5.2|         3.4|                    1.4|                 0.2| 29|  apple_ps|\n",
      "|         4.8|         3.0|                    1.4|                 0.1| 13|  apple_ps|\n",
      "|         5.5|         2.4|                    3.7|                 1.0| 82|  apple_am|\n",
      "|         5.1|         3.8|                    1.5|                 0.3| 20|  apple_ps|\n",
      "+------------+------------+-----------------------+--------------------+---+----------+\n",
      "only showing top 20 rows\n",
      "\n"
     ]
    }
   ],
   "source": [
    "converted_rows = [get_decombined(row.page_content) for row in relevant_rows]\n",
    "relevant_df = spark.createDataFrame(converted_rows, schema=dummy_df.drop(\"id\", \"apple_type\").schema)\n",
    "\n",
    "relevant_df_joined = relevant_df.join(dummy_df, how=\"inner\", on=dummy_df.drop(\"apple_type\", \"id\").columns)\n",
    "relevant_df_joined.show()"
   ]
  },
  {
   "cell_type": "code",
   "execution_count": 0,
   "metadata": {
    "application/vnd.databricks.v1+cell": {
     "cellMetadata": {
      "byteLimit": 2048000,
      "rowLimit": 10000
     },
     "inputWidgets": {},
     "nuid": "699b3a0f-2140-42dc-b0c8-61f0e5de0e26",
     "showTitle": false,
     "title": ""
    }
   },
   "outputs": [],
   "source": [
    "from langchain.llms import OpenAI\n",
    "from langchain.prompts import PromptTemplate\n",
    "\n",
    "llm = OpenAI(temperature=0.0)\n",
    "prompt = PromptTemplate(\n",
    "    input_variables=[\"users\", \"context\"],\n",
    "    template=prompt_template,\n",
    ")\n"
   ]
  },
  {
   "cell_type": "code",
   "execution_count": 0,
   "metadata": {
    "application/vnd.databricks.v1+cell": {
     "cellMetadata": {
      "byteLimit": 2048000,
      "rowLimit": 10000
     },
     "inputWidgets": {},
     "nuid": "9085c4a4-51d5-4f79-90d3-417aec2e99a1",
     "showTitle": false,
     "title": ""
    }
   },
   "outputs": [
    {
     "name": "stdout",
     "output_type": "stream",
     "text": [
      "apple_height: 5.4; apple_weight: 3.7; apple_tree_height_meters: 1.5; apple_tree_age_years: 0.2\n",
      "apple_height: 4.8; apple_weight: 3.4; apple_tree_height_meters: 1.6; apple_tree_age_years: 0.2\n",
      "apple_height: 4.8; apple_weight: 3.0; apple_tree_height_meters: 1.4; apple_tree_age_years: 0.1\n",
      "apple_height: 4.3; apple_weight: 3.0; apple_tree_height_meters: 1.1; apple_tree_age_years: 0.1\n",
      "apple_height: 5.8; apple_weight: 2.7; apple_tree_height_meters: 3.9; apple_tree_age_years: 1.2\n",
      "apple_height: 5.7; apple_weight: 4.4; apple_tree_height_meters: 1.5; apple_tree_age_years: 0.4\n",
      "apple_height: 5.4; apple_\n"
     ]
    }
   ],
   "source": [
    "from langchain.chains import LLMChain\n",
    "chain = LLMChain(llm=llm, prompt=prompt)\n",
    "\n",
    "# Run the chain only specifying the input variable.\n",
    "print(chain.run(users=\"\\n\".join(rows_list), context=\"\\n\".join([row.page_content for row in relevant_rows])))"
   ]
  },
  {
   "cell_type": "code",
   "execution_count": null,
   "metadata": {},
   "outputs": [],
   "source": []
  },
  {
   "cell_type": "code",
   "execution_count": null,
   "metadata": {},
   "outputs": [],
   "source": []
  },
  {
   "cell_type": "code",
   "execution_count": null,
   "metadata": {},
   "outputs": [],
   "source": []
  },
  {
   "cell_type": "code",
   "execution_count": null,
   "metadata": {},
   "outputs": [],
   "source": []
  },
  {
   "cell_type": "code",
   "execution_count": null,
   "metadata": {},
   "outputs": [],
   "source": []
  },
  {
   "cell_type": "code",
   "execution_count": null,
   "metadata": {},
   "outputs": [],
   "source": []
  },
  {
   "cell_type": "code",
   "execution_count": null,
   "metadata": {},
   "outputs": [],
   "source": []
  },
  {
   "cell_type": "code",
   "execution_count": null,
   "metadata": {},
   "outputs": [],
   "source": []
  },
  {
   "cell_type": "code",
   "execution_count": null,
   "metadata": {},
   "outputs": [],
   "source": []
  },
  {
   "cell_type": "markdown",
   "metadata": {
    "application/vnd.databricks.v1+cell": {
     "cellMetadata": {},
     "inputWidgets": {},
     "nuid": "bd969096-5ec4-427d-b13b-58005111ed4b",
     "showTitle": false,
     "title": ""
    }
   },
   "source": [
    "#Tesmp"
   ]
  },
  {
   "cell_type": "code",
   "execution_count": 6,
   "metadata": {
    "application/vnd.databricks.v1+cell": {
     "cellMetadata": {
      "byteLimit": 2048000,
      "rowLimit": 10000
     },
     "inputWidgets": {},
     "nuid": "a6ec9c91-496a-4f5b-9545-8ddc60a01829",
     "showTitle": false,
     "title": ""
    }
   },
   "outputs": [
    {
     "name": "stdout",
     "output_type": "stream",
     "text": [
      "Looking in indexes: https://pypi.org/simple, https://pypi.ngc.nvidia.com\n",
      "Collecting zipp==3.15\n",
      "  Downloading zipp-3.15.0-py3-none-any.whl (6.8 kB)\n",
      "Collecting langchain\n",
      "  Downloading langchain-0.1.9-py3-none-any.whl (816 kB)\n",
      "     |████████████████████████████████| 816 kB 2.2 MB/s            \n",
      "\u001b[?25hCollecting gpt4all\n",
      "  Downloading gpt4all-2.2.1.post1-py3-none-macosx_10_15_universal2.whl (5.8 MB)\n",
      "     |████████████████████████████████| 5.8 MB 12.7 MB/s            \n",
      "\u001b[?25hCollecting pypdf==3.13.0\n",
      "  Downloading pypdf-3.13.0-py3-none-any.whl (256 kB)\n",
      "     |████████████████████████████████| 256 kB 11.7 MB/s            \n",
      "\u001b[?25hCollecting chromadb\n",
      "  Downloading chromadb-0.4.23-py3-none-any.whl (521 kB)\n",
      "     |████████████████████████████████| 521 kB 18.8 MB/s            \n",
      "\u001b[?25hCollecting sentence_transformers\n",
      "  Downloading sentence_transformers-2.4.0-py3-none-any.whl (149 kB)\n",
      "     |████████████████████████████████| 149 kB 29.4 MB/s            \n",
      "\u001b[?25hCollecting InstructorEmbedding\n",
      "  Downloading InstructorEmbedding-1.0.1-py2.py3-none-any.whl (19 kB)\n",
      "Collecting fastapi\n",
      "  Downloading fastapi-0.110.0-py3-none-any.whl (92 kB)\n",
      "     |████████████████████████████████| 92 kB 30.7 MB/s            \n",
      "\u001b[?25hCollecting redis\n",
      "  Downloading redis-5.0.1-py3-none-any.whl (250 kB)\n",
      "     |████████████████████████████████| 250 kB 29.8 MB/s            \n",
      "\u001b[?25hCollecting pydantic==1.10.13\n",
      "  Downloading pydantic-1.10.13-cp39-cp39-macosx_10_9_x86_64.whl (2.9 MB)\n",
      "     |████████████████████████████████| 2.9 MB 18.9 MB/s            \n",
      "\u001b[?25hCollecting typing_extensions>=3.10.0.0\n",
      "  Downloading typing_extensions-4.10.0-py3-none-any.whl (33 kB)\n",
      "Collecting PyYAML>=5.3\n",
      "  Downloading PyYAML-6.0.1-cp39-cp39-macosx_10_9_x86_64.whl (197 kB)\n",
      "     |████████████████████████████████| 197 kB 22.6 MB/s            \n",
      "\u001b[?25hCollecting async-timeout<5.0.0,>=4.0.0\n",
      "  Downloading async_timeout-4.0.3-py3-none-any.whl (5.7 kB)\n",
      "Collecting requests<3,>=2\n",
      "  Downloading requests-2.31.0-py3-none-any.whl (62 kB)\n",
      "     |████████████████████████████████| 62 kB 25.4 MB/s            \n",
      "\u001b[?25hCollecting jsonpatch<2.0,>=1.33\n",
      "  Downloading jsonpatch-1.33-py2.py3-none-any.whl (12 kB)\n",
      "Collecting langchain-community<0.1,>=0.0.21\n",
      "  Downloading langchain_community-0.0.24-py3-none-any.whl (1.7 MB)\n",
      "     |████████████████████████████████| 1.7 MB 40.3 MB/s            \n",
      "\u001b[?25hCollecting dataclasses-json<0.7,>=0.5.7\n",
      "  Downloading dataclasses_json-0.6.4-py3-none-any.whl (28 kB)\n",
      "Collecting SQLAlchemy<3,>=1.4\n",
      "  Downloading SQLAlchemy-2.0.27-cp39-cp39-macosx_10_9_x86_64.whl (2.1 MB)\n",
      "     |████████████████████████████████| 2.1 MB 24.2 MB/s            \n",
      "\u001b[?25hCollecting langchain-core<0.2,>=0.1.26\n",
      "  Downloading langchain_core-0.1.26-py3-none-any.whl (246 kB)\n",
      "     |████████████████████████████████| 246 kB 3.9 MB/s            \n",
      "\u001b[?25hCollecting langsmith<0.2.0,>=0.1.0\n",
      "  Downloading langsmith-0.1.8-py3-none-any.whl (62 kB)\n",
      "     |████████████████████████████████| 62 kB 16.1 MB/s            \n",
      "\u001b[?25hCollecting numpy<2,>=1\n",
      "  Downloading numpy-1.26.4-cp39-cp39-macosx_10_9_x86_64.whl (20.6 MB)\n",
      "     |████████████████████████████████| 20.6 MB 24.1 MB/s            \n",
      "\u001b[?25hCollecting aiohttp<4.0.0,>=3.8.3\n",
      "  Downloading aiohttp-3.9.3-cp39-cp39-macosx_10_9_x86_64.whl (398 kB)\n",
      "     |████████████████████████████████| 398 kB 28.5 MB/s            \n",
      "\u001b[?25hCollecting tenacity<9.0.0,>=8.1.0\n",
      "  Downloading tenacity-8.2.3-py3-none-any.whl (24 kB)\n",
      "Collecting tqdm\n",
      "  Downloading tqdm-4.66.2-py3-none-any.whl (78 kB)\n",
      "     |████████████████████████████████| 78 kB 37.1 MB/s            \n",
      "\u001b[?25hCollecting pypika>=0.48.9\n",
      "  Downloading PyPika-0.48.9.tar.gz (67 kB)\n",
      "     |████████████████████████████████| 67 kB 31.6 MB/s            \n",
      "\u001b[?25h  Installing build dependencies ... \u001b[?25ldone\n",
      "\u001b[?25h  Getting requirements to build wheel ... \u001b[?25ldone\n",
      "\u001b[?25h  Preparing metadata (pyproject.toml) ... \u001b[?25ldone\n",
      "\u001b[?25hCollecting onnxruntime>=1.14.1\n",
      "  Downloading onnxruntime-1.16.3-cp39-cp39-macosx_10_15_x86_64.whl (7.1 MB)\n",
      "     |████████████████████████████████| 7.1 MB 203 kB/s             \n",
      "\u001b[?25hCollecting grpcio>=1.58.0\n",
      "  Downloading grpcio-1.62.0-cp39-cp39-macosx_10_10_universal2.whl (10.1 MB)\n",
      "     |████████████████████████████████| 10.1 MB 16.0 MB/s            \n",
      "\u001b[?25hCollecting kubernetes>=28.1.0\n",
      "  Downloading kubernetes-29.0.0-py2.py3-none-any.whl (1.6 MB)\n",
      "     |████████████████████████████████| 1.6 MB 24.1 MB/s            \n",
      "\u001b[?25hCollecting pulsar-client>=3.1.0\n",
      "  Downloading pulsar_client-3.4.0-cp39-cp39-macosx_10_15_universal2.whl (10.9 MB)\n",
      "     |████████████████████████████████| 10.9 MB 14.9 MB/s            \n",
      "\u001b[?25hCollecting tokenizers>=0.13.2\n",
      "  Downloading tokenizers-0.15.2-cp39-cp39-macosx_10_12_x86_64.whl (2.6 MB)\n",
      "     |████████████████████████████████| 2.6 MB 23.0 MB/s            \n",
      "\u001b[?25hCollecting opentelemetry-instrumentation-fastapi>=0.41b0\n",
      "  Downloading opentelemetry_instrumentation_fastapi-0.44b0-py3-none-any.whl (11 kB)\n",
      "Collecting overrides>=7.3.1\n",
      "  Downloading overrides-7.7.0-py3-none-any.whl (17 kB)\n",
      "Collecting uvicorn[standard]>=0.18.3\n",
      "  Downloading uvicorn-0.27.1-py3-none-any.whl (60 kB)\n",
      "     |████████████████████████████████| 60 kB 38.6 MB/s            \n",
      "\u001b[?25hCollecting posthog>=2.4.0\n",
      "  Downloading posthog-3.4.2-py2.py3-none-any.whl (41 kB)\n",
      "     |████████████████████████████████| 41 kB 7.5 MB/s             \n",
      "\u001b[?25hCollecting mmh3>=4.0.1\n",
      "  Downloading mmh3-4.1.0-cp39-cp39-macosx_10_9_x86_64.whl (29 kB)\n",
      "Collecting chroma-hnswlib==0.7.3\n",
      "  Downloading chroma_hnswlib-0.7.3-cp39-cp39-macosx_10_9_x86_64.whl (219 kB)\n",
      "     |████████████████████████████████| 219 kB 26.5 MB/s            \n",
      "\u001b[?25hCollecting importlib-resources\n",
      "  Downloading importlib_resources-6.1.2-py3-none-any.whl (34 kB)\n",
      "Collecting opentelemetry-api>=1.2.0\n",
      "  Downloading opentelemetry_api-1.23.0-py3-none-any.whl (58 kB)\n",
      "     |████████████████████████████████| 58 kB 29.2 MB/s            \n",
      "\u001b[?25hCollecting typer>=0.9.0\n",
      "  Downloading typer-0.9.0-py3-none-any.whl (45 kB)\n",
      "     |████████████████████████████████| 45 kB 20.6 MB/s            \n",
      "\u001b[?25hCollecting build>=1.0.3\n",
      "  Downloading build-1.0.3-py3-none-any.whl (18 kB)\n",
      "Collecting opentelemetry-sdk>=1.2.0\n",
      "  Downloading opentelemetry_sdk-1.23.0-py3-none-any.whl (105 kB)\n",
      "     |████████████████████████████████| 105 kB 38.0 MB/s            \n",
      "\u001b[?25hCollecting opentelemetry-exporter-otlp-proto-grpc>=1.2.0\n",
      "  Downloading opentelemetry_exporter_otlp_proto_grpc-1.23.0-py3-none-any.whl (18 kB)\n",
      "Collecting bcrypt>=4.0.1\n",
      "  Downloading bcrypt-4.1.2-cp39-abi3-macosx_10_12_universal2.whl (528 kB)\n",
      "     |████████████████████████████████| 528 kB 23.8 MB/s            \n",
      "\u001b[?25hCollecting orjson>=3.9.12\n",
      "  Downloading orjson-3.9.15-cp39-cp39-macosx_10_15_x86_64.macosx_11_0_arm64.macosx_10_15_universal2.whl (248 kB)\n",
      "     |████████████████████████████████| 248 kB 25.4 MB/s            \n",
      "\u001b[?25hCollecting scikit-learn\n",
      "  Downloading scikit_learn-1.4.1.post1-cp39-cp39-macosx_10_9_x86_64.whl (11.6 MB)\n",
      "     |████████████████████████████████| 11.6 MB 40.0 MB/s            \n",
      "\u001b[?25hCollecting scipy\n",
      "  Downloading scipy-1.12.0-cp39-cp39-macosx_10_9_x86_64.whl (38.9 MB)\n",
      "     |████████████████████████████████| 38.9 MB 21.6 MB/s            \n",
      "\u001b[?25hCollecting torch>=1.11.0\n",
      "  Downloading torch-2.2.1-cp39-none-macosx_10_9_x86_64.whl (150.8 MB)\n",
      "     |████████████████████████████████| 150.8 MB 14.1 MB/s            \n",
      "\u001b[?25hCollecting huggingface-hub>=0.15.1\n",
      "  Downloading huggingface_hub-0.20.3-py3-none-any.whl (330 kB)\n",
      "     |████████████████████████████████| 330 kB 43.5 MB/s            \n",
      "\u001b[?25hCollecting Pillow\n",
      "  Downloading pillow-10.2.0-cp39-cp39-macosx_10_10_x86_64.whl (3.5 MB)\n",
      "     |████████████████████████████████| 3.5 MB 17.2 MB/s            \n",
      "\u001b[?25hCollecting transformers<5.0.0,>=4.32.0\n",
      "  Downloading transformers-4.38.1-py3-none-any.whl (8.5 MB)\n",
      "     |████████████████████████████████| 8.5 MB 27.6 MB/s            \n",
      "\u001b[?25hCollecting starlette<0.37.0,>=0.36.3\n",
      "  Downloading starlette-0.36.3-py3-none-any.whl (71 kB)\n",
      "     |████████████████████████████████| 71 kB 35.9 MB/s            \n",
      "\u001b[?25hCollecting yarl<2.0,>=1.0\n",
      "  Downloading yarl-1.9.4-cp39-cp39-macosx_10_9_x86_64.whl (83 kB)\n",
      "     |████████████████████████████████| 83 kB 31.7 MB/s            \n",
      "\u001b[?25hCollecting aiosignal>=1.1.2\n",
      "  Downloading aiosignal-1.3.1-py3-none-any.whl (7.6 kB)\n"
     ]
    },
    {
     "name": "stdout",
     "output_type": "stream",
     "text": [
      "Collecting frozenlist>=1.1.1\n",
      "  Downloading frozenlist-1.4.1-cp39-cp39-macosx_10_9_x86_64.whl (55 kB)\n",
      "     |████████████████████████████████| 55 kB 40.9 MB/s            \n",
      "\u001b[?25hCollecting multidict<7.0,>=4.5\n",
      "  Downloading multidict-6.0.5-cp39-cp39-macosx_10_9_x86_64.whl (30 kB)\n",
      "Collecting attrs>=17.3.0\n",
      "  Downloading attrs-23.2.0-py3-none-any.whl (60 kB)\n",
      "     |████████████████████████████████| 60 kB 32.0 MB/s            \n",
      "\u001b[?25hCollecting importlib-metadata>=4.6\n",
      "  Downloading importlib_metadata-7.0.1-py3-none-any.whl (23 kB)\n",
      "Collecting tomli>=1.1.0\n",
      "  Downloading tomli-2.0.1-py3-none-any.whl (12 kB)\n",
      "Collecting packaging>=19.0\n",
      "  Downloading packaging-23.2-py3-none-any.whl (53 kB)\n",
      "     |████████████████████████████████| 53 kB 20.5 MB/s            \n",
      "\u001b[?25hCollecting pyproject_hooks\n",
      "  Downloading pyproject_hooks-1.0.0-py3-none-any.whl (9.3 kB)\n",
      "Collecting marshmallow<4.0.0,>=3.18.0\n",
      "  Downloading marshmallow-3.20.2-py3-none-any.whl (49 kB)\n",
      "     |████████████████████████████████| 49 kB 33.3 MB/s            \n",
      "\u001b[?25hCollecting typing-inspect<1,>=0.4.0\n",
      "  Downloading typing_inspect-0.9.0-py3-none-any.whl (8.8 kB)\n",
      "Collecting filelock\n",
      "  Downloading filelock-3.13.1-py3-none-any.whl (11 kB)\n",
      "Collecting fsspec>=2023.5.0\n",
      "  Downloading fsspec-2024.2.0-py3-none-any.whl (170 kB)\n",
      "     |████████████████████████████████| 170 kB 41.0 MB/s            \n",
      "\u001b[?25hCollecting jsonpointer>=1.9\n",
      "  Downloading jsonpointer-2.4-py2.py3-none-any.whl (7.8 kB)\n",
      "Collecting google-auth>=1.0.1\n",
      "  Downloading google_auth-2.28.1-py2.py3-none-any.whl (186 kB)\n",
      "     |████████████████████████████████| 186 kB 33.2 MB/s            \n",
      "\u001b[?25hCollecting certifi>=14.05.14\n",
      "  Downloading certifi-2024.2.2-py3-none-any.whl (163 kB)\n",
      "     |████████████████████████████████| 163 kB 29.0 MB/s            \n",
      "\u001b[?25hCollecting six>=1.9.0\n",
      "  Downloading six-1.16.0-py2.py3-none-any.whl (11 kB)\n",
      "Collecting python-dateutil>=2.5.3\n",
      "  Downloading python_dateutil-2.8.2-py2.py3-none-any.whl (247 kB)\n",
      "     |████████████████████████████████| 247 kB 21.4 MB/s            \n",
      "\u001b[?25hCollecting oauthlib>=3.2.2\n",
      "  Downloading oauthlib-3.2.2-py3-none-any.whl (151 kB)\n",
      "     |████████████████████████████████| 151 kB 49.1 MB/s            \n",
      "\u001b[?25hCollecting urllib3>=1.24.2\n",
      "  Downloading urllib3-2.2.1-py3-none-any.whl (121 kB)\n",
      "     |████████████████████████████████| 121 kB 34.5 MB/s            \n",
      "\u001b[?25hCollecting requests-oauthlib\n",
      "  Downloading requests_oauthlib-1.3.1-py2.py3-none-any.whl (23 kB)\n",
      "Collecting websocket-client!=0.40.0,!=0.41.*,!=0.42.*,>=0.32.0\n",
      "  Downloading websocket_client-1.7.0-py3-none-any.whl (58 kB)\n",
      "     |████████████████████████████████| 58 kB 30.6 MB/s            \n",
      "\u001b[?25hCollecting anyio<5,>=3\n",
      "  Downloading anyio-4.3.0-py3-none-any.whl (85 kB)\n",
      "     |████████████████████████████████| 85 kB 30.0 MB/s            \n",
      "\u001b[?25hCollecting protobuf\n",
      "  Downloading protobuf-4.25.3-cp37-abi3-macosx_10_9_universal2.whl (394 kB)\n",
      "     |████████████████████████████████| 394 kB 27.8 MB/s            \n",
      "\u001b[?25hCollecting sympy\n",
      "  Downloading sympy-1.12-py3-none-any.whl (5.7 MB)\n",
      "     |████████████████████████████████| 5.7 MB 19.0 MB/s            \n",
      "\u001b[?25hCollecting flatbuffers\n",
      "  Downloading flatbuffers-23.5.26-py2.py3-none-any.whl (26 kB)\n",
      "Collecting coloredlogs\n",
      "  Downloading coloredlogs-15.0.1-py2.py3-none-any.whl (46 kB)\n",
      "     |████████████████████████████████| 46 kB 19.2 MB/s            \n",
      "\u001b[?25hCollecting deprecated>=1.2.6\n",
      "  Downloading Deprecated-1.2.14-py2.py3-none-any.whl (9.6 kB)\n",
      "Collecting importlib-metadata>=4.6\n",
      "  Downloading importlib_metadata-6.11.0-py3-none-any.whl (23 kB)\n",
      "Collecting opentelemetry-proto==1.23.0\n",
      "  Downloading opentelemetry_proto-1.23.0-py3-none-any.whl (50 kB)\n",
      "     |████████████████████████████████| 50 kB 18.4 MB/s            \n",
      "\u001b[?25hCollecting googleapis-common-protos~=1.52\n",
      "  Downloading googleapis_common_protos-1.62.0-py2.py3-none-any.whl (228 kB)\n",
      "     |████████████████████████████████| 228 kB 48.7 MB/s            \n",
      "\u001b[?25hCollecting opentelemetry-exporter-otlp-proto-common==1.23.0\n",
      "  Downloading opentelemetry_exporter_otlp_proto_common-1.23.0-py3-none-any.whl (17 kB)\n",
      "Collecting opentelemetry-util-http==0.44b0\n",
      "  Downloading opentelemetry_util_http-0.44b0-py3-none-any.whl (6.9 kB)\n",
      "Collecting opentelemetry-instrumentation==0.44b0\n",
      "  Downloading opentelemetry_instrumentation-0.44b0-py3-none-any.whl (28 kB)\n",
      "Collecting opentelemetry-instrumentation-asgi==0.44b0\n",
      "  Downloading opentelemetry_instrumentation_asgi-0.44b0-py3-none-any.whl (14 kB)\n",
      "Collecting opentelemetry-semantic-conventions==0.44b0\n",
      "  Downloading opentelemetry_semantic_conventions-0.44b0-py3-none-any.whl (36 kB)\n",
      "Collecting setuptools>=16.0\n",
      "  Downloading setuptools-69.1.1-py3-none-any.whl (819 kB)\n",
      "     |████████████████████████████████| 819 kB 7.7 MB/s            \n",
      "\u001b[?25hCollecting wrapt<2.0.0,>=1.0.0\n",
      "  Downloading wrapt-1.16.0-cp39-cp39-macosx_10_9_x86_64.whl (37 kB)\n",
      "Collecting asgiref~=3.0\n",
      "  Downloading asgiref-3.7.2-py3-none-any.whl (24 kB)\n",
      "Collecting monotonic>=1.5\n",
      "  Downloading monotonic-1.6-py2.py3-none-any.whl (8.2 kB)\n",
      "Collecting backoff>=1.10.0\n",
      "  Downloading backoff-2.2.1-py3-none-any.whl (15 kB)\n",
      "Collecting idna<4,>=2.5\n",
      "  Downloading idna-3.6-py3-none-any.whl (61 kB)\n",
      "     |████████████████████████████████| 61 kB 6.5 MB/s             \n",
      "\u001b[?25hCollecting charset-normalizer<4,>=2\n",
      "  Downloading charset_normalizer-3.3.2-cp39-cp39-macosx_10_9_x86_64.whl (122 kB)\n",
      "     |████████████████████████████████| 122 kB 14.3 MB/s            \n",
      "\u001b[?25hCollecting greenlet!=0.4.17\n",
      "  Downloading greenlet-3.0.3.tar.gz (182 kB)\n",
      "     |████████████████████████████████| 182 kB 35.9 MB/s            \n",
      "\u001b[?25h  Installing build dependencies ... \u001b[?25ldone\n",
      "\u001b[?25h  Getting requirements to build wheel ... \u001b[?25ldone\n",
      "\u001b[?25h  Installing backend dependencies ... \u001b[?25ldone\n",
      "\u001b[?25h  Preparing metadata (pyproject.toml) ... \u001b[?25ldone\n",
      "\u001b[?25hCollecting jinja2\n",
      "  Downloading Jinja2-3.1.3-py3-none-any.whl (133 kB)\n",
      "     |████████████████████████████████| 133 kB 28.3 MB/s            \n",
      "\u001b[?25hCollecting networkx\n",
      "  Downloading networkx-3.2.1-py3-none-any.whl (1.6 MB)\n",
      "     |████████████████████████████████| 1.6 MB 25.5 MB/s            \n",
      "\u001b[?25hCollecting safetensors>=0.4.1\n",
      "  Downloading safetensors-0.4.2-cp39-cp39-macosx_10_12_x86_64.whl (426 kB)\n",
      "     |████████████████████████████████| 426 kB 37.5 MB/s            \n",
      "\u001b[?25hCollecting regex!=2019.12.17\n",
      "  Downloading regex-2023.12.25-cp39-cp39-macosx_10_9_x86_64.whl (296 kB)\n",
      "     |████████████████████████████████| 296 kB 22.3 MB/s            \n",
      "\u001b[?25hCollecting click<9.0.0,>=7.1.1\n",
      "  Downloading click-8.1.7-py3-none-any.whl (97 kB)\n",
      "     |████████████████████████████████| 97 kB 31.9 MB/s            \n",
      "\u001b[?25hCollecting h11>=0.8\n",
      "  Downloading h11-0.14.0-py3-none-any.whl (58 kB)\n",
      "     |████████████████████████████████| 58 kB 22.3 MB/s            \n",
      "\u001b[?25hCollecting python-dotenv>=0.13\n",
      "  Downloading python_dotenv-1.0.1-py3-none-any.whl (19 kB)\n",
      "Collecting websockets>=10.4\n",
      "  Downloading websockets-12.0-cp39-cp39-macosx_10_9_x86_64.whl (121 kB)\n",
      "     |████████████████████████████████| 121 kB 42.4 MB/s            \n",
      "\u001b[?25hCollecting watchfiles>=0.13\n",
      "  Downloading watchfiles-0.21.0-cp39-cp39-macosx_10_7_x86_64.whl (428 kB)\n",
      "     |████████████████████████████████| 428 kB 44.0 MB/s            \n",
      "\u001b[?25hCollecting httptools>=0.5.0\n",
      "  Downloading httptools-0.6.1-cp39-cp39-macosx_10_9_x86_64.whl (79 kB)\n",
      "     |████████████████████████████████| 79 kB 40.0 MB/s            \n",
      "\u001b[?25hCollecting uvloop!=0.15.0,!=0.15.1,>=0.14.0\n",
      "  Downloading uvloop-0.19.0-cp39-cp39-macosx_10_9_x86_64.whl (808 kB)\n",
      "     |████████████████████████████████| 808 kB 32.9 MB/s            \n",
      "\u001b[?25hCollecting joblib>=1.2.0\n",
      "  Downloading joblib-1.3.2-py3-none-any.whl (302 kB)\n",
      "     |████████████████████████████████| 302 kB 24.3 MB/s            \n",
      "\u001b[?25hCollecting threadpoolctl>=2.0.0\n",
      "  Downloading threadpoolctl-3.3.0-py3-none-any.whl (17 kB)\n",
      "Collecting exceptiongroup>=1.0.2\n",
      "  Downloading exceptiongroup-1.2.0-py3-none-any.whl (16 kB)\n",
      "Collecting sniffio>=1.1\n",
      "  Downloading sniffio-1.3.1-py3-none-any.whl (10 kB)\n",
      "Collecting cachetools<6.0,>=2.0.0\n",
      "  Downloading cachetools-5.3.2-py3-none-any.whl (9.3 kB)\n",
      "Collecting pyasn1-modules>=0.2.1\n",
      "  Downloading pyasn1_modules-0.3.0-py2.py3-none-any.whl (181 kB)\n",
      "     |████████████████████████████████| 181 kB 41.6 MB/s            \n",
      "\u001b[?25hCollecting rsa<5,>=3.1.4\n"
     ]
    },
    {
     "name": "stdout",
     "output_type": "stream",
     "text": [
      "  Downloading rsa-4.9-py3-none-any.whl (34 kB)\n",
      "Collecting mypy-extensions>=0.3.0\n",
      "  Downloading mypy_extensions-1.0.0-py3-none-any.whl (4.7 kB)\n",
      "Collecting humanfriendly>=9.1\n",
      "  Downloading humanfriendly-10.0-py2.py3-none-any.whl (86 kB)\n",
      "     |████████████████████████████████| 86 kB 36.1 MB/s            \n",
      "\u001b[?25hCollecting MarkupSafe>=2.0\n",
      "  Downloading MarkupSafe-2.1.5-cp39-cp39-macosx_10_9_x86_64.whl (14 kB)\n",
      "Collecting mpmath>=0.19\n",
      "  Downloading mpmath-1.3.0-py3-none-any.whl (536 kB)\n",
      "     |████████████████████████████████| 536 kB 32.4 MB/s            \n",
      "\u001b[?25hCollecting pyasn1<0.6.0,>=0.4.6\n",
      "  Downloading pyasn1-0.5.1-py2.py3-none-any.whl (84 kB)\n",
      "     |████████████████████████████████| 84 kB 40.0 MB/s            \n",
      "\u001b[?25hBuilding wheels for collected packages: pypika, greenlet\n",
      "  Building wheel for pypika (pyproject.toml) ... \u001b[?25ldone\n",
      "\u001b[?25h  Created wheel for pypika: filename=PyPika-0.48.9-py2.py3-none-any.whl size=53723 sha256=058cc59b34d16d5cb82de1dfb0e358b297d4f42499d777a44acaa115b5e6c8a0\n",
      "  Stored in directory: /private/var/folders/g1/wqd2jbyj7v5cdjc49p0f_1200000gq/T/pip-ephem-wheel-cache-6w29_ld7/wheels/f7/02/64/d541eac67ec459309d1fb19e727f58ecf7ffb4a8bf42d4cfe5\n",
      "  Building wheel for greenlet (pyproject.toml) ... \u001b[?25ldone\n",
      "\u001b[?25h  Created wheel for greenlet: filename=greenlet-3.0.3-cp39-cp39-macosx_10_9_x86_64.whl size=213476 sha256=49f24dc76c699df1b0709ec510669a18754c80407a7895c9b3b94561385ee9cf\n",
      "  Stored in directory: /private/var/folders/g1/wqd2jbyj7v5cdjc49p0f_1200000gq/T/pip-ephem-wheel-cache-6w29_ld7/wheels/4e/b7/50/fef77b0dafc995530497e09a5123f00b1e68c9d305e9cf37e5\n",
      "Successfully built pypika greenlet\n",
      "Installing collected packages: zipp, wrapt, urllib3, typing-extensions, importlib-metadata, idna, deprecated, charset-normalizer, certifi, tqdm, sniffio, setuptools, requests, PyYAML, pydantic, pyasn1, protobuf, packaging, orjson, opentelemetry-api, mypy-extensions, multidict, jsonpointer, fsspec, frozenlist, filelock, exceptiongroup, yarl, typing-inspect, tomli, tenacity, six, rsa, pyasn1-modules, opentelemetry-util-http, opentelemetry-semantic-conventions, opentelemetry-proto, opentelemetry-instrumentation, oauthlib, numpy, mpmath, marshmallow, MarkupSafe, langsmith, jsonpatch, humanfriendly, huggingface-hub, h11, greenlet, click, cachetools, attrs, async-timeout, asgiref, anyio, aiosignal, websockets, websocket-client, watchfiles, uvloop, uvicorn, tokenizers, threadpoolctl, sympy, starlette, SQLAlchemy, scipy, safetensors, requests-oauthlib, regex, python-dotenv, python-dateutil, pyproject-hooks, opentelemetry-sdk, opentelemetry-instrumentation-asgi, opentelemetry-exporter-otlp-proto-common, networkx, monotonic, langchain-core, joblib, jinja2, httptools, grpcio, googleapis-common-protos, google-auth, flatbuffers, dataclasses-json, coloredlogs, backoff, aiohttp, typer, transformers, torch, scikit-learn, pypika, pulsar-client, posthog, Pillow, overrides, opentelemetry-instrumentation-fastapi, opentelemetry-exporter-otlp-proto-grpc, onnxruntime, mmh3, langchain-community, kubernetes, importlib-resources, fastapi, chroma-hnswlib, build, bcrypt, sentence-transformers, redis, pypdf, langchain, InstructorEmbedding, gpt4all, chromadb\n",
      "  Attempting uninstall: zipp\n",
      "    Found existing installation: zipp 3.8.0\n",
      "    Uninstalling zipp-3.8.0:\n",
      "      Successfully uninstalled zipp-3.8.0\n",
      "  Attempting uninstall: wrapt\n",
      "    Found existing installation: wrapt 1.14.1\n",
      "    Uninstalling wrapt-1.14.1:\n",
      "      Successfully uninstalled wrapt-1.14.1\n",
      "  Attempting uninstall: urllib3\n",
      "    Found existing installation: urllib3 1.26.18\n",
      "    Uninstalling urllib3-1.26.18:\n",
      "      Successfully uninstalled urllib3-1.26.18\n",
      "  Attempting uninstall: typing-extensions\n",
      "    Found existing installation: typing-extensions 4.8.0\n",
      "    Uninstalling typing-extensions-4.8.0:\n",
      "      Successfully uninstalled typing-extensions-4.8.0\n",
      "  Attempting uninstall: importlib-metadata\n",
      "    Found existing installation: importlib-metadata 6.11.0\n",
      "    Uninstalling importlib-metadata-6.11.0:\n",
      "      Successfully uninstalled importlib-metadata-6.11.0\n",
      "  Attempting uninstall: idna\n",
      "    Found existing installation: idna 3.3\n",
      "    Uninstalling idna-3.3:\n",
      "      Successfully uninstalled idna-3.3\n",
      "  Attempting uninstall: deprecated\n",
      "    Found existing installation: Deprecated 1.2.13\n",
      "    Uninstalling Deprecated-1.2.13:\n",
      "      Successfully uninstalled Deprecated-1.2.13\n",
      "  Attempting uninstall: charset-normalizer\n",
      "    Found existing installation: charset-normalizer 2.1.1\n",
      "    Uninstalling charset-normalizer-2.1.1:\n",
      "      Successfully uninstalled charset-normalizer-2.1.1\n",
      "  Attempting uninstall: certifi\n",
      "    Found existing installation: certifi 2023.11.17\n",
      "    Uninstalling certifi-2023.11.17:\n",
      "      Successfully uninstalled certifi-2023.11.17\n",
      "  Attempting uninstall: tqdm\n",
      "    Found existing installation: tqdm 4.66.1\n",
      "    Uninstalling tqdm-4.66.1:\n",
      "      Successfully uninstalled tqdm-4.66.1\n",
      "  Attempting uninstall: sniffio\n",
      "    Found existing installation: sniffio 1.2.0\n",
      "    Uninstalling sniffio-1.2.0:\n",
      "      Successfully uninstalled sniffio-1.2.0\n",
      "  Attempting uninstall: setuptools\n",
      "    Found existing installation: setuptools 60.2.0\n",
      "    Uninstalling setuptools-60.2.0:\n",
      "      Successfully uninstalled setuptools-60.2.0\n",
      "  Attempting uninstall: requests\n",
      "    Found existing installation: requests 2.28.1\n",
      "    Uninstalling requests-2.28.1:\n",
      "      Successfully uninstalled requests-2.28.1\n",
      "  Attempting uninstall: PyYAML\n",
      "    Found existing installation: PyYAML 6.0\n",
      "    Uninstalling PyYAML-6.0:\n",
      "      Successfully uninstalled PyYAML-6.0\n",
      "  Attempting uninstall: pydantic\n",
      "    Found existing installation: pydantic 1.10.13\n",
      "    Uninstalling pydantic-1.10.13:\n",
      "      Successfully uninstalled pydantic-1.10.13\n",
      "  Attempting uninstall: pyasn1\n",
      "    Found existing installation: pyasn1 0.4.8\n",
      "    Uninstalling pyasn1-0.4.8:\n",
      "      Successfully uninstalled pyasn1-0.4.8\n",
      "  Attempting uninstall: protobuf\n",
      "    Found existing installation: protobuf 4.21.9\n",
      "    Uninstalling protobuf-4.21.9:\n",
      "      Successfully uninstalled protobuf-4.21.9\n",
      "  Attempting uninstall: packaging\n",
      "    Found existing installation: packaging 23.2\n",
      "    Uninstalling packaging-23.2:\n",
      "      Successfully uninstalled packaging-23.2\n",
      "  Attempting uninstall: orjson\n",
      "    Found existing installation: orjson 3.9.15\n",
      "    Uninstalling orjson-3.9.15:\n",
      "      Successfully uninstalled orjson-3.9.15\n",
      "  Attempting uninstall: opentelemetry-api\n",
      "    Found existing installation: opentelemetry-api 1.23.0\n",
      "    Uninstalling opentelemetry-api-1.23.0:\n",
      "      Successfully uninstalled opentelemetry-api-1.23.0\n",
      "  Attempting uninstall: mypy-extensions\n",
      "    Found existing installation: mypy-extensions 0.4.3\n",
      "    Uninstalling mypy-extensions-0.4.3:\n",
      "      Successfully uninstalled mypy-extensions-0.4.3\n",
      "  Attempting uninstall: multidict\n",
      "    Found existing installation: multidict 6.0.2\n",
      "    Uninstalling multidict-6.0.2:\n",
      "      Successfully uninstalled multidict-6.0.2\n",
      "  Attempting uninstall: jsonpointer\n",
      "    Found existing installation: jsonpointer 2.4\n",
      "    Uninstalling jsonpointer-2.4:\n",
      "      Successfully uninstalled jsonpointer-2.4\n",
      "  Attempting uninstall: fsspec\n",
      "    Found existing installation: fsspec 2022.11.0\n",
      "    Uninstalling fsspec-2022.11.0:\n",
      "      Successfully uninstalled fsspec-2022.11.0\n",
      "  Attempting uninstall: frozenlist\n",
      "    Found existing installation: frozenlist 1.3.3\n",
      "    Uninstalling frozenlist-1.3.3:\n",
      "      Successfully uninstalled frozenlist-1.3.3\n",
      "  Attempting uninstall: filelock\n",
      "    Found existing installation: filelock 3.12.0\n",
      "    Uninstalling filelock-3.12.0:\n",
      "      Successfully uninstalled filelock-3.12.0\n",
      "  Attempting uninstall: exceptiongroup\n",
      "    Found existing installation: exceptiongroup 1.0.4\n",
      "    Uninstalling exceptiongroup-1.0.4:\n",
      "      Successfully uninstalled exceptiongroup-1.0.4\n",
      "  Attempting uninstall: yarl\n",
      "    Found existing installation: yarl 1.8.1\n",
      "    Uninstalling yarl-1.8.1:\n",
      "      Successfully uninstalled yarl-1.8.1\n",
      "  Attempting uninstall: typing-inspect\n",
      "    Found existing installation: typing-inspect 0.9.0\n",
      "    Uninstalling typing-inspect-0.9.0:\n",
      "      Successfully uninstalled typing-inspect-0.9.0\n",
      "  Attempting uninstall: tomli\n",
      "    Found existing installation: tomli 2.0.1\n",
      "    Uninstalling tomli-2.0.1:\n",
      "      Successfully uninstalled tomli-2.0.1\n",
      "  Attempting uninstall: tenacity\n",
      "    Found existing installation: tenacity 8.2.3\n",
      "    Uninstalling tenacity-8.2.3:\n",
      "      Successfully uninstalled tenacity-8.2.3\n",
      "  Attempting uninstall: six\n"
     ]
    },
    {
     "name": "stdout",
     "output_type": "stream",
     "text": [
      "    Found existing installation: six 1.16.0\n",
      "    Uninstalling six-1.16.0:\n",
      "      Successfully uninstalled six-1.16.0\n",
      "  Attempting uninstall: rsa\n",
      "    Found existing installation: rsa 4.7.2\n",
      "    Uninstalling rsa-4.7.2:\n",
      "      Successfully uninstalled rsa-4.7.2\n",
      "  Attempting uninstall: pyasn1-modules\n",
      "    Found existing installation: pyasn1-modules 0.2.8\n",
      "    Uninstalling pyasn1-modules-0.2.8:\n",
      "      Successfully uninstalled pyasn1-modules-0.2.8\n",
      "  Attempting uninstall: opentelemetry-util-http\n",
      "    Found existing installation: opentelemetry-util-http 0.44b0\n",
      "    Uninstalling opentelemetry-util-http-0.44b0:\n",
      "      Successfully uninstalled opentelemetry-util-http-0.44b0\n",
      "  Attempting uninstall: opentelemetry-semantic-conventions\n",
      "    Found existing installation: opentelemetry-semantic-conventions 0.44b0\n",
      "    Uninstalling opentelemetry-semantic-conventions-0.44b0:\n",
      "      Successfully uninstalled opentelemetry-semantic-conventions-0.44b0\n",
      "  Attempting uninstall: opentelemetry-proto\n",
      "    Found existing installation: opentelemetry-proto 1.23.0\n",
      "    Uninstalling opentelemetry-proto-1.23.0:\n",
      "      Successfully uninstalled opentelemetry-proto-1.23.0\n",
      "  Attempting uninstall: opentelemetry-instrumentation\n",
      "    Found existing installation: opentelemetry-instrumentation 0.44b0\n",
      "    Uninstalling opentelemetry-instrumentation-0.44b0:\n",
      "      Successfully uninstalled opentelemetry-instrumentation-0.44b0\n",
      "  Attempting uninstall: oauthlib\n",
      "    Found existing installation: oauthlib 3.2.2\n",
      "    Uninstalling oauthlib-3.2.2:\n",
      "      Successfully uninstalled oauthlib-3.2.2\n",
      "  Attempting uninstall: numpy\n",
      "    Found existing installation: numpy 1.24.4\n",
      "    Uninstalling numpy-1.24.4:\n",
      "      Successfully uninstalled numpy-1.24.4\n",
      "  Attempting uninstall: mpmath\n",
      "    Found existing installation: mpmath 1.2.1\n",
      "    Uninstalling mpmath-1.2.1:\n",
      "      Successfully uninstalled mpmath-1.2.1\n",
      "  Attempting uninstall: marshmallow\n",
      "    Found existing installation: marshmallow 3.19.0\n",
      "    Uninstalling marshmallow-3.19.0:\n",
      "      Successfully uninstalled marshmallow-3.19.0\n",
      "  Attempting uninstall: MarkupSafe\n",
      "    Found existing installation: MarkupSafe 2.1.2\n",
      "    Uninstalling MarkupSafe-2.1.2:\n",
      "      Successfully uninstalled MarkupSafe-2.1.2\n",
      "  Attempting uninstall: langsmith\n",
      "    Found existing installation: langsmith 0.1.8\n",
      "    Uninstalling langsmith-0.1.8:\n",
      "      Successfully uninstalled langsmith-0.1.8\n",
      "  Attempting uninstall: jsonpatch\n",
      "    Found existing installation: jsonpatch 1.33\n",
      "    Uninstalling jsonpatch-1.33:\n",
      "      Successfully uninstalled jsonpatch-1.33\n",
      "  Attempting uninstall: humanfriendly\n",
      "    Found existing installation: humanfriendly 10.0\n",
      "    Uninstalling humanfriendly-10.0:\n",
      "      Successfully uninstalled humanfriendly-10.0\n",
      "  Attempting uninstall: huggingface-hub\n",
      "    Found existing installation: huggingface-hub 0.17.3\n",
      "    Uninstalling huggingface-hub-0.17.3:\n",
      "      Successfully uninstalled huggingface-hub-0.17.3\n",
      "  Attempting uninstall: h11\n",
      "    Found existing installation: h11 0.14.0\n",
      "    Uninstalling h11-0.14.0:\n",
      "      Successfully uninstalled h11-0.14.0\n",
      "  Attempting uninstall: greenlet\n",
      "    Found existing installation: greenlet 1.1.1\n",
      "    Uninstalling greenlet-1.1.1:\n",
      "      Successfully uninstalled greenlet-1.1.1\n",
      "  Attempting uninstall: click\n",
      "    Found existing installation: click 8.1.3\n",
      "    Uninstalling click-8.1.3:\n",
      "      Successfully uninstalled click-8.1.3\n",
      "  Attempting uninstall: cachetools\n",
      "    Found existing installation: cachetools 5.3.2\n",
      "    Uninstalling cachetools-5.3.2:\n",
      "      Successfully uninstalled cachetools-5.3.2\n",
      "  Attempting uninstall: attrs\n",
      "    Found existing installation: attrs 23.1.0\n",
      "    Uninstalling attrs-23.1.0:\n",
      "      Successfully uninstalled attrs-23.1.0\n",
      "  Attempting uninstall: async-timeout\n",
      "    Found existing installation: async-timeout 4.0.2\n",
      "    Uninstalling async-timeout-4.0.2:\n",
      "      Successfully uninstalled async-timeout-4.0.2\n",
      "  Attempting uninstall: asgiref\n",
      "    Found existing installation: asgiref 3.7.2\n",
      "    Uninstalling asgiref-3.7.2:\n",
      "      Successfully uninstalled asgiref-3.7.2\n",
      "  Attempting uninstall: anyio\n",
      "    Found existing installation: anyio 3.7.1\n",
      "    Uninstalling anyio-3.7.1:\n",
      "      Successfully uninstalled anyio-3.7.1\n",
      "  Attempting uninstall: aiosignal\n",
      "    Found existing installation: aiosignal 1.3.1\n",
      "    Uninstalling aiosignal-1.3.1:\n",
      "      Successfully uninstalled aiosignal-1.3.1\n",
      "  Attempting uninstall: websockets\n",
      "    Found existing installation: websockets 11.0.3\n",
      "    Uninstalling websockets-11.0.3:\n",
      "      Successfully uninstalled websockets-11.0.3\n",
      "  Attempting uninstall: websocket-client\n",
      "    Found existing installation: websocket-client 0.58.0\n",
      "    Uninstalling websocket-client-0.58.0:\n",
      "      Successfully uninstalled websocket-client-0.58.0\n",
      "  Attempting uninstall: watchfiles\n",
      "    Found existing installation: watchfiles 0.21.0\n",
      "    Uninstalling watchfiles-0.21.0:\n",
      "      Successfully uninstalled watchfiles-0.21.0\n",
      "  Attempting uninstall: uvloop\n",
      "    Found existing installation: uvloop 0.18.0\n",
      "    Uninstalling uvloop-0.18.0:\n",
      "      Successfully uninstalled uvloop-0.18.0\n",
      "  Attempting uninstall: uvicorn\n",
      "    Found existing installation: uvicorn 0.23.2\n",
      "    Uninstalling uvicorn-0.23.2:\n",
      "      Successfully uninstalled uvicorn-0.23.2\n",
      "  Attempting uninstall: tokenizers\n",
      "    Found existing installation: tokenizers 0.14.1\n",
      "    Uninstalling tokenizers-0.14.1:\n",
      "      Successfully uninstalled tokenizers-0.14.1\n",
      "  Attempting uninstall: threadpoolctl\n",
      "    Found existing installation: threadpoolctl 2.2.0\n",
      "    Uninstalling threadpoolctl-2.2.0:\n",
      "      Successfully uninstalled threadpoolctl-2.2.0\n",
      "  Attempting uninstall: sympy\n",
      "    Found existing installation: sympy 1.10.1\n",
      "    Uninstalling sympy-1.10.1:\n",
      "      Successfully uninstalled sympy-1.10.1\n",
      "  Attempting uninstall: starlette\n",
      "    Found existing installation: starlette 0.27.0\n",
      "    Uninstalling starlette-0.27.0:\n",
      "      Successfully uninstalled starlette-0.27.0\n",
      "  Attempting uninstall: SQLAlchemy\n",
      "    Found existing installation: SQLAlchemy 1.4.48\n",
      "    Uninstalling SQLAlchemy-1.4.48:\n",
      "      Successfully uninstalled SQLAlchemy-1.4.48\n",
      "  Attempting uninstall: scipy\n",
      "    Found existing installation: scipy 1.8.0\n",
      "    Uninstalling scipy-1.8.0:\n",
      "      Successfully uninstalled scipy-1.8.0\n",
      "  Attempting uninstall: safetensors\n",
      "    Found existing installation: safetensors 0.4.2\n",
      "    Uninstalling safetensors-0.4.2:\n",
      "      Successfully uninstalled safetensors-0.4.2\n",
      "  Attempting uninstall: requests-oauthlib\n",
      "    Found existing installation: requests-oauthlib 1.3.1\n",
      "    Uninstalling requests-oauthlib-1.3.1:\n",
      "      Successfully uninstalled requests-oauthlib-1.3.1\n",
      "  Attempting uninstall: regex\n",
      "    Found existing installation: regex 2021.10.23\n",
      "    Uninstalling regex-2021.10.23:\n",
      "      Successfully uninstalled regex-2021.10.23\n",
      "  Attempting uninstall: python-dotenv\n",
      "    Found existing installation: python-dotenv 0.21.1\n",
      "    Uninstalling python-dotenv-0.21.1:\n",
      "      Successfully uninstalled python-dotenv-0.21.1\n",
      "  Attempting uninstall: python-dateutil\n",
      "    Found existing installation: python-dateutil 2.8.2\n",
      "    Uninstalling python-dateutil-2.8.2:\n",
      "      Successfully uninstalled python-dateutil-2.8.2\n",
      "  Attempting uninstall: pyproject-hooks\n",
      "    Found existing installation: pyproject-hooks 1.0.0\n",
      "    Uninstalling pyproject-hooks-1.0.0:\n",
      "      Successfully uninstalled pyproject-hooks-1.0.0\n",
      "  Attempting uninstall: opentelemetry-sdk\n",
      "    Found existing installation: opentelemetry-sdk 1.23.0\n",
      "    Uninstalling opentelemetry-sdk-1.23.0:\n",
      "      Successfully uninstalled opentelemetry-sdk-1.23.0\n",
      "  Attempting uninstall: opentelemetry-instrumentation-asgi\n",
      "    Found existing installation: opentelemetry-instrumentation-asgi 0.44b0\n",
      "    Uninstalling opentelemetry-instrumentation-asgi-0.44b0:\n",
      "      Successfully uninstalled opentelemetry-instrumentation-asgi-0.44b0\n",
      "  Attempting uninstall: opentelemetry-exporter-otlp-proto-common\n",
      "    Found existing installation: opentelemetry-exporter-otlp-proto-common 1.23.0\n",
      "    Uninstalling opentelemetry-exporter-otlp-proto-common-1.23.0:\n",
      "      Successfully uninstalled opentelemetry-exporter-otlp-proto-common-1.23.0\n",
      "  Attempting uninstall: networkx\n",
      "    Found existing installation: networkx 2.8.4\n",
      "    Uninstalling networkx-2.8.4:\n",
      "      Successfully uninstalled networkx-2.8.4\n",
      "  Attempting uninstall: monotonic\n",
      "    Found existing installation: monotonic 1.6\n",
      "    Uninstalling monotonic-1.6:\n"
     ]
    },
    {
     "name": "stdout",
     "output_type": "stream",
     "text": [
      "      Successfully uninstalled monotonic-1.6\n",
      "  Attempting uninstall: langchain-core\n",
      "    Found existing installation: langchain-core 0.1.26\n",
      "    Uninstalling langchain-core-0.1.26:\n",
      "      Successfully uninstalled langchain-core-0.1.26\n",
      "  Attempting uninstall: joblib\n",
      "    Found existing installation: joblib 1.2.0\n",
      "    Uninstalling joblib-1.2.0:\n",
      "      Successfully uninstalled joblib-1.2.0\n",
      "  Attempting uninstall: jinja2\n",
      "    Found existing installation: Jinja2 3.1.2\n",
      "    Uninstalling Jinja2-3.1.2:\n",
      "      Successfully uninstalled Jinja2-3.1.2\n",
      "  Attempting uninstall: httptools\n",
      "    Found existing installation: httptools 0.6.0\n",
      "    Uninstalling httptools-0.6.0:\n",
      "      Successfully uninstalled httptools-0.6.0\n",
      "  Attempting uninstall: grpcio\n",
      "    Found existing installation: grpcio 1.59.0\n",
      "    Uninstalling grpcio-1.59.0:\n",
      "      Successfully uninstalled grpcio-1.59.0\n",
      "  Attempting uninstall: googleapis-common-protos\n",
      "    Found existing installation: googleapis-common-protos 1.62.0\n",
      "    Uninstalling googleapis-common-protos-1.62.0:\n",
      "      Successfully uninstalled googleapis-common-protos-1.62.0\n",
      "  Attempting uninstall: google-auth\n",
      "    Found existing installation: google-auth 2.28.1\n",
      "    Uninstalling google-auth-2.28.1:\n",
      "      Successfully uninstalled google-auth-2.28.1\n",
      "  Attempting uninstall: flatbuffers\n",
      "    Found existing installation: flatbuffers 23.5.26\n",
      "    Uninstalling flatbuffers-23.5.26:\n",
      "      Successfully uninstalled flatbuffers-23.5.26\n",
      "  Attempting uninstall: dataclasses-json\n",
      "    Found existing installation: dataclasses-json 0.5.14\n",
      "    Uninstalling dataclasses-json-0.5.14:\n",
      "      Successfully uninstalled dataclasses-json-0.5.14\n",
      "  Attempting uninstall: coloredlogs\n",
      "    Found existing installation: coloredlogs 15.0.1\n",
      "    Uninstalling coloredlogs-15.0.1:\n",
      "      Successfully uninstalled coloredlogs-15.0.1\n",
      "  Attempting uninstall: backoff\n",
      "    Found existing installation: backoff 2.2.1\n",
      "    Uninstalling backoff-2.2.1:\n",
      "      Successfully uninstalled backoff-2.2.1\n",
      "  Attempting uninstall: aiohttp\n",
      "    Found existing installation: aiohttp 3.8.3\n",
      "    Uninstalling aiohttp-3.8.3:\n",
      "      Successfully uninstalled aiohttp-3.8.3\n",
      "  Attempting uninstall: typer\n",
      "    Found existing installation: typer 0.9.0\n",
      "    Uninstalling typer-0.9.0:\n",
      "      Successfully uninstalled typer-0.9.0\n",
      "  Attempting uninstall: transformers\n",
      "    Found existing installation: transformers 4.35.2\n",
      "    Uninstalling transformers-4.35.2:\n",
      "      Successfully uninstalled transformers-4.35.2\n",
      "  Attempting uninstall: torch\n",
      "    Found existing installation: torch 2.2.0\n",
      "    Uninstalling torch-2.2.0:\n",
      "      Successfully uninstalled torch-2.2.0\n",
      "  Attempting uninstall: scikit-learn\n",
      "    Found existing installation: scikit-learn 1.1.3\n",
      "    Uninstalling scikit-learn-1.1.3:\n",
      "      Successfully uninstalled scikit-learn-1.1.3\n",
      "  Attempting uninstall: pypika\n",
      "    Found existing installation: PyPika 0.48.9\n",
      "    Uninstalling PyPika-0.48.9:\n",
      "      Successfully uninstalled PyPika-0.48.9\n",
      "  Attempting uninstall: pulsar-client\n",
      "    Found existing installation: pulsar-client 3.3.0\n",
      "    Uninstalling pulsar-client-3.3.0:\n",
      "      Successfully uninstalled pulsar-client-3.3.0\n",
      "  Attempting uninstall: posthog\n",
      "    Found existing installation: posthog 3.0.2\n",
      "    Uninstalling posthog-3.0.2:\n",
      "      Successfully uninstalled posthog-3.0.2\n",
      "  Attempting uninstall: Pillow\n",
      "    Found existing installation: Pillow 9.2.0\n",
      "    Uninstalling Pillow-9.2.0:\n",
      "      Successfully uninstalled Pillow-9.2.0\n",
      "  Attempting uninstall: overrides\n",
      "    Found existing installation: overrides 7.4.0\n",
      "    Uninstalling overrides-7.4.0:\n",
      "      Successfully uninstalled overrides-7.4.0\n",
      "  Attempting uninstall: opentelemetry-instrumentation-fastapi\n",
      "    Found existing installation: opentelemetry-instrumentation-fastapi 0.44b0\n",
      "    Uninstalling opentelemetry-instrumentation-fastapi-0.44b0:\n",
      "      Successfully uninstalled opentelemetry-instrumentation-fastapi-0.44b0\n",
      "  Attempting uninstall: opentelemetry-exporter-otlp-proto-grpc\n",
      "    Found existing installation: opentelemetry-exporter-otlp-proto-grpc 1.23.0\n",
      "    Uninstalling opentelemetry-exporter-otlp-proto-grpc-1.23.0:\n",
      "      Successfully uninstalled opentelemetry-exporter-otlp-proto-grpc-1.23.0\n",
      "  Attempting uninstall: onnxruntime\n",
      "    Found existing installation: onnxruntime 1.16.1\n",
      "    Uninstalling onnxruntime-1.16.1:\n",
      "      Successfully uninstalled onnxruntime-1.16.1\n",
      "  Attempting uninstall: mmh3\n",
      "    Found existing installation: mmh3 4.1.0\n",
      "    Uninstalling mmh3-4.1.0:\n",
      "      Successfully uninstalled mmh3-4.1.0\n",
      "  Attempting uninstall: langchain-community\n",
      "    Found existing installation: langchain-community 0.0.24\n",
      "    Uninstalling langchain-community-0.0.24:\n",
      "      Successfully uninstalled langchain-community-0.0.24\n",
      "  Attempting uninstall: kubernetes\n",
      "    Found existing installation: kubernetes 29.0.0\n",
      "    Uninstalling kubernetes-29.0.0:\n",
      "      Successfully uninstalled kubernetes-29.0.0\n",
      "  Attempting uninstall: importlib-resources\n",
      "    Found existing installation: importlib-resources 1.5.0\n",
      "    Uninstalling importlib-resources-1.5.0:\n",
      "      Successfully uninstalled importlib-resources-1.5.0\n",
      "  Attempting uninstall: fastapi\n",
      "    Found existing installation: fastapi 0.103.2\n",
      "    Uninstalling fastapi-0.103.2:\n",
      "      Successfully uninstalled fastapi-0.103.2\n",
      "  Attempting uninstall: chroma-hnswlib\n",
      "    Found existing installation: chroma-hnswlib 0.7.3\n",
      "    Uninstalling chroma-hnswlib-0.7.3:\n",
      "      Successfully uninstalled chroma-hnswlib-0.7.3\n",
      "  Attempting uninstall: build\n",
      "    Found existing installation: build 1.0.3\n",
      "    Uninstalling build-1.0.3:\n",
      "      Successfully uninstalled build-1.0.3\n",
      "  Attempting uninstall: bcrypt\n",
      "    Found existing installation: bcrypt 4.0.1\n",
      "    Uninstalling bcrypt-4.0.1:\n",
      "      Successfully uninstalled bcrypt-4.0.1\n",
      "  Attempting uninstall: sentence-transformers\n",
      "    Found existing installation: sentence-transformers 2.2.2\n",
      "    Uninstalling sentence-transformers-2.2.2:\n",
      "      Successfully uninstalled sentence-transformers-2.2.2\n",
      "  Attempting uninstall: langchain\n",
      "    Found existing installation: langchain 0.1.9\n",
      "    Uninstalling langchain-0.1.9:\n",
      "      Successfully uninstalled langchain-0.1.9\n",
      "  Attempting uninstall: InstructorEmbedding\n",
      "    Found existing installation: InstructorEmbedding 1.0.1\n",
      "    Uninstalling InstructorEmbedding-1.0.1:\n",
      "      Successfully uninstalled InstructorEmbedding-1.0.1\n",
      "  Attempting uninstall: chromadb\n",
      "    Found existing installation: chromadb 0.4.23\n",
      "    Uninstalling chromadb-0.4.23:\n",
      "      Successfully uninstalled chromadb-0.4.23\n",
      "\u001b[31mERROR: pip's dependency resolver does not currently take into account all the packages that are installed. This behaviour is the source of the following dependency conflicts.\n",
      "spyder 5.3.3 requires pyqt5<5.16, which is not installed.\n",
      "spyder 5.3.3 requires pyqtwebengine<5.16, which is not installed.\n",
      "daal4py 2021.6.0 requires daal==2021.4.0, which is not installed.\n",
      "conda-repo-cli 1.0.20 requires pathlib, which is not installed.\n",
      "torchvision 0.17.0 requires torch==2.2.0, but you have torch 2.2.1 which is incompatible.\n",
      "spyder 5.3.3 requires ipython<8.0.0,>=7.31.1, but you have ipython 7.28.0 which is incompatible.\n",
      "s3fs 2022.11.0 requires fsspec==2022.11.0, but you have fsspec 2024.2.0 which is incompatible.\n",
      "poetry 1.3.2 requires importlib-metadata<5.0,>=4.4; python_version < \"3.10\", but you have importlib-metadata 6.11.0 which is incompatible.\n",
      "poetry 1.3.2 requires urllib3<2.0.0,>=1.26.0, but you have urllib3 2.2.1 which is incompatible.\n",
      "numba 0.55.1 requires numpy<1.22,>=1.18, but you have numpy 1.26.4 which is incompatible.\n",
      "mlflow 2.1.1 requires importlib-metadata!=4.7.0,<6,>=3.7.0, but you have importlib-metadata 6.11.0 which is incompatible.\n",
      "mlflow 2.1.1 requires packaging<23, but you have packaging 23.2 which is incompatible.\n",
      "mlflow 2.1.1 requires sqlalchemy<2,>=1.4.0, but you have sqlalchemy 2.0.27 which is incompatible.\n",
      "mlflow-skinny 2.0.0 requires importlib-metadata!=4.7.0,<6,>=3.7.0, but you have importlib-metadata 6.11.0 which is incompatible.\n",
      "mlflow-skinny 2.0.0 requires packaging<22, but you have packaging 23.2 which is incompatible.\n",
      "jupyter-server 1.18.1 requires anyio<4,>=3.1.0, but you have anyio 4.3.0 which is incompatible.\n",
      "flask-jwt-extended 3.25.1 requires Flask<2.0,>=1.0, but you have flask 2.3.2 which is incompatible.\n",
      "flask-appbuilder 3.4.5 requires Flask<2,>=0.12, but you have flask 2.3.2 which is incompatible.\n",
      "flask-appbuilder 3.4.5 requires SQLAlchemy<1.5, but you have sqlalchemy 2.0.27 which is incompatible.\n",
      "delta-spark 2.2.0 requires pyspark<3.4.0,>=3.3.0, but you have pyspark 3.5.0 which is incompatible.\n",
      "dbx 0.8.7 requires typer[all]==0.7.0, but you have typer 0.9.0 which is incompatible.\n",
      "databricks-sql-connector 2.2.1 requires numpy==1.23.4; python_version >= \"3.8\", but you have numpy 1.26.4 which is incompatible.\n",
      "databricks-sql-connector 2.2.1 requires pyarrow>=9.0.0; python_version >= \"3.7\" and python_version < \"3.11\", but you have pyarrow 8.0.0 which is incompatible.\n",
      "conda-repo-cli 1.0.20 requires clyent==1.2.1, but you have clyent 1.2.2 which is incompatible.\n",
      "conda-repo-cli 1.0.20 requires nbformat==5.4.0, but you have nbformat 5.5.0 which is incompatible.\n",
      "conda-repo-cli 1.0.20 requires PyYAML==6.0, but you have pyyaml 6.0.1 which is incompatible.\n",
      "conda-repo-cli 1.0.20 requires requests==2.28.1, but you have requests 2.31.0 which is incompatible.\n",
      "botocore 1.27.59 requires urllib3<1.27,>=1.25.4, but you have urllib3 2.2.1 which is incompatible.\n",
      "awscli 1.27.19 requires botocore==1.29.19, but you have botocore 1.27.59 which is incompatible.\n",
      "awscli 1.27.19 requires PyYAML<5.5,>=3.10, but you have pyyaml 6.0.1 which is incompatible.\n",
      "awscli 1.27.19 requires rsa<4.8,>=3.1.2, but you have rsa 4.9 which is incompatible.\n",
      "apache-airflow 2.1.0 requires attrs<21.0,>=20.0, but you have attrs 23.2.0 which is incompatible.\n",
      "apache-airflow 2.1.0 requires flask<2.0,>=1.1.0, but you have flask 2.3.2 which is incompatible.\n",
      "apache-airflow 2.1.0 requires importlib-resources~=1.4, but you have importlib-resources 6.1.2 which is incompatible.\n",
      "apache-airflow 2.1.0 requires itsdangerous<2.0,>=1.1.0, but you have itsdangerous 2.1.2 which is incompatible.\n",
      "apache-airflow 2.1.0 requires jinja2<2.12.0,>=2.10.1, but you have jinja2 3.1.3 which is incompatible.\n",
      "apache-airflow 2.1.0 requires jsonschema~=3.0, but you have jsonschema 4.17.3 which is incompatible.\n",
      "apache-airflow 2.1.0 requires markupsafe<2.0,>=1.1.1, but you have markupsafe 2.1.5 which is incompatible.\n",
      "apache-airflow 2.1.0 requires sqlalchemy<1.4,>=1.3.18, but you have sqlalchemy 2.0.27 which is incompatible.\n",
      "apache-airflow 2.1.0 requires tenacity~=6.2.0, but you have tenacity 8.2.3 which is incompatible.\n",
      "apache-airflow 2.1.0 requires werkzeug>=1.0.1,~=1.0, but you have werkzeug 2.3.4 which is incompatible.\n",
      "apache-airflow-providers-databricks 4.0.0 requires apache-airflow>=2.3.0, but you have apache-airflow 2.1.0 which is incompatible.\u001b[0m\n",
      "Successfully installed InstructorEmbedding-1.0.1 MarkupSafe-2.1.5 Pillow-10.2.0 PyYAML-6.0.1 SQLAlchemy-2.0.27 aiohttp-3.9.3 aiosignal-1.3.1 anyio-4.3.0 asgiref-3.7.2 async-timeout-4.0.3 attrs-23.2.0 backoff-2.2.1 bcrypt-4.1.2 build-1.0.3 cachetools-5.3.2 certifi-2024.2.2 charset-normalizer-3.3.2 chroma-hnswlib-0.7.3 chromadb-0.4.23 click-8.1.7 coloredlogs-15.0.1 dataclasses-json-0.6.4 deprecated-1.2.14 exceptiongroup-1.2.0 fastapi-0.110.0 filelock-3.13.1 flatbuffers-23.5.26 frozenlist-1.4.1 fsspec-2024.2.0 google-auth-2.28.1 googleapis-common-protos-1.62.0 gpt4all-2.2.1.post1 greenlet-3.0.3 grpcio-1.62.0 h11-0.14.0 httptools-0.6.1 huggingface-hub-0.20.3 humanfriendly-10.0 idna-3.6 importlib-metadata-6.11.0 importlib-resources-6.1.2 jinja2-3.1.3 joblib-1.3.2 jsonpatch-1.33 jsonpointer-2.4 kubernetes-29.0.0 langchain-0.1.9 langchain-community-0.0.24 langchain-core-0.1.26 langsmith-0.1.8 marshmallow-3.20.2 mmh3-4.1.0 monotonic-1.6 mpmath-1.3.0 multidict-6.0.5 mypy-extensions-1.0.0 networkx-3.2.1 numpy-1.26.4 oauthlib-3.2.2 onnxruntime-1.16.3 opentelemetry-api-1.23.0 opentelemetry-exporter-otlp-proto-common-1.23.0 opentelemetry-exporter-otlp-proto-grpc-1.23.0 opentelemetry-instrumentation-0.44b0 opentelemetry-instrumentation-asgi-0.44b0 opentelemetry-instrumentation-fastapi-0.44b0 opentelemetry-proto-1.23.0 opentelemetry-sdk-1.23.0 opentelemetry-semantic-conventions-0.44b0 opentelemetry-util-http-0.44b0 orjson-3.9.15 overrides-7.7.0 packaging-23.2 posthog-3.4.2 protobuf-4.25.3 pulsar-client-3.4.0 pyasn1-0.5.1 pyasn1-modules-0.3.0 pydantic-1.10.13 pypdf-3.13.0 pypika-0.48.9 pyproject-hooks-1.0.0 python-dateutil-2.8.2 python-dotenv-1.0.1 redis-5.0.1 regex-2023.12.25 requests-2.31.0 requests-oauthlib-1.3.1 rsa-4.9 safetensors-0.4.2 scikit-learn-1.4.1.post1 scipy-1.12.0 sentence-transformers-2.4.0 setuptools-69.1.1 six-1.16.0 sniffio-1.3.1 starlette-0.36.3 sympy-1.12 tenacity-8.2.3 threadpoolctl-3.3.0 tokenizers-0.15.2 tomli-2.0.1 torch-2.2.1 tqdm-4.66.2 transformers-4.38.1 typer-0.9.0 typing-extensions-4.10.0 typing-inspect-0.9.0 urllib3-2.2.1 uvicorn-0.27.1 uvloop-0.19.0 watchfiles-0.21.0 websocket-client-1.7.0 websockets-12.0 wrapt-1.16.0 yarl-1.9.4 zipp-3.15.0\n"
     ]
    },
    {
     "name": "stdout",
     "output_type": "stream",
     "text": [
      "\u001b[33mWARNING: You are using pip version 21.3.1; however, version 24.0 is available.\n",
      "You should consider upgrading via the '/usr/local/anaconda3/bin/python -m pip install --upgrade pip' command.\u001b[0m\n",
      "Note: you may need to restart the kernel to use updated packages.\n"
     ]
    }
   ],
   "source": [
    "%pip install --force-reinstall zipp==3.15 langchain gpt4all pypdf==3.13.0 chromadb sentence_transformers InstructorEmbedding fastapi redis pydantic==1.10.13"
   ]
  },
  {
   "cell_type": "code",
   "execution_count": 1,
   "metadata": {
    "application/vnd.databricks.v1+cell": {
     "cellMetadata": {
      "byteLimit": 2048000,
      "rowLimit": 10000
     },
     "inputWidgets": {},
     "nuid": "19a22c2a-59ed-4a68-9d8e-5d03e21420a3",
     "showTitle": false,
     "title": ""
    }
   },
   "outputs": [],
   "source": [
    "data_path = \"/Users/pshah1/Downloads/look_alike/aes_data\""
   ]
  },
  {
   "cell_type": "code",
   "execution_count": 2,
   "metadata": {
    "application/vnd.databricks.v1+cell": {
     "cellMetadata": {
      "byteLimit": 2048000,
      "rowLimit": 10000
     },
     "inputWidgets": {},
     "nuid": "26b77078-c4a8-4b4e-9384-7b5691b68f95",
     "showTitle": false,
     "title": ""
    }
   },
   "outputs": [
    {
     "name": "stderr",
     "output_type": "stream",
     "text": [
      "Setting default log level to \"WARN\".\n",
      "To adjust logging level use sc.setLogLevel(newLevel). For SparkR, use setLogLevel(newLevel).\n",
      "24/02/27 09:03:50 WARN NativeCodeLoader: Unable to load native-hadoop library for your platform... using builtin-java classes where applicable\n",
      "24/02/27 09:03:50 WARN Utils: Service 'SparkUI' could not bind on port 4040. Attempting port 4041.\n",
      "24/02/27 09:03:53 WARN SparkStringUtils: Truncated the string representation of a plan since it was too large. This behavior can be adjusted by setting 'spark.sql.debug.maxToStringFields'.\n",
      "                                                                                \r"
     ]
    },
    {
     "name": "stdout",
     "output_type": "stream",
     "text": [
      "+------------+----------------------+-----------+---------------------+---------------+------------+---------------+-------------+--------+--------------+-----------------+--------------------------+----------------------+------------------------+------------------------+-----------+-----------+---------------------+-----------------+-------------+------+-----------------+-----------------+------------+----------------------+-----+\n",
      "|infogroup_id|mapped_contact_id_cont|gender_cont|management_level_cont|job_titles_cont|primary_cont|infogroup_id_pl|place_type_pl|state_pl|       city_pl|contacts_count_pl|location_employee_count_pl|primary_sic_code_id_pl|location_sales_volume_pl|primary_naics_code_id_pl|b_abinumber|e_contactid|e_executivesourcecode|b_fulfillmentflag|b_countrycode|target|bus_abinumber_b2c|bus_contactid_b2c|cons_age_b2c|cons_maritalstatus_b2c|count|\n",
      "+------------+----------------------+-----------+---------------------+---------------+------------+---------------+-------------+--------+--------------+-----------------+--------------------------+----------------------+------------------------+------------------------+-----------+-----------+---------------------+-----------------+-------------+------+-----------------+-----------------+------------+----------------------+-----+\n",
      "|   417862253|          000043012581|          M|                 NULL|           NULL|        true|      417862253|       branch|      CA|Trabuco Canyon|                1|                      NULL|                581208|                 1305000|                72251117|       NULL|       NULL|                 NULL|             NULL|         NULL|     0|        417862253|     000043012581|          78|                     M|    1|\n",
      "|   706609709|          000070360924|          M|            executive|      President|        true|      706609709|  independent|      TX|       El Paso|                1|                         4|                176109|                  446000|                23816014|       NULL|       NULL|                 NULL|             NULL|         NULL|     0|             NULL|             NULL|        NULL|                  NULL|    1|\n",
      "|   737978274|                  NULL|          F|            executive|      Principal|        true|      737978274|  independent|      CA|    Chatsworth|                1|                      NULL|                821103|                    NULL|                61111007|       NULL|       NULL|                 NULL|             NULL|         NULL|     0|             NULL|             NULL|        NULL|                  NULL|    1|\n",
      "|   723637821|          000076720147|          F|                owner|          Owner|        true|      723637821|  independent|      FL|        Naples|                1|                      NULL|                074201|                 1035000|                54194009|       NULL|       NULL|                 NULL|             NULL|         NULL|     0|             NULL|             NULL|        NULL|                  NULL|    1|\n",
      "|   417739730|          000056033062|          M|                 NULL|           NULL|        true|      417739730|   individual|      NJ|       Bayonne|                1|                      NULL|                801101|                  513000|                62111107|       NULL|       NULL|                 NULL|             NULL|         NULL|     0|             NULL|             NULL|        NULL|                  NULL|    1|\n",
      "+------------+----------------------+-----------+---------------------+---------------+------------+---------------+-------------+--------+--------------+-----------------+--------------------------+----------------------+------------------------+------------------------+-----------+-----------+---------------------+-----------------+-------------+------+-----------------+-----------------+------------+----------------------+-----+\n",
      "\n"
     ]
    }
   ],
   "source": [
    "from pyspark.sql import SparkSession\n",
    "\n",
    "spark = SparkSession.builder.appName(\"customer_look_alike_modelling\").getOrCreate()\n",
    "df = spark.read.option(\"header\", \"true\").parquet(data_path)\n",
    "df.limit(5).show()"
   ]
  },
  {
   "cell_type": "code",
   "execution_count": 3,
   "metadata": {
    "application/vnd.databricks.v1+cell": {
     "cellMetadata": {
      "byteLimit": 2048000,
      "rowLimit": 10000
     },
     "inputWidgets": {},
     "nuid": "70064537-447a-48f3-ad94-580c876ecc8e",
     "showTitle": false,
     "title": ""
    }
   },
   "outputs": [
    {
     "data": {
      "text/plain": [
       "['mapped_contact_id_cont',\n",
       " 'gender_cont',\n",
       " 'management_level_cont',\n",
       " 'job_titles_cont',\n",
       " 'primary_cont',\n",
       " 'place_type_pl',\n",
       " 'state_pl',\n",
       " 'city_pl',\n",
       " 'contacts_count_pl',\n",
       " 'location_employee_count_pl',\n",
       " 'primary_sic_code_id_pl',\n",
       " 'location_sales_volume_pl',\n",
       " 'primary_naics_code_id_pl',\n",
       " 'b_abinumber',\n",
       " 'e_executivesourcecode',\n",
       " 'b_fulfillmentflag',\n",
       " 'b_countrycode',\n",
       " 'bus_abinumber_b2c',\n",
       " 'bus_contactid_b2c',\n",
       " 'cons_age_b2c',\n",
       " 'cons_maritalstatus_b2c']"
      ]
     },
     "execution_count": 3,
     "metadata": {},
     "output_type": "execute_result"
    }
   ],
   "source": [
    "\n",
    "# rename to cols_to_convert\n",
    "# rows_to_convert = \"job_titles_cont,city_pl\".split(\",\")\n",
    "rows_to_convert = df.columns\n",
    "rows_to_convert.remove(\"infogroup_id\")\n",
    "rows_to_convert.remove(\"count\")\n",
    "rows_to_convert.remove(\"infogroup_id_pl\")\n",
    "rows_to_convert.remove(\"e_contactid\")\n",
    "rows_to_convert.remove(\"target\")\n",
    "rows_to_convert"
   ]
  },
  {
   "cell_type": "code",
   "execution_count": 4,
   "metadata": {},
   "outputs": [
    {
     "data": {
      "text/plain": [
       "'mapped_contact_id_cont,gender_cont,management_level_cont,job_titles_cont,primary_cont,place_type_pl,state_pl,city_pl,contacts_count_pl,location_employee_count_pl,primary_sic_code_id_pl,location_sales_volume_pl,primary_naics_code_id_pl,b_abinumber,e_executivesourcecode,b_fulfillmentflag,b_countrycode,bus_abinumber_b2c,bus_contactid_b2c,cons_age_b2c,cons_maritalstatus_b2c'"
      ]
     },
     "execution_count": 4,
     "metadata": {},
     "output_type": "execute_result"
    }
   ],
   "source": [
    "\",\".join(rows_to_convert)"
   ]
  },
  {
   "cell_type": "code",
   "execution_count": 5,
   "metadata": {
    "application/vnd.databricks.v1+cell": {
     "cellMetadata": {
      "byteLimit": 2048000,
      "rowLimit": 10000
     },
     "inputWidgets": {},
     "nuid": "287d7bf8-ee94-460d-97c8-e577e19ce6a0",
     "showTitle": false,
     "title": ""
    }
   },
   "outputs": [],
   "source": [
    "df = df.filter(df.job_titles_cont.isNotNull())"
   ]
  },
  {
   "cell_type": "code",
   "execution_count": 6,
   "metadata": {},
   "outputs": [
    {
     "data": {
      "text/plain": [
       "80202"
      ]
     },
     "execution_count": 6,
     "metadata": {},
     "output_type": "execute_result"
    }
   ],
   "source": [
    "df.count()"
   ]
  },
  {
   "cell_type": "code",
   "execution_count": 7,
   "metadata": {},
   "outputs": [],
   "source": [
    "from src.utils.functions import get_row_as_text, hf_embeddings, get_ars_retrieved_df\n",
    "train_df = get_row_as_text(df.limit(4000), rows_to_convert)"
   ]
  },
  {
   "cell_type": "code",
   "execution_count": null,
   "metadata": {},
   "outputs": [],
   "source": []
  },
  {
   "cell_type": "code",
   "execution_count": 8,
   "metadata": {
    "application/vnd.databricks.v1+cell": {
     "cellMetadata": {
      "byteLimit": 2048000,
      "rowLimit": 10000
     },
     "inputWidgets": {},
     "nuid": "bb2ae051-0b66-4773-8c61-c9df8cc533eb",
     "showTitle": false,
     "title": ""
    }
   },
   "outputs": [
    {
     "name": "stdout",
     "output_type": "stream",
     "text": [
      "+-------------------------------------------------------------------------------------------------------------------------------------------------------------------------------------------------------------------------------------------------------------------------------------------------------------------------------------------------------------+\n",
      "|row_as_text                                                                                                                                                                                                                                                                                                                                                  |\n",
      "+-------------------------------------------------------------------------------------------------------------------------------------------------------------------------------------------------------------------------------------------------------------------------------------------------------------------------------------------------------------+\n",
      "|mapped_contact_id_cont: 000070360924; gender_cont: M; management_level_cont: executive; job_titles_cont: President; primary_cont: true; place_type_pl: independent; state_pl: TX; city_pl: El Paso; contacts_count_pl: 1; location_employee_count_pl: 4; primary_sic_code_id_pl: 176109; location_sales_volume_pl: 446000; primary_naics_code_id_pl: 23816014|\n",
      "|gender_cont: F; management_level_cont: executive; job_titles_cont: Principal; primary_cont: true; place_type_pl: independent; state_pl: CA; city_pl: Chatsworth; contacts_count_pl: 1; primary_sic_code_id_pl: 821103; primary_naics_code_id_pl: 61111007                                                                                                    |\n",
      "+-------------------------------------------------------------------------------------------------------------------------------------------------------------------------------------------------------------------------------------------------------------------------------------------------------------------------------------------------------------+\n",
      "only showing top 2 rows\n",
      "\n"
     ]
    }
   ],
   "source": [
    "train_df.select(\"row_as_text\").show(2, truncate=False)"
   ]
  },
  {
   "cell_type": "code",
   "execution_count": 9,
   "metadata": {
    "application/vnd.databricks.v1+cell": {
     "cellMetadata": {
      "byteLimit": 2048000,
      "rowLimit": 10000
     },
     "inputWidgets": {},
     "nuid": "b9417325-8389-445a-91c8-23a24ab14737",
     "showTitle": false,
     "title": ""
    }
   },
   "outputs": [
    {
     "name": "stdout",
     "output_type": "stream",
     "text": [
      "root\n",
      " |-- infogroup_id: string (nullable = true)\n",
      " |-- mapped_contact_id_cont: string (nullable = true)\n",
      " |-- gender_cont: string (nullable = true)\n",
      " |-- management_level_cont: string (nullable = true)\n",
      " |-- job_titles_cont: string (nullable = true)\n",
      " |-- primary_cont: string (nullable = true)\n",
      " |-- infogroup_id_pl: string (nullable = true)\n",
      " |-- place_type_pl: string (nullable = true)\n",
      " |-- state_pl: string (nullable = true)\n",
      " |-- city_pl: string (nullable = true)\n",
      " |-- contacts_count_pl: string (nullable = true)\n",
      " |-- location_employee_count_pl: string (nullable = true)\n",
      " |-- primary_sic_code_id_pl: string (nullable = true)\n",
      " |-- location_sales_volume_pl: string (nullable = true)\n",
      " |-- primary_naics_code_id_pl: string (nullable = true)\n",
      " |-- b_abinumber: string (nullable = true)\n",
      " |-- e_contactid: string (nullable = true)\n",
      " |-- e_executivesourcecode: string (nullable = true)\n",
      " |-- b_fulfillmentflag: string (nullable = true)\n",
      " |-- b_countrycode: string (nullable = true)\n",
      " |-- target: integer (nullable = true)\n",
      " |-- bus_abinumber_b2c: string (nullable = true)\n",
      " |-- bus_contactid_b2c: string (nullable = true)\n",
      " |-- cons_age_b2c: string (nullable = true)\n",
      " |-- cons_maritalstatus_b2c: string (nullable = true)\n",
      " |-- count: long (nullable = true)\n",
      " |-- row_as_text: string (nullable = false)\n",
      "\n"
     ]
    }
   ],
   "source": [
    "train_df.printSchema()"
   ]
  },
  {
   "cell_type": "markdown",
   "metadata": {
    "application/vnd.databricks.v1+cell": {
     "cellMetadata": {},
     "inputWidgets": {},
     "nuid": "8a3dd82f-b6da-415e-8608-162e0ff7d561",
     "showTitle": false,
     "title": ""
    }
   },
   "source": [
    "Unique columns: infogroup_id, e_contactid"
   ]
  },
  {
   "cell_type": "code",
   "execution_count": null,
   "metadata": {
    "application/vnd.databricks.v1+cell": {
     "cellMetadata": {
      "byteLimit": 2048000,
      "rowLimit": 10000
     },
     "inputWidgets": {},
     "nuid": "089d7000-fd73-4657-a2fd-30e6059d0083",
     "showTitle": false,
     "title": ""
    }
   },
   "outputs": [],
   "source": []
  },
  {
   "cell_type": "code",
   "execution_count": 10,
   "metadata": {
    "application/vnd.databricks.v1+cell": {
     "cellMetadata": {
      "byteLimit": 2048000,
      "rowLimit": 10000
     },
     "inputWidgets": {},
     "nuid": "7a7d024e-68b2-4501-baaf-0255e7470c0d",
     "showTitle": false,
     "title": ""
    }
   },
   "outputs": [
    {
     "data": {
      "text/plain": [
       "Row(infogroup_id='706609709', mapped_contact_id_cont='000070360924', gender_cont='M', management_level_cont='executive', job_titles_cont='President', primary_cont='true', infogroup_id_pl='706609709', place_type_pl='independent', state_pl='TX', city_pl='El Paso', contacts_count_pl='1', location_employee_count_pl='4', primary_sic_code_id_pl='176109', location_sales_volume_pl='446000', primary_naics_code_id_pl='23816014', b_abinumber=None, e_contactid=None, e_executivesourcecode=None, b_fulfillmentflag=None, b_countrycode=None, target=0, bus_abinumber_b2c=None, bus_contactid_b2c=None, cons_age_b2c=None, cons_maritalstatus_b2c=None, count=1, row_as_text='mapped_contact_id_cont: 000070360924; gender_cont: M; management_level_cont: executive; job_titles_cont: President; primary_cont: true; place_type_pl: independent; state_pl: TX; city_pl: El Paso; contacts_count_pl: 1; location_employee_count_pl: 4; primary_sic_code_id_pl: 176109; location_sales_volume_pl: 446000; primary_naics_code_id_pl: 23816014')"
      ]
     },
     "execution_count": 10,
     "metadata": {},
     "output_type": "execute_result"
    }
   ],
   "source": [
    "step = 1000\n",
    "k = 4000\n",
    "\n",
    "texts_list = train_df.limit(4000).rdd.collect()\n",
    "# texts_list = [x[0] for x in texts_label_list]\n",
    "# texts_list\n",
    "texts_list[0]"
   ]
  },
  {
   "cell_type": "code",
   "execution_count": 12,
   "metadata": {},
   "outputs": [],
   "source": [
    "import os\n",
    "\n",
    "# Specify the path of the directory you want to create\n",
    "db_dir = \"/Users/pshah1/ps/projects/look_alike_modelling/src/resources/ars_embeddings/embeddings_all_14\"\n",
    "\n",
    "# Create the directory\n",
    "os.makedirs(db_dir, exist_ok=True)"
   ]
  },
  {
   "cell_type": "code",
   "execution_count": 13,
   "metadata": {},
   "outputs": [],
   "source": [
    "from langchain.vectorstores import Chroma\n",
    "from src.utils.functions import hf_embeddings\n",
    "import chromadb\n",
    "import os\n",
    "\n",
    "client = chromadb.PersistentClient(path=db_dir)\n",
    "\n",
    "vdb = Chroma(persist_directory=db_dir, embedding_function=hf_embeddings,\n",
    "                 collection_metadata={\"hnsw:space\": \"cosine\"}, client=client)"
   ]
  },
  {
   "cell_type": "code",
   "execution_count": 17,
   "metadata": {
    "application/vnd.databricks.v1+cell": {
     "cellMetadata": {
      "byteLimit": 2048000,
      "rowLimit": 10000
     },
     "inputWidgets": {},
     "nuid": "51e8522a-c532-4a1b-8352-c027c0a875f6",
     "showTitle": false,
     "title": ""
    }
   },
   "outputs": [],
   "source": [
    "from langchain.vectorstores import Chroma\n",
    "vdb = Chroma(persist_directory=db_dir, embedding_function=hf_embeddings, collection_metadata={\"hnsw:space\": \"cosine\"})\n",
    "for i in range(0, len(texts_list), step):\n",
    "    texts = [x.row_as_text for x in texts_list[i:i+step]]\n",
    "    metadata = [{\"infogroup_id\": str(x.infogroup_id), \"mapped_contact_id_cont\": str(x.mapped_contact_id_cont)} for x in texts_list[i:i+step]]\n",
    "    vdb.add_texts(texts, metadata)\n",
    "    vdb.persist()"
   ]
  },
  {
   "cell_type": "code",
   "execution_count": 15,
   "metadata": {},
   "outputs": [],
   "source": [
    "from langchain.vectorstores import Chroma\n",
    "from src.utils.functions import hf_embeddings\n",
    "import chromadb\n",
    "\n",
    "db_dir = \"/Users/pshah1/ps/projects/look_alike_modelling/src/resources/ars_embeddings/embeddings_all_4\"\n",
    "\n",
    "\n",
    "client = chromadb.PersistentClient(path=db_dir)\n",
    "\n",
    "vdb = Chroma(persist_directory=db_dir, embedding_function=hf_embeddings,\n",
    "                 collection_metadata={\"hnsw:space\": \"cosine\"}, client=client)"
   ]
  },
  {
   "cell_type": "code",
   "execution_count": 18,
   "metadata": {},
   "outputs": [
    {
     "data": {
      "text/plain": [
       "4000"
      ]
     },
     "execution_count": 18,
     "metadata": {},
     "output_type": "execute_result"
    }
   ],
   "source": [
    "vdb._collection.count()"
   ]
  },
  {
   "cell_type": "code",
   "execution_count": 38,
   "metadata": {},
   "outputs": [
    {
     "data": {
      "text/plain": [
       "[0.03063981980085373,\n",
       " -0.006230222526937723,\n",
       " -0.002121522556990385,\n",
       " 0.013879158534109592,\n",
       " 0.026486849412322044,\n",
       " 0.004065817687660456,\n",
       " -0.003871251828968525,\n",
       " 0.035269834101200104,\n",
       " 0.011488324962556362,\n",
       " -0.003806537948548794,\n",
       " 0.01323637180030346,\n",
       " -0.011885665357112885,\n",
       " -0.0001603731361683458,\n",
       " 0.02157067507505417,\n",
       " 0.03014964610338211,\n",
       " -0.10559132695198059,\n",
       " 0.03541700914502144,\n",
       " 0.006596209481358528,\n",
       " -0.055303871631622314,\n",
       " -0.000226780422963202,\n",
       " -0.007831414230167866,\n",
       " -0.004739547614008188,\n",
       " -2.192328975070268e-05,\n",
       " 0.037050411105155945,\n",
       " 0.02242698334157467,\n",
       " 0.004295805934816599,\n",
       " -0.001075013424269855,\n",
       " 0.007416184525936842,\n",
       " 0.011647200211882591,\n",
       " 0.019009582698345184,\n",
       " -0.011946482583880424,\n",
       " 0.0021739050280302763,\n",
       " 0.026941843330860138,\n",
       " 0.016080964356660843,\n",
       " 2.160506255677319e-06,\n",
       " -0.008001399226486683,\n",
       " -0.013405386358499527,\n",
       " 0.016731996089220047,\n",
       " -0.009559343568980694,\n",
       " -0.022413142025470734,\n",
       " -0.00016311132640112191,\n",
       " -0.0004943842650391161,\n",
       " -0.009095554240047932,\n",
       " 0.03838307037949562,\n",
       " -0.007210045587271452,\n",
       " -0.044530317187309265,\n",
       " 0.04091869294643402,\n",
       " -0.005791080184280872,\n",
       " -0.019530870020389557,\n",
       " 0.040448155254125595,\n",
       " 0.0022834977135062218,\n",
       " -0.03446430712938309,\n",
       " -0.02524823322892189,\n",
       " -0.017530642449855804,\n",
       " 0.01626027561724186,\n",
       " 0.06526768952608109,\n",
       " 0.02200056053698063,\n",
       " 0.022031638771295547,\n",
       " 0.001933445455506444,\n",
       " -0.03954463452100754,\n",
       " 0.0636541023850441,\n",
       " -0.0023818854242563248,\n",
       " -0.018944943323731422,\n",
       " -0.029693620279431343,\n",
       " 0.05295335128903389,\n",
       " 0.048345502465963364,\n",
       " -0.017030615359544754,\n",
       " -0.02950977347791195,\n",
       " -0.005145735573023558,\n",
       " 0.0464756153523922,\n",
       " 0.0031194419134408236,\n",
       " -0.0074039543978869915,\n",
       " 0.021118614822626114,\n",
       " 0.068138487637043,\n",
       " 0.0011370156425982714,\n",
       " 0.014462483115494251,\n",
       " -0.008854923769831657,\n",
       " 0.010756182484328747,\n",
       " -0.019179902970790863,\n",
       " 0.01866210624575615,\n",
       " -0.05565393343567848,\n",
       " -0.0019131865119561553,\n",
       " 0.01854081265628338,\n",
       " -0.007114592473953962,\n",
       " -0.0023735961876809597,\n",
       " 0.01199264544993639,\n",
       " 0.0277266763150692,\n",
       " -0.05372564494609833,\n",
       " -0.042193129658699036,\n",
       " -0.02847701497375965,\n",
       " -0.028066564351320267,\n",
       " -0.029385017231106758,\n",
       " 0.026342039927840233,\n",
       " 0.029406307265162468,\n",
       " 0.030877085402607918,\n",
       " -0.008939453400671482,\n",
       " -0.005118773318827152,\n",
       " -0.01001232210546732,\n",
       " -0.011713370680809021,\n",
       " -0.05633355304598808,\n",
       " 0.010299685411155224,\n",
       " 0.04445338994264603,\n",
       " 0.01259717345237732,\n",
       " 0.011518673039972782,\n",
       " 0.04949908331036568,\n",
       " 0.04440154880285263,\n",
       " 0.0731164962053299,\n",
       " -0.07367096841335297,\n",
       " 0.004746786784380674,\n",
       " 0.025866087526082993,\n",
       " -0.040838822722435,\n",
       " -0.020399654284119606,\n",
       " 0.03465317189693451,\n",
       " 0.02496662549674511,\n",
       " -0.04169657081365585,\n",
       " 0.0054896529763937,\n",
       " -0.01981816627085209,\n",
       " 0.036088183522224426,\n",
       " 0.005382956471294165,\n",
       " 0.022515811026096344,\n",
       " 0.005730291362851858,\n",
       " 0.022516274824738503,\n",
       " 0.014764409512281418,\n",
       " -0.0009811047930270433,\n",
       " 0.0006267407443374395,\n",
       " -0.030046038329601288,\n",
       " -0.024636585265398026,\n",
       " 0.06529411673545837,\n",
       " -0.006645440123975277,\n",
       " -0.07179189473390579,\n",
       " 0.008428804576396942,\n",
       " 0.0012513254769146442,\n",
       " 0.005956965032964945,\n",
       " -0.012780223973095417,\n",
       " 0.07490365952253342,\n",
       " 0.05059316009283066,\n",
       " -0.034619398415088654,\n",
       " 0.019938534125685692,\n",
       " 0.061275359243154526,\n",
       " -0.03873163089156151,\n",
       " -0.030984213575720787,\n",
       " -0.0036191397812217474,\n",
       " -0.025516044348478317,\n",
       " -0.01783609203994274,\n",
       " -0.0627562403678894,\n",
       " -0.03831259533762932,\n",
       " 0.03898144140839577,\n",
       " 0.008557017892599106,\n",
       " -0.0009547558147460222,\n",
       " -0.010606866329908371,\n",
       " -0.013083289377391338,\n",
       " 0.002640163293108344,\n",
       " -0.10052715986967087,\n",
       " 0.0037816318217664957,\n",
       " 0.059111978858709335,\n",
       " 0.03312521055340767,\n",
       " 0.04542706534266472,\n",
       " -0.038134556263685226,\n",
       " -0.047896407544612885,\n",
       " -0.016921868547797203,\n",
       " -0.03698905557394028,\n",
       " 0.05555076152086258,\n",
       " 0.0316074937582016,\n",
       " -0.03602251037955284,\n",
       " 0.03169824928045273,\n",
       " -0.007501029409468174,\n",
       " 0.05373071879148483,\n",
       " -0.02191651612520218,\n",
       " -0.007846386171877384,\n",
       " -0.03851928189396858,\n",
       " -0.05391092970967293,\n",
       " 0.037830650806427,\n",
       " -0.023017438128590584,\n",
       " -0.010004556737840176,\n",
       " 0.015116514638066292,\n",
       " 0.00822849664837122,\n",
       " -0.08045776933431625,\n",
       " 0.01293220929801464,\n",
       " 0.025701135396957397,\n",
       " -0.007122483104467392,\n",
       " -0.008161142468452454,\n",
       " -0.1263870745897293,\n",
       " 0.00368896615691483,\n",
       " -0.028062686324119568,\n",
       " -0.026458829641342163,\n",
       " 0.028067702427506447,\n",
       " -0.022105613723397255,\n",
       " 0.05179467797279358,\n",
       " -0.03613246604800224,\n",
       " 0.022357052192091942,\n",
       " 0.02765977755188942,\n",
       " 0.008393126539885998,\n",
       " -0.06075650826096535,\n",
       " 0.005709648597985506,\n",
       " 0.026796331629157066,\n",
       " 0.026890864595770836,\n",
       " -0.0023238258436322212,\n",
       " 0.004584426525980234,\n",
       " 0.03630387783050537,\n",
       " -0.02549583464860916,\n",
       " -0.03699653968214989,\n",
       " 0.05456602945923805,\n",
       " 0.030908958986401558,\n",
       " -0.04290395230054855,\n",
       " -0.016337662935256958,\n",
       " 0.016842443495988846,\n",
       " 0.07048442959785461,\n",
       " 0.0012175855226814747,\n",
       " -0.014694483019411564,\n",
       " 0.03312945365905762,\n",
       " -0.005192534998059273,\n",
       " -0.017356762662529945,\n",
       " 0.06101870536804199,\n",
       " 0.024660829454660416,\n",
       " 0.004231713712215424,\n",
       " 0.044130828231573105,\n",
       " 0.014588670805096626,\n",
       " 0.055585477501153946,\n",
       " 0.016129324212670326,\n",
       " 0.0527888685464859,\n",
       " 0.015353995375335217,\n",
       " 0.034202203154563904,\n",
       " 0.09391704946756363,\n",
       " -0.001969503238797188,\n",
       " 0.09109330177307129,\n",
       " -0.06517069041728973,\n",
       " 0.0050392067059874535,\n",
       " 0.0017743249190971255,\n",
       " 1.1006659406120889e-05,\n",
       " 0.03722233697772026,\n",
       " -0.005997044034302235,\n",
       " 0.00047214419464580715,\n",
       " -0.010591291822493076,\n",
       " 0.01876840554177761,\n",
       " 0.006095079705119133,\n",
       " 0.027544431388378143,\n",
       " 0.1033165454864502,\n",
       " -0.05722897872328758,\n",
       " 0.012514293193817139,\n",
       " -0.0630306750535965,\n",
       " 0.03612470254302025,\n",
       " 0.007395160384476185,\n",
       " -0.0017696934519335628,\n",
       " -0.07381030172109604,\n",
       " 0.08106908947229385,\n",
       " 0.0072111934423446655,\n",
       " -0.00077850028173998,\n",
       " 0.007916695438325405,\n",
       " 0.00723632425069809,\n",
       " -0.020215682685375214,\n",
       " -0.036108680069446564,\n",
       " -0.00854117888957262,\n",
       " -0.035862307995557785,\n",
       " 0.008248468860983849,\n",
       " 0.012955398298799992,\n",
       " -0.027108507230877876,\n",
       " -0.030723916366696358,\n",
       " -0.024389535188674927,\n",
       " -0.061837244778871536,\n",
       " -0.06575814634561539,\n",
       " 0.013959106057882309,\n",
       " -0.03486490249633789,\n",
       " 0.0023419323842972517,\n",
       " 0.006106344982981682,\n",
       " 0.016339145600795746,\n",
       " 0.02585320733487606,\n",
       " 0.0034618545323610306,\n",
       " -0.0792006179690361,\n",
       " -0.012545976787805557,\n",
       " -0.021834084764122963,\n",
       " 0.04294609650969505,\n",
       " -0.0016075498424470425,\n",
       " 0.01813068799674511,\n",
       " 0.000740344577934593,\n",
       " -0.024322109296917915,\n",
       " -0.020828457549214363,\n",
       " 0.05523757264018059,\n",
       " 0.004020990803837776,\n",
       " -0.028246857225894928,\n",
       " 0.05310356989502907,\n",
       " 0.0151123758405447,\n",
       " -0.0026853575836867094,\n",
       " -0.06379345059394836,\n",
       " 0.0003912698302883655,\n",
       " 0.019577831029891968,\n",
       " 0.032283563166856766,\n",
       " 0.0497206375002861,\n",
       " -0.06776178628206253,\n",
       " 0.03693242371082306,\n",
       " -0.014265901409089565,\n",
       " -0.05594135820865631,\n",
       " 0.01670996844768524,\n",
       " -0.0034831585362553596,\n",
       " -0.04910137876868248,\n",
       " 0.052292462438344955,\n",
       " -0.004457523114979267,\n",
       " 0.006998570170253515,\n",
       " -0.0425676666200161,\n",
       " 0.019462833181023598,\n",
       " 0.04280329868197441,\n",
       " -0.06234076991677284,\n",
       " 0.06166752055287361,\n",
       " 0.005652420222759247,\n",
       " 0.003065668046474457,\n",
       " 0.006493167486041784,\n",
       " -0.018029851838946342,\n",
       " 0.017048321664333344,\n",
       " -0.07834608107805252,\n",
       " -0.005906783044338226,\n",
       " 0.03099185787141323,\n",
       " 0.03886578977108002,\n",
       " 0.026072118431329727,\n",
       " 0.020868850871920586,\n",
       " 0.027539221569895744,\n",
       " 0.03540618345141411,\n",
       " -0.033043842762708664,\n",
       " -0.02766108699142933,\n",
       " -0.017667226493358612,\n",
       " 0.06269259005784988,\n",
       " -0.023083481937646866,\n",
       " 0.003992983140051365,\n",
       " 0.009904627688229084,\n",
       " 0.038875725120306015,\n",
       " 0.015635626390576363,\n",
       " -0.04927033931016922,\n",
       " 0.08511309325695038,\n",
       " -0.03880712762475014,\n",
       " 0.024810349568724632,\n",
       " 0.01937166228890419,\n",
       " 0.031206419691443443,\n",
       " 0.022291770204901695,\n",
       " 0.06424485892057419,\n",
       " 0.007690706290304661,\n",
       " -0.021345390006899834,\n",
       " -0.05383218824863434,\n",
       " 0.004644713364541531,\n",
       " 0.02366817183792591,\n",
       " -0.05730964615941048,\n",
       " 0.003859471995383501,\n",
       " -0.02033749781548977,\n",
       " -0.032459806650877,\n",
       " -0.049819786101579666,\n",
       " -0.01934678666293621,\n",
       " -0.02145390398800373,\n",
       " -0.05271684005856514,\n",
       " -0.03349677100777626,\n",
       " -0.006598697043955326,\n",
       " -0.026178324595093727,\n",
       " -0.08520961552858353,\n",
       " -0.0015887775225564837,\n",
       " -0.08294135332107544,\n",
       " -0.0445144847035408,\n",
       " 0.02252660132944584,\n",
       " -0.029956746846437454,\n",
       " 0.003357952693477273,\n",
       " -0.0013394319685176015,\n",
       " -0.021021632477641106,\n",
       " 0.010683216154575348,\n",
       " -0.010258650407195091,\n",
       " 4.603340494213626e-05,\n",
       " -0.009262621402740479,\n",
       " -0.02260993793606758,\n",
       " 0.022403225302696228,\n",
       " 0.05562213063240051,\n",
       " -0.006611942313611507,\n",
       " -0.0009358671377412975,\n",
       " 0.017431728541851044,\n",
       " 0.031073158606886864,\n",
       " -0.0325845368206501,\n",
       " -0.008992557413876057,\n",
       " -0.011195431463420391,\n",
       " 0.04186955839395523,\n",
       " -0.03934190794825554,\n",
       " 0.07081752270460129,\n",
       " 0.008358833380043507,\n",
       " -0.00988653302192688,\n",
       " -0.0442449226975441,\n",
       " -0.04294426739215851,\n",
       " 0.05086385831236839,\n",
       " -0.04244343191385269,\n",
       " 0.03618863970041275,\n",
       " -0.04363773763179779,\n",
       " 0.008005152456462383,\n",
       " -0.02284613996744156,\n",
       " -0.00109569332562387,\n",
       " -0.028862925246357918,\n",
       " 0.017813559621572495,\n",
       " -0.004539038520306349,\n",
       " -0.02001555636525154,\n",
       " 0.0034994957968592644,\n",
       " 0.02929431013762951,\n",
       " -0.052302565425634384,\n",
       " -0.025006426498293877,\n",
       " 0.007852929644286633,\n",
       " 0.016097117215394974,\n",
       " 0.057121727615594864,\n",
       " 0.03930647671222687,\n",
       " 0.03929366543889046,\n",
       " -0.04498359188437462,\n",
       " 0.05681794136762619,\n",
       " -0.025631338357925415,\n",
       " 0.057626497000455856,\n",
       " 0.04146766662597656,\n",
       " 0.00076246855314821,\n",
       " 0.04789058491587639,\n",
       " 0.025518298149108887,\n",
       " 0.06654548645019531,\n",
       " 0.027228308841586113,\n",
       " -0.010134849697351456,\n",
       " 0.034228015691041946,\n",
       " -0.06002844125032425,\n",
       " -0.019918881356716156,\n",
       " -0.019405091181397438,\n",
       " -0.031721748411655426,\n",
       " -0.025831324979662895,\n",
       " -0.036041196435689926,\n",
       " -0.02042151428759098,\n",
       " -0.06601200997829437,\n",
       " -0.0015701447846367955,\n",
       " 0.01051652804017067,\n",
       " 0.01943219266831875,\n",
       " -0.02024288848042488,\n",
       " -0.027126463130116463,\n",
       " 0.023355137556791306,\n",
       " -0.05265026167035103,\n",
       " 0.018865959718823433,\n",
       " 0.06436798721551895,\n",
       " 0.0884583368897438,\n",
       " 0.018637606874108315,\n",
       " -0.01632283255457878,\n",
       " 0.02820674143731594,\n",
       " -0.044607941061258316,\n",
       " 0.03818793594837189,\n",
       " 0.06300431489944458,\n",
       " -0.0067186118103563786,\n",
       " 0.04264930263161659,\n",
       " -0.0211210697889328,\n",
       " 0.025637878105044365,\n",
       " -0.10721506178379059,\n",
       " -0.048154979944229126,\n",
       " -0.00913749635219574,\n",
       " -0.06949084997177124,\n",
       " 0.02751566842198372,\n",
       " -0.009887621738016605,\n",
       " 0.014211835339665413,\n",
       " 0.0271015502512455,\n",
       " 0.041130781173706055,\n",
       " 0.010981247760355473,\n",
       " 0.017674852162599564,\n",
       " -0.009279971942305565,\n",
       " 0.011950026266276836,\n",
       " -0.04461250826716423,\n",
       " 0.015854084864258766,\n",
       " -0.030766939744353294,\n",
       " 0.016769589856266975,\n",
       " -0.05685131996870041,\n",
       " -0.06606968492269516,\n",
       " 0.014340564608573914,\n",
       " 0.02927749790251255,\n",
       " -0.01026027649641037,\n",
       " 0.09664897620677948,\n",
       " 0.03874665126204491,\n",
       " -0.028536083176732063,\n",
       " -0.003963678143918514,\n",
       " 0.00715330895036459,\n",
       " -0.05481778085231781,\n",
       " -0.06089898198843002,\n",
       " 0.05530673637986183,\n",
       " 0.005109650082886219,\n",
       " -0.008417787961661816,\n",
       " -0.11410746723413467,\n",
       " -0.0058806720189750195,\n",
       " -0.019880492240190506,\n",
       " -0.029771415516734123,\n",
       " 4.7649733460275456e-05,\n",
       " 0.059503111988306046,\n",
       " -0.06165071576833725,\n",
       " -0.07923286408185959,\n",
       " -0.05610690265893936,\n",
       " -0.06013165041804314,\n",
       " -0.02210814692080021,\n",
       " -0.06143397465348244,\n",
       " 0.007680404465645552,\n",
       " 0.06323788315057755,\n",
       " 0.024356631562113762,\n",
       " -0.047703880816698074,\n",
       " 0.03481914475560188,\n",
       " -0.02896379865705967,\n",
       " 0.0002774794993456453,\n",
       " -0.03302270174026489,\n",
       " -0.008429641835391521,\n",
       " 0.030353371053934097,\n",
       " 0.05723148584365845,\n",
       " -0.00042323386878706515,\n",
       " -0.03969366475939751,\n",
       " 0.08210483193397522,\n",
       " 0.047146521508693695,\n",
       " -0.02956029400229454,\n",
       " -0.06181536614894867,\n",
       " 0.04227546975016594,\n",
       " -0.037732433527708054,\n",
       " 0.03479822352528572,\n",
       " 0.0034918489400297403,\n",
       " -0.014311893843114376,\n",
       " -0.00107279559597373,\n",
       " -0.02509808912873268,\n",
       " -0.02100861817598343,\n",
       " 0.003972361329942942,\n",
       " 0.016543982550501823,\n",
       " -0.02929769642651081,\n",
       " 0.023720266297459602,\n",
       " 0.024235982447862625,\n",
       " -0.006201894022524357,\n",
       " -0.08808877319097519,\n",
       " 0.030963720753788948,\n",
       " 0.06882389634847641,\n",
       " -0.026598043739795685,\n",
       " -0.010301188565790653,\n",
       " -0.022335296496748924,\n",
       " -0.05244147777557373,\n",
       " 0.022985242307186127,\n",
       " 0.00025161029770970345,\n",
       " 0.01053179707378149,\n",
       " -0.01629570871591568,\n",
       " 0.039778344333171844,\n",
       " 0.03831765428185463,\n",
       " 0.010387809947133064,\n",
       " -0.03611715883016586,\n",
       " 0.01852516271173954,\n",
       " 0.01856541819870472,\n",
       " -0.06221397966146469,\n",
       " -0.02073034830391407,\n",
       " 0.04983995854854584,\n",
       " 0.003855788614600897,\n",
       " -0.0418737456202507,\n",
       " 0.06582378596067429,\n",
       " 0.024094078689813614,\n",
       " 0.06296298652887344,\n",
       " -0.035511910915374756,\n",
       " 0.04158240929245949,\n",
       " 0.003934803884476423,\n",
       " 0.03850003704428673,\n",
       " -0.005495100282132626,\n",
       " -0.018632588908076286,\n",
       " 0.024550793692469597,\n",
       " 0.08363861590623856,\n",
       " 0.016896434128284454,\n",
       " 0.002815451705828309,\n",
       " -0.016153939068317413,\n",
       " -0.01451269630342722,\n",
       " -0.00763515941798687,\n",
       " 0.04240814968943596,\n",
       " -0.023359624668955803,\n",
       " 0.01367009524255991,\n",
       " -0.017844507470726967,\n",
       " -8.499707981260163e-33,\n",
       " -0.021985452622175217,\n",
       " 0.02106839418411255,\n",
       " -0.06685960292816162,\n",
       " -0.024359364062547684,\n",
       " -0.017444653436541557,\n",
       " -0.06685098260641098,\n",
       " 0.02519606053829193,\n",
       " -0.016856420785188675,\n",
       " -0.01565971039235592,\n",
       " 0.01993340067565441,\n",
       " -0.02551383152604103,\n",
       " -0.0011854511685669422,\n",
       " 0.033057115972042084,\n",
       " 0.009693688713014126,\n",
       " -0.0033243007492274046,\n",
       " -0.01049202773720026,\n",
       " 0.07247305661439896,\n",
       " 0.03223365917801857,\n",
       " -0.023680657148361206,\n",
       " -8.15742023405619e-05,\n",
       " 0.014859517104923725,\n",
       " 0.013497868552803993,\n",
       " 0.041987136006355286,\n",
       " 0.03127148374915123,\n",
       " 0.08609764277935028,\n",
       " 0.0018721905071288347,\n",
       " -0.02985396236181259,\n",
       " 0.002177261048927903,\n",
       " -0.006728221662342548,\n",
       " 0.0033523445017635822,\n",
       " -0.056060899049043655,\n",
       " 0.006746890489012003,\n",
       " -0.005793448071926832,\n",
       " 0.04290586709976196,\n",
       " 0.011770267970860004,\n",
       " 0.05536547303199768,\n",
       " -0.036384254693984985,\n",
       " -0.024264659732580185,\n",
       " 0.032628949731588364,\n",
       " 0.015672888606786728,\n",
       " 0.022836294025182724,\n",
       " 0.005584578029811382,\n",
       " -0.008583714254200459,\n",
       " -0.04995220527052879,\n",
       " -0.053113725036382675,\n",
       " 0.03399254381656647,\n",
       " -0.0026507338043302298,\n",
       " 0.015019961632788181,\n",
       " 0.045066896826028824,\n",
       " -0.02467578649520874,\n",
       " -0.07944447547197342,\n",
       " -0.023995298892259598,\n",
       " -0.010769675485789776,\n",
       " -0.034506723284721375,\n",
       " -0.049373313784599304,\n",
       " -0.02702101692557335,\n",
       " 0.00500385882332921,\n",
       " -0.007323035970330238,\n",
       " 0.019686290994286537,\n",
       " -0.014944644644856453,\n",
       " 0.03278157860040665,\n",
       " -0.0314357690513134,\n",
       " -0.059849098324775696,\n",
       " 0.04352223500609398,\n",
       " 0.03758997097611427,\n",
       " 0.02076789177954197,\n",
       " 0.14464673399925232,\n",
       " 0.0008990899659693241,\n",
       " -0.02504446543753147,\n",
       " -0.015120560303330421,\n",
       " -0.023547474294900894,\n",
       " -0.009156223386526108,\n",
       " 0.009094025008380413,\n",
       " -0.009519407525658607,\n",
       " -0.0341620072722435,\n",
       " -0.038539864122867584,\n",
       " -0.07852217555046082,\n",
       " -0.026674553751945496,\n",
       " 0.01215150486677885,\n",
       " -0.0034383947495371103,\n",
       " -0.0324154794216156,\n",
       " 0.0070125204510986805,\n",
       " 0.002413438633084297,\n",
       " 0.021281734108924866,\n",
       " 0.016268879175186157,\n",
       " 0.01879734732210636,\n",
       " -0.011541883461177349,\n",
       " -0.01415177434682846,\n",
       " -0.07110939919948578,\n",
       " -0.02376491390168667,\n",
       " -0.02890804223716259,\n",
       " -0.03889968991279602,\n",
       " -0.007442550268024206,\n",
       " 0.02994356118142605,\n",
       " -0.01670798286795616,\n",
       " -0.0513879619538784,\n",
       " -0.006651248317211866,\n",
       " -0.01970420591533184,\n",
       " 0.012060188688337803,\n",
       " -0.01566774770617485,\n",
       " -0.032310601323843,\n",
       " 0.043408751487731934,\n",
       " -0.04691491276025772,\n",
       " 0.007806845474988222,\n",
       " 0.017847908660769463,\n",
       " 0.05960358306765556,\n",
       " -0.03275098279118538,\n",
       " 0.009308005683124065,\n",
       " -0.05042337626218796,\n",
       " -0.021077055484056473,\n",
       " 0.028273411095142365,\n",
       " 0.04854511469602585,\n",
       " 0.05735190212726593,\n",
       " 0.04344514384865761,\n",
       " -0.02769051492214203,\n",
       " 0.04622683301568031,\n",
       " 0.01854024827480316,\n",
       " -0.03519544377923012,\n",
       " -0.043240148574113846,\n",
       " -0.00039436965016648173,\n",
       " -0.029420243576169014,\n",
       " 0.02474975399672985,\n",
       " -0.025479372590780258,\n",
       " -0.03791435807943344,\n",
       " -0.02942250482738018,\n",
       " -0.03681088238954544,\n",
       " -0.0028028772212564945,\n",
       " 0.052936065942049026,\n",
       " -0.00093894824385643,\n",
       " -0.017110561951994896,\n",
       " 0.03922624513506889,\n",
       " -0.011791963130235672,\n",
       " 2.6008433451352175e-07,\n",
       " 0.03292177617549896,\n",
       " -0.023086385801434517,\n",
       " -0.023671023547649384,\n",
       " 0.08377303928136826,\n",
       " -0.014049988240003586,\n",
       " 0.0266521405428648,\n",
       " 0.02284187451004982,\n",
       " 0.05397056043148041,\n",
       " 0.010514997877180576,\n",
       " 0.030627641826868057,\n",
       " -0.018788503482937813,\n",
       " -0.030363818630576134,\n",
       " 0.015856899321079254,\n",
       " -0.047569725662469864,\n",
       " -0.02773522399365902,\n",
       " -0.10218363255262375,\n",
       " -0.03641349449753761,\n",
       " -0.10162024199962616,\n",
       " -0.02361375093460083,\n",
       " -0.035133205354213715,\n",
       " -0.0024429920595139265,\n",
       " 0.016642898321151733,\n",
       " 0.0014041950926184654,\n",
       " -0.030491478741168976,\n",
       " -0.009621472097933292,\n",
       " 0.0005119412089698017,\n",
       " 0.02377219870686531,\n",
       " -0.04487712308764458,\n",
       " 0.031097082421183586,\n",
       " 0.005117233842611313,\n",
       " 0.03554345294833183,\n",
       " -0.010703769512474537,\n",
       " 0.011081262491643429,\n",
       " -0.01211694348603487,\n",
       " 0.024507688358426094,\n",
       " -0.023132197558879852,\n",
       " 0.013946621678769588,\n",
       " 0.018509425222873688,\n",
       " -0.01945788413286209,\n",
       " 0.0651123970746994,\n",
       " -0.04875815659761429,\n",
       " 0.0052557894960045815,\n",
       " -0.020825741812586784,\n",
       " -0.013219969347119331,\n",
       " 0.0443306602537632,\n",
       " -0.015206416137516499,\n",
       " 0.000575803336687386,\n",
       " 0.002945512067526579,\n",
       " -0.06738466769456863,\n",
       " -0.030148010700941086,\n",
       " -0.018553541973233223,\n",
       " -0.02078026346862316,\n",
       " -0.004518045112490654,\n",
       " 0.01933162473142147,\n",
       " -0.023686235770583153,\n",
       " 0.055172041058540344,\n",
       " 0.05380627512931824,\n",
       " 0.011861029081046581,\n",
       " 0.029966063797473907,\n",
       " 0.035616274923086166,\n",
       " -0.03322615101933479,\n",
       " -0.050007447600364685,\n",
       " -0.001862559001892805,\n",
       " 0.015244397334754467,\n",
       " -0.048281215131282806,\n",
       " 0.015600917860865593,\n",
       " -0.015480787493288517,\n",
       " 7.099237419672929e-35,\n",
       " -0.009518289938569069,\n",
       " 0.04195928946137428,\n",
       " 0.034838154911994934,\n",
       " 0.08632061630487442,\n",
       " 0.02227119542658329,\n",
       " -0.005905498284846544,\n",
       " -0.0802566185593605,\n",
       " -0.00935868639498949,\n",
       " 0.03398364409804344,\n",
       " -0.01675461232662201,\n",
       " 0.005198828876018524]"
      ]
     },
     "execution_count": 38,
     "metadata": {},
     "output_type": "execute_result"
    }
   ],
   "source": [
    "vdb.embeddings.embed_query(\"hello\")"
   ]
  },
  {
   "cell_type": "code",
   "execution_count": 0,
   "metadata": {
    "application/vnd.databricks.v1+cell": {
     "cellMetadata": {
      "byteLimit": 2048000,
      "rowLimit": 10000
     },
     "inputWidgets": {},
     "nuid": "9c68927d-1283-4ab1-9d2e-ecd1d0917475",
     "showTitle": false,
     "title": ""
    }
   },
   "outputs": [
    {
     "name": "stdout",
     "output_type": "stream",
     "text": [
      "  adding: dbfs/tmp/ps/ars/embeddings_01/ (stored 0%)\r\n",
      "  adding: dbfs/tmp/ps/ars/embeddings_01/chroma-collections.parquet (deflated 54%)\r\n",
      "  adding: dbfs/tmp/ps/ars/embeddings_01/chroma-embeddings.parquet (deflated 20%)\r\n",
      "  adding: dbfs/tmp/ps/ars/embeddings_01/index/ (stored 0%)\r\n",
      "  adding: dbfs/tmp/ps/ars/embeddings_01/index/id_to_uuid_e4b4c1d9-13cf-4a78-bd9c-960a4a3b2962.pkl (deflated 37%)\r\n",
      "  adding: dbfs/tmp/ps/ars/embeddings_01/index/index_e4b4c1d9-13cf-4a78-bd9c-960a4a3b2962.bin (deflated 10%)\r\n",
      "  adding: dbfs/tmp/ps/ars/embeddings_01/index/index_metadata_e4b4c1d9-13cf-4a78-bd9c-960a4a3b2962.pkl (deflated 14%)\r\n",
      "  adding: dbfs/tmp/ps/ars/embeddings_01/index/uuid_to_id_e4b4c1d9-13cf-4a78-bd9c-960a4a3b2962.pkl (deflated 41%)\r\n"
     ]
    }
   ],
   "source": [
    "# ! zip -r embeddings_ars_01.zip /dbfs/tmp/ps/ars/embeddings_01"
   ]
  },
  {
   "cell_type": "code",
   "execution_count": 0,
   "metadata": {
    "application/vnd.databricks.v1+cell": {
     "cellMetadata": {
      "byteLimit": 2048000,
      "rowLimit": 10000
     },
     "inputWidgets": {},
     "nuid": "bec54a42-fde3-4e2e-b870-e01d07b35397",
     "showTitle": false,
     "title": ""
    }
   },
   "outputs": [
    {
     "name": "stdout",
     "output_type": "stream",
     "text": [
      "azure  embeddings_ars_01.zip  hadoop_accessed_config.lst  preload_class.lst\r\n",
      "conf   eventlogs\t      logs\r\n"
     ]
    }
   ],
   "source": [
    "# !ls"
   ]
  },
  {
   "cell_type": "code",
   "execution_count": 0,
   "metadata": {
    "application/vnd.databricks.v1+cell": {
     "cellMetadata": {
      "byteLimit": 2048000,
      "rowLimit": 10000
     },
     "inputWidgets": {},
     "nuid": "46bcbb7e-f656-4d7a-aeb5-87f03174323e",
     "showTitle": false,
     "title": ""
    }
   },
   "outputs": [],
   "source": [
    "# !cp embeddings_ars_01.zip /dbfs/tmp/ps/"
   ]
  },
  {
   "cell_type": "code",
   "execution_count": 0,
   "metadata": {
    "application/vnd.databricks.v1+cell": {
     "cellMetadata": {
      "byteLimit": 2048000,
      "rowLimit": 10000
     },
     "inputWidgets": {},
     "nuid": "9f967a2e-b663-44a6-bd07-ecdbdb5f7a60",
     "showTitle": false,
     "title": ""
    }
   },
   "outputs": [
    {
     "data": {
      "text/plain": [
       "True"
      ]
     },
     "execution_count": 40,
     "metadata": {},
     "output_type": "execute_result"
    }
   ],
   "source": [
    "# dbutils.fs.cp(\"/tmp/ps/embeddings_ars_01.zip\", \"s3://ds-databricks-playground/prarthana_output/ars_embeddings_10k/\")"
   ]
  },
  {
   "cell_type": "code",
   "execution_count": 0,
   "metadata": {
    "application/vnd.databricks.v1+cell": {
     "cellMetadata": {},
     "inputWidgets": {},
     "nuid": "3af19de3-485e-4f2c-9df0-0a039cf00fde",
     "showTitle": false,
     "title": ""
    }
   },
   "outputs": [],
   "source": []
  },
  {
   "cell_type": "code",
   "execution_count": null,
   "metadata": {},
   "outputs": [],
   "source": []
  },
  {
   "cell_type": "code",
   "execution_count": null,
   "metadata": {},
   "outputs": [],
   "source": []
  },
  {
   "cell_type": "code",
   "execution_count": 29,
   "metadata": {},
   "outputs": [
    {
     "name": "stdout",
     "output_type": "stream",
     "text": [
      "+------------+----------------------+-----------+---------------------+---------------+------------+---------------+-------------+--------+-------+-----------------+--------------------------+----------------------+------------------------+------------------------+-----------+------------+---------------------+-----------------+-------------+------+-----------------+-----------------+------------+----------------------+-----+--------------------+\n",
      "|infogroup_id|mapped_contact_id_cont|gender_cont|management_level_cont|job_titles_cont|primary_cont|infogroup_id_pl|place_type_pl|state_pl|city_pl|contacts_count_pl|location_employee_count_pl|primary_sic_code_id_pl|location_sales_volume_pl|primary_naics_code_id_pl|b_abinumber| e_contactid|e_executivesourcecode|b_fulfillmentflag|b_countrycode|target|bus_abinumber_b2c|bus_contactid_b2c|cons_age_b2c|cons_maritalstatus_b2c|count|         row_as_text|\n",
      "+------------+----------------------+-----------+---------------------+---------------+------------+---------------+-------------+--------+-------+-----------------+--------------------------+----------------------+------------------------+------------------------+-----------+------------+---------------------+-----------------+-------------+------+-----------------+-----------------+------------+----------------------+-----+--------------------+\n",
      "|   718709045|          000074175412|          M|                owner|          Owner|        true|      718709045|  independent|      TX|Houston|                1|                      NULL|                999977|                    NULL|                99999004|       NULL|        NULL|                 NULL|             NULL|         NULL|     0|        718709045|     000074175412|            |                     U|    1|mapped_contact_id...|\n",
      "|   720744919|          000075149650|          M|                owner|          Owner|        true|      720744919|  independent|      TX|Houston|                1|                      NULL|                177104|                  765000|                23814018|       NULL|        NULL|                 NULL|             NULL|         NULL|     0|             NULL|             NULL|        NULL|                  NULL|    1|mapped_contact_id...|\n",
      "|   431526802|          000067283312|          M|                owner|          Owner|        true|      431526802|  independent|      TX|Houston|                1|                      NULL|                769203|                  164000|                81149058|       NULL|        NULL|                 NULL|             NULL|         NULL|     0|             NULL|             NULL|        NULL|                  NULL|    1|mapped_contact_id...|\n",
      "|   715912290|          000072216310|          M|                owner|          Owner|        true|      715912290|  independent|      TX|Houston|                1|                      NULL|                999977|                    NULL|                99999004|       NULL|        NULL|                 NULL|             NULL|         NULL|     0|             NULL|             NULL|        NULL|                  NULL|    1|mapped_contact_id...|\n",
      "|   431895672|          000067318298|          M|                owner|          Owner|        true|      431895672|  independent|      TX|Houston|                1|                      NULL|                723102|                  128000|                81211302|       NULL|        NULL|                 NULL|             NULL|         NULL|     0|             NULL|             NULL|        NULL|                  NULL|    1|mapped_contact_id...|\n",
      "|   206910622|          000060565651|          F|                owner|          Owner|        true|      206910622|  independent|      TX|Houston|                1|                         1|                723106|                   43000|                81211202|       NULL|        NULL|                 NULL|             NULL|         NULL|     0|             NULL|             NULL|        NULL|                  NULL|    1|mapped_contact_id...|\n",
      "|   437039536|          000069745369|          M|                owner|          Owner|        true|      437039536|  independent|      TX|Houston|                1|                      NULL|                999977|                    NULL|                99999004|       NULL|        NULL|                 NULL|             NULL|         NULL|     0|             NULL|             NULL|        NULL|                  NULL|    1|mapped_contact_id...|\n",
      "|   432899582|          000068314954|          M|                owner|          Owner|        true|      432899582|  independent|      TX|Houston|                1|                      NULL|                999977|                    NULL|                99999004|       NULL|        NULL|                 NULL|             NULL|         NULL|     0|             NULL|             NULL|        NULL|                  NULL|    1|mapped_contact_id...|\n",
      "|   430999829|          000067243363|          M|                owner|          Owner|        true|      430999829|  independent|      TX|Houston|                1|                      NULL|                999977|                    NULL|                99999004|       NULL|        NULL|                 NULL|             NULL|         NULL|     0|        430999829|     000067243363|          47|                     M|    1|mapped_contact_id...|\n",
      "|   425423570|          000061477369|          F|                owner|          Owner|        true|      425423570|  independent|      TX|Houston|                1|                         2|                723106|                   85000|                81211202|       NULL|        NULL|                 NULL|             NULL|         NULL|     0|             NULL|             NULL|        NULL|                  NULL|    1|mapped_contact_id...|\n",
      "|   751223575|          001074047725|          F|                owner|          Owner|        true|      751223575|  independent|      TX|Houston|                1|                      NULL|                832218|                  210000|                62419012|  751223575|001074047725|                   55|                V|           US|     1|        751223575|     001074047725|          72|                     M|    1|mapped_contact_id...|\n",
      "|   420797459|          000061769201|          M|                owner|          Owner|        true|      420797459|  independent|      TX|Houston|                1|                      NULL|                571202|                  310000|                44911011|       NULL|        NULL|                 NULL|             NULL|         NULL|     0|             NULL|             NULL|        NULL|                  NULL|    1|mapped_contact_id...|\n",
      "|   722271209|          000075943795|          M|                owner|          Owner|        true|      722271209|  independent|      TX|Houston|                1|                      NULL|                721704|                  166000|                56174001|       NULL|        NULL|                 NULL|             NULL|         NULL|     0|             NULL|             NULL|        NULL|                  NULL|    1|mapped_contact_id...|\n",
      "|   408744525|          000060934983|          F|                owner|          Owner|        true|      408744525|  independent|      TX|Houston|                1|                      NULL|                729999|                   50000|                81299046|       NULL|        NULL|                 NULL|             NULL|         NULL|     0|             NULL|             NULL|        NULL|                  NULL|    1|mapped_contact_id...|\n",
      "|   718779359|          000074278414|          F|                owner|          Owner|        true|      718779359|  independent|      TX|Houston|                1|                        13|                762902|                    NULL|                81141201|  718779359|000074278414|                   36|                V|           US|     1|             NULL|             NULL|        NULL|                  NULL|    1|mapped_contact_id...|\n",
      "|   759088220|          000012800859|          M|                owner|          Owner|        true|      759088220|  independent|      TX|Houston|                1|                      NULL|                472402|                  307000|                56151007|       NULL|        NULL|                 NULL|             NULL|         NULL|     0|             NULL|             NULL|        NULL|                  NULL|    1|mapped_contact_id...|\n",
      "|   733888763|          000079810555|          M|                owner|          Owner|        true|      733888763|  independent|      TX|Houston|                1|                      NULL|                581208|                  319000|                72251117|       NULL|        NULL|                 NULL|             NULL|         NULL|     0|        733888763|     000079810555|          48|                     U|    1|mapped_contact_id...|\n",
      "|   430207083|          000066461786|          F|                owner|          Owner|        true|      430207083|  independent|      TX|Houston|                1|                      NULL|                999977|                    NULL|                99999004|       NULL|        NULL|                 NULL|             NULL|         NULL|     0|             NULL|             NULL|        NULL|                  NULL|    1|mapped_contact_id...|\n",
      "|   431189579|          000067255366|          M|                owner|          Owner|        true|      431189579|  independent|      TX|Houston|                1|                      NULL|                999977|                    NULL|                99999004|       NULL|        NULL|                 NULL|             NULL|         NULL|     0|             NULL|             NULL|        NULL|                  NULL|    1|mapped_contact_id...|\n",
      "|   423767317|          000061714639|          M|                owner|          Owner|        true|      423767317|  independent|      TX|Houston|                1|                      NULL|                753801|                  352000|                81111104|       NULL|        NULL|                 NULL|             NULL|         NULL|     0|             NULL|             NULL|        NULL|                  NULL|    1|mapped_contact_id...|\n",
      "+------------+----------------------+-----------+---------------------+---------------+------------+---------------+-------------+--------+-------+-----------------+--------------------------+----------------------+------------------------+------------------------+-----------+------------+---------------------+-----------------+-------------+------+-----------------+-----------------+------------+----------------------+-----+--------------------+\n",
      "only showing top 20 rows\n",
      "\n"
     ]
    },
    {
     "data": {
      "text/plain": [
       "37"
      ]
     },
     "execution_count": 29,
     "metadata": {},
     "output_type": "execute_result"
    }
   ],
   "source": [
    "from pyspark.sql import functions as F\n",
    "val_df = train_df.filter(F.col(\"job_titles_cont\") == F.lit(\"Owner\")).filter(F.col(\"city_pl\") == \"Houston\")\n",
    "val_df.show()\n",
    "val_df.count()\n"
   ]
  },
  {
   "cell_type": "code",
   "execution_count": 28,
   "metadata": {},
   "outputs": [],
   "source": [
    "val_df.limit(10).toPandas().to_csv(\"/Users/pshah1/Downloads/owner_houston.csv\")"
   ]
  },
  {
   "cell_type": "code",
   "execution_count": 93,
   "metadata": {},
   "outputs": [
    {
     "name": "stdout",
     "output_type": "stream",
     "text": [
      "Miami\n",
      "Miami\n",
      "Miami\n",
      "Miami\n",
      "Miami\n",
      "Miami\n",
      "Miami\n",
      "Miami\n",
      "Miami\n",
      "Miami\n",
      "Miami\n",
      "Miami\n",
      "Miami\n",
      "Miami\n",
      "Miami\n",
      "Miami\n",
      "Miami\n",
      "Miami\n",
      "Miami\n",
      "Miami\n",
      "Miami\n",
      "Miami\n",
      "Miami\n",
      "Miami\n",
      "Miami\n",
      "Miami\n",
      "Miami\n",
      "Miami\n",
      "Miami\n",
      "Miami\n",
      "Miami\n"
     ]
    }
   ],
   "source": [
    "for i in texts_list:\n",
    "    if i.city_pl == \"Miami\":\n",
    "        print(str(i.city_pl))"
   ]
  },
  {
   "cell_type": "code",
   "execution_count": null,
   "metadata": {},
   "outputs": [],
   "source": []
  }
 ],
 "metadata": {
  "application/vnd.databricks.v1+notebook": {
   "dashboards": [],
   "language": "python",
   "notebookMetadata": {
    "pythonIndentUnit": 2
   },
   "notebookName": "AR_dummy_data",
   "widgets": {}
  },
  "kernelspec": {
   "display_name": "Python 3 (ipykernel)",
   "language": "python",
   "name": "python3"
  },
  "language_info": {
   "codemirror_mode": {
    "name": "ipython",
    "version": 3
   },
   "file_extension": ".py",
   "mimetype": "text/x-python",
   "name": "python",
   "nbconvert_exporter": "python",
   "pygments_lexer": "ipython3",
   "version": "3.9.13"
  }
 },
 "nbformat": 4,
 "nbformat_minor": 1
}
