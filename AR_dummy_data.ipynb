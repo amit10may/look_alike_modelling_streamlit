{
 "cells": [
  {
   "cell_type": "code",
   "execution_count": 0,
   "metadata": {
    "application/vnd.databricks.v1+cell": {
     "cellMetadata": {
      "byteLimit": 2048000,
      "rowLimit": 10000
     },
     "inputWidgets": {},
     "nuid": "131b7e66-3737-4771-aefc-30e30c1c1199",
     "showTitle": false,
     "title": ""
    }
   },
   "outputs": [
    {
     "name": "stdout",
     "output_type": "stream",
     "text": [
      "Requirement already satisfied: faiss-cpu==1.7.4 in /local_disk0/.ephemeral_nfs/envs/pythonEnv-2ef19197-1dcb-44dd-b83e-3cafdc6d4cd1/lib/python3.9/site-packages (1.7.4)\r\n",
      "Requirement already satisfied: tiktoken in /local_disk0/.ephemeral_nfs/envs/pythonEnv-2ef19197-1dcb-44dd-b83e-3cafdc6d4cd1/lib/python3.9/site-packages (0.5.1)\r\n",
      "Collecting openai\r\n",
      "  Obtaining dependency information for openai from https://files.pythonhosted.org/packages/1e/9f/385c25502f437686e4aa715969e5eaf5c2cb5e5ffa7c5cdd52f3c6ae967a/openai-0.28.1-py3-none-any.whl.metadata\r\n",
      "  Downloading openai-0.28.1-py3-none-any.whl.metadata (11 kB)\r\n",
      "Requirement already satisfied: regex>=2022.1.18 in /local_disk0/.ephemeral_nfs/envs/pythonEnv-2ef19197-1dcb-44dd-b83e-3cafdc6d4cd1/lib/python3.9/site-packages (from tiktoken) (2023.8.8)\r\n",
      "Requirement already satisfied: requests>=2.26.0 in /local_disk0/.ephemeral_nfs/envs/pythonEnv-2ef19197-1dcb-44dd-b83e-3cafdc6d4cd1/lib/python3.9/site-packages (from tiktoken) (2.31.0)\r\n",
      "Requirement already satisfied: tqdm in /local_disk0/.ephemeral_nfs/envs/pythonEnv-2ef19197-1dcb-44dd-b83e-3cafdc6d4cd1/lib/python3.9/site-packages (from openai) (4.66.1)\r\n",
      "Requirement already satisfied: aiohttp in /local_disk0/.ephemeral_nfs/envs/pythonEnv-2ef19197-1dcb-44dd-b83e-3cafdc6d4cd1/lib/python3.9/site-packages (from openai) (3.8.5)\r\n",
      "Requirement already satisfied: charset-normalizer<4,>=2 in /local_disk0/.ephemeral_nfs/envs/pythonEnv-2ef19197-1dcb-44dd-b83e-3cafdc6d4cd1/lib/python3.9/site-packages (from requests>=2.26.0->tiktoken) (3.3.0)\r\n",
      "Requirement already satisfied: idna<4,>=2.5 in /local_disk0/.ephemeral_nfs/envs/pythonEnv-2ef19197-1dcb-44dd-b83e-3cafdc6d4cd1/lib/python3.9/site-packages (from requests>=2.26.0->tiktoken) (3.4)\r\n",
      "Requirement already satisfied: urllib3<3,>=1.21.1 in /local_disk0/.ephemeral_nfs/envs/pythonEnv-2ef19197-1dcb-44dd-b83e-3cafdc6d4cd1/lib/python3.9/site-packages (from requests>=2.26.0->tiktoken) (2.0.6)\r\n",
      "Requirement already satisfied: certifi>=2017.4.17 in /local_disk0/.ephemeral_nfs/envs/pythonEnv-2ef19197-1dcb-44dd-b83e-3cafdc6d4cd1/lib/python3.9/site-packages (from requests>=2.26.0->tiktoken) (2023.7.22)\r\n",
      "Requirement already satisfied: attrs>=17.3.0 in /local_disk0/.ephemeral_nfs/envs/pythonEnv-2ef19197-1dcb-44dd-b83e-3cafdc6d4cd1/lib/python3.9/site-packages (from aiohttp->openai) (23.1.0)\r\n",
      "Requirement already satisfied: multidict<7.0,>=4.5 in /local_disk0/.ephemeral_nfs/envs/pythonEnv-2ef19197-1dcb-44dd-b83e-3cafdc6d4cd1/lib/python3.9/site-packages (from aiohttp->openai) (6.0.4)\r\n",
      "Requirement already satisfied: async-timeout<5.0,>=4.0.0a3 in /local_disk0/.ephemeral_nfs/envs/pythonEnv-2ef19197-1dcb-44dd-b83e-3cafdc6d4cd1/lib/python3.9/site-packages (from aiohttp->openai) (4.0.3)\r\n",
      "Requirement already satisfied: yarl<2.0,>=1.0 in /local_disk0/.ephemeral_nfs/envs/pythonEnv-2ef19197-1dcb-44dd-b83e-3cafdc6d4cd1/lib/python3.9/site-packages (from aiohttp->openai) (1.9.2)\r\n",
      "Requirement already satisfied: frozenlist>=1.1.1 in /local_disk0/.ephemeral_nfs/envs/pythonEnv-2ef19197-1dcb-44dd-b83e-3cafdc6d4cd1/lib/python3.9/site-packages (from aiohttp->openai) (1.4.0)\r\n",
      "Requirement already satisfied: aiosignal>=1.1.2 in /local_disk0/.ephemeral_nfs/envs/pythonEnv-2ef19197-1dcb-44dd-b83e-3cafdc6d4cd1/lib/python3.9/site-packages (from aiohttp->openai) (1.3.1)\r\n",
      "Downloading openai-0.28.1-py3-none-any.whl (76 kB)\r\n",
      "\u001b[?25l   \u001b[90m━━━━━━━━━━━━━━━━━━━━━━━━━━━━━━━━━━━━━━━━\u001b[0m \u001b[32m0.0/77.0 kB\u001b[0m \u001b[31m?\u001b[0m eta \u001b[36m-:--:--\u001b[0m\r",
      "\u001b[2K   \u001b[90m━━━━━━━━━━━━━━━━━━━━━━━━━━━━━━━━━━━━━━━━\u001b[0m \u001b[32m77.0/77.0 kB\u001b[0m \u001b[31m9.1 MB/s\u001b[0m eta \u001b[36m0:00:00\u001b[0m\r\n",
      "\u001b[?25hInstalling collected packages: openai\r\n",
      "Successfully installed openai-0.28.1\r\n",
      "Requirement already satisfied: transformers in /local_disk0/.ephemeral_nfs/envs/pythonEnv-2ef19197-1dcb-44dd-b83e-3cafdc6d4cd1/lib/python3.9/site-packages (4.33.3)\r\n",
      "Requirement already satisfied: InstructorEmbedding in /local_disk0/.ephemeral_nfs/envs/pythonEnv-2ef19197-1dcb-44dd-b83e-3cafdc6d4cd1/lib/python3.9/site-packages (1.0.1)\r\n",
      "Requirement already satisfied: filelock in /usr/local/lib/python3.9/dist-packages (from transformers) (3.8.0)\r\n",
      "Requirement already satisfied: huggingface-hub<1.0,>=0.15.1 in /local_disk0/.ephemeral_nfs/envs/pythonEnv-2ef19197-1dcb-44dd-b83e-3cafdc6d4cd1/lib/python3.9/site-packages (from transformers) (0.17.3)\r\n",
      "Requirement already satisfied: numpy>=1.17 in /local_disk0/.ephemeral_nfs/envs/pythonEnv-2ef19197-1dcb-44dd-b83e-3cafdc6d4cd1/lib/python3.9/site-packages (from transformers) (1.22.4)\r\n",
      "Requirement already satisfied: packaging>=20.0 in /local_disk0/.ephemeral_nfs/envs/pythonEnv-2ef19197-1dcb-44dd-b83e-3cafdc6d4cd1/lib/python3.9/site-packages (from transformers) (23.2)\r\n",
      "Requirement already satisfied: pyyaml>=5.1 in /local_disk0/.ephemeral_nfs/envs/pythonEnv-2ef19197-1dcb-44dd-b83e-3cafdc6d4cd1/lib/python3.9/site-packages (from transformers) (6.0.1)\r\n",
      "Requirement already satisfied: regex!=2019.12.17 in /local_disk0/.ephemeral_nfs/envs/pythonEnv-2ef19197-1dcb-44dd-b83e-3cafdc6d4cd1/lib/python3.9/site-packages (from transformers) (2023.8.8)\r\n",
      "Requirement already satisfied: requests in /local_disk0/.ephemeral_nfs/envs/pythonEnv-2ef19197-1dcb-44dd-b83e-3cafdc6d4cd1/lib/python3.9/site-packages (from transformers) (2.31.0)\r\n",
      "Requirement already satisfied: tokenizers!=0.11.3,<0.14,>=0.11.1 in /local_disk0/.ephemeral_nfs/envs/pythonEnv-2ef19197-1dcb-44dd-b83e-3cafdc6d4cd1/lib/python3.9/site-packages (from transformers) (0.13.3)\r\n",
      "Requirement already satisfied: safetensors>=0.3.1 in /local_disk0/.ephemeral_nfs/envs/pythonEnv-2ef19197-1dcb-44dd-b83e-3cafdc6d4cd1/lib/python3.9/site-packages (from transformers) (0.3.3)\r\n",
      "Requirement already satisfied: tqdm>=4.27 in /local_disk0/.ephemeral_nfs/envs/pythonEnv-2ef19197-1dcb-44dd-b83e-3cafdc6d4cd1/lib/python3.9/site-packages (from transformers) (4.66.1)\r\n",
      "Requirement already satisfied: fsspec in /local_disk0/.ephemeral_nfs/envs/pythonEnv-2ef19197-1dcb-44dd-b83e-3cafdc6d4cd1/lib/python3.9/site-packages (from huggingface-hub<1.0,>=0.15.1->transformers) (2023.9.2)\r\n",
      "Requirement already satisfied: typing-extensions>=3.7.4.3 in /local_disk0/.ephemeral_nfs/envs/pythonEnv-2ef19197-1dcb-44dd-b83e-3cafdc6d4cd1/lib/python3.9/site-packages (from huggingface-hub<1.0,>=0.15.1->transformers) (4.8.0)\r\n",
      "Requirement already satisfied: charset-normalizer<4,>=2 in /local_disk0/.ephemeral_nfs/envs/pythonEnv-2ef19197-1dcb-44dd-b83e-3cafdc6d4cd1/lib/python3.9/site-packages (from requests->transformers) (3.3.0)\r\n",
      "Requirement already satisfied: idna<4,>=2.5 in /local_disk0/.ephemeral_nfs/envs/pythonEnv-2ef19197-1dcb-44dd-b83e-3cafdc6d4cd1/lib/python3.9/site-packages (from requests->transformers) (3.4)\r\n",
      "Requirement already satisfied: urllib3<3,>=1.21.1 in /local_disk0/.ephemeral_nfs/envs/pythonEnv-2ef19197-1dcb-44dd-b83e-3cafdc6d4cd1/lib/python3.9/site-packages (from requests->transformers) (2.0.6)\r\n",
      "Requirement already satisfied: certifi>=2017.4.17 in /local_disk0/.ephemeral_nfs/envs/pythonEnv-2ef19197-1dcb-44dd-b83e-3cafdc6d4cd1/lib/python3.9/site-packages (from requests->transformers) (2023.7.22)\r\n",
      "Requirement already satisfied: sentence-transformers in /local_disk0/.ephemeral_nfs/envs/pythonEnv-2ef19197-1dcb-44dd-b83e-3cafdc6d4cd1/lib/python3.9/site-packages (2.2.2)\r\n",
      "Requirement already satisfied: transformers<5.0.0,>=4.6.0 in /local_disk0/.ephemeral_nfs/envs/pythonEnv-2ef19197-1dcb-44dd-b83e-3cafdc6d4cd1/lib/python3.9/site-packages (from sentence-transformers) (4.33.3)\r\n",
      "Requirement already satisfied: tqdm in /local_disk0/.ephemeral_nfs/envs/pythonEnv-2ef19197-1dcb-44dd-b83e-3cafdc6d4cd1/lib/python3.9/site-packages (from sentence-transformers) (4.66.1)\r\n",
      "Requirement already satisfied: torch>=1.6.0 in /local_disk0/.ephemeral_nfs/envs/pythonEnv-2ef19197-1dcb-44dd-b83e-3cafdc6d4cd1/lib/python3.9/site-packages (from sentence-transformers) (2.0.1)\r\n",
      "Requirement already satisfied: torchvision in /local_disk0/.ephemeral_nfs/envs/pythonEnv-2ef19197-1dcb-44dd-b83e-3cafdc6d4cd1/lib/python3.9/site-packages (from sentence-transformers) (0.15.2)\r\n",
      "Requirement already satisfied: numpy in /local_disk0/.ephemeral_nfs/envs/pythonEnv-2ef19197-1dcb-44dd-b83e-3cafdc6d4cd1/lib/python3.9/site-packages (from sentence-transformers) (1.22.4)\r\n",
      "Requirement already satisfied: scikit-learn in /databricks/python3/lib/python3.9/site-packages (from sentence-transformers) (0.24.2)\r\n",
      "Requirement already satisfied: scipy in /databricks/python3/lib/python3.9/site-packages (from sentence-transformers) (1.7.1)\r\n",
      "Requirement already satisfied: nltk in /local_disk0/.ephemeral_nfs/envs/pythonEnv-2ef19197-1dcb-44dd-b83e-3cafdc6d4cd1/lib/python3.9/site-packages (from sentence-transformers) (3.8.1)\r\n",
      "Requirement already satisfied: sentencepiece in /local_disk0/.ephemeral_nfs/envs/pythonEnv-2ef19197-1dcb-44dd-b83e-3cafdc6d4cd1/lib/python3.9/site-packages (from sentence-transformers) (0.1.99)\r\n",
      "Requirement already satisfied: huggingface-hub>=0.4.0 in /local_disk0/.ephemeral_nfs/envs/pythonEnv-2ef19197-1dcb-44dd-b83e-3cafdc6d4cd1/lib/python3.9/site-packages (from sentence-transformers) (0.17.3)\r\n",
      "Requirement already satisfied: filelock in /usr/local/lib/python3.9/dist-packages (from huggingface-hub>=0.4.0->sentence-transformers) (3.8.0)\r\n",
      "Requirement already satisfied: fsspec in /local_disk0/.ephemeral_nfs/envs/pythonEnv-2ef19197-1dcb-44dd-b83e-3cafdc6d4cd1/lib/python3.9/site-packages (from huggingface-hub>=0.4.0->sentence-transformers) (2023.9.2)\r\n",
      "Requirement already satisfied: requests in /local_disk0/.ephemeral_nfs/envs/pythonEnv-2ef19197-1dcb-44dd-b83e-3cafdc6d4cd1/lib/python3.9/site-packages (from huggingface-hub>=0.4.0->sentence-transformers) (2.31.0)\r\n",
      "Requirement already satisfied: pyyaml>=5.1 in /local_disk0/.ephemeral_nfs/envs/pythonEnv-2ef19197-1dcb-44dd-b83e-3cafdc6d4cd1/lib/python3.9/site-packages (from huggingface-hub>=0.4.0->sentence-transformers) (6.0.1)\r\n",
      "Requirement already satisfied: typing-extensions>=3.7.4.3 in /local_disk0/.ephemeral_nfs/envs/pythonEnv-2ef19197-1dcb-44dd-b83e-3cafdc6d4cd1/lib/python3.9/site-packages (from huggingface-hub>=0.4.0->sentence-transformers) (4.8.0)\r\n",
      "Requirement already satisfied: packaging>=20.9 in /local_disk0/.ephemeral_nfs/envs/pythonEnv-2ef19197-1dcb-44dd-b83e-3cafdc6d4cd1/lib/python3.9/site-packages (from huggingface-hub>=0.4.0->sentence-transformers) (23.2)\r\n",
      "Requirement already satisfied: sympy in /local_disk0/.ephemeral_nfs/envs/pythonEnv-2ef19197-1dcb-44dd-b83e-3cafdc6d4cd1/lib/python3.9/site-packages (from torch>=1.6.0->sentence-transformers) (1.12)\r\n",
      "Requirement already satisfied: networkx in /local_disk0/.ephemeral_nfs/envs/pythonEnv-2ef19197-1dcb-44dd-b83e-3cafdc6d4cd1/lib/python3.9/site-packages (from torch>=1.6.0->sentence-transformers) (3.1)\r\n",
      "Requirement already satisfied: jinja2 in /databricks/python3/lib/python3.9/site-packages (from torch>=1.6.0->sentence-transformers) (2.11.3)\r\n",
      "Requirement already satisfied: nvidia-cuda-nvrtc-cu11==11.7.99 in /local_disk0/.ephemeral_nfs/envs/pythonEnv-2ef19197-1dcb-44dd-b83e-3cafdc6d4cd1/lib/python3.9/site-packages (from torch>=1.6.0->sentence-transformers) (11.7.99)\r\n",
      "Requirement already satisfied: nvidia-cuda-runtime-cu11==11.7.99 in /local_disk0/.ephemeral_nfs/envs/pythonEnv-2ef19197-1dcb-44dd-b83e-3cafdc6d4cd1/lib/python3.9/site-packages (from torch>=1.6.0->sentence-transformers) (11.7.99)\r\n",
      "Requirement already satisfied: nvidia-cuda-cupti-cu11==11.7.101 in /local_disk0/.ephemeral_nfs/envs/pythonEnv-2ef19197-1dcb-44dd-b83e-3cafdc6d4cd1/lib/python3.9/site-packages (from torch>=1.6.0->sentence-transformers) (11.7.101)\r\n",
      "Requirement already satisfied: nvidia-cudnn-cu11==8.5.0.96 in /local_disk0/.ephemeral_nfs/envs/pythonEnv-2ef19197-1dcb-44dd-b83e-3cafdc6d4cd1/lib/python3.9/site-packages (from torch>=1.6.0->sentence-transformers) (8.5.0.96)\r\n",
      "Requirement already satisfied: nvidia-cublas-cu11==11.10.3.66 in /local_disk0/.ephemeral_nfs/envs/pythonEnv-2ef19197-1dcb-44dd-b83e-3cafdc6d4cd1/lib/python3.9/site-packages (from torch>=1.6.0->sentence-transformers) (11.10.3.66)\r\n",
      "Requirement already satisfied: nvidia-cufft-cu11==10.9.0.58 in /local_disk0/.ephemeral_nfs/envs/pythonEnv-2ef19197-1dcb-44dd-b83e-3cafdc6d4cd1/lib/python3.9/site-packages (from torch>=1.6.0->sentence-transformers) (10.9.0.58)\r\n",
      "Requirement already satisfied: nvidia-curand-cu11==10.2.10.91 in /local_disk0/.ephemeral_nfs/envs/pythonEnv-2ef19197-1dcb-44dd-b83e-3cafdc6d4cd1/lib/python3.9/site-packages (from torch>=1.6.0->sentence-transformers) (10.2.10.91)\r\n",
      "Requirement already satisfied: nvidia-cusolver-cu11==11.4.0.1 in /local_disk0/.ephemeral_nfs/envs/pythonEnv-2ef19197-1dcb-44dd-b83e-3cafdc6d4cd1/lib/python3.9/site-packages (from torch>=1.6.0->sentence-transformers) (11.4.0.1)\r\n",
      "Requirement already satisfied: nvidia-cusparse-cu11==11.7.4.91 in /local_disk0/.ephemeral_nfs/envs/pythonEnv-2ef19197-1dcb-44dd-b83e-3cafdc6d4cd1/lib/python3.9/site-packages (from torch>=1.6.0->sentence-transformers) (11.7.4.91)\r\n",
      "Requirement already satisfied: nvidia-nccl-cu11==2.14.3 in /local_disk0/.ephemeral_nfs/envs/pythonEnv-2ef19197-1dcb-44dd-b83e-3cafdc6d4cd1/lib/python3.9/site-packages (from torch>=1.6.0->sentence-transformers) (2.14.3)\r\n",
      "Requirement already satisfied: nvidia-nvtx-cu11==11.7.91 in /local_disk0/.ephemeral_nfs/envs/pythonEnv-2ef19197-1dcb-44dd-b83e-3cafdc6d4cd1/lib/python3.9/site-packages (from torch>=1.6.0->sentence-transformers) (11.7.91)\r\n",
      "Requirement already satisfied: triton==2.0.0 in /local_disk0/.ephemeral_nfs/envs/pythonEnv-2ef19197-1dcb-44dd-b83e-3cafdc6d4cd1/lib/python3.9/site-packages (from torch>=1.6.0->sentence-transformers) (2.0.0)\r\n",
      "Requirement already satisfied: setuptools in /usr/local/lib/python3.9/dist-packages (from nvidia-cublas-cu11==11.10.3.66->torch>=1.6.0->sentence-transformers) (58.0.4)\r\n",
      "Requirement already satisfied: wheel in /databricks/python3/lib/python3.9/site-packages (from nvidia-cublas-cu11==11.10.3.66->torch>=1.6.0->sentence-transformers) (0.37.0)\r\n",
      "Requirement already satisfied: cmake in /local_disk0/.ephemeral_nfs/envs/pythonEnv-2ef19197-1dcb-44dd-b83e-3cafdc6d4cd1/lib/python3.9/site-packages (from triton==2.0.0->torch>=1.6.0->sentence-transformers) (3.27.6)\r\n",
      "Requirement already satisfied: lit in /local_disk0/.ephemeral_nfs/envs/pythonEnv-2ef19197-1dcb-44dd-b83e-3cafdc6d4cd1/lib/python3.9/site-packages (from triton==2.0.0->torch>=1.6.0->sentence-transformers) (17.0.1)\r\n",
      "Requirement already satisfied: regex!=2019.12.17 in /local_disk0/.ephemeral_nfs/envs/pythonEnv-2ef19197-1dcb-44dd-b83e-3cafdc6d4cd1/lib/python3.9/site-packages (from transformers<5.0.0,>=4.6.0->sentence-transformers) (2023.8.8)\r\n",
      "Requirement already satisfied: tokenizers!=0.11.3,<0.14,>=0.11.1 in /local_disk0/.ephemeral_nfs/envs/pythonEnv-2ef19197-1dcb-44dd-b83e-3cafdc6d4cd1/lib/python3.9/site-packages (from transformers<5.0.0,>=4.6.0->sentence-transformers) (0.13.3)\r\n",
      "Requirement already satisfied: safetensors>=0.3.1 in /local_disk0/.ephemeral_nfs/envs/pythonEnv-2ef19197-1dcb-44dd-b83e-3cafdc6d4cd1/lib/python3.9/site-packages (from transformers<5.0.0,>=4.6.0->sentence-transformers) (0.3.3)\r\n",
      "Requirement already satisfied: click in /databricks/python3/lib/python3.9/site-packages (from nltk->sentence-transformers) (8.0.3)\r\n",
      "Requirement already satisfied: joblib in /databricks/python3/lib/python3.9/site-packages (from nltk->sentence-transformers) (1.0.1)\r\n",
      "Requirement already satisfied: threadpoolctl>=2.0.0 in /databricks/python3/lib/python3.9/site-packages (from scikit-learn->sentence-transformers) (2.2.0)\r\n",
      "Requirement already satisfied: pillow!=8.3.*,>=5.3.0 in /databricks/python3/lib/python3.9/site-packages (from torchvision->sentence-transformers) (8.4.0)\r\n",
      "Requirement already satisfied: MarkupSafe>=0.23 in /databricks/python3/lib/python3.9/site-packages (from jinja2->torch>=1.6.0->sentence-transformers) (2.0.1)\r\n",
      "Requirement already satisfied: charset-normalizer<4,>=2 in /local_disk0/.ephemeral_nfs/envs/pythonEnv-2ef19197-1dcb-44dd-b83e-3cafdc6d4cd1/lib/python3.9/site-packages (from requests->huggingface-hub>=0.4.0->sentence-transformers) (3.3.0)\r\n",
      "Requirement already satisfied: idna<4,>=2.5 in /local_disk0/.ephemeral_nfs/envs/pythonEnv-2ef19197-1dcb-44dd-b83e-3cafdc6d4cd1/lib/python3.9/site-packages (from requests->huggingface-hub>=0.4.0->sentence-transformers) (3.4)\r\n",
      "Requirement already satisfied: urllib3<3,>=1.21.1 in /local_disk0/.ephemeral_nfs/envs/pythonEnv-2ef19197-1dcb-44dd-b83e-3cafdc6d4cd1/lib/python3.9/site-packages (from requests->huggingface-hub>=0.4.0->sentence-transformers) (2.0.6)\r\n",
      "Requirement already satisfied: certifi>=2017.4.17 in /local_disk0/.ephemeral_nfs/envs/pythonEnv-2ef19197-1dcb-44dd-b83e-3cafdc6d4cd1/lib/python3.9/site-packages (from requests->huggingface-hub>=0.4.0->sentence-transformers) (2023.7.22)\r\n",
      "Requirement already satisfied: mpmath>=0.19 in /local_disk0/.ephemeral_nfs/envs/pythonEnv-2ef19197-1dcb-44dd-b83e-3cafdc6d4cd1/lib/python3.9/site-packages (from sympy->torch>=1.6.0->sentence-transformers) (1.3.0)\r\n",
      "Requirement already satisfied: typing-extensions in /local_disk0/.ephemeral_nfs/envs/pythonEnv-2ef19197-1dcb-44dd-b83e-3cafdc6d4cd1/lib/python3.9/site-packages (4.8.0)\r\n",
      "Requirement already satisfied: pip in /local_disk0/.ephemeral_nfs/envs/pythonEnv-2ef19197-1dcb-44dd-b83e-3cafdc6d4cd1/lib/python3.9/site-packages (23.2.1)\r\n"
     ]
    }
   ],
   "source": [
    "!pip install faiss-cpu==1.7.4 tiktoken openai\n",
    "!pip install transformers InstructorEmbedding\n",
    "!pip install sentence-transformers\n",
    "!pip install typing-extensions\n",
    "!python -m pip install --upgrade pip"
   ]
  },
  {
   "cell_type": "code",
   "execution_count": 0,
   "metadata": {
    "application/vnd.databricks.v1+cell": {
     "cellMetadata": {
      "byteLimit": 2048000,
      "rowLimit": 10000
     },
     "inputWidgets": {},
     "nuid": "08ab754b-27d5-49c3-b2fa-75d24902ae75",
     "showTitle": false,
     "title": ""
    }
   },
   "outputs": [
    {
     "name": "stdout",
     "output_type": "stream",
     "text": [
      "\u001b[43mNote: you may need to restart the kernel using dbutils.library.restartPython() to use updated packages.\u001b[0m\n",
      "Collecting langchain==0.0.251\n",
      "  Downloading langchain-0.0.251-py3-none-any.whl (1.4 MB)\n",
      "     ━━━━━━━━━━━━━━━━━━━━━━━━━━━━━━━━━━━━━━━━ 1.4/1.4 MB 15.5 MB/s eta 0:00:00\n",
      "Collecting async-timeout<5.0.0,>=4.0.0\n",
      "  Downloading async_timeout-4.0.3-py3-none-any.whl (5.7 kB)\n",
      "Collecting numpy<2,>=1\n",
      "  Downloading numpy-1.26.4-cp310-cp310-manylinux_2_17_x86_64.manylinux2014_x86_64.whl (18.2 MB)\n",
      "     ━━━━━━━━━━━━━━━━━━━━━━━━━━━━━━━━━━━━━━━━ 18.2/18.2 MB 48.1 MB/s eta 0:00:00\n",
      "Collecting SQLAlchemy<3,>=1.4\n",
      "  Downloading SQLAlchemy-2.0.27-cp310-cp310-manylinux_2_17_x86_64.manylinux2014_x86_64.whl (3.1 MB)\n",
      "     ━━━━━━━━━━━━━━━━━━━━━━━━━━━━━━━━━━━━━━━━ 3.1/3.1 MB 92.0 MB/s eta 0:00:00\n",
      "Collecting pydantic<2,>=1\n",
      "  Downloading pydantic-1.10.14-cp310-cp310-manylinux_2_17_x86_64.manylinux2014_x86_64.whl (3.1 MB)\n",
      "     ━━━━━━━━━━━━━━━━━━━━━━━━━━━━━━━━━━━━━━━━ 3.1/3.1 MB 94.6 MB/s eta 0:00:00\n",
      "Collecting requests<3,>=2\n",
      "  Downloading requests-2.31.0-py3-none-any.whl (62 kB)\n",
      "     ━━━━━━━━━━━━━━━━━━━━━━━━━━━━━━━━━━━━━━━━ 62.6/62.6 kB 9.3 MB/s eta 0:00:00\n",
      "Collecting openapi-schema-pydantic<2.0,>=1.2\n",
      "  Downloading openapi_schema_pydantic-1.2.4-py3-none-any.whl (90 kB)\n",
      "     ━━━━━━━━━━━━━━━━━━━━━━━━━━━━━━━━━━━━━━━━ 90.0/90.0 kB 14.3 MB/s eta 0:00:00\n",
      "Collecting aiohttp<4.0.0,>=3.8.3\n",
      "  Downloading aiohttp-3.9.3-cp310-cp310-manylinux_2_17_x86_64.manylinux2014_x86_64.whl (1.2 MB)\n",
      "     ━━━━━━━━━━━━━━━━━━━━━━━━━━━━━━━━━━━━━━━━ 1.2/1.2 MB 59.7 MB/s eta 0:00:00\n",
      "Collecting tenacity<9.0.0,>=8.1.0\n",
      "  Downloading tenacity-8.2.3-py3-none-any.whl (24 kB)\n",
      "Collecting PyYAML>=5.4.1\n",
      "  Downloading PyYAML-6.0.1-cp310-cp310-manylinux_2_17_x86_64.manylinux2014_x86_64.whl (705 kB)\n",
      "     ━━━━━━━━━━━━━━━━━━━━━━━━━━━━━━━━━━━━━━ 705.5/705.5 kB 61.1 MB/s eta 0:00:00\n",
      "Collecting langsmith<0.1.0,>=0.0.11\n",
      "  Downloading langsmith-0.0.92-py3-none-any.whl (56 kB)\n",
      "     ━━━━━━━━━━━━━━━━━━━━━━━━━━━━━━━━━━━━━━━━ 56.5/56.5 kB 10.5 MB/s eta 0:00:00\n",
      "Collecting dataclasses-json<0.6.0,>=0.5.7\n",
      "  Downloading dataclasses_json-0.5.14-py3-none-any.whl (26 kB)\n",
      "Collecting numexpr<3.0.0,>=2.8.4\n",
      "  Downloading numexpr-2.9.0-cp310-cp310-manylinux_2_17_x86_64.manylinux2014_x86_64.whl (375 kB)\n",
      "     ━━━━━━━━━━━━━━━━━━━━━━━━━━━━━━━━━━━━━━ 375.2/375.2 kB 50.5 MB/s eta 0:00:00\n",
      "Collecting yarl<2.0,>=1.0\n",
      "  Downloading yarl-1.9.4-cp310-cp310-manylinux_2_17_x86_64.manylinux2014_x86_64.whl (301 kB)\n",
      "     ━━━━━━━━━━━━━━━━━━━━━━━━━━━━━━━━━━━━━━ 301.6/301.6 kB 39.9 MB/s eta 0:00:00\n",
      "Collecting aiosignal>=1.1.2\n",
      "  Downloading aiosignal-1.3.1-py3-none-any.whl (7.6 kB)\n",
      "Collecting frozenlist>=1.1.1\n",
      "  Downloading frozenlist-1.4.1-cp310-cp310-manylinux_2_5_x86_64.manylinux1_x86_64.manylinux_2_17_x86_64.manylinux2014_x86_64.whl (239 kB)\n",
      "     ━━━━━━━━━━━━━━━━━━━━━━━━━━━━━━━━━━━━━━ 239.5/239.5 kB 35.9 MB/s eta 0:00:00\n",
      "Collecting multidict<7.0,>=4.5\n",
      "  Downloading multidict-6.0.5-cp310-cp310-manylinux_2_17_x86_64.manylinux2014_x86_64.whl (124 kB)\n",
      "     ━━━━━━━━━━━━━━━━━━━━━━━━━━━━━━━━━━━━━━ 124.3/124.3 kB 22.3 MB/s eta 0:00:00\n",
      "Collecting attrs>=17.3.0\n",
      "  Downloading attrs-23.2.0-py3-none-any.whl (60 kB)\n",
      "     ━━━━━━━━━━━━━━━━━━━━━━━━━━━━━━━━━━━━━━━━ 60.8/60.8 kB 9.4 MB/s eta 0:00:00\n",
      "Collecting marshmallow<4.0.0,>=3.18.0\n",
      "  Downloading marshmallow-3.20.2-py3-none-any.whl (49 kB)\n",
      "     ━━━━━━━━━━━━━━━━━━━━━━━━━━━━━━━━━━━━━━━━ 49.4/49.4 kB 9.7 MB/s eta 0:00:00\n",
      "Collecting typing-inspect<1,>=0.4.0\n",
      "  Downloading typing_inspect-0.9.0-py3-none-any.whl (8.8 kB)\n",
      "Collecting typing-extensions>=4.2.0\n",
      "  Downloading typing_extensions-4.9.0-py3-none-any.whl (32 kB)\n",
      "Collecting charset-normalizer<4,>=2\n",
      "  Downloading charset_normalizer-3.3.2-cp310-cp310-manylinux_2_17_x86_64.manylinux2014_x86_64.whl (142 kB)\n",
      "     ━━━━━━━━━━━━━━━━━━━━━━━━━━━━━━━━━━━━━━ 142.1/142.1 kB 23.6 MB/s eta 0:00:00\n",
      "Collecting urllib3<3,>=1.21.1\n",
      "  Downloading urllib3-2.2.1-py3-none-any.whl (121 kB)\n",
      "     ━━━━━━━━━━━━━━━━━━━━━━━━━━━━━━━━━━━━━━ 121.1/121.1 kB 19.6 MB/s eta 0:00:00\n",
      "Collecting certifi>=2017.4.17\n",
      "  Downloading certifi-2024.2.2-py3-none-any.whl (163 kB)\n",
      "     ━━━━━━━━━━━━━━━━━━━━━━━━━━━━━━━━━━━━━━ 163.8/163.8 kB 24.0 MB/s eta 0:00:00\n",
      "Collecting idna<4,>=2.5\n",
      "  Downloading idna-3.6-py3-none-any.whl (61 kB)\n",
      "     ━━━━━━━━━━━━━━━━━━━━━━━━━━━━━━━━━━━━━━━━ 61.6/61.6 kB 12.7 MB/s eta 0:00:00\n",
      "Collecting greenlet!=0.4.17\n",
      "  Downloading greenlet-3.0.3-cp310-cp310-manylinux_2_24_x86_64.manylinux_2_28_x86_64.whl (616 kB)\n",
      "     ━━━━━━━━━━━━━━━━━━━━━━━━━━━━━━━━━━━━━━ 616.0/616.0 kB 58.7 MB/s eta 0:00:00\n",
      "Collecting packaging>=17.0\n",
      "  Using cached packaging-23.2-py3-none-any.whl (53 kB)\n",
      "Collecting mypy-extensions>=0.3.0\n",
      "  Downloading mypy_extensions-1.0.0-py3-none-any.whl (4.7 kB)\n",
      "Installing collected packages: urllib3, typing-extensions, tenacity, PyYAML, packaging, numpy, mypy-extensions, multidict, idna, greenlet, frozenlist, charset-normalizer, certifi, attrs, async-timeout, yarl, typing-inspect, SQLAlchemy, requests, pydantic, numexpr, marshmallow, aiosignal, openapi-schema-pydantic, langsmith, dataclasses-json, aiohttp, langchain\n",
      "  Attempting uninstall: urllib3\n",
      "    Found existing installation: urllib3 1.26.11\n",
      "    Not uninstalling urllib3 at /databricks/python3/lib/python3.10/site-packages, outside environment /local_disk0/.ephemeral_nfs/envs/pythonEnv-8b623131-fa7f-4ef3-8eca-ad7cdda7c063\n",
      "    Can't uninstall 'urllib3'. No files were found to uninstall.\n",
      "  Attempting uninstall: typing-extensions\n",
      "    Found existing installation: typing_extensions 4.9.0\n",
      "    Not uninstalling typing-extensions at /local_disk0/.ephemeral_nfs/cluster_libraries/python/lib/python3.10/site-packages, outside environment /local_disk0/.ephemeral_nfs/envs/pythonEnv-8b623131-fa7f-4ef3-8eca-ad7cdda7c063\n",
      "    Can't uninstall 'typing_extensions'. No files were found to uninstall.\n",
      "  Attempting uninstall: tenacity\n",
      "    Found existing installation: tenacity 8.1.0\n",
      "    Not uninstalling tenacity at /databricks/python3/lib/python3.10/site-packages, outside environment /local_disk0/.ephemeral_nfs/envs/pythonEnv-8b623131-fa7f-4ef3-8eca-ad7cdda7c063\n",
      "    Can't uninstall 'tenacity'. No files were found to uninstall.\n",
      "  Attempting uninstall: PyYAML\n",
      "    Found existing installation: PyYAML 6.0.1\n",
      "    Not uninstalling pyyaml at /local_disk0/.ephemeral_nfs/cluster_libraries/python/lib/python3.10/site-packages, outside environment /local_disk0/.ephemeral_nfs/envs/pythonEnv-8b623131-fa7f-4ef3-8eca-ad7cdda7c063\n",
      "    Can't uninstall 'PyYAML'. No files were found to uninstall.\n",
      "  Attempting uninstall: packaging\n",
      "    Found existing installation: packaging 21.3\n",
      "    Not uninstalling packaging at /databricks/python3/lib/python3.10/site-packages, outside environment /local_disk0/.ephemeral_nfs/envs/pythonEnv-8b623131-fa7f-4ef3-8eca-ad7cdda7c063\n",
      "    Can't uninstall 'packaging'. No files were found to uninstall.\n",
      "  Attempting uninstall: numpy\n",
      "    Found existing installation: numpy 1.21.5\n",
      "    Not uninstalling numpy at /databricks/python3/lib/python3.10/site-packages, outside environment /local_disk0/.ephemeral_nfs/envs/pythonEnv-8b623131-fa7f-4ef3-8eca-ad7cdda7c063\n",
      "    Can't uninstall 'numpy'. No files were found to uninstall.\n",
      "  Attempting uninstall: mypy-extensions\n",
      "    Found existing installation: mypy-extensions 0.4.3\n",
      "    Not uninstalling mypy-extensions at /databricks/python3/lib/python3.10/site-packages, outside environment /local_disk0/.ephemeral_nfs/envs/pythonEnv-8b623131-fa7f-4ef3-8eca-ad7cdda7c063\n",
      "    Can't uninstall 'mypy-extensions'. No files were found to uninstall.\n",
      "  Attempting uninstall: idna\n",
      "    Found existing installation: idna 3.3\n",
      "    Not uninstalling idna at /databricks/python3/lib/python3.10/site-packages, outside environment /local_disk0/.ephemeral_nfs/envs/pythonEnv-8b623131-fa7f-4ef3-8eca-ad7cdda7c063\n",
      "    Can't uninstall 'idna'. No files were found to uninstall.\n",
      "  Attempting uninstall: charset-normalizer\n",
      "    Found existing installation: charset-normalizer 2.0.4\n",
      "    Not uninstalling charset-normalizer at /databricks/python3/lib/python3.10/site-packages, outside environment /local_disk0/.ephemeral_nfs/envs/pythonEnv-8b623131-fa7f-4ef3-8eca-ad7cdda7c063\n",
      "    Can't uninstall 'charset-normalizer'. No files were found to uninstall.\n",
      "  Attempting uninstall: certifi\n",
      "    Found existing installation: certifi 2022.9.14\n",
      "    Not uninstalling certifi at /databricks/python3/lib/python3.10/site-packages, outside environment /local_disk0/.ephemeral_nfs/envs/pythonEnv-8b623131-fa7f-4ef3-8eca-ad7cdda7c063\n",
      "    Can't uninstall 'certifi'. No files were found to uninstall.\n",
      "  Attempting uninstall: attrs\n",
      "    Found existing installation: attrs 21.4.0\n",
      "    Not uninstalling attrs at /databricks/python3/lib/python3.10/site-packages, outside environment /local_disk0/.ephemeral_nfs/envs/pythonEnv-8b623131-fa7f-4ef3-8eca-ad7cdda7c063\n",
      "    Can't uninstall 'attrs'. No files were found to uninstall.\n",
      "  Attempting uninstall: requests\n",
      "    Found existing installation: requests 2.28.1\n",
      "    Not uninstalling requests at /databricks/python3/lib/python3.10/site-packages, outside environment /local_disk0/.ephemeral_nfs/envs/pythonEnv-8b623131-fa7f-4ef3-8eca-ad7cdda7c063\n",
      "    Can't uninstall 'requests'. No files were found to uninstall.\n",
      "  Attempting uninstall: pydantic\n",
      "    Found existing installation: pydantic 1.10.6\n",
      "    Not uninstalling pydantic at /databricks/python3/lib/python3.10/site-packages, outside environment /local_disk0/.ephemeral_nfs/envs/pythonEnv-8b623131-fa7f-4ef3-8eca-ad7cdda7c063\n",
      "    Can't uninstall 'pydantic'. No files were found to uninstall.\n",
      "ERROR: pip's dependency resolver does not currently take into account all the packages that are installed. This behaviour is the source of the following dependency conflicts.\n",
      "scipy 1.9.1 requires numpy<1.25.0,>=1.18.5, but you have numpy 1.26.4 which is incompatible.\n",
      "databricks-sdk 0.1.6 requires requests<2.29.0,>=2.28.1, but you have requests 2.31.0 which is incompatible.\n",
      "botocore 1.27.28 requires urllib3<1.27,>=1.25.4, but you have urllib3 2.2.1 which is incompatible.\n",
      "Successfully installed PyYAML-6.0.1 SQLAlchemy-2.0.27 aiohttp-3.9.3 aiosignal-1.3.1 async-timeout-4.0.3 attrs-23.2.0 certifi-2024.2.2 charset-normalizer-3.3.2 dataclasses-json-0.5.14 frozenlist-1.4.1 greenlet-3.0.3 idna-3.6 langchain-0.0.251 langsmith-0.0.92 marshmallow-3.20.2 multidict-6.0.5 mypy-extensions-1.0.0 numexpr-2.9.0 numpy-1.26.4 openapi-schema-pydantic-1.2.4 packaging-23.2 pydantic-1.10.14 requests-2.31.0 tenacity-8.2.3 typing-extensions-4.9.0 typing-inspect-0.9.0 urllib3-2.2.1 yarl-1.9.4\n",
      "\u001b[43mNote: you may need to restart the kernel using dbutils.library.restartPython() to use updated packages.\u001b[0m\n"
     ]
    }
   ],
   "source": [
    "%pip install --force-reinstall langchain==0.0.251"
   ]
  },
  {
   "cell_type": "code",
   "execution_count": 0,
   "metadata": {
    "application/vnd.databricks.v1+cell": {
     "cellMetadata": {
      "byteLimit": 2048000,
      "rowLimit": 10000
     },
     "inputWidgets": {},
     "nuid": "25ff8b1e-4a00-4e5e-83b0-d80f8410659e",
     "showTitle": false,
     "title": ""
    }
   },
   "outputs": [],
   "source": [
    "dbutils.library.restartPython()"
   ]
  },
  {
   "cell_type": "markdown",
   "metadata": {
    "application/vnd.databricks.v1+cell": {
     "cellMetadata": {},
     "inputWidgets": {},
     "nuid": "47f7cd2d-fbaf-4ed8-b6b6-387d192484e3",
     "showTitle": false,
     "title": ""
    }
   },
   "source": [
    "#Define imports, global variables and functions"
   ]
  },
  {
   "cell_type": "code",
   "execution_count": 0,
   "metadata": {
    "application/vnd.databricks.v1+cell": {
     "cellMetadata": {
      "byteLimit": 2048000,
      "rowLimit": 10000
     },
     "inputWidgets": {},
     "nuid": "20ed65b8-083b-4ff3-8b6d-8a91f0ea9973",
     "showTitle": false,
     "title": ""
    }
   },
   "outputs": [
    {
     "data": {
      "application/vnd.databricks.v1+bamboolib_hint": "{\"pd.DataFrames\": [], \"version\": \"0.0.1\"}",
      "text/plain": []
     },
     "metadata": {},
     "output_type": "display_data"
    },
    {
     "name": "stdout",
     "output_type": "stream",
     "text": [
      "/databricks/python/lib/python3.9/site-packages/scipy/__init__.py:146: UserWarning: A NumPy version >=1.16.5 and <1.23.0 is required for this version of SciPy (detected version 1.26.0\n",
      "  warnings.warn(f\"A NumPy version >={np_minversion} and <{np_maxversion}\"\n"
     ]
    }
   ],
   "source": [
    "from pyspark.sql.functions import col,lit\n",
    "from pyspark.sql.types import *\n",
    "import pandas as pd\n",
    "import pyspark.sql.functions as F\n",
    "import numpy as np\n",
    "import pandas as pd\n",
    "import tiktoken\n",
    "from openai.embeddings_utils import get_embedding\n",
    "import os\n",
    "import openai\n",
    "import logging as logger\n",
    "from langchain import FAISS\n",
    "from langchain.text_splitter import RecursiveCharacterTextSplitter\n",
    "from langchain.embeddings import HuggingFaceInstructEmbeddings"
   ]
  },
  {
   "cell_type": "code",
   "execution_count": 0,
   "metadata": {
    "application/vnd.databricks.v1+cell": {
     "cellMetadata": {
      "byteLimit": 2048000,
      "rowLimit": 10000
     },
     "inputWidgets": {},
     "nuid": "9528c248-d00d-451b-abc2-8afdf25ca1a4",
     "showTitle": false,
     "title": ""
    }
   },
   "outputs": [],
   "source": [
    "if 'config' not in locals():\n",
    "  config = {}\n",
    "\n",
    "# Default Instructor Model\n",
    "config[\"vector_store_path\"] = \"/dbfs/tmp/ars_embeddings_1\"\n",
    "config[\"data_path\"] = \"s3://ds-databricks-playground/prarthana/ars/data_pq/\"\n",
    "config[\"search_kwargs\"] = {'k': 30, 'score_threshold': 0.9}\n",
    "config[\"embedding_model_name\"] = \"sentence-transformers/all-mpnet-base-v2\"\n",
    "config[\"embedding_model_kwargs\"] = {'device': 'cpu'}\n",
    "config[\"embedding_model_encode_kwargs\"] = {'normalize_embeddings': False}"
   ]
  },
  {
   "cell_type": "code",
   "execution_count": 0,
   "metadata": {
    "application/vnd.databricks.v1+cell": {
     "cellMetadata": {
      "byteLimit": 2048000,
      "rowLimit": 10000
     },
     "inputWidgets": {},
     "nuid": "50b5e37b-d4e5-4f75-9b6d-816001641a8f",
     "showTitle": false,
     "title": ""
    }
   },
   "outputs": [],
   "source": [
    "def get_combined(x, columns):\n",
    "  row_str = \"\"\n",
    "  for col_name in columns:\n",
    "      col_value = f\"x.{col_name}\"\n",
    "      if row_str == \"\":\n",
    "        row_str += f\"{col_name}: {eval(col_value)}\"\n",
    "      else:\n",
    "        row_str += f\"; {col_name}: {eval(col_value)}\"\n",
    "  return row_str\n",
    "\n",
    "def get_decombined(x):\n",
    "    return [i.split(\": \")[1].replace(\"None\", \"null\") for i in x.split(\"; \")]\n",
    "\n",
    "def get_column_names(x):\n",
    "    return [i.split(\": \")[0] for i in x.split(\"; \")]"
   ]
  },
  {
   "cell_type": "markdown",
   "metadata": {
    "application/vnd.databricks.v1+cell": {
     "cellMetadata": {},
     "inputWidgets": {},
     "nuid": "dd5ecd37-0bae-4111-827b-cf617b6e9c11",
     "showTitle": false,
     "title": ""
    }
   },
   "source": [
    "# Trying with langchain's embeddings - Private Dummy Data"
   ]
  },
  {
   "cell_type": "code",
   "execution_count": 0,
   "metadata": {
    "application/vnd.databricks.v1+cell": {
     "cellMetadata": {
      "byteLimit": 2048000,
      "rowLimit": 10000
     },
     "inputWidgets": {},
     "nuid": "d454107a-45ff-4ea3-a961-ca3554ddf3ea",
     "showTitle": false,
     "title": ""
    }
   },
   "outputs": [],
   "source": [
    "import pandas as pd\n",
    "import tiktoken\n",
    "from openai.embeddings_utils import get_embedding\n",
    "import os\n",
    "import openai\n",
    "os.environ[\"OPENAI_API_KEY\"] = \"sk-\"\n",
    "openai.apikey = os.getenv(\"OPENAI_API_KEY\")\n",
    "# embedding model parameters\n",
    "embedding_model = \"text-embedding-ada-002\"\n",
    "embedding_encoding = \"cl100k_base\"  # this the encoding for text-embedding-ada-002\n",
    "max_tokens = 5000  # the maximum for text-embedding-ada-002 is 8191"
   ]
  },
  {
   "cell_type": "code",
   "execution_count": 0,
   "metadata": {
    "application/vnd.databricks.v1+cell": {
     "cellMetadata": {
      "byteLimit": 2048000,
      "rowLimit": 10000
     },
     "inputWidgets": {},
     "nuid": "01c42bf5-c79f-42fa-beca-94457ca50adf",
     "showTitle": false,
     "title": ""
    }
   },
   "outputs": [],
   "source": [
    "prompt_template = \"\"\"\n",
    "You are an intelligent recommendation bot who analyses and recommends users simillir to given users. Answer best of your knowledge.\n",
    "Following is the user information about his job:\n",
    "\n",
    "Context:\n",
    "{context}\n",
    "\n",
    "Create table for 20 users similar to below data(excluding below data), take a while to think:\n",
    "{users}\n",
    "\"\"\""
   ]
  },
  {
   "cell_type": "code",
   "execution_count": 0,
   "metadata": {
    "application/vnd.databricks.v1+cell": {
     "cellMetadata": {
      "byteLimit": 2048000,
      "rowLimit": 10000
     },
     "inputWidgets": {},
     "nuid": "294b631f-e30d-4a33-9359-cf212c94459c",
     "showTitle": false,
     "title": ""
    }
   },
   "outputs": [
    {
     "data": {
      "text/html": [
       "<style scoped>\n",
       "  .table-result-container {\n",
       "    max-height: 300px;\n",
       "    overflow: auto;\n",
       "  }\n",
       "  table, th, td {\n",
       "    border: 1px solid black;\n",
       "    border-collapse: collapse;\n",
       "  }\n",
       "  th, td {\n",
       "    padding: 5px;\n",
       "  }\n",
       "  th {\n",
       "    text-align: left;\n",
       "  }\n",
       "</style><div class='table-result-container'><table class='table-result'><thead style='background-color: white'><tr><th>id</th><th>apple_height</th><th>apple_weight</th><th>apple_tree_height_meter</th><th>apple_tree_age_years</th><th>apple_type</th></tr></thead><tbody><tr><td>1</td><td>5.1</td><td>3.5</td><td>1.4</td><td>0.2</td><td>apple_ps</td></tr><tr><td>2</td><td>4.9</td><td>3.0</td><td>1.4</td><td>0.2</td><td>apple_ps</td></tr><tr><td>3</td><td>4.7</td><td>3.2</td><td>1.3</td><td>0.2</td><td>apple_ps</td></tr><tr><td>4</td><td>4.6</td><td>3.1</td><td>1.5</td><td>0.2</td><td>apple_ps</td></tr><tr><td>5</td><td>5.0</td><td>3.6</td><td>1.4</td><td>0.2</td><td>apple_ps</td></tr><tr><td>6</td><td>5.4</td><td>3.9</td><td>1.7</td><td>0.4</td><td>apple_ps</td></tr><tr><td>7</td><td>4.6</td><td>3.4</td><td>1.4</td><td>0.3</td><td>apple_ps</td></tr><tr><td>8</td><td>5.0</td><td>3.4</td><td>1.5</td><td>0.2</td><td>apple_ps</td></tr><tr><td>9</td><td>4.4</td><td>2.9</td><td>1.4</td><td>0.2</td><td>apple_ps</td></tr><tr><td>10</td><td>4.9</td><td>3.1</td><td>1.5</td><td>0.1</td><td>apple_ps</td></tr><tr><td>11</td><td>5.4</td><td>3.7</td><td>1.5</td><td>0.2</td><td>apple_ps</td></tr><tr><td>12</td><td>4.8</td><td>3.4</td><td>1.6</td><td>0.2</td><td>apple_ps</td></tr><tr><td>13</td><td>4.8</td><td>3.0</td><td>1.4</td><td>0.1</td><td>apple_ps</td></tr><tr><td>14</td><td>4.3</td><td>3.0</td><td>1.1</td><td>0.1</td><td>apple_ps</td></tr><tr><td>15</td><td>5.8</td><td>4.0</td><td>1.2</td><td>0.2</td><td>apple_ps</td></tr><tr><td>16</td><td>5.7</td><td>4.4</td><td>1.5</td><td>0.4</td><td>apple_ps</td></tr><tr><td>17</td><td>5.4</td><td>3.9</td><td>1.3</td><td>0.4</td><td>apple_ps</td></tr><tr><td>18</td><td>5.1</td><td>3.5</td><td>1.4</td><td>0.3</td><td>apple_ps</td></tr><tr><td>19</td><td>5.7</td><td>3.8</td><td>1.7</td><td>0.3</td><td>apple_ps</td></tr><tr><td>20</td><td>5.1</td><td>3.8</td><td>1.5</td><td>0.3</td><td>apple_ps</td></tr><tr><td>21</td><td>5.4</td><td>3.4</td><td>1.7</td><td>0.2</td><td>apple_ps</td></tr><tr><td>22</td><td>5.1</td><td>3.7</td><td>1.5</td><td>0.4</td><td>apple_ps</td></tr><tr><td>23</td><td>4.6</td><td>3.6</td><td>1.0</td><td>0.2</td><td>apple_ps</td></tr><tr><td>24</td><td>5.1</td><td>3.3</td><td>1.7</td><td>0.5</td><td>apple_ps</td></tr><tr><td>25</td><td>4.8</td><td>3.4</td><td>1.9</td><td>0.2</td><td>apple_ps</td></tr><tr><td>26</td><td>5.0</td><td>3.0</td><td>1.6</td><td>0.2</td><td>apple_ps</td></tr><tr><td>27</td><td>5.0</td><td>3.4</td><td>1.6</td><td>0.4</td><td>apple_ps</td></tr><tr><td>28</td><td>5.2</td><td>3.5</td><td>1.5</td><td>0.2</td><td>apple_ps</td></tr><tr><td>29</td><td>5.2</td><td>3.4</td><td>1.4</td><td>0.2</td><td>apple_ps</td></tr><tr><td>30</td><td>4.7</td><td>3.2</td><td>1.6</td><td>0.2</td><td>apple_ps</td></tr><tr><td>31</td><td>4.8</td><td>3.1</td><td>1.6</td><td>0.2</td><td>apple_ps</td></tr><tr><td>32</td><td>5.4</td><td>3.4</td><td>1.5</td><td>0.4</td><td>apple_ps</td></tr><tr><td>33</td><td>5.2</td><td>4.1</td><td>1.5</td><td>0.1</td><td>apple_ps</td></tr><tr><td>34</td><td>5.5</td><td>4.2</td><td>1.4</td><td>0.2</td><td>apple_ps</td></tr><tr><td>35</td><td>4.9</td><td>3.1</td><td>1.5</td><td>0.1</td><td>apple_ps</td></tr><tr><td>36</td><td>5.0</td><td>3.2</td><td>1.2</td><td>0.2</td><td>apple_ps</td></tr><tr><td>37</td><td>5.5</td><td>3.5</td><td>1.3</td><td>0.2</td><td>apple_ps</td></tr><tr><td>38</td><td>4.9</td><td>3.1</td><td>1.5</td><td>0.1</td><td>apple_ps</td></tr><tr><td>39</td><td>4.4</td><td>3.0</td><td>1.3</td><td>0.2</td><td>apple_ps</td></tr><tr><td>40</td><td>5.1</td><td>3.4</td><td>1.5</td><td>0.2</td><td>apple_ps</td></tr><tr><td>41</td><td>5.0</td><td>3.5</td><td>1.3</td><td>0.3</td><td>apple_ps</td></tr><tr><td>42</td><td>4.5</td><td>2.3</td><td>1.3</td><td>0.3</td><td>apple_ps</td></tr><tr><td>43</td><td>4.4</td><td>3.2</td><td>1.3</td><td>0.2</td><td>apple_ps</td></tr><tr><td>44</td><td>5.0</td><td>3.5</td><td>1.6</td><td>0.6</td><td>apple_ps</td></tr><tr><td>45</td><td>5.1</td><td>3.8</td><td>1.9</td><td>0.4</td><td>apple_ps</td></tr><tr><td>46</td><td>4.8</td><td>3.0</td><td>1.4</td><td>0.3</td><td>apple_ps</td></tr><tr><td>47</td><td>5.1</td><td>3.8</td><td>1.6</td><td>0.2</td><td>apple_ps</td></tr><tr><td>48</td><td>4.6</td><td>3.2</td><td>1.4</td><td>0.2</td><td>apple_ps</td></tr><tr><td>49</td><td>5.3</td><td>3.7</td><td>1.5</td><td>0.2</td><td>apple_ps</td></tr><tr><td>50</td><td>5.0</td><td>3.3</td><td>1.4</td><td>0.2</td><td>apple_ps</td></tr><tr><td>51</td><td>7.0</td><td>3.2</td><td>4.7</td><td>1.4</td><td>apple_am</td></tr><tr><td>52</td><td>6.4</td><td>3.2</td><td>4.5</td><td>1.5</td><td>apple_am</td></tr><tr><td>53</td><td>6.9</td><td>3.1</td><td>4.9</td><td>1.5</td><td>apple_am</td></tr><tr><td>54</td><td>5.5</td><td>2.3</td><td>4.0</td><td>1.3</td><td>apple_am</td></tr><tr><td>55</td><td>6.5</td><td>2.8</td><td>4.6</td><td>1.5</td><td>apple_am</td></tr><tr><td>56</td><td>5.7</td><td>2.8</td><td>4.5</td><td>1.3</td><td>apple_am</td></tr><tr><td>57</td><td>6.3</td><td>3.3</td><td>4.7</td><td>1.6</td><td>apple_am</td></tr><tr><td>58</td><td>4.9</td><td>2.4</td><td>3.3</td><td>1.0</td><td>apple_am</td></tr><tr><td>59</td><td>6.6</td><td>2.9</td><td>4.6</td><td>1.3</td><td>apple_am</td></tr><tr><td>60</td><td>5.2</td><td>2.7</td><td>3.9</td><td>1.4</td><td>apple_am</td></tr><tr><td>61</td><td>5.0</td><td>2.0</td><td>3.5</td><td>1.0</td><td>apple_am</td></tr><tr><td>62</td><td>5.9</td><td>3.0</td><td>4.2</td><td>1.5</td><td>apple_am</td></tr><tr><td>63</td><td>6.0</td><td>2.2</td><td>4.0</td><td>1.0</td><td>apple_am</td></tr><tr><td>64</td><td>6.1</td><td>2.9</td><td>4.7</td><td>1.4</td><td>apple_am</td></tr><tr><td>65</td><td>5.6</td><td>2.9</td><td>3.6</td><td>1.3</td><td>apple_am</td></tr><tr><td>66</td><td>6.7</td><td>3.1</td><td>4.4</td><td>1.4</td><td>apple_am</td></tr><tr><td>67</td><td>5.6</td><td>3.0</td><td>4.5</td><td>1.5</td><td>apple_am</td></tr><tr><td>68</td><td>5.8</td><td>2.7</td><td>4.1</td><td>1.0</td><td>apple_am</td></tr><tr><td>69</td><td>6.2</td><td>2.2</td><td>4.5</td><td>1.5</td><td>apple_am</td></tr><tr><td>70</td><td>5.6</td><td>2.5</td><td>3.9</td><td>1.1</td><td>apple_am</td></tr><tr><td>71</td><td>5.9</td><td>3.2</td><td>4.8</td><td>1.8</td><td>apple_am</td></tr><tr><td>72</td><td>6.1</td><td>2.8</td><td>4.0</td><td>1.3</td><td>apple_am</td></tr><tr><td>73</td><td>6.3</td><td>2.5</td><td>4.9</td><td>1.5</td><td>apple_am</td></tr><tr><td>74</td><td>6.1</td><td>2.8</td><td>4.7</td><td>1.2</td><td>apple_am</td></tr><tr><td>75</td><td>6.4</td><td>2.9</td><td>4.3</td><td>1.3</td><td>apple_am</td></tr><tr><td>76</td><td>6.6</td><td>3.0</td><td>4.4</td><td>1.4</td><td>apple_am</td></tr><tr><td>77</td><td>6.8</td><td>2.8</td><td>4.8</td><td>1.4</td><td>apple_am</td></tr><tr><td>78</td><td>6.7</td><td>3.0</td><td>5.0</td><td>1.7</td><td>apple_am</td></tr><tr><td>79</td><td>6.0</td><td>2.9</td><td>4.5</td><td>1.5</td><td>apple_am</td></tr><tr><td>80</td><td>5.7</td><td>2.6</td><td>3.5</td><td>1.0</td><td>apple_am</td></tr><tr><td>81</td><td>5.5</td><td>2.4</td><td>3.8</td><td>1.1</td><td>apple_am</td></tr><tr><td>82</td><td>5.5</td><td>2.4</td><td>3.7</td><td>1.0</td><td>apple_am</td></tr><tr><td>83</td><td>5.8</td><td>2.7</td><td>3.9</td><td>1.2</td><td>apple_am</td></tr><tr><td>84</td><td>6.0</td><td>2.7</td><td>5.1</td><td>1.6</td><td>apple_am</td></tr><tr><td>85</td><td>5.4</td><td>3.0</td><td>4.5</td><td>1.5</td><td>apple_am</td></tr><tr><td>86</td><td>6.0</td><td>3.4</td><td>4.5</td><td>1.6</td><td>apple_am</td></tr><tr><td>87</td><td>6.7</td><td>3.1</td><td>4.7</td><td>1.5</td><td>apple_am</td></tr><tr><td>88</td><td>6.3</td><td>2.3</td><td>4.4</td><td>1.3</td><td>apple_am</td></tr><tr><td>89</td><td>5.6</td><td>3.0</td><td>4.1</td><td>1.3</td><td>apple_am</td></tr><tr><td>90</td><td>5.5</td><td>2.5</td><td>4.0</td><td>1.3</td><td>apple_am</td></tr><tr><td>91</td><td>5.5</td><td>2.6</td><td>4.4</td><td>1.2</td><td>apple_am</td></tr><tr><td>92</td><td>6.1</td><td>3.0</td><td>4.6</td><td>1.4</td><td>apple_am</td></tr><tr><td>93</td><td>5.8</td><td>2.6</td><td>4.0</td><td>1.2</td><td>apple_am</td></tr><tr><td>94</td><td>5.0</td><td>2.3</td><td>3.3</td><td>1.0</td><td>apple_am</td></tr><tr><td>95</td><td>5.6</td><td>2.7</td><td>4.2</td><td>1.3</td><td>apple_am</td></tr><tr><td>96</td><td>5.7</td><td>3.0</td><td>4.2</td><td>1.2</td><td>apple_am</td></tr><tr><td>97</td><td>5.7</td><td>2.9</td><td>4.2</td><td>1.3</td><td>apple_am</td></tr><tr><td>98</td><td>6.2</td><td>2.9</td><td>4.3</td><td>1.3</td><td>apple_am</td></tr><tr><td>99</td><td>5.1</td><td>2.5</td><td>3.0</td><td>1.1</td><td>apple_am</td></tr><tr><td>100</td><td>5.7</td><td>2.8</td><td>4.1</td><td>1.3</td><td>apple_am</td></tr><tr><td>101</td><td>6.3</td><td>3.3</td><td>6.0</td><td>2.5</td><td>apple_sm</td></tr><tr><td>102</td><td>5.8</td><td>2.7</td><td>5.1</td><td>1.9</td><td>apple_sm</td></tr><tr><td>103</td><td>7.1</td><td>3.0</td><td>5.9</td><td>2.1</td><td>apple_sm</td></tr><tr><td>104</td><td>6.3</td><td>2.9</td><td>5.6</td><td>1.8</td><td>apple_sm</td></tr><tr><td>105</td><td>6.5</td><td>3.0</td><td>5.8</td><td>2.2</td><td>apple_sm</td></tr><tr><td>106</td><td>7.6</td><td>3.0</td><td>6.6</td><td>2.1</td><td>apple_sm</td></tr><tr><td>107</td><td>4.9</td><td>2.5</td><td>4.5</td><td>1.7</td><td>apple_sm</td></tr><tr><td>108</td><td>7.3</td><td>2.9</td><td>6.3</td><td>1.8</td><td>apple_sm</td></tr><tr><td>109</td><td>6.7</td><td>2.5</td><td>5.8</td><td>1.8</td><td>apple_sm</td></tr><tr><td>110</td><td>7.2</td><td>3.6</td><td>6.1</td><td>2.5</td><td>apple_sm</td></tr><tr><td>111</td><td>6.5</td><td>3.2</td><td>5.1</td><td>2.0</td><td>apple_sm</td></tr><tr><td>112</td><td>6.4</td><td>2.7</td><td>5.3</td><td>1.9</td><td>apple_sm</td></tr><tr><td>113</td><td>6.8</td><td>3.0</td><td>5.5</td><td>2.1</td><td>apple_sm</td></tr><tr><td>114</td><td>5.7</td><td>2.5</td><td>5.0</td><td>2.0</td><td>apple_sm</td></tr><tr><td>115</td><td>5.8</td><td>2.8</td><td>5.1</td><td>2.4</td><td>apple_sm</td></tr><tr><td>116</td><td>6.4</td><td>3.2</td><td>5.3</td><td>2.3</td><td>apple_sm</td></tr><tr><td>117</td><td>6.5</td><td>3.0</td><td>5.5</td><td>1.8</td><td>apple_sm</td></tr><tr><td>118</td><td>7.7</td><td>3.8</td><td>6.7</td><td>2.2</td><td>apple_sm</td></tr><tr><td>119</td><td>7.7</td><td>2.6</td><td>6.9</td><td>2.3</td><td>apple_sm</td></tr><tr><td>120</td><td>6.0</td><td>2.2</td><td>5.0</td><td>1.5</td><td>apple_sm</td></tr><tr><td>121</td><td>6.9</td><td>3.2</td><td>5.7</td><td>2.3</td><td>apple_sm</td></tr><tr><td>122</td><td>5.6</td><td>2.8</td><td>4.9</td><td>2.0</td><td>apple_sm</td></tr><tr><td>123</td><td>7.7</td><td>2.8</td><td>6.7</td><td>2.0</td><td>apple_sm</td></tr><tr><td>124</td><td>6.3</td><td>2.7</td><td>4.9</td><td>1.8</td><td>apple_sm</td></tr><tr><td>125</td><td>6.7</td><td>3.3</td><td>5.7</td><td>2.1</td><td>apple_sm</td></tr><tr><td>126</td><td>7.2</td><td>3.2</td><td>6.0</td><td>1.8</td><td>apple_sm</td></tr><tr><td>127</td><td>6.2</td><td>2.8</td><td>4.8</td><td>1.8</td><td>apple_sm</td></tr><tr><td>128</td><td>6.1</td><td>3.0</td><td>4.9</td><td>1.8</td><td>apple_sm</td></tr><tr><td>129</td><td>6.4</td><td>2.8</td><td>5.6</td><td>2.1</td><td>apple_sm</td></tr><tr><td>130</td><td>7.2</td><td>3.0</td><td>5.8</td><td>1.6</td><td>apple_sm</td></tr><tr><td>131</td><td>7.4</td><td>2.8</td><td>6.1</td><td>1.9</td><td>apple_sm</td></tr><tr><td>132</td><td>7.9</td><td>3.8</td><td>6.4</td><td>2.0</td><td>apple_sm</td></tr><tr><td>133</td><td>6.4</td><td>2.8</td><td>5.6</td><td>2.2</td><td>apple_sm</td></tr><tr><td>134</td><td>6.3</td><td>2.8</td><td>5.1</td><td>1.5</td><td>apple_sm</td></tr><tr><td>135</td><td>6.1</td><td>2.6</td><td>5.6</td><td>1.4</td><td>apple_sm</td></tr><tr><td>136</td><td>7.7</td><td>3.0</td><td>6.1</td><td>2.3</td><td>apple_sm</td></tr><tr><td>137</td><td>6.3</td><td>3.4</td><td>5.6</td><td>2.4</td><td>apple_sm</td></tr><tr><td>138</td><td>6.4</td><td>3.1</td><td>5.5</td><td>1.8</td><td>apple_sm</td></tr><tr><td>139</td><td>6.0</td><td>3.0</td><td>4.8</td><td>1.8</td><td>apple_sm</td></tr><tr><td>140</td><td>6.9</td><td>3.1</td><td>5.4</td><td>2.1</td><td>apple_sm</td></tr><tr><td>141</td><td>6.7</td><td>3.1</td><td>5.6</td><td>2.4</td><td>apple_sm</td></tr><tr><td>142</td><td>6.9</td><td>3.1</td><td>5.1</td><td>2.3</td><td>apple_sm</td></tr><tr><td>143</td><td>5.8</td><td>2.7</td><td>5.1</td><td>1.9</td><td>apple_sm</td></tr><tr><td>144</td><td>6.8</td><td>3.2</td><td>5.9</td><td>2.3</td><td>apple_sm</td></tr><tr><td>145</td><td>6.7</td><td>3.3</td><td>5.7</td><td>2.5</td><td>apple_sm</td></tr><tr><td>146</td><td>6.7</td><td>3.0</td><td>5.2</td><td>2.3</td><td>apple_sm</td></tr><tr><td>147</td><td>6.3</td><td>2.5</td><td>5.0</td><td>1.9</td><td>apple_sm</td></tr><tr><td>148</td><td>6.5</td><td>3.0</td><td>5.2</td><td>2.0</td><td>apple_sm</td></tr><tr><td>149</td><td>6.2</td><td>3.4</td><td>5.4</td><td>2.3</td><td>apple_sm</td></tr><tr><td>150</td><td>5.9</td><td>3.0</td><td>5.1</td><td>1.8</td><td>apple_sm</td></tr></tbody></table></div>"
      ]
     },
     "metadata": {
      "application/vnd.databricks.v1+output": {
       "addedWidgets": {},
       "aggData": [],
       "aggError": "",
       "aggOverflow": false,
       "aggSchema": [],
       "aggSeriesLimitReached": false,
       "aggType": "",
       "arguments": {},
       "columnCustomDisplayInfos": {},
       "data": [
        [
         "1",
         "5.1",
         "3.5",
         "1.4",
         "0.2",
         "apple_ps"
        ],
        [
         "2",
         "4.9",
         "3.0",
         "1.4",
         "0.2",
         "apple_ps"
        ],
        [
         "3",
         "4.7",
         "3.2",
         "1.3",
         "0.2",
         "apple_ps"
        ],
        [
         "4",
         "4.6",
         "3.1",
         "1.5",
         "0.2",
         "apple_ps"
        ],
        [
         "5",
         "5.0",
         "3.6",
         "1.4",
         "0.2",
         "apple_ps"
        ],
        [
         "6",
         "5.4",
         "3.9",
         "1.7",
         "0.4",
         "apple_ps"
        ],
        [
         "7",
         "4.6",
         "3.4",
         "1.4",
         "0.3",
         "apple_ps"
        ],
        [
         "8",
         "5.0",
         "3.4",
         "1.5",
         "0.2",
         "apple_ps"
        ],
        [
         "9",
         "4.4",
         "2.9",
         "1.4",
         "0.2",
         "apple_ps"
        ],
        [
         "10",
         "4.9",
         "3.1",
         "1.5",
         "0.1",
         "apple_ps"
        ],
        [
         "11",
         "5.4",
         "3.7",
         "1.5",
         "0.2",
         "apple_ps"
        ],
        [
         "12",
         "4.8",
         "3.4",
         "1.6",
         "0.2",
         "apple_ps"
        ],
        [
         "13",
         "4.8",
         "3.0",
         "1.4",
         "0.1",
         "apple_ps"
        ],
        [
         "14",
         "4.3",
         "3.0",
         "1.1",
         "0.1",
         "apple_ps"
        ],
        [
         "15",
         "5.8",
         "4.0",
         "1.2",
         "0.2",
         "apple_ps"
        ],
        [
         "16",
         "5.7",
         "4.4",
         "1.5",
         "0.4",
         "apple_ps"
        ],
        [
         "17",
         "5.4",
         "3.9",
         "1.3",
         "0.4",
         "apple_ps"
        ],
        [
         "18",
         "5.1",
         "3.5",
         "1.4",
         "0.3",
         "apple_ps"
        ],
        [
         "19",
         "5.7",
         "3.8",
         "1.7",
         "0.3",
         "apple_ps"
        ],
        [
         "20",
         "5.1",
         "3.8",
         "1.5",
         "0.3",
         "apple_ps"
        ],
        [
         "21",
         "5.4",
         "3.4",
         "1.7",
         "0.2",
         "apple_ps"
        ],
        [
         "22",
         "5.1",
         "3.7",
         "1.5",
         "0.4",
         "apple_ps"
        ],
        [
         "23",
         "4.6",
         "3.6",
         "1.0",
         "0.2",
         "apple_ps"
        ],
        [
         "24",
         "5.1",
         "3.3",
         "1.7",
         "0.5",
         "apple_ps"
        ],
        [
         "25",
         "4.8",
         "3.4",
         "1.9",
         "0.2",
         "apple_ps"
        ],
        [
         "26",
         "5.0",
         "3.0",
         "1.6",
         "0.2",
         "apple_ps"
        ],
        [
         "27",
         "5.0",
         "3.4",
         "1.6",
         "0.4",
         "apple_ps"
        ],
        [
         "28",
         "5.2",
         "3.5",
         "1.5",
         "0.2",
         "apple_ps"
        ],
        [
         "29",
         "5.2",
         "3.4",
         "1.4",
         "0.2",
         "apple_ps"
        ],
        [
         "30",
         "4.7",
         "3.2",
         "1.6",
         "0.2",
         "apple_ps"
        ],
        [
         "31",
         "4.8",
         "3.1",
         "1.6",
         "0.2",
         "apple_ps"
        ],
        [
         "32",
         "5.4",
         "3.4",
         "1.5",
         "0.4",
         "apple_ps"
        ],
        [
         "33",
         "5.2",
         "4.1",
         "1.5",
         "0.1",
         "apple_ps"
        ],
        [
         "34",
         "5.5",
         "4.2",
         "1.4",
         "0.2",
         "apple_ps"
        ],
        [
         "35",
         "4.9",
         "3.1",
         "1.5",
         "0.1",
         "apple_ps"
        ],
        [
         "36",
         "5.0",
         "3.2",
         "1.2",
         "0.2",
         "apple_ps"
        ],
        [
         "37",
         "5.5",
         "3.5",
         "1.3",
         "0.2",
         "apple_ps"
        ],
        [
         "38",
         "4.9",
         "3.1",
         "1.5",
         "0.1",
         "apple_ps"
        ],
        [
         "39",
         "4.4",
         "3.0",
         "1.3",
         "0.2",
         "apple_ps"
        ],
        [
         "40",
         "5.1",
         "3.4",
         "1.5",
         "0.2",
         "apple_ps"
        ],
        [
         "41",
         "5.0",
         "3.5",
         "1.3",
         "0.3",
         "apple_ps"
        ],
        [
         "42",
         "4.5",
         "2.3",
         "1.3",
         "0.3",
         "apple_ps"
        ],
        [
         "43",
         "4.4",
         "3.2",
         "1.3",
         "0.2",
         "apple_ps"
        ],
        [
         "44",
         "5.0",
         "3.5",
         "1.6",
         "0.6",
         "apple_ps"
        ],
        [
         "45",
         "5.1",
         "3.8",
         "1.9",
         "0.4",
         "apple_ps"
        ],
        [
         "46",
         "4.8",
         "3.0",
         "1.4",
         "0.3",
         "apple_ps"
        ],
        [
         "47",
         "5.1",
         "3.8",
         "1.6",
         "0.2",
         "apple_ps"
        ],
        [
         "48",
         "4.6",
         "3.2",
         "1.4",
         "0.2",
         "apple_ps"
        ],
        [
         "49",
         "5.3",
         "3.7",
         "1.5",
         "0.2",
         "apple_ps"
        ],
        [
         "50",
         "5.0",
         "3.3",
         "1.4",
         "0.2",
         "apple_ps"
        ],
        [
         "51",
         "7.0",
         "3.2",
         "4.7",
         "1.4",
         "apple_am"
        ],
        [
         "52",
         "6.4",
         "3.2",
         "4.5",
         "1.5",
         "apple_am"
        ],
        [
         "53",
         "6.9",
         "3.1",
         "4.9",
         "1.5",
         "apple_am"
        ],
        [
         "54",
         "5.5",
         "2.3",
         "4.0",
         "1.3",
         "apple_am"
        ],
        [
         "55",
         "6.5",
         "2.8",
         "4.6",
         "1.5",
         "apple_am"
        ],
        [
         "56",
         "5.7",
         "2.8",
         "4.5",
         "1.3",
         "apple_am"
        ],
        [
         "57",
         "6.3",
         "3.3",
         "4.7",
         "1.6",
         "apple_am"
        ],
        [
         "58",
         "4.9",
         "2.4",
         "3.3",
         "1.0",
         "apple_am"
        ],
        [
         "59",
         "6.6",
         "2.9",
         "4.6",
         "1.3",
         "apple_am"
        ],
        [
         "60",
         "5.2",
         "2.7",
         "3.9",
         "1.4",
         "apple_am"
        ],
        [
         "61",
         "5.0",
         "2.0",
         "3.5",
         "1.0",
         "apple_am"
        ],
        [
         "62",
         "5.9",
         "3.0",
         "4.2",
         "1.5",
         "apple_am"
        ],
        [
         "63",
         "6.0",
         "2.2",
         "4.0",
         "1.0",
         "apple_am"
        ],
        [
         "64",
         "6.1",
         "2.9",
         "4.7",
         "1.4",
         "apple_am"
        ],
        [
         "65",
         "5.6",
         "2.9",
         "3.6",
         "1.3",
         "apple_am"
        ],
        [
         "66",
         "6.7",
         "3.1",
         "4.4",
         "1.4",
         "apple_am"
        ],
        [
         "67",
         "5.6",
         "3.0",
         "4.5",
         "1.5",
         "apple_am"
        ],
        [
         "68",
         "5.8",
         "2.7",
         "4.1",
         "1.0",
         "apple_am"
        ],
        [
         "69",
         "6.2",
         "2.2",
         "4.5",
         "1.5",
         "apple_am"
        ],
        [
         "70",
         "5.6",
         "2.5",
         "3.9",
         "1.1",
         "apple_am"
        ],
        [
         "71",
         "5.9",
         "3.2",
         "4.8",
         "1.8",
         "apple_am"
        ],
        [
         "72",
         "6.1",
         "2.8",
         "4.0",
         "1.3",
         "apple_am"
        ],
        [
         "73",
         "6.3",
         "2.5",
         "4.9",
         "1.5",
         "apple_am"
        ],
        [
         "74",
         "6.1",
         "2.8",
         "4.7",
         "1.2",
         "apple_am"
        ],
        [
         "75",
         "6.4",
         "2.9",
         "4.3",
         "1.3",
         "apple_am"
        ],
        [
         "76",
         "6.6",
         "3.0",
         "4.4",
         "1.4",
         "apple_am"
        ],
        [
         "77",
         "6.8",
         "2.8",
         "4.8",
         "1.4",
         "apple_am"
        ],
        [
         "78",
         "6.7",
         "3.0",
         "5.0",
         "1.7",
         "apple_am"
        ],
        [
         "79",
         "6.0",
         "2.9",
         "4.5",
         "1.5",
         "apple_am"
        ],
        [
         "80",
         "5.7",
         "2.6",
         "3.5",
         "1.0",
         "apple_am"
        ],
        [
         "81",
         "5.5",
         "2.4",
         "3.8",
         "1.1",
         "apple_am"
        ],
        [
         "82",
         "5.5",
         "2.4",
         "3.7",
         "1.0",
         "apple_am"
        ],
        [
         "83",
         "5.8",
         "2.7",
         "3.9",
         "1.2",
         "apple_am"
        ],
        [
         "84",
         "6.0",
         "2.7",
         "5.1",
         "1.6",
         "apple_am"
        ],
        [
         "85",
         "5.4",
         "3.0",
         "4.5",
         "1.5",
         "apple_am"
        ],
        [
         "86",
         "6.0",
         "3.4",
         "4.5",
         "1.6",
         "apple_am"
        ],
        [
         "87",
         "6.7",
         "3.1",
         "4.7",
         "1.5",
         "apple_am"
        ],
        [
         "88",
         "6.3",
         "2.3",
         "4.4",
         "1.3",
         "apple_am"
        ],
        [
         "89",
         "5.6",
         "3.0",
         "4.1",
         "1.3",
         "apple_am"
        ],
        [
         "90",
         "5.5",
         "2.5",
         "4.0",
         "1.3",
         "apple_am"
        ],
        [
         "91",
         "5.5",
         "2.6",
         "4.4",
         "1.2",
         "apple_am"
        ],
        [
         "92",
         "6.1",
         "3.0",
         "4.6",
         "1.4",
         "apple_am"
        ],
        [
         "93",
         "5.8",
         "2.6",
         "4.0",
         "1.2",
         "apple_am"
        ],
        [
         "94",
         "5.0",
         "2.3",
         "3.3",
         "1.0",
         "apple_am"
        ],
        [
         "95",
         "5.6",
         "2.7",
         "4.2",
         "1.3",
         "apple_am"
        ],
        [
         "96",
         "5.7",
         "3.0",
         "4.2",
         "1.2",
         "apple_am"
        ],
        [
         "97",
         "5.7",
         "2.9",
         "4.2",
         "1.3",
         "apple_am"
        ],
        [
         "98",
         "6.2",
         "2.9",
         "4.3",
         "1.3",
         "apple_am"
        ],
        [
         "99",
         "5.1",
         "2.5",
         "3.0",
         "1.1",
         "apple_am"
        ],
        [
         "100",
         "5.7",
         "2.8",
         "4.1",
         "1.3",
         "apple_am"
        ],
        [
         "101",
         "6.3",
         "3.3",
         "6.0",
         "2.5",
         "apple_sm"
        ],
        [
         "102",
         "5.8",
         "2.7",
         "5.1",
         "1.9",
         "apple_sm"
        ],
        [
         "103",
         "7.1",
         "3.0",
         "5.9",
         "2.1",
         "apple_sm"
        ],
        [
         "104",
         "6.3",
         "2.9",
         "5.6",
         "1.8",
         "apple_sm"
        ],
        [
         "105",
         "6.5",
         "3.0",
         "5.8",
         "2.2",
         "apple_sm"
        ],
        [
         "106",
         "7.6",
         "3.0",
         "6.6",
         "2.1",
         "apple_sm"
        ],
        [
         "107",
         "4.9",
         "2.5",
         "4.5",
         "1.7",
         "apple_sm"
        ],
        [
         "108",
         "7.3",
         "2.9",
         "6.3",
         "1.8",
         "apple_sm"
        ],
        [
         "109",
         "6.7",
         "2.5",
         "5.8",
         "1.8",
         "apple_sm"
        ],
        [
         "110",
         "7.2",
         "3.6",
         "6.1",
         "2.5",
         "apple_sm"
        ],
        [
         "111",
         "6.5",
         "3.2",
         "5.1",
         "2.0",
         "apple_sm"
        ],
        [
         "112",
         "6.4",
         "2.7",
         "5.3",
         "1.9",
         "apple_sm"
        ],
        [
         "113",
         "6.8",
         "3.0",
         "5.5",
         "2.1",
         "apple_sm"
        ],
        [
         "114",
         "5.7",
         "2.5",
         "5.0",
         "2.0",
         "apple_sm"
        ],
        [
         "115",
         "5.8",
         "2.8",
         "5.1",
         "2.4",
         "apple_sm"
        ],
        [
         "116",
         "6.4",
         "3.2",
         "5.3",
         "2.3",
         "apple_sm"
        ],
        [
         "117",
         "6.5",
         "3.0",
         "5.5",
         "1.8",
         "apple_sm"
        ],
        [
         "118",
         "7.7",
         "3.8",
         "6.7",
         "2.2",
         "apple_sm"
        ],
        [
         "119",
         "7.7",
         "2.6",
         "6.9",
         "2.3",
         "apple_sm"
        ],
        [
         "120",
         "6.0",
         "2.2",
         "5.0",
         "1.5",
         "apple_sm"
        ],
        [
         "121",
         "6.9",
         "3.2",
         "5.7",
         "2.3",
         "apple_sm"
        ],
        [
         "122",
         "5.6",
         "2.8",
         "4.9",
         "2.0",
         "apple_sm"
        ],
        [
         "123",
         "7.7",
         "2.8",
         "6.7",
         "2.0",
         "apple_sm"
        ],
        [
         "124",
         "6.3",
         "2.7",
         "4.9",
         "1.8",
         "apple_sm"
        ],
        [
         "125",
         "6.7",
         "3.3",
         "5.7",
         "2.1",
         "apple_sm"
        ],
        [
         "126",
         "7.2",
         "3.2",
         "6.0",
         "1.8",
         "apple_sm"
        ],
        [
         "127",
         "6.2",
         "2.8",
         "4.8",
         "1.8",
         "apple_sm"
        ],
        [
         "128",
         "6.1",
         "3.0",
         "4.9",
         "1.8",
         "apple_sm"
        ],
        [
         "129",
         "6.4",
         "2.8",
         "5.6",
         "2.1",
         "apple_sm"
        ],
        [
         "130",
         "7.2",
         "3.0",
         "5.8",
         "1.6",
         "apple_sm"
        ],
        [
         "131",
         "7.4",
         "2.8",
         "6.1",
         "1.9",
         "apple_sm"
        ],
        [
         "132",
         "7.9",
         "3.8",
         "6.4",
         "2.0",
         "apple_sm"
        ],
        [
         "133",
         "6.4",
         "2.8",
         "5.6",
         "2.2",
         "apple_sm"
        ],
        [
         "134",
         "6.3",
         "2.8",
         "5.1",
         "1.5",
         "apple_sm"
        ],
        [
         "135",
         "6.1",
         "2.6",
         "5.6",
         "1.4",
         "apple_sm"
        ],
        [
         "136",
         "7.7",
         "3.0",
         "6.1",
         "2.3",
         "apple_sm"
        ],
        [
         "137",
         "6.3",
         "3.4",
         "5.6",
         "2.4",
         "apple_sm"
        ],
        [
         "138",
         "6.4",
         "3.1",
         "5.5",
         "1.8",
         "apple_sm"
        ],
        [
         "139",
         "6.0",
         "3.0",
         "4.8",
         "1.8",
         "apple_sm"
        ],
        [
         "140",
         "6.9",
         "3.1",
         "5.4",
         "2.1",
         "apple_sm"
        ],
        [
         "141",
         "6.7",
         "3.1",
         "5.6",
         "2.4",
         "apple_sm"
        ],
        [
         "142",
         "6.9",
         "3.1",
         "5.1",
         "2.3",
         "apple_sm"
        ],
        [
         "143",
         "5.8",
         "2.7",
         "5.1",
         "1.9",
         "apple_sm"
        ],
        [
         "144",
         "6.8",
         "3.2",
         "5.9",
         "2.3",
         "apple_sm"
        ],
        [
         "145",
         "6.7",
         "3.3",
         "5.7",
         "2.5",
         "apple_sm"
        ],
        [
         "146",
         "6.7",
         "3.0",
         "5.2",
         "2.3",
         "apple_sm"
        ],
        [
         "147",
         "6.3",
         "2.5",
         "5.0",
         "1.9",
         "apple_sm"
        ],
        [
         "148",
         "6.5",
         "3.0",
         "5.2",
         "2.0",
         "apple_sm"
        ],
        [
         "149",
         "6.2",
         "3.4",
         "5.4",
         "2.3",
         "apple_sm"
        ],
        [
         "150",
         "5.9",
         "3.0",
         "5.1",
         "1.8",
         "apple_sm"
        ]
       ],
       "datasetInfos": [],
       "dbfsResultPath": null,
       "isJsonSchema": true,
       "metadata": {},
       "overflow": false,
       "plotOptions": {
        "customPlotOptions": {},
        "displayType": "table",
        "pivotAggregation": null,
        "pivotColumns": null,
        "xColumns": null,
        "yColumns": null
       },
       "removedWidgets": [],
       "schema": [
        {
         "metadata": "{}",
         "name": "id",
         "type": "\"string\""
        },
        {
         "metadata": "{}",
         "name": "apple_height",
         "type": "\"string\""
        },
        {
         "metadata": "{}",
         "name": "apple_weight",
         "type": "\"string\""
        },
        {
         "metadata": "{}",
         "name": "apple_tree_height_meter",
         "type": "\"string\""
        },
        {
         "metadata": "{}",
         "name": "apple_tree_age_years",
         "type": "\"string\""
        },
        {
         "metadata": "{}",
         "name": "apple_type",
         "type": "\"string\""
        }
       ],
       "type": "table"
      }
     },
     "output_type": "display_data"
    },
    {
     "name": "stdout",
     "output_type": "stream",
     "text": [
      "Out[61]: ['id',\n",
      " 'apple_height',\n",
      " 'apple_weight',\n",
      " 'apple_tree_height_meter',\n",
      " 'apple_tree_age_years',\n",
      " 'apple_type']"
     ]
    }
   ],
   "source": [
    "dummy_df = spark.read.csv(\"/FileStore/tmp/temp.csv\", header=True)\n",
    "display(dummy_df)\n",
    "dummy_df.columns"
   ]
  },
  {
   "cell_type": "code",
   "execution_count": 0,
   "metadata": {
    "application/vnd.databricks.v1+cell": {
     "cellMetadata": {
      "byteLimit": 2048000,
      "rowLimit": 10000
     },
     "inputWidgets": {},
     "nuid": "b8e1b881-6a90-4135-8d7c-cddb56b59751",
     "showTitle": true,
     "title": "Compile-Decompile"
    }
   },
   "outputs": [],
   "source": [
    "encoding = tiktoken.get_encoding(embedding_encoding)\n",
    "def get_combined(x):\n",
    "  return str(\"apple_height: \" + str(x.apple_height) + \n",
    "    \"; apple_weight: \" + str(x.apple_weight) +  \"; apple_tree_height_meters: \" + str(x.apple_tree_height_meter) +\n",
    "    \"; apple_tree_age_years: \" + str(x.apple_tree_age_years))\n",
    "\n",
    "def get_decombined(x):\n",
    "    return [i.split(\": \")[1] for i in x.split(\";\")]"
   ]
  },
  {
   "cell_type": "code",
   "execution_count": 0,
   "metadata": {
    "application/vnd.databricks.v1+cell": {
     "cellMetadata": {
      "byteLimit": 2048000,
      "rowLimit": 10000
     },
     "inputWidgets": {},
     "nuid": "037a49a0-d699-4623-9472-0c1444656be7",
     "showTitle": false,
     "title": ""
    }
   },
   "outputs": [],
   "source": [
    "# identify embedding model that will generate embedding vectors\n",
    "# Convert to prompt\n",
    "from langchain.embeddings import OpenAIEmbeddings\n",
    "# from langchain import Chroma\n",
    "from langchain import FAISS\n",
    "embeddings = OpenAIEmbeddings(model='text-embedding-ada-002')\n",
    "\n",
    "vector_store = FAISS.from_texts(\n",
    "  embedding=embeddings, \n",
    "  texts=list(dummy_df.drop(\"apple_type\").rdd.map(lambda x: get_combined(x)).collect())\n",
    "  )"
   ]
  },
  {
   "cell_type": "code",
   "execution_count": 0,
   "metadata": {
    "application/vnd.databricks.v1+cell": {
     "cellMetadata": {
      "byteLimit": 2048000,
      "rowLimit": 10000
     },
     "inputWidgets": {},
     "nuid": "d4f74eb5-9529-4db4-8416-fcb179818f2e",
     "showTitle": false,
     "title": ""
    }
   },
   "outputs": [],
   "source": [
    "vsr = vector_store.as_retriever(search_kwargs={'k': 30, 'score_threshold': 0.99})"
   ]
  },
  {
   "cell_type": "code",
   "execution_count": 0,
   "metadata": {
    "application/vnd.databricks.v1+cell": {
     "cellMetadata": {
      "byteLimit": 2048000,
      "rowLimit": 10000
     },
     "inputWidgets": {},
     "nuid": "095d2e2c-64af-4ce3-9bc3-be33e3bb364c",
     "showTitle": false,
     "title": ""
    }
   },
   "outputs": [
    {
     "name": "stdout",
     "output_type": "stream",
     "text": [
      "Out[74]: (['apple_height: 5.1; apple_weight: 3.5; apple_tree_height_meters: 1.4; apple_tree_age_years: 0.2',\n",
      "  'apple_height: 4.9; apple_weight: 3.0; apple_tree_height_meters: 1.4; apple_tree_age_years: 0.2',\n",
      "  'apple_height: 4.7; apple_weight: 3.2; apple_tree_height_meters: 1.3; apple_tree_age_years: 0.2',\n",
      "  'apple_height: 4.6; apple_weight: 3.1; apple_tree_height_meters: 1.5; apple_tree_age_years: 0.2',\n",
      "  'apple_height: 5.0; apple_weight: 3.6; apple_tree_height_meters: 1.4; apple_tree_age_years: 0.2',\n",
      "  'apple_height: 5.4; apple_weight: 3.9; apple_tree_height_meters: 1.7; apple_tree_age_years: 0.4',\n",
      "  'apple_height: 4.6; apple_weight: 3.4; apple_tree_height_meters: 1.4; apple_tree_age_years: 0.3',\n",
      "  'apple_height: 5.0; apple_weight: 3.4; apple_tree_height_meters: 1.5; apple_tree_age_years: 0.2',\n",
      "  'apple_height: 4.4; apple_weight: 2.9; apple_tree_height_meters: 1.4; apple_tree_age_years: 0.2',\n",
      "  'apple_height: 4.9; apple_weight: 3.1; apple_tree_height_meters: 1.5; apple_tree_age_years: 0.1'],\n",
      " [Document(page_content='apple_height: 5.0; apple_weight: 3.3; apple_tree_height_meters: 1.4; apple_tree_age_years: 0.2', metadata={}),\n",
      "  Document(page_content='apple_height: 5.0; apple_weight: 3.2; apple_tree_height_meters: 1.2; apple_tree_age_years: 0.2', metadata={}),\n",
      "  Document(page_content='apple_height: 5.0; apple_weight: 3.5; apple_tree_height_meters: 1.3; apple_tree_age_years: 0.3', metadata={}),\n",
      "  Document(page_content='apple_height: 5.0; apple_weight: 3.4; apple_tree_height_meters: 1.5; apple_tree_age_years: 0.2', metadata={}),\n",
      "  Document(page_content='apple_height: 5.0; apple_weight: 2.0; apple_tree_height_meters: 3.5; apple_tree_age_years: 1.0', metadata={}),\n",
      "  Document(page_content='apple_height: 5.0; apple_weight: 3.4; apple_tree_height_meters: 1.6; apple_tree_age_years: 0.4', metadata={}),\n",
      "  Document(page_content='apple_height: 5.0; apple_weight: 3.0; apple_tree_height_meters: 1.6; apple_tree_age_years: 0.2', metadata={}),\n",
      "  Document(page_content='apple_height: 5.0; apple_weight: 3.6; apple_tree_height_meters: 1.4; apple_tree_age_years: 0.2', metadata={}),\n",
      "  Document(page_content='apple_height: 5.0; apple_weight: 2.3; apple_tree_height_meters: 3.3; apple_tree_age_years: 1.0', metadata={}),\n",
      "  Document(page_content='apple_height: 4.3; apple_weight: 3.0; apple_tree_height_meters: 1.1; apple_tree_age_years: 0.1', metadata={}),\n",
      "  Document(page_content='apple_height: 5.2; apple_weight: 4.1; apple_tree_height_meters: 1.5; apple_tree_age_years: 0.1', metadata={}),\n",
      "  Document(page_content='apple_height: 5.0; apple_weight: 3.5; apple_tree_height_meters: 1.6; apple_tree_age_years: 0.6', metadata={}),\n",
      "  Document(page_content='apple_height: 5.1; apple_weight: 3.8; apple_tree_height_meters: 1.6; apple_tree_age_years: 0.2', metadata={}),\n",
      "  Document(page_content='apple_height: 5.1; apple_weight: 3.5; apple_tree_height_meters: 1.4; apple_tree_age_years: 0.2', metadata={}),\n",
      "  Document(page_content='apple_height: 5.1; apple_weight: 3.4; apple_tree_height_meters: 1.5; apple_tree_age_years: 0.2', metadata={}),\n",
      "  Document(page_content='apple_height: 5.1; apple_weight: 3.5; apple_tree_height_meters: 1.4; apple_tree_age_years: 0.3', metadata={}),\n",
      "  Document(page_content='apple_height: 5.2; apple_weight: 3.4; apple_tree_height_meters: 1.4; apple_tree_age_years: 0.2', metadata={}),\n",
      "  Document(page_content='apple_height: 4.8; apple_weight: 3.0; apple_tree_height_meters: 1.4; apple_tree_age_years: 0.1', metadata={}),\n",
      "  Document(page_content='apple_height: 5.5; apple_weight: 2.4; apple_tree_height_meters: 3.7; apple_tree_age_years: 1.0', metadata={}),\n",
      "  Document(page_content='apple_height: 5.1; apple_weight: 3.8; apple_tree_height_meters: 1.5; apple_tree_age_years: 0.3', metadata={}),\n",
      "  Document(page_content='apple_height: 5.2; apple_weight: 3.5; apple_tree_height_meters: 1.5; apple_tree_age_years: 0.2', metadata={}),\n",
      "  Document(page_content='apple_height: 4.8; apple_weight: 3.0; apple_tree_height_meters: 1.4; apple_tree_age_years: 0.3', metadata={}),\n",
      "  Document(page_content='apple_height: 6.0; apple_weight: 3.0; apple_tree_height_meters: 4.8; apple_tree_age_years: 1.8', metadata={}),\n",
      "  Document(page_content='apple_height: 5.5; apple_weight: 3.5; apple_tree_height_meters: 1.3; apple_tree_age_years: 0.2', metadata={}),\n",
      "  Document(page_content='apple_height: 5.1; apple_weight: 3.7; apple_tree_height_meters: 1.5; apple_tree_age_years: 0.4', metadata={}),\n",
      "  Document(page_content='apple_height: 6.0; apple_weight: 3.4; apple_tree_height_meters: 4.5; apple_tree_age_years: 1.6', metadata={}),\n",
      "  Document(page_content='apple_height: 5.1; apple_weight: 3.8; apple_tree_height_meters: 1.9; apple_tree_age_years: 0.4', metadata={}),\n",
      "  Document(page_content='apple_height: 5.1; apple_weight: 3.3; apple_tree_height_meters: 1.7; apple_tree_age_years: 0.5', metadata={}),\n",
      "  Document(page_content='apple_height: 5.1; apple_weight: 2.5; apple_tree_height_meters: 3.0; apple_tree_age_years: 1.1', metadata={}),\n",
      "  Document(page_content='apple_height: 5.5; apple_weight: 4.2; apple_tree_height_meters: 1.4; apple_tree_age_years: 0.2', metadata={})])"
     ]
    }
   ],
   "source": [
    "rows_list = dummy_df.filter(F.col(\"apple_type\")==\"apple_ps\").limit(10).rdd.map(lambda x: get_combined(x)).collect()\n",
    "relevant_rows = vsr.get_relevant_documents(\"\\n\".join(rows_list))\n",
    "rows_list, relevant_rows"
   ]
  },
  {
   "cell_type": "code",
   "execution_count": 0,
   "metadata": {
    "application/vnd.databricks.v1+cell": {
     "cellMetadata": {
      "byteLimit": 2048000,
      "rowLimit": 10000
     },
     "inputWidgets": {},
     "nuid": "828a376b-92e9-4765-9a59-74672c53fbaa",
     "showTitle": true,
     "title": "Checking returned embeddings"
    }
   },
   "outputs": [
    {
     "name": "stdout",
     "output_type": "stream",
     "text": [
      "+------------+------------+-----------------------+--------------------+---+----------+\n",
      "|apple_height|apple_weight|apple_tree_height_meter|apple_tree_age_years| id|apple_type|\n",
      "+------------+------------+-----------------------+--------------------+---+----------+\n",
      "|         5.0|         3.3|                    1.4|                 0.2| 50|  apple_ps|\n",
      "|         5.0|         3.2|                    1.2|                 0.2| 36|  apple_ps|\n",
      "|         5.0|         3.5|                    1.3|                 0.3| 41|  apple_ps|\n",
      "|         5.0|         3.4|                    1.5|                 0.2|  8|  apple_ps|\n",
      "|         5.0|         2.0|                    3.5|                 1.0| 61|  apple_am|\n",
      "|         5.0|         3.4|                    1.6|                 0.4| 27|  apple_ps|\n",
      "|         5.0|         3.0|                    1.6|                 0.2| 26|  apple_ps|\n",
      "|         5.0|         3.6|                    1.4|                 0.2|  5|  apple_ps|\n",
      "|         5.0|         2.3|                    3.3|                 1.0| 94|  apple_am|\n",
      "|         4.3|         3.0|                    1.1|                 0.1| 14|  apple_ps|\n",
      "|         5.2|         4.1|                    1.5|                 0.1| 33|  apple_ps|\n",
      "|         5.0|         3.5|                    1.6|                 0.6| 44|  apple_ps|\n",
      "|         5.1|         3.8|                    1.6|                 0.2| 47|  apple_ps|\n",
      "|         5.1|         3.5|                    1.4|                 0.2|  1|  apple_ps|\n",
      "|         5.1|         3.4|                    1.5|                 0.2| 40|  apple_ps|\n",
      "|         5.1|         3.5|                    1.4|                 0.3| 18|  apple_ps|\n",
      "|         5.2|         3.4|                    1.4|                 0.2| 29|  apple_ps|\n",
      "|         4.8|         3.0|                    1.4|                 0.1| 13|  apple_ps|\n",
      "|         5.5|         2.4|                    3.7|                 1.0| 82|  apple_am|\n",
      "|         5.1|         3.8|                    1.5|                 0.3| 20|  apple_ps|\n",
      "+------------+------------+-----------------------+--------------------+---+----------+\n",
      "only showing top 20 rows\n",
      "\n"
     ]
    }
   ],
   "source": [
    "converted_rows = [get_decombined(row.page_content) for row in relevant_rows]\n",
    "relevant_df = spark.createDataFrame(converted_rows, schema=dummy_df.drop(\"id\", \"apple_type\").schema)\n",
    "\n",
    "relevant_df_joined = relevant_df.join(dummy_df, how=\"inner\", on=dummy_df.drop(\"apple_type\", \"id\").columns)\n",
    "relevant_df_joined.show()"
   ]
  },
  {
   "cell_type": "code",
   "execution_count": 0,
   "metadata": {
    "application/vnd.databricks.v1+cell": {
     "cellMetadata": {
      "byteLimit": 2048000,
      "rowLimit": 10000
     },
     "inputWidgets": {},
     "nuid": "699b3a0f-2140-42dc-b0c8-61f0e5de0e26",
     "showTitle": false,
     "title": ""
    }
   },
   "outputs": [],
   "source": [
    "from langchain.llms import OpenAI\n",
    "from langchain.prompts import PromptTemplate\n",
    "\n",
    "llm = OpenAI(temperature=0.0)\n",
    "prompt = PromptTemplate(\n",
    "    input_variables=[\"users\", \"context\"],\n",
    "    template=prompt_template,\n",
    ")\n"
   ]
  },
  {
   "cell_type": "code",
   "execution_count": 0,
   "metadata": {
    "application/vnd.databricks.v1+cell": {
     "cellMetadata": {
      "byteLimit": 2048000,
      "rowLimit": 10000
     },
     "inputWidgets": {},
     "nuid": "9085c4a4-51d5-4f79-90d3-417aec2e99a1",
     "showTitle": false,
     "title": ""
    }
   },
   "outputs": [
    {
     "name": "stdout",
     "output_type": "stream",
     "text": [
      "apple_height: 5.4; apple_weight: 3.7; apple_tree_height_meters: 1.5; apple_tree_age_years: 0.2\n",
      "apple_height: 4.8; apple_weight: 3.4; apple_tree_height_meters: 1.6; apple_tree_age_years: 0.2\n",
      "apple_height: 4.8; apple_weight: 3.0; apple_tree_height_meters: 1.4; apple_tree_age_years: 0.1\n",
      "apple_height: 4.3; apple_weight: 3.0; apple_tree_height_meters: 1.1; apple_tree_age_years: 0.1\n",
      "apple_height: 5.8; apple_weight: 2.7; apple_tree_height_meters: 3.9; apple_tree_age_years: 1.2\n",
      "apple_height: 5.7; apple_weight: 4.4; apple_tree_height_meters: 1.5; apple_tree_age_years: 0.4\n",
      "apple_height: 5.4; apple_\n"
     ]
    }
   ],
   "source": [
    "from langchain.chains import LLMChain\n",
    "chain = LLMChain(llm=llm, prompt=prompt)\n",
    "\n",
    "# Run the chain only specifying the input variable.\n",
    "print(chain.run(users=\"\\n\".join(rows_list), context=\"\\n\".join([row.page_content for row in relevant_rows])))"
   ]
  },
  {
   "cell_type": "markdown",
   "metadata": {
    "application/vnd.databricks.v1+cell": {
     "cellMetadata": {},
     "inputWidgets": {},
     "nuid": "bd969096-5ec4-427d-b13b-58005111ed4b",
     "showTitle": false,
     "title": ""
    }
   },
   "source": [
    "#Tesmp"
   ]
  },
  {
   "cell_type": "code",
   "execution_count": 0,
   "metadata": {
    "application/vnd.databricks.v1+cell": {
     "cellMetadata": {
      "byteLimit": 2048000,
      "rowLimit": 10000
     },
     "inputWidgets": {},
     "nuid": "a6ec9c91-496a-4f5b-9545-8ddc60a01829",
     "showTitle": false,
     "title": ""
    }
   },
   "outputs": [
    {
     "name": "stdout",
     "output_type": "stream",
     "text": [
      "\u001b[43mNote: you may need to restart the kernel using dbutils.library.restartPython() to use updated packages.\u001b[0m\n",
      "Collecting zipp==3.15\n",
      "  Downloading zipp-3.15.0-py3-none-any.whl (6.8 kB)\n",
      "Collecting langchain==0.0.268\n",
      "  Downloading langchain-0.0.268-py3-none-any.whl (1.5 MB)\n",
      "     ━━━━━━━━━━━━━━━━━━━━━━━━━━━━━━━━━━━━━━━━ 1.5/1.5 MB 7.5 MB/s eta 0:00:00\n",
      "Collecting gpt4all==1.0.8\n",
      "  Downloading gpt4all-1.0.8-py3-none-manylinux1_x86_64.whl (4.2 MB)\n",
      "     ━━━━━━━━━━━━━━━━━━━━━━━━━━━━━━━━━━━━━━━━ 4.2/4.2 MB 17.2 MB/s eta 0:00:00\n",
      "Collecting pypdf==3.13.0\n",
      "  Downloading pypdf-3.13.0-py3-none-any.whl (256 kB)\n",
      "     ━━━━━━━━━━━━━━━━━━━━━━━━━━━━━━━━━━━━━━ 256.1/256.1 kB 25.6 MB/s eta 0:00:00\n",
      "Collecting chromadb==0.3.26\n",
      "  Downloading chromadb-0.3.26-py3-none-any.whl (123 kB)\n",
      "     ━━━━━━━━━━━━━━━━━━━━━━━━━━━━━━━━━━━━━━ 123.6/123.6 kB 21.0 MB/s eta 0:00:00\n",
      "Collecting sentence_transformers==2.2.2\n",
      "  Using cached sentence_transformers-2.2.2-py3-none-any.whl\n",
      "Collecting InstructorEmbedding==1.0.1\n",
      "  Downloading InstructorEmbedding-1.0.1-py2.py3-none-any.whl (19 kB)\n",
      "Collecting fastapi\n",
      "  Downloading fastapi-0.109.2-py3-none-any.whl (92 kB)\n",
      "     ━━━━━━━━━━━━━━━━━━━━━━━━━━━━━━━━━━━━━━━━ 92.1/92.1 kB 19.0 MB/s eta 0:00:00\n",
      "Collecting redis\n",
      "  Downloading redis-5.0.1-py3-none-any.whl (250 kB)\n",
      "     ━━━━━━━━━━━━━━━━━━━━━━━━━━━━━━━━━━━━━━ 250.3/250.3 kB 23.5 MB/s eta 0:00:00\n",
      "Collecting pydantic==1.10.13\n",
      "  Downloading pydantic-1.10.13-cp310-cp310-manylinux_2_17_x86_64.manylinux2014_x86_64.whl (3.1 MB)\n",
      "     ━━━━━━━━━━━━━━━━━━━━━━━━━━━━━━━━━━━━━━━━ 3.1/3.1 MB 30.0 MB/s eta 0:00:00\n",
      "Collecting numexpr<3.0.0,>=2.8.4\n",
      "  Using cached numexpr-2.9.0-cp310-cp310-manylinux_2_17_x86_64.manylinux2014_x86_64.whl (375 kB)\n",
      "Collecting tenacity<9.0.0,>=8.1.0\n",
      "  Using cached tenacity-8.2.3-py3-none-any.whl (24 kB)\n",
      "Collecting langsmith<0.1.0,>=0.0.21\n",
      "  Using cached langsmith-0.0.92-py3-none-any.whl (56 kB)\n",
      "Collecting requests<3,>=2\n",
      "  Using cached requests-2.31.0-py3-none-any.whl (62 kB)\n",
      "Collecting async-timeout<5.0.0,>=4.0.0\n",
      "  Using cached async_timeout-4.0.3-py3-none-any.whl (5.7 kB)\n",
      "Collecting SQLAlchemy<3,>=1.4\n",
      "  Using cached SQLAlchemy-2.0.27-cp310-cp310-manylinux_2_17_x86_64.manylinux2014_x86_64.whl (3.1 MB)\n",
      "Collecting numpy<2,>=1\n",
      "  Using cached numpy-1.26.4-cp310-cp310-manylinux_2_17_x86_64.manylinux2014_x86_64.whl (18.2 MB)\n",
      "Collecting dataclasses-json<0.6.0,>=0.5.7\n",
      "  Using cached dataclasses_json-0.5.14-py3-none-any.whl (26 kB)\n",
      "Collecting aiohttp<4.0.0,>=3.8.3\n",
      "  Using cached aiohttp-3.9.3-cp310-cp310-manylinux_2_17_x86_64.manylinux2014_x86_64.whl (1.2 MB)\n",
      "Collecting PyYAML>=5.3\n",
      "  Using cached PyYAML-6.0.1-cp310-cp310-manylinux_2_17_x86_64.manylinux2014_x86_64.whl (705 kB)\n",
      "Collecting tqdm\n",
      "  Downloading tqdm-4.66.2-py3-none-any.whl (78 kB)\n",
      "     ━━━━━━━━━━━━━━━━━━━━━━━━━━━━━━━━━━━━━━━━ 78.3/78.3 kB 4.3 MB/s eta 0:00:00\n",
      "Collecting duckdb>=0.7.1\n",
      "  Downloading duckdb-0.10.0-cp310-cp310-manylinux_2_17_x86_64.manylinux2014_x86_64.whl (17.8 MB)\n",
      "     ━━━━━━━━━━━━━━━━━━━━━━━━━━━━━━━━━━━━━━━━ 17.8/17.8 MB 25.1 MB/s eta 0:00:00\n",
      "Collecting hnswlib>=0.7\n",
      "  Using cached hnswlib-0.8.0-cp310-cp310-linux_x86_64.whl\n",
      "Collecting uvicorn[standard]>=0.18.3\n",
      "  Downloading uvicorn-0.27.1-py3-none-any.whl (60 kB)\n",
      "     ━━━━━━━━━━━━━━━━━━━━━━━━━━━━━━━━━━━━━━━━ 60.8/60.8 kB 13.9 MB/s eta 0:00:00\n",
      "Collecting posthog>=2.4.0\n",
      "  Downloading posthog-3.4.2-py2.py3-none-any.whl (41 kB)\n",
      "     ━━━━━━━━━━━━━━━━━━━━━━━━━━━━━━━━━━━━━━━━ 41.2/41.2 kB 8.1 MB/s eta 0:00:00\n",
      "Collecting typing-extensions>=4.5.0\n",
      "  Using cached typing_extensions-4.9.0-py3-none-any.whl (32 kB)\n",
      "Collecting overrides>=7.3.1\n",
      "  Downloading overrides-7.7.0-py3-none-any.whl (17 kB)\n",
      "Collecting onnxruntime>=1.14.1\n",
      "  Downloading onnxruntime-1.17.0-cp310-cp310-manylinux_2_27_x86_64.manylinux_2_28_x86_64.whl (6.8 MB)\n",
      "     ━━━━━━━━━━━━━━━━━━━━━━━━━━━━━━━━━━━━━━━━ 6.8/6.8 MB 29.3 MB/s eta 0:00:00\n",
      "Collecting pulsar-client>=3.1.0\n",
      "  Downloading pulsar_client-3.4.0-cp310-cp310-manylinux_2_17_x86_64.manylinux2014_x86_64.whl (5.4 MB)\n",
      "     ━━━━━━━━━━━━━━━━━━━━━━━━━━━━━━━━━━━━━━━━ 5.4/5.4 MB 23.2 MB/s eta 0:00:00\n",
      "Collecting tokenizers>=0.13.2\n",
      "  Downloading tokenizers-0.15.2-cp310-cp310-manylinux_2_17_x86_64.manylinux2014_x86_64.whl (3.6 MB)\n",
      "     ━━━━━━━━━━━━━━━━━━━━━━━━━━━━━━━━━━━━━━━━ 3.6/3.6 MB 22.8 MB/s eta 0:00:00\n",
      "Collecting clickhouse-connect>=0.5.7\n",
      "  Downloading clickhouse_connect-0.7.0-cp310-cp310-manylinux_2_17_x86_64.manylinux2014_x86_64.whl (964 kB)\n",
      "     ━━━━━━━━━━━━━━━━━━━━━━━━━━━━━━━━━━━━━━ 964.5/964.5 kB 22.2 MB/s eta 0:00:00\n",
      "Collecting pandas>=1.3\n",
      "  Downloading pandas-2.2.0-cp310-cp310-manylinux_2_17_x86_64.manylinux2014_x86_64.whl (13.0 MB)\n",
      "     ━━━━━━━━━━━━━━━━━━━━━━━━━━━━━━━━━━━━━━━━ 13.0/13.0 MB 19.7 MB/s eta 0:00:00\n",
      "Collecting torch>=1.6.0\n",
      "  Downloading torch-2.2.0-cp310-cp310-manylinux1_x86_64.whl (755.5 MB)\n",
      "     ━━━━━━━━━━━━━━━━━━━━━━━━━━━━━━━━━━━━━━━ 755.5/755.5 MB 1.1 MB/s eta 0:00:00\n",
      "Collecting transformers<5.0.0,>=4.6.0\n",
      "  Downloading transformers-4.38.1-py3-none-any.whl (8.5 MB)\n",
      "     ━━━━━━━━━━━━━━━━━━━━━━━━━━━━━━━━━━━━━━━━ 8.5/8.5 MB 24.9 MB/s eta 0:00:00\n",
      "Collecting nltk\n",
      "  Downloading nltk-3.8.1-py3-none-any.whl (1.5 MB)\n",
      "     ━━━━━━━━━━━━━━━━━━━━━━━━━━━━━━━━━━━━━━━━ 1.5/1.5 MB 19.9 MB/s eta 0:00:00\n",
      "Collecting sentencepiece\n",
      "  Downloading sentencepiece-0.2.0-cp310-cp310-manylinux_2_17_x86_64.manylinux2014_x86_64.whl (1.3 MB)\n",
      "     ━━━━━━━━━━━━━━━━━━━━━━━━━━━━━━━━━━━━━━━━ 1.3/1.3 MB 19.8 MB/s eta 0:00:00\n",
      "Collecting scikit-learn\n",
      "  Downloading scikit_learn-1.4.1.post1-cp310-cp310-manylinux_2_17_x86_64.manylinux2014_x86_64.whl (12.1 MB)\n",
      "     ━━━━━━━━━━━━━━━━━━━━━━━━━━━━━━━━━━━━━━━━ 12.1/12.1 MB 17.6 MB/s eta 0:00:00\n",
      "Collecting huggingface-hub>=0.4.0\n",
      "  Downloading huggingface_hub-0.20.3-py3-none-any.whl (330 kB)\n",
      "     ━━━━━━━━━━━━━━━━━━━━━━━━━━━━━━━━━━━━━━ 330.1/330.1 kB 15.8 MB/s eta 0:00:00\n",
      "Collecting torchvision\n",
      "  Downloading torchvision-0.17.0-cp310-cp310-manylinux1_x86_64.whl (6.9 MB)\n",
      "     ━━━━━━━━━━━━━━━━━━━━━━━━━━━━━━━━━━━━━━━━ 6.9/6.9 MB 18.1 MB/s eta 0:00:00\n",
      "Collecting scipy\n",
      "  Downloading scipy-1.12.0-cp310-cp310-manylinux_2_17_x86_64.manylinux2014_x86_64.whl (38.4 MB)\n",
      "     ━━━━━━━━━━━━━━━━━━━━━━━━━━━━━━━━━━━━━━━━ 38.4/38.4 MB 12.4 MB/s eta 0:00:00\n",
      "Collecting starlette<0.37.0,>=0.36.3\n",
      "  Downloading starlette-0.36.3-py3-none-any.whl (71 kB)\n",
      "     ━━━━━━━━━━━━━━━━━━━━━━━━━━━━━━━━━━━━━━━━ 71.5/71.5 kB 12.2 MB/s eta 0:00:00\n",
      "Collecting frozenlist>=1.1.1\n",
      "  Using cached frozenlist-1.4.1-cp310-cp310-manylinux_2_5_x86_64.manylinux1_x86_64.manylinux_2_17_x86_64.manylinux2014_x86_64.whl (239 kB)\n",
      "Collecting yarl<2.0,>=1.0\n",
      "  Using cached yarl-1.9.4-cp310-cp310-manylinux_2_17_x86_64.manylinux2014_x86_64.whl (301 kB)\n",
      "Collecting aiosignal>=1.1.2\n",
      "  Using cached aiosignal-1.3.1-py3-none-any.whl (7.6 kB)\n",
      "Collecting multidict<7.0,>=4.5\n",
      "  Using cached multidict-6.0.5-cp310-cp310-manylinux_2_17_x86_64.manylinux2014_x86_64.whl (124 kB)\n",
      "Collecting attrs>=17.3.0\n",
      "  Using cached attrs-23.2.0-py3-none-any.whl (60 kB)\n",
      "Collecting urllib3>=1.26\n",
      "  Using cached urllib3-2.2.1-py3-none-any.whl (121 kB)\n",
      "Collecting certifi\n",
      "  Using cached certifi-2024.2.2-py3-none-any.whl (163 kB)\n",
      "Collecting lz4\n",
      "  Downloading lz4-4.3.3-cp310-cp310-manylinux_2_17_x86_64.manylinux2014_x86_64.whl (1.3 MB)\n",
      "     ━━━━━━━━━━━━━━━━━━━━━━━━━━━━━━━━━━━━━━━━ 1.3/1.3 MB 16.4 MB/s eta 0:00:00\n",
      "Collecting pytz\n",
      "  Downloading pytz-2024.1-py2.py3-none-any.whl (505 kB)\n",
      "     ━━━━━━━━━━━━━━━━━━━━━━━━━━━━━━━━━━━━━━ 505.5/505.5 kB 15.8 MB/s eta 0:00:00\n",
      "Collecting zstandard\n",
      "  Downloading zstandard-0.22.0-cp310-cp310-manylinux_2_17_x86_64.manylinux2014_x86_64.whl (5.4 MB)\n",
      "     ━━━━━━━━━━━━━━━━━━━━━━━━━━━━━━━━━━━━━━━━ 5.4/5.4 MB 17.7 MB/s eta 0:00:00\n",
      "Collecting marshmallow<4.0.0,>=3.18.0\n",
      "  Using cached marshmallow-3.20.2-py3-none-any.whl (49 kB)\n",
      "Collecting typing-inspect<1,>=0.4.0\n",
      "  Using cached typing_inspect-0.9.0-py3-none-any.whl (8.8 kB)\n",
      "Collecting packaging>=20.9\n",
      "  Using cached packaging-23.2-py3-none-any.whl (53 kB)\n",
      "Collecting filelock\n",
      "  Downloading filelock-3.13.1-py3-none-any.whl (11 kB)\n",
      "Collecting fsspec>=2023.5.0\n",
      "  Downloading fsspec-2024.2.0-py3-none-any.whl (170 kB)\n",
      "     ━━━━━━━━━━━━━━━━━━━━━━━━━━━━━━━━━━━━━━ 170.9/170.9 kB 18.2 MB/s eta 0:00:00\n",
      "Collecting protobuf\n",
      "  Downloading protobuf-4.25.3-cp37-abi3-manylinux2014_x86_64.whl (294 kB)\n",
      "     ━━━━━━━━━━━━━━━━━━━━━━━━━━━━━━━━━━━━━━ 294.6/294.6 kB 16.8 MB/s eta 0:00:00\n",
      "Collecting coloredlogs\n",
      "  Downloading coloredlogs-15.0.1-py2.py3-none-any.whl (46 kB)\n",
      "     ━━━━━━━━━━━━━━━━━━━━━━━━━━━━━━━━━━━━━━━━ 46.0/46.0 kB 10.0 MB/s eta 0:00:00\n",
      "Collecting flatbuffers\n",
      "  Downloading flatbuffers-23.5.26-py2.py3-none-any.whl (26 kB)\n",
      "Collecting sympy\n",
      "  Downloading sympy-1.12-py3-none-any.whl (5.7 MB)\n",
      "     ━━━━━━━━━━━━━━━━━━━━━━━━━━━━━━━━━━━━━━━━ 5.7/5.7 MB 14.2 MB/s eta 0:00:00\n",
      "Collecting tzdata>=2022.7\n",
      "  Downloading tzdata-2024.1-py2.py3-none-any.whl (345 kB)\n",
      "     ━━━━━━━━━━━━━━━━━━━━━━━━━━━━━━━━━━━━━━ 345.4/345.4 kB 14.1 MB/s eta 0:00:00\n",
      "Collecting python-dateutil>=2.8.2\n",
      "  Downloading python_dateutil-2.8.2-py2.py3-none-any.whl (247 kB)\n",
      "     ━━━━━━━━━━━━━━━━━━━━━━━━━━━━━━━━━━━━━━ 247.7/247.7 kB 12.8 MB/s eta 0:00:00\n",
      "Collecting backoff>=1.10.0\n",
      "  Downloading backoff-2.2.1-py3-none-any.whl (15 kB)\n",
      "Collecting monotonic>=1.5\n",
      "  Downloading monotonic-1.6-py2.py3-none-any.whl (8.2 kB)\n",
      "Collecting six>=1.5\n",
      "  Downloading six-1.16.0-py2.py3-none-any.whl (11 kB)\n",
      "Collecting idna<4,>=2.5\n",
      "  Using cached idna-3.6-py3-none-any.whl (61 kB)\n",
      "Collecting charset-normalizer<4,>=2\n",
      "  Using cached charset_normalizer-3.3.2-cp310-cp310-manylinux_2_17_x86_64.manylinux2014_x86_64.whl (142 kB)\n",
      "Collecting greenlet!=0.4.17\n",
      "  Using cached greenlet-3.0.3-cp310-cp310-manylinux_2_24_x86_64.manylinux_2_28_x86_64.whl (616 kB)\n",
      "Collecting anyio<5,>=3.4.0\n",
      "  Downloading anyio-4.3.0-py3-none-any.whl (85 kB)\n",
      "     ━━━━━━━━━━━━━━━━━━━━━━━━━━━━━━━━━━━━━━━━ 85.6/85.6 kB 13.1 MB/s eta 0:00:00\n",
      "Collecting nvidia-nccl-cu12==2.19.3\n",
      "  Downloading nvidia_nccl_cu12-2.19.3-py3-none-manylinux1_x86_64.whl (166.0 MB)\n",
      "     ━━━━━━━━━━━━━━━━━━━━━━━━━━━━━━━━━━━━━━━ 166.0/166.0 MB 5.2 MB/s eta 0:00:00\n",
      "Collecting nvidia-cuda-cupti-cu12==12.1.105\n",
      "  Downloading nvidia_cuda_cupti_cu12-12.1.105-py3-none-manylinux1_x86_64.whl (14.1 MB)\n",
      "     ━━━━━━━━━━━━━━━━━━━━━━━━━━━━━━━━━━━━━━━━ 14.1/14.1 MB 16.8 MB/s eta 0:00:00\n",
      "Collecting nvidia-cufft-cu12==11.0.2.54\n",
      "  Downloading nvidia_cufft_cu12-11.0.2.54-py3-none-manylinux1_x86_64.whl (121.6 MB)\n",
      "     ━━━━━━━━━━━━━━━━━━━━━━━━━━━━━━━━━━━━━━ 121.6/121.6 MB 10.2 MB/s eta 0:00:00\n",
      "Collecting nvidia-cudnn-cu12==8.9.2.26\n",
      "  Downloading nvidia_cudnn_cu12-8.9.2.26-py3-none-manylinux1_x86_64.whl (731.7 MB)\n",
      "     ━━━━━━━━━━━━━━━━━━━━━━━━━━━━━━━━━━━━━━━ 731.7/731.7 MB 1.1 MB/s eta 0:00:00\n",
      "Collecting nvidia-cuda-runtime-cu12==12.1.105\n",
      "  Downloading nvidia_cuda_runtime_cu12-12.1.105-py3-none-manylinux1_x86_64.whl (823 kB)\n",
      "     ━━━━━━━━━━━━━━━━━━━━━━━━━━━━━━━━━━━━━━ 823.6/823.6 kB 18.9 MB/s eta 0:00:00\n",
      "Collecting nvidia-cublas-cu12==12.1.3.1\n",
      "  Downloading nvidia_cublas_cu12-12.1.3.1-py3-none-manylinux1_x86_64.whl (410.6 MB)\n",
      "     ━━━━━━━━━━━━━━━━━━━━━━━━━━━━━━━━━━━━━━━ 410.6/410.6 MB 2.6 MB/s eta 0:00:00\n",
      "Collecting triton==2.2.0\n",
      "  Downloading triton-2.2.0-cp310-cp310-manylinux_2_17_x86_64.manylinux2014_x86_64.whl (167.9 MB)\n",
      "     ━━━━━━━━━━━━━━━━━━━━━━━━━━━━━━━━━━━━━━━ 167.9/167.9 MB 5.8 MB/s eta 0:00:00\n",
      "Collecting networkx\n",
      "  Downloading networkx-3.2.1-py3-none-any.whl (1.6 MB)\n",
      "     ━━━━━━━━━━━━━━━━━━━━━━━━━━━━━━━━━━━━━━━━ 1.6/1.6 MB 28.0 MB/s eta 0:00:00\n",
      "Collecting nvidia-cusolver-cu12==11.4.5.107\n",
      "  Downloading nvidia_cusolver_cu12-11.4.5.107-py3-none-manylinux1_x86_64.whl (124.2 MB)\n",
      "     ━━━━━━━━━━━━━━━━━━━━━━━━━━━━━━━━━━━━━━━ 124.2/124.2 MB 8.6 MB/s eta 0:00:00\n",
      "Collecting nvidia-cuda-nvrtc-cu12==12.1.105\n",
      "  Downloading nvidia_cuda_nvrtc_cu12-12.1.105-py3-none-manylinux1_x86_64.whl (23.7 MB)\n",
      "     ━━━━━━━━━━━━━━━━━━━━━━━━━━━━━━━━━━━━━━━━ 23.7/23.7 MB 27.2 MB/s eta 0:00:00\n",
      "Collecting nvidia-curand-cu12==10.3.2.106\n",
      "  Downloading nvidia_curand_cu12-10.3.2.106-py3-none-manylinux1_x86_64.whl (56.5 MB)\n",
      "     ━━━━━━━━━━━━━━━━━━━━━━━━━━━━━━━━━━━━━━━━ 56.5/56.5 MB 19.9 MB/s eta 0:00:00\n",
      "Collecting jinja2\n",
      "  Downloading Jinja2-3.1.3-py3-none-any.whl (133 kB)\n",
      "     ━━━━━━━━━━━━━━━━━━━━━━━━━━━━━━━━━━━━━━ 133.2/133.2 kB 28.6 MB/s eta 0:00:00\n",
      "Collecting nvidia-cusparse-cu12==12.1.0.106\n",
      "  Downloading nvidia_cusparse_cu12-12.1.0.106-py3-none-manylinux1_x86_64.whl (196.0 MB)\n",
      "     ━━━━━━━━━━━━━━━━━━━━━━━━━━━━━━━━━━━━━━━ 196.0/196.0 MB 4.9 MB/s eta 0:00:00\n",
      "Collecting nvidia-nvtx-cu12==12.1.105\n",
      "  Downloading nvidia_nvtx_cu12-12.1.105-py3-none-manylinux1_x86_64.whl (99 kB)\n",
      "     ━━━━━━━━━━━━━━━━━━━━━━━━━━━━━━━━━━━━━━━━ 99.1/99.1 kB 20.4 MB/s eta 0:00:00\n",
      "Collecting nvidia-nvjitlink-cu12\n",
      "  Downloading nvidia_nvjitlink_cu12-12.3.101-py3-none-manylinux1_x86_64.whl (20.5 MB)\n",
      "     ━━━━━━━━━━━━━━━━━━━━━━━━━━━━━━━━━━━━━━━━ 20.5/20.5 MB 30.5 MB/s eta 0:00:00\n",
      "Collecting regex!=2019.12.17\n",
      "  Downloading regex-2023.12.25-cp310-cp310-manylinux_2_17_x86_64.manylinux2014_x86_64.whl (773 kB)\n",
      "     ━━━━━━━━━━━━━━━━━━━━━━━━━━━━━━━━━━━━━━ 774.0/774.0 kB 30.9 MB/s eta 0:00:00\n",
      "Collecting safetensors>=0.4.1\n",
      "  Downloading safetensors-0.4.2-cp310-cp310-manylinux_2_17_x86_64.manylinux2014_x86_64.whl (1.3 MB)\n",
      "     ━━━━━━━━━━━━━━━━━━━━━━━━━━━━━━━━━━━━━━━━ 1.3/1.3 MB 31.8 MB/s eta 0:00:00\n",
      "Collecting h11>=0.8\n",
      "  Downloading h11-0.14.0-py3-none-any.whl (58 kB)\n",
      "     ━━━━━━━━━━━━━━━━━━━━━━━━━━━━━━━━━━━━━━━━ 58.3/58.3 kB 14.5 MB/s eta 0:00:00\n",
      "Collecting click>=7.0\n",
      "  Downloading click-8.1.7-py3-none-any.whl (97 kB)\n",
      "     ━━━━━━━━━━━━━━━━━━━━━━━━━━━━━━━━━━━━━━━━ 97.9/97.9 kB 23.3 MB/s eta 0:00:00\n",
      "Collecting watchfiles>=0.13\n",
      "  Downloading watchfiles-0.21.0-cp310-cp310-manylinux_2_17_x86_64.manylinux2014_x86_64.whl (1.3 MB)\n",
      "     ━━━━━━━━━━━━━━━━━━━━━━━━━━━━━━━━━━━━━━━━ 1.3/1.3 MB 32.8 MB/s eta 0:00:00\n",
      "Collecting websockets>=10.4\n",
      "  Downloading websockets-12.0-cp310-cp310-manylinux_2_5_x86_64.manylinux1_x86_64.manylinux_2_17_x86_64.manylinux2014_x86_64.whl (130 kB)\n",
      "     ━━━━━━━━━━━━━━━━━━━━━━━━━━━━━━━━━━━━━━ 130.2/130.2 kB 25.7 MB/s eta 0:00:00\n",
      "Collecting uvloop!=0.15.0,!=0.15.1,>=0.14.0\n",
      "  Downloading uvloop-0.19.0-cp310-cp310-manylinux_2_17_x86_64.manylinux2014_x86_64.whl (3.4 MB)\n",
      "     ━━━━━━━━━━━━━━━━━━━━━━━━━━━━━━━━━━━━━━━━ 3.4/3.4 MB 33.5 MB/s eta 0:00:00\n",
      "Collecting httptools>=0.5.0\n",
      "  Downloading httptools-0.6.1-cp310-cp310-manylinux_2_5_x86_64.manylinux1_x86_64.manylinux_2_17_x86_64.manylinux2014_x86_64.whl (341 kB)\n",
      "     ━━━━━━━━━━━━━━━━━━━━━━━━━━━━━━━━━━━━━━ 341.4/341.4 kB 28.9 MB/s eta 0:00:00\n",
      "Collecting python-dotenv>=0.13\n",
      "  Downloading python_dotenv-1.0.1-py3-none-any.whl (19 kB)\n",
      "Collecting joblib\n",
      "  Downloading joblib-1.3.2-py3-none-any.whl (302 kB)\n",
      "     ━━━━━━━━━━━━━━━━━━━━━━━━━━━━━━━━━━━━━━ 302.2/302.2 kB 28.9 MB/s eta 0:00:00\n",
      "Collecting threadpoolctl>=2.0.0\n",
      "  Downloading threadpoolctl-3.3.0-py3-none-any.whl (17 kB)\n",
      "Collecting pillow!=8.3.*,>=5.3.0\n",
      "  Downloading pillow-10.2.0-cp310-cp310-manylinux_2_28_x86_64.whl (4.5 MB)\n",
      "     ━━━━━━━━━━━━━━━━━━━━━━━━━━━━━━━━━━━━━━━━ 4.5/4.5 MB 34.8 MB/s eta 0:00:00\n",
      "Collecting exceptiongroup>=1.0.2\n",
      "  Downloading exceptiongroup-1.2.0-py3-none-any.whl (16 kB)\n",
      "Collecting sniffio>=1.1\n",
      "  Downloading sniffio-1.3.0-py3-none-any.whl (10 kB)\n",
      "Collecting mypy-extensions>=0.3.0\n",
      "  Using cached mypy_extensions-1.0.0-py3-none-any.whl (4.7 kB)\n",
      "Collecting humanfriendly>=9.1\n",
      "  Downloading humanfriendly-10.0-py2.py3-none-any.whl (86 kB)\n",
      "     ━━━━━━━━━━━━━━━━━━━━━━━━━━━━━━━━━━━━━━━━ 86.8/86.8 kB 18.6 MB/s eta 0:00:00\n",
      "Collecting MarkupSafe>=2.0\n",
      "  Downloading MarkupSafe-2.1.5-cp310-cp310-manylinux_2_17_x86_64.manylinux2014_x86_64.whl (25 kB)\n",
      "Collecting mpmath>=0.19\n",
      "  Downloading mpmath-1.3.0-py3-none-any.whl (536 kB)\n",
      "     ━━━━━━━━━━━━━━━━━━━━━━━━━━━━━━━━━━━━━━ 536.2/536.2 kB 17.1 MB/s eta 0:00:00\n",
      "Installing collected packages: sentencepiece, pytz, mpmath, monotonic, InstructorEmbedding, flatbuffers, zstandard, zipp, websockets, uvloop, urllib3, tzdata, typing-extensions, tqdm, threadpoolctl, tenacity, sympy, sniffio, six, safetensors, regex, PyYAML, python-dotenv, pypdf, protobuf, pillow, packaging, overrides, nvidia-nvtx-cu12, nvidia-nvjitlink-cu12, nvidia-nccl-cu12, nvidia-curand-cu12, nvidia-cufft-cu12, nvidia-cuda-runtime-cu12, nvidia-cuda-nvrtc-cu12, nvidia-cuda-cupti-cu12, nvidia-cublas-cu12, numpy, networkx, mypy-extensions, multidict, MarkupSafe, lz4, joblib, idna, humanfriendly, httptools, h11, greenlet, fsspec, frozenlist, filelock, exceptiongroup, duckdb, click, charset-normalizer, certifi, backoff, attrs, async-timeout, yarl, uvicorn, typing-inspect, triton, SQLAlchemy, scipy, requests, redis, python-dateutil, pydantic, pulsar-client, nvidia-cusparse-cu12, nvidia-cudnn-cu12, numexpr, nltk, marshmallow, jinja2, hnswlib, coloredlogs, clickhouse-connect, anyio, aiosignal, watchfiles, starlette, scikit-learn, posthog, pandas, onnxruntime, nvidia-cusolver-cu12, langsmith, huggingface-hub, gpt4all, dataclasses-json, aiohttp, torch, tokenizers, langchain, fastapi, transformers, torchvision, chromadb, sentence_transformers\n",
      "  Attempting uninstall: pytz\n",
      "    Found existing installation: pytz 2022.1\n",
      "    Not uninstalling pytz at /databricks/python3/lib/python3.10/site-packages, outside environment /local_disk0/.ephemeral_nfs/envs/pythonEnv-8b623131-fa7f-4ef3-8eca-ad7cdda7c063\n",
      "    Can't uninstall 'pytz'. No files were found to uninstall.\n",
      "  Attempting uninstall: zipp\n",
      "    Found existing installation: zipp 1.0.0\n",
      "    Not uninstalling zipp at /usr/lib/python3/dist-packages, outside environment /local_disk0/.ephemeral_nfs/envs/pythonEnv-8b623131-fa7f-4ef3-8eca-ad7cdda7c063\n",
      "    Can't uninstall 'zipp'. No files were found to uninstall.\n",
      "  Attempting uninstall: urllib3\n",
      "    Found existing installation: urllib3 2.2.1\n",
      "    Uninstalling urllib3-2.2.1:\n",
      "      Successfully uninstalled urllib3-2.2.1\n",
      "  Attempting uninstall: typing-extensions\n",
      "    Found existing installation: typing_extensions 4.9.0\n",
      "    Uninstalling typing_extensions-4.9.0:\n",
      "      Successfully uninstalled typing_extensions-4.9.0\n",
      "  Attempting uninstall: threadpoolctl\n",
      "    Found existing installation: threadpoolctl 2.2.0\n",
      "    Not uninstalling threadpoolctl at /databricks/python3/lib/python3.10/site-packages, outside environment /local_disk0/.ephemeral_nfs/envs/pythonEnv-8b623131-fa7f-4ef3-8eca-ad7cdda7c063\n",
      "    Can't uninstall 'threadpoolctl'. No files were found to uninstall.\n",
      "  Attempting uninstall: tenacity\n",
      "    Found existing installation: tenacity 8.2.3\n",
      "    Uninstalling tenacity-8.2.3:\n",
      "      Successfully uninstalled tenacity-8.2.3\n",
      "  Attempting uninstall: six\n",
      "    Found existing installation: six 1.16.0\n",
      "    Not uninstalling six at /usr/lib/python3/dist-packages, outside environment /local_disk0/.ephemeral_nfs/envs/pythonEnv-8b623131-fa7f-4ef3-8eca-ad7cdda7c063\n",
      "    Can't uninstall 'six'. No files were found to uninstall.\n",
      "  Attempting uninstall: PyYAML\n",
      "    Found existing installation: PyYAML 6.0.1\n",
      "    Uninstalling PyYAML-6.0.1:\n",
      "      Successfully uninstalled PyYAML-6.0.1\n",
      "  Attempting uninstall: python-dotenv\n",
      "    Found existing installation: python-dotenv 0.21.1\n",
      "    Not uninstalling python-dotenv at /local_disk0/.ephemeral_nfs/cluster_libraries/python/lib/python3.10/site-packages, outside environment /local_disk0/.ephemeral_nfs/envs/pythonEnv-8b623131-fa7f-4ef3-8eca-ad7cdda7c063\n",
      "    Can't uninstall 'python-dotenv'. No files were found to uninstall.\n",
      "  Attempting uninstall: protobuf\n",
      "    Found existing installation: protobuf 3.19.4\n",
      "    Not uninstalling protobuf at /databricks/python3/lib/python3.10/site-packages, outside environment /local_disk0/.ephemeral_nfs/envs/pythonEnv-8b623131-fa7f-4ef3-8eca-ad7cdda7c063\n",
      "    Can't uninstall 'protobuf'. No files were found to uninstall.\n",
      "  Attempting uninstall: pillow\n",
      "    Found existing installation: Pillow 9.2.0\n",
      "    Not uninstalling pillow at /databricks/python3/lib/python3.10/site-packages, outside environment /local_disk0/.ephemeral_nfs/envs/pythonEnv-8b623131-fa7f-4ef3-8eca-ad7cdda7c063\n",
      "    Can't uninstall 'Pillow'. No files were found to uninstall.\n",
      "  Attempting uninstall: packaging\n",
      "    Found existing installation: packaging 23.2\n",
      "    Uninstalling packaging-23.2:\n",
      "      Successfully uninstalled packaging-23.2\n",
      "  Attempting uninstall: numpy\n",
      "    Found existing installation: numpy 1.26.4\n",
      "    Uninstalling numpy-1.26.4:\n",
      "      Successfully uninstalled numpy-1.26.4\n",
      "  Attempting uninstall: mypy-extensions\n",
      "    Found existing installation: mypy-extensions 1.0.0\n",
      "    Uninstalling mypy-extensions-1.0.0:\n",
      "      Successfully uninstalled mypy-extensions-1.0.0\n",
      "  Attempting uninstall: multidict\n",
      "    Found existing installation: multidict 6.0.5\n",
      "    Uninstalling multidict-6.0.5:\n",
      "      Successfully uninstalled multidict-6.0.5\n",
      "  Attempting uninstall: MarkupSafe\n",
      "    Found existing installation: MarkupSafe 2.1.5\n",
      "    Not uninstalling markupsafe at /local_disk0/.ephemeral_nfs/cluster_libraries/python/lib/python3.10/site-packages, outside environment /local_disk0/.ephemeral_nfs/envs/pythonEnv-8b623131-fa7f-4ef3-8eca-ad7cdda7c063\n",
      "    Can't uninstall 'MarkupSafe'. No files were found to uninstall.\n",
      "  Attempting uninstall: joblib\n",
      "    Found existing installation: joblib 1.2.0\n",
      "    Not uninstalling joblib at /databricks/python3/lib/python3.10/site-packages, outside environment /local_disk0/.ephemeral_nfs/envs/pythonEnv-8b623131-fa7f-4ef3-8eca-ad7cdda7c063\n",
      "    Can't uninstall 'joblib'. No files were found to uninstall.\n",
      "  Attempting uninstall: idna\n",
      "    Found existing installation: idna 3.6\n",
      "    Uninstalling idna-3.6:\n",
      "      Successfully uninstalled idna-3.6\n",
      "  Attempting uninstall: greenlet\n",
      "    Found existing installation: greenlet 3.0.3\n",
      "    Uninstalling greenlet-3.0.3:\n",
      "      Successfully uninstalled greenlet-3.0.3\n",
      "  Attempting uninstall: frozenlist\n",
      "    Found existing installation: frozenlist 1.4.1\n",
      "    Uninstalling frozenlist-1.4.1:\n",
      "      Successfully uninstalled frozenlist-1.4.1\n",
      "  Attempting uninstall: filelock\n",
      "    Found existing installation: filelock 3.12.2\n",
      "    Not uninstalling filelock at /usr/local/lib/python3.10/dist-packages, outside environment /local_disk0/.ephemeral_nfs/envs/pythonEnv-8b623131-fa7f-4ef3-8eca-ad7cdda7c063\n",
      "    Can't uninstall 'filelock'. No files were found to uninstall.\n",
      "  Attempting uninstall: click\n",
      "    Found existing installation: click 8.1.7\n",
      "    Not uninstalling click at /local_disk0/.ephemeral_nfs/cluster_libraries/python/lib/python3.10/site-packages, outside environment /local_disk0/.ephemeral_nfs/envs/pythonEnv-8b623131-fa7f-4ef3-8eca-ad7cdda7c063\n",
      "    Can't uninstall 'click'. No files were found to uninstall.\n",
      "  Attempting uninstall: charset-normalizer\n",
      "    Found existing installation: charset-normalizer 3.3.2\n",
      "    Uninstalling charset-normalizer-3.3.2:\n",
      "      Successfully uninstalled charset-normalizer-3.3.2\n",
      "  Attempting uninstall: certifi\n",
      "    Found existing installation: certifi 2024.2.2\n",
      "    Uninstalling certifi-2024.2.2:\n",
      "      Successfully uninstalled certifi-2024.2.2\n",
      "  Attempting uninstall: attrs\n",
      "    Found existing installation: attrs 23.2.0\n",
      "    Uninstalling attrs-23.2.0:\n",
      "      Successfully uninstalled attrs-23.2.0\n",
      "  Attempting uninstall: async-timeout\n",
      "    Found existing installation: async-timeout 4.0.3\n",
      "    Uninstalling async-timeout-4.0.3:\n",
      "      Successfully uninstalled async-timeout-4.0.3\n",
      "  Attempting uninstall: yarl\n",
      "    Found existing installation: yarl 1.9.4\n",
      "    Uninstalling yarl-1.9.4:\n",
      "      Successfully uninstalled yarl-1.9.4\n",
      "  Attempting uninstall: typing-inspect\n",
      "    Found existing installation: typing-inspect 0.9.0\n",
      "    Uninstalling typing-inspect-0.9.0:\n",
      "      Successfully uninstalled typing-inspect-0.9.0\n",
      "  Attempting uninstall: SQLAlchemy\n",
      "    Found existing installation: SQLAlchemy 2.0.27\n",
      "    Uninstalling SQLAlchemy-2.0.27:\n",
      "      Successfully uninstalled SQLAlchemy-2.0.27\n",
      "  Attempting uninstall: scipy\n",
      "    Found existing installation: scipy 1.9.1\n",
      "    Not uninstalling scipy at /databricks/python3/lib/python3.10/site-packages, outside environment /local_disk0/.ephemeral_nfs/envs/pythonEnv-8b623131-fa7f-4ef3-8eca-ad7cdda7c063\n",
      "    Can't uninstall 'scipy'. No files were found to uninstall.\n",
      "  Attempting uninstall: requests\n",
      "    Found existing installation: requests 2.31.0\n",
      "    Uninstalling requests-2.31.0:\n",
      "      Successfully uninstalled requests-2.31.0\n",
      "  Attempting uninstall: python-dateutil\n",
      "    Found existing installation: python-dateutil 2.8.2\n",
      "    Not uninstalling python-dateutil at /databricks/python3/lib/python3.10/site-packages, outside environment /local_disk0/.ephemeral_nfs/envs/pythonEnv-8b623131-fa7f-4ef3-8eca-ad7cdda7c063\n",
      "    Can't uninstall 'python-dateutil'. No files were found to uninstall.\n",
      "  Attempting uninstall: pydantic\n",
      "    Found existing installation: pydantic 1.10.14\n",
      "    Uninstalling pydantic-1.10.14:\n",
      "      Successfully uninstalled pydantic-1.10.14\n",
      "  Attempting uninstall: numexpr\n",
      "    Found existing installation: numexpr 2.9.0\n",
      "    Uninstalling numexpr-2.9.0:\n",
      "      Successfully uninstalled numexpr-2.9.0\n",
      "  Attempting uninstall: marshmallow\n",
      "    Found existing installation: marshmallow 3.20.2\n",
      "    Uninstalling marshmallow-3.20.2:\n",
      "      Successfully uninstalled marshmallow-3.20.2\n",
      "  Attempting uninstall: jinja2\n",
      "    Found existing installation: Jinja2 3.1.3\n",
      "    Not uninstalling jinja2 at /local_disk0/.ephemeral_nfs/cluster_libraries/python/lib/python3.10/site-packages, outside environment /local_disk0/.ephemeral_nfs/envs/pythonEnv-8b623131-fa7f-4ef3-8eca-ad7cdda7c063\n",
      "    Can't uninstall 'Jinja2'. No files were found to uninstall.\n",
      "  Attempting uninstall: aiosignal\n",
      "    Found existing installation: aiosignal 1.3.1\n",
      "    Uninstalling aiosignal-1.3.1:\n",
      "      Successfully uninstalled aiosignal-1.3.1\n",
      "  Attempting uninstall: scikit-learn\n",
      "    Found existing installation: scikit-learn 1.1.1\n",
      "    Not uninstalling scikit-learn at /databricks/python3/lib/python3.10/site-packages, outside environment /local_disk0/.ephemeral_nfs/envs/pythonEnv-8b623131-fa7f-4ef3-8eca-ad7cdda7c063\n",
      "    Can't uninstall 'scikit-learn'. No files were found to uninstall.\n",
      "  Attempting uninstall: pandas\n",
      "    Found existing installation: pandas 1.4.4\n",
      "    Not uninstalling pandas at /databricks/python3/lib/python3.10/site-packages, outside environment /local_disk0/.ephemeral_nfs/envs/pythonEnv-8b623131-fa7f-4ef3-8eca-ad7cdda7c063\n",
      "    Can't uninstall 'pandas'. No files were found to uninstall.\n",
      "  Attempting uninstall: langsmith\n",
      "    Found existing installation: langsmith 0.0.92\n",
      "    Uninstalling langsmith-0.0.92:\n",
      "      Successfully uninstalled langsmith-0.0.92\n",
      "  Attempting uninstall: dataclasses-json\n",
      "    Found existing installation: dataclasses-json 0.5.14\n",
      "    Uninstalling dataclasses-json-0.5.14:\n",
      "      Successfully uninstalled dataclasses-json-0.5.14\n",
      "  Attempting uninstall: aiohttp\n",
      "    Found existing installation: aiohttp 3.9.3\n",
      "    Uninstalling aiohttp-3.9.3:\n",
      "      Successfully uninstalled aiohttp-3.9.3\n",
      "  Attempting uninstall: langchain\n",
      "    Found existing installation: langchain 0.0.251\n",
      "    Uninstalling langchain-0.0.251:\n",
      "      Successfully uninstalled langchain-0.0.251\n",
      "ERROR: pip's dependency resolver does not currently take into account all the packages that are installed. This behaviour is the source of the following dependency conflicts.\n",
      "mlflow-skinny 2.10.2 requires pytz<2024, but you have pytz 2024.1 which is incompatible.\n",
      "databricks-sdk 0.1.6 requires requests<2.29.0,>=2.28.1, but you have requests 2.31.0 which is incompatible.\n",
      "botocore 1.27.28 requires urllib3<1.27,>=1.25.4, but you have urllib3 2.2.1 which is incompatible.\n",
      "Successfully installed InstructorEmbedding-1.0.1 MarkupSafe-2.1.5 PyYAML-6.0.1 SQLAlchemy-2.0.27 aiohttp-3.9.3 aiosignal-1.3.1 anyio-4.3.0 async-timeout-4.0.3 attrs-23.2.0 backoff-2.2.1 certifi-2024.2.2 charset-normalizer-3.3.2 chromadb-0.3.26 click-8.1.7 clickhouse-connect-0.7.0 coloredlogs-15.0.1 dataclasses-json-0.5.14 duckdb-0.10.0 exceptiongroup-1.2.0 fastapi-0.109.2 filelock-3.13.1 flatbuffers-23.5.26 frozenlist-1.4.1 fsspec-2024.2.0 gpt4all-1.0.8 greenlet-3.0.3 h11-0.14.0 hnswlib-0.8.0 httptools-0.6.1 huggingface-hub-0.20.3 humanfriendly-10.0 idna-3.6 jinja2-3.1.3 joblib-1.3.2 langchain-0.0.268 langsmith-0.0.92 lz4-4.3.3 marshmallow-3.20.2 monotonic-1.6 mpmath-1.3.0 multidict-6.0.5 mypy-extensions-1.0.0 networkx-3.2.1 nltk-3.8.1 numexpr-2.9.0 numpy-1.26.4 nvidia-cublas-cu12-12.1.3.1 nvidia-cuda-cupti-cu12-12.1.105 nvidia-cuda-nvrtc-cu12-12.1.105 nvidia-cuda-runtime-cu12-12.1.105 nvidia-cudnn-cu12-8.9.2.26 nvidia-cufft-cu12-11.0.2.54 nvidia-curand-cu12-10.3.2.106 nvidia-cusolver-cu12-11.4.5.107 nvidia-cusparse-cu12-12.1.0.106 nvidia-nccl-cu12-2.19.3 nvidia-nvjitlink-cu12-12.3.101 nvidia-nvtx-cu12-12.1.105 onnxruntime-1.17.0 overrides-7.7.0 packaging-23.2 pandas-2.2.0 pillow-10.2.0 posthog-3.4.2 protobuf-4.25.3 pulsar-client-3.4.0 pydantic-1.10.13 pypdf-3.13.0 python-dateutil-2.8.2 python-dotenv-1.0.1 pytz-2024.1 redis-5.0.1 regex-2023.12.25 requests-2.31.0 safetensors-0.4.2 scikit-learn-1.4.1.post1 scipy-1.12.0 sentence_transformers-2.2.2 sentencepiece-0.2.0 six-1.16.0 sniffio-1.3.0 starlette-0.36.3 sympy-1.12 tenacity-8.2.3 threadpoolctl-3.3.0 tokenizers-0.15.2 torch-2.2.0 torchvision-0.17.0 tqdm-4.66.2 transformers-4.38.1 triton-2.2.0 typing-extensions-4.9.0 typing-inspect-0.9.0 tzdata-2024.1 urllib3-2.2.1 uvicorn-0.27.1 uvloop-0.19.0 watchfiles-0.21.0 websockets-12.0 yarl-1.9.4 zipp-3.15.0 zstandard-0.22.0\n",
      "\u001b[43mNote: you may need to restart the kernel using dbutils.library.restartPython() to use updated packages.\u001b[0m\n"
     ]
    }
   ],
   "source": [
    "%pip install --force-reinstall zipp==3.15 langchain==0.0.268 gpt4all==1.0.8 pypdf==3.13.0 chromadb==0.3.26 sentence_transformers==2.2.2 InstructorEmbedding==1.0.1 fastapi redis pydantic==1.10.13"
   ]
  },
  {
   "cell_type": "code",
   "execution_count": 0,
   "metadata": {
    "application/vnd.databricks.v1+cell": {
     "cellMetadata": {
      "byteLimit": 2048000,
      "rowLimit": 10000
     },
     "inputWidgets": {},
     "nuid": "c32c621e-ca05-4431-8a1d-ca6289fc6915",
     "showTitle": false,
     "title": ""
    }
   },
   "outputs": [],
   "source": [
    "dbutils.library.restartPython()"
   ]
  },
  {
   "cell_type": "code",
   "execution_count": 0,
   "metadata": {
    "application/vnd.databricks.v1+cell": {
     "cellMetadata": {
      "byteLimit": 2048000,
      "rowLimit": 10000
     },
     "inputWidgets": {},
     "nuid": "7d53949e-3166-4f2d-b687-1ff3a891be27",
     "showTitle": false,
     "title": ""
    }
   },
   "outputs": [],
   "source": [
    "%run ./../utils/config"
   ]
  },
  {
   "cell_type": "code",
   "execution_count": 0,
   "metadata": {
    "application/vnd.databricks.v1+cell": {
     "cellMetadata": {
      "byteLimit": 2048000,
      "rowLimit": 10000
     },
     "inputWidgets": {},
     "nuid": "651e0188-9348-4f68-8fdf-049def87d4b0",
     "showTitle": false,
     "title": ""
    }
   },
   "outputs": [],
   "source": [
    "%run ./../utils/functions"
   ]
  },
  {
   "cell_type": "code",
   "execution_count": 1,
   "metadata": {
    "application/vnd.databricks.v1+cell": {
     "cellMetadata": {
      "byteLimit": 2048000,
      "rowLimit": 10000
     },
     "inputWidgets": {},
     "nuid": "19a22c2a-59ed-4a68-9d8e-5d03e21420a3",
     "showTitle": false,
     "title": ""
    }
   },
   "outputs": [],
   "source": [
    "data_path = \"/Users/pshah1/Downloads/look_alike/aes_data\""
   ]
  },
  {
   "cell_type": "code",
   "execution_count": 4,
   "metadata": {
    "application/vnd.databricks.v1+cell": {
     "cellMetadata": {
      "byteLimit": 2048000,
      "rowLimit": 10000
     },
     "inputWidgets": {},
     "nuid": "26b77078-c4a8-4b4e-9384-7b5691b68f95",
     "showTitle": false,
     "title": ""
    }
   },
   "outputs": [
    {
     "name": "stderr",
     "output_type": "stream",
     "text": [
      "24/02/23 07:53:06 WARN SparkStringUtils: Truncated the string representation of a plan since it was too large. This behavior can be adjusted by setting 'spark.sql.debug.maxToStringFields'.\n"
     ]
    },
    {
     "name": "stdout",
     "output_type": "stream",
     "text": [
      "+------------+----------------------+-----------+---------------------+---------------+------------+---------------+-------------+--------+--------------+-----------------+--------------------------+----------------------+------------------------+------------------------+-----------+-----------+---------------------+-----------------+-------------+------+-----------------+-----------------+------------+----------------------+-----+\n",
      "|infogroup_id|mapped_contact_id_cont|gender_cont|management_level_cont|job_titles_cont|primary_cont|infogroup_id_pl|place_type_pl|state_pl|       city_pl|contacts_count_pl|location_employee_count_pl|primary_sic_code_id_pl|location_sales_volume_pl|primary_naics_code_id_pl|b_abinumber|e_contactid|e_executivesourcecode|b_fulfillmentflag|b_countrycode|target|bus_abinumber_b2c|bus_contactid_b2c|cons_age_b2c|cons_maritalstatus_b2c|count|\n",
      "+------------+----------------------+-----------+---------------------+---------------+------------+---------------+-------------+--------+--------------+-----------------+--------------------------+----------------------+------------------------+------------------------+-----------+-----------+---------------------+-----------------+-------------+------+-----------------+-----------------+------------+----------------------+-----+\n",
      "|   417862253|          000043012581|          M|                 NULL|           NULL|        true|      417862253|       branch|      CA|Trabuco Canyon|                1|                      NULL|                581208|                 1305000|                72251117|       NULL|       NULL|                 NULL|             NULL|         NULL|     0|        417862253|     000043012581|          78|                     M|    1|\n",
      "|   706609709|          000070360924|          M|            executive|      President|        true|      706609709|  independent|      TX|       El Paso|                1|                         4|                176109|                  446000|                23816014|       NULL|       NULL|                 NULL|             NULL|         NULL|     0|             NULL|             NULL|        NULL|                  NULL|    1|\n",
      "|   737978274|                  NULL|          F|            executive|      Principal|        true|      737978274|  independent|      CA|    Chatsworth|                1|                      NULL|                821103|                    NULL|                61111007|       NULL|       NULL|                 NULL|             NULL|         NULL|     0|             NULL|             NULL|        NULL|                  NULL|    1|\n",
      "|   723637821|          000076720147|          F|                owner|          Owner|        true|      723637821|  independent|      FL|        Naples|                1|                      NULL|                074201|                 1035000|                54194009|       NULL|       NULL|                 NULL|             NULL|         NULL|     0|             NULL|             NULL|        NULL|                  NULL|    1|\n",
      "|   417739730|          000056033062|          M|                 NULL|           NULL|        true|      417739730|   individual|      NJ|       Bayonne|                1|                      NULL|                801101|                  513000|                62111107|       NULL|       NULL|                 NULL|             NULL|         NULL|     0|             NULL|             NULL|        NULL|                  NULL|    1|\n",
      "+------------+----------------------+-----------+---------------------+---------------+------------+---------------+-------------+--------+--------------+-----------------+--------------------------+----------------------+------------------------+------------------------+-----------+-----------+---------------------+-----------------+-------------+------+-----------------+-----------------+------------+----------------------+-----+\n",
      "\n"
     ]
    }
   ],
   "source": [
    "from pyspark.sql import SparkSession\n",
    "\n",
    "spark = SparkSession.builder.appName(\"customer_look_alike_modelling\").getOrCreate()\n",
    "df = spark.read.option(\"header\", \"true\").parquet(data_path)\n",
    "df.limit(5).show()"
   ]
  },
  {
   "cell_type": "code",
   "execution_count": 5,
   "metadata": {
    "application/vnd.databricks.v1+cell": {
     "cellMetadata": {
      "byteLimit": 2048000,
      "rowLimit": 10000
     },
     "inputWidgets": {},
     "nuid": "70064537-447a-48f3-ad94-580c876ecc8e",
     "showTitle": false,
     "title": ""
    }
   },
   "outputs": [
    {
     "data": {
      "text/plain": [
       "['infogroup_id',\n",
       " 'mapped_contact_id_cont',\n",
       " 'gender_cont',\n",
       " 'management_level_cont',\n",
       " 'job_titles_cont',\n",
       " 'primary_cont',\n",
       " 'infogroup_id_pl',\n",
       " 'place_type_pl',\n",
       " 'state_pl',\n",
       " 'city_pl',\n",
       " 'contacts_count_pl',\n",
       " 'location_employee_count_pl',\n",
       " 'primary_sic_code_id_pl',\n",
       " 'location_sales_volume_pl',\n",
       " 'primary_naics_code_id_pl',\n",
       " 'b_abinumber',\n",
       " 'e_contactid',\n",
       " 'e_executivesourcecode',\n",
       " 'b_fulfillmentflag',\n",
       " 'b_countrycode',\n",
       " 'bus_abinumber_b2c',\n",
       " 'bus_contactid_b2c',\n",
       " 'cons_age_b2c',\n",
       " 'cons_maritalstatus_b2c']"
      ]
     },
     "execution_count": 5,
     "metadata": {},
     "output_type": "execute_result"
    }
   ],
   "source": [
    "\n",
    "# rename to cols_to_convert\n",
    "rows_to_convert = df.columns\n",
    "rows_to_convert.remove(\"target\")\n",
    "rows_to_convert.remove(\"count\")\n",
    "rows_to_convert"
   ]
  },
  {
   "cell_type": "code",
   "execution_count": 6,
   "metadata": {
    "application/vnd.databricks.v1+cell": {
     "cellMetadata": {
      "byteLimit": 2048000,
      "rowLimit": 10000
     },
     "inputWidgets": {},
     "nuid": "287d7bf8-ee94-460d-97c8-e577e19ce6a0",
     "showTitle": false,
     "title": ""
    }
   },
   "outputs": [
    {
     "data": {
      "text/plain": [
       "137209"
      ]
     },
     "execution_count": 6,
     "metadata": {},
     "output_type": "execute_result"
    }
   ],
   "source": [
    "df.count()"
   ]
  },
  {
   "cell_type": "code",
   "execution_count": 8,
   "metadata": {},
   "outputs": [
    {
     "name": "stderr",
     "output_type": "stream",
     "text": [
      "/usr/local/anaconda3/lib/python3.9/site-packages/transformers/utils/generic.py:441: UserWarning: torch.utils._pytree._register_pytree_node is deprecated. Please use torch.utils._pytree.register_pytree_node instead.\n",
      "  _torch_pytree._register_pytree_node(\n",
      "/usr/local/anaconda3/lib/python3.9/site-packages/transformers/utils/generic.py:309: UserWarning: torch.utils._pytree._register_pytree_node is deprecated. Please use torch.utils._pytree.register_pytree_node instead.\n",
      "  _torch_pytree._register_pytree_node(\n"
     ]
    }
   ],
   "source": [
    "from src.utils.functions import get_row_as_text, hf_embeddings, get_ars_retrieved_df\n",
    "train_df = get_row_as_text(df.limit(10000), rows_to_convert)"
   ]
  },
  {
   "cell_type": "code",
   "execution_count": 9,
   "metadata": {
    "application/vnd.databricks.v1+cell": {
     "cellMetadata": {
      "byteLimit": 2048000,
      "rowLimit": 10000
     },
     "inputWidgets": {},
     "nuid": "bb2ae051-0b66-4773-8c61-c9df8cc533eb",
     "showTitle": false,
     "title": ""
    }
   },
   "outputs": [
    {
     "name": "stdout",
     "output_type": "stream",
     "text": [
      "+------------------------------------------------------------------------------------------------------------------------------------------------------------------------------------------------------------------------------------------------------------------------------------------------------------------------------------------------------------------------------------------------------------------------------------+\n",
      "|row_as_text                                                                                                                                                                                                                                                                                                                                                                                                                         |\n",
      "+------------------------------------------------------------------------------------------------------------------------------------------------------------------------------------------------------------------------------------------------------------------------------------------------------------------------------------------------------------------------------------------------------------------------------------+\n",
      "|infogroup_id: 417862253; mapped_contact_id_cont: 000043012581; gender_cont: M; primary_cont: true; infogroup_id_pl: 417862253; place_type_pl: branch; state_pl: CA; city_pl: Trabuco Canyon; contacts_count_pl: 1; primary_sic_code_id_pl: 581208; location_sales_volume_pl: 1305000; primary_naics_code_id_pl: 72251117; bus_abinumber_b2c: 417862253; bus_contactid_b2c: 000043012581; cons_age_b2c: 78; cons_maritalstatus_b2c: M|\n",
      "|infogroup_id: 706609709; mapped_contact_id_cont: 000070360924; gender_cont: M; management_level_cont: executive; job_titles_cont: President; primary_cont: true; infogroup_id_pl: 706609709; place_type_pl: independent; state_pl: TX; city_pl: El Paso; contacts_count_pl: 1; location_employee_count_pl: 4; primary_sic_code_id_pl: 176109; location_sales_volume_pl: 446000; primary_naics_code_id_pl: 23816014                  |\n",
      "+------------------------------------------------------------------------------------------------------------------------------------------------------------------------------------------------------------------------------------------------------------------------------------------------------------------------------------------------------------------------------------------------------------------------------------+\n",
      "only showing top 2 rows\n",
      "\n"
     ]
    }
   ],
   "source": [
    "train_df.select(\"row_as_text\").show(2, truncate=False)"
   ]
  },
  {
   "cell_type": "code",
   "execution_count": 10,
   "metadata": {
    "application/vnd.databricks.v1+cell": {
     "cellMetadata": {
      "byteLimit": 2048000,
      "rowLimit": 10000
     },
     "inputWidgets": {},
     "nuid": "b9417325-8389-445a-91c8-23a24ab14737",
     "showTitle": false,
     "title": ""
    }
   },
   "outputs": [
    {
     "name": "stdout",
     "output_type": "stream",
     "text": [
      "root\n",
      " |-- infogroup_id: string (nullable = true)\n",
      " |-- mapped_contact_id_cont: string (nullable = true)\n",
      " |-- gender_cont: string (nullable = true)\n",
      " |-- management_level_cont: string (nullable = true)\n",
      " |-- job_titles_cont: string (nullable = true)\n",
      " |-- primary_cont: string (nullable = true)\n",
      " |-- infogroup_id_pl: string (nullable = true)\n",
      " |-- place_type_pl: string (nullable = true)\n",
      " |-- state_pl: string (nullable = true)\n",
      " |-- city_pl: string (nullable = true)\n",
      " |-- contacts_count_pl: string (nullable = true)\n",
      " |-- location_employee_count_pl: string (nullable = true)\n",
      " |-- primary_sic_code_id_pl: string (nullable = true)\n",
      " |-- location_sales_volume_pl: string (nullable = true)\n",
      " |-- primary_naics_code_id_pl: string (nullable = true)\n",
      " |-- b_abinumber: string (nullable = true)\n",
      " |-- e_contactid: string (nullable = true)\n",
      " |-- e_executivesourcecode: string (nullable = true)\n",
      " |-- b_fulfillmentflag: string (nullable = true)\n",
      " |-- b_countrycode: string (nullable = true)\n",
      " |-- target: integer (nullable = true)\n",
      " |-- bus_abinumber_b2c: string (nullable = true)\n",
      " |-- bus_contactid_b2c: string (nullable = true)\n",
      " |-- cons_age_b2c: string (nullable = true)\n",
      " |-- cons_maritalstatus_b2c: string (nullable = true)\n",
      " |-- count: long (nullable = true)\n",
      " |-- row_as_text: string (nullable = false)\n",
      "\n"
     ]
    }
   ],
   "source": [
    "train_df.printSchema()"
   ]
  },
  {
   "cell_type": "markdown",
   "metadata": {
    "application/vnd.databricks.v1+cell": {
     "cellMetadata": {},
     "inputWidgets": {},
     "nuid": "8a3dd82f-b6da-415e-8608-162e0ff7d561",
     "showTitle": false,
     "title": ""
    }
   },
   "source": [
    "Unique columns: infogroup_id, e_contactid"
   ]
  },
  {
   "cell_type": "code",
   "execution_count": 16,
   "metadata": {
    "application/vnd.databricks.v1+cell": {
     "cellMetadata": {
      "byteLimit": 2048000,
      "rowLimit": 10000
     },
     "inputWidgets": {},
     "nuid": "089d7000-fd73-4657-a2fd-30e6059d0083",
     "showTitle": false,
     "title": ""
    }
   },
   "outputs": [],
   "source": [
    "\n",
    "import os\n",
    "\n",
    "# Specify the path of the directory you want to create\n",
    "db_dir = \"/Users/pshah1/ps/projects/look_alike_modelling/src/resources/ars_embeddings/embeddings_03\"\n",
    "\n",
    "# Create the directory\n",
    "os.makedirs(db_dir, exist_ok=True)"
   ]
  },
  {
   "cell_type": "code",
   "execution_count": 15,
   "metadata": {
    "application/vnd.databricks.v1+cell": {
     "cellMetadata": {
      "byteLimit": 2048000,
      "rowLimit": 10000
     },
     "inputWidgets": {},
     "nuid": "7a7d024e-68b2-4501-baaf-0255e7470c0d",
     "showTitle": false,
     "title": ""
    }
   },
   "outputs": [
    {
     "data": {
      "text/plain": [
       "Row(infogroup_id='417862253', mapped_contact_id_cont='000043012581', gender_cont='M', management_level_cont=None, job_titles_cont=None, primary_cont='true', infogroup_id_pl='417862253', place_type_pl='branch', state_pl='CA', city_pl='Trabuco Canyon', contacts_count_pl='1', location_employee_count_pl=None, primary_sic_code_id_pl='581208', location_sales_volume_pl='1305000', primary_naics_code_id_pl='72251117', b_abinumber=None, e_contactid=None, e_executivesourcecode=None, b_fulfillmentflag=None, b_countrycode=None, target=0, bus_abinumber_b2c='417862253', bus_contactid_b2c='000043012581', cons_age_b2c='78', cons_maritalstatus_b2c='M', count=1, row_as_text='infogroup_id: 417862253; mapped_contact_id_cont: 000043012581; gender_cont: M; primary_cont: true; infogroup_id_pl: 417862253; place_type_pl: branch; state_pl: CA; city_pl: Trabuco Canyon; contacts_count_pl: 1; primary_sic_code_id_pl: 581208; location_sales_volume_pl: 1305000; primary_naics_code_id_pl: 72251117; bus_abinumber_b2c: 417862253; bus_contactid_b2c: 000043012581; cons_age_b2c: 78; cons_maritalstatus_b2c: M')"
      ]
     },
     "execution_count": 15,
     "metadata": {},
     "output_type": "execute_result"
    }
   ],
   "source": [
    "\n",
    "step = 500\n",
    "k = 2000\n",
    "\n",
    "texts_list = train_df.limit(2000).rdd.collect()\n",
    "# texts_list = [x[0] for x in texts_label_list]\n",
    "# texts_list\n",
    "texts_list[0]"
   ]
  },
  {
   "cell_type": "code",
   "execution_count": 17,
   "metadata": {
    "application/vnd.databricks.v1+cell": {
     "cellMetadata": {
      "byteLimit": 2048000,
      "rowLimit": 10000
     },
     "inputWidgets": {},
     "nuid": "51e8522a-c532-4a1b-8352-c027c0a875f6",
     "showTitle": false,
     "title": ""
    }
   },
   "outputs": [],
   "source": [
    "from langchain.vectorstores import Chroma\n",
    "\n",
    "vdb = Chroma(persist_directory=db_dir, embedding_function=hf_embeddings, collection_metadata={\"hnsw:space\": \"cosine\"})\n",
    "for i in range(0, len(texts_list), step):\n",
    "    texts = [x.row_as_text for x in texts_list[i:i+step]]\n",
    "    metadata = [{\"infogroup_id\": str(x.infogroup_id), \"e_contactid\": str(x.e_contactid), \"target\": str(x.target)} for x in texts_list[i:i+step]]\n",
    "    vdb.add_texts(texts, metadata)\n",
    "vdb.persist()"
   ]
  },
  {
   "cell_type": "code",
   "execution_count": 18,
   "metadata": {},
   "outputs": [],
   "source": [
    "vdb = Chroma(persist_directory=db_dir, embedding_function=hf_embeddings,\n",
    "                 collection_metadata={\"hnsw:space\": \"cosine\"})"
   ]
  },
  {
   "cell_type": "code",
   "execution_count": 19,
   "metadata": {},
   "outputs": [
    {
     "data": {
      "text/plain": [
       "2000"
      ]
     },
     "execution_count": 19,
     "metadata": {},
     "output_type": "execute_result"
    }
   ],
   "source": [
    "vdb._collection.count()"
   ]
  },
  {
   "cell_type": "code",
   "execution_count": null,
   "metadata": {},
   "outputs": [],
   "source": []
  },
  {
   "cell_type": "code",
   "execution_count": 0,
   "metadata": {
    "application/vnd.databricks.v1+cell": {
     "cellMetadata": {
      "byteLimit": 2048000,
      "rowLimit": 10000
     },
     "inputWidgets": {},
     "nuid": "9c68927d-1283-4ab1-9d2e-ecd1d0917475",
     "showTitle": false,
     "title": ""
    }
   },
   "outputs": [
    {
     "name": "stdout",
     "output_type": "stream",
     "text": [
      "  adding: dbfs/tmp/ps/ars/embeddings_01/ (stored 0%)\r\n",
      "  adding: dbfs/tmp/ps/ars/embeddings_01/chroma-collections.parquet (deflated 54%)\r\n",
      "  adding: dbfs/tmp/ps/ars/embeddings_01/chroma-embeddings.parquet (deflated 20%)\r\n",
      "  adding: dbfs/tmp/ps/ars/embeddings_01/index/ (stored 0%)\r\n",
      "  adding: dbfs/tmp/ps/ars/embeddings_01/index/id_to_uuid_e4b4c1d9-13cf-4a78-bd9c-960a4a3b2962.pkl (deflated 37%)\r\n",
      "  adding: dbfs/tmp/ps/ars/embeddings_01/index/index_e4b4c1d9-13cf-4a78-bd9c-960a4a3b2962.bin (deflated 10%)\r\n",
      "  adding: dbfs/tmp/ps/ars/embeddings_01/index/index_metadata_e4b4c1d9-13cf-4a78-bd9c-960a4a3b2962.pkl (deflated 14%)\r\n",
      "  adding: dbfs/tmp/ps/ars/embeddings_01/index/uuid_to_id_e4b4c1d9-13cf-4a78-bd9c-960a4a3b2962.pkl (deflated 41%)\r\n"
     ]
    }
   ],
   "source": [
    "! zip -r embeddings_ars_01.zip /dbfs/tmp/ps/ars/embeddings_01"
   ]
  },
  {
   "cell_type": "code",
   "execution_count": 0,
   "metadata": {
    "application/vnd.databricks.v1+cell": {
     "cellMetadata": {
      "byteLimit": 2048000,
      "rowLimit": 10000
     },
     "inputWidgets": {},
     "nuid": "bec54a42-fde3-4e2e-b870-e01d07b35397",
     "showTitle": false,
     "title": ""
    }
   },
   "outputs": [
    {
     "name": "stdout",
     "output_type": "stream",
     "text": [
      "azure  embeddings_ars_01.zip  hadoop_accessed_config.lst  preload_class.lst\r\n",
      "conf   eventlogs\t      logs\r\n"
     ]
    }
   ],
   "source": [
    "!ls"
   ]
  },
  {
   "cell_type": "code",
   "execution_count": 0,
   "metadata": {
    "application/vnd.databricks.v1+cell": {
     "cellMetadata": {
      "byteLimit": 2048000,
      "rowLimit": 10000
     },
     "inputWidgets": {},
     "nuid": "46bcbb7e-f656-4d7a-aeb5-87f03174323e",
     "showTitle": false,
     "title": ""
    }
   },
   "outputs": [],
   "source": [
    "!cp embeddings_ars_01.zip /dbfs/tmp/ps/"
   ]
  },
  {
   "cell_type": "code",
   "execution_count": 0,
   "metadata": {
    "application/vnd.databricks.v1+cell": {
     "cellMetadata": {
      "byteLimit": 2048000,
      "rowLimit": 10000
     },
     "inputWidgets": {},
     "nuid": "9f967a2e-b663-44a6-bd07-ecdbdb5f7a60",
     "showTitle": false,
     "title": ""
    }
   },
   "outputs": [
    {
     "data": {
      "text/plain": [
       "True"
      ]
     },
     "execution_count": 40,
     "metadata": {},
     "output_type": "execute_result"
    }
   ],
   "source": [
    "dbutils.fs.cp(\"/tmp/ps/embeddings_ars_01.zip\", \"s3://ds-databricks-playground/prarthana_output/ars_embeddings_10k/\")"
   ]
  },
  {
   "cell_type": "code",
   "execution_count": 0,
   "metadata": {
    "application/vnd.databricks.v1+cell": {
     "cellMetadata": {},
     "inputWidgets": {},
     "nuid": "3af19de3-485e-4f2c-9df0-0a039cf00fde",
     "showTitle": false,
     "title": ""
    }
   },
   "outputs": [],
   "source": []
  }
 ],
 "metadata": {
  "application/vnd.databricks.v1+notebook": {
   "dashboards": [],
   "language": "python",
   "notebookMetadata": {
    "pythonIndentUnit": 2
   },
   "notebookName": "AR_dummy_data",
   "widgets": {}
  },
  "kernelspec": {
   "display_name": "Python 3 (ipykernel)",
   "language": "python",
   "name": "python3"
  },
  "language_info": {
   "codemirror_mode": {
    "name": "ipython",
    "version": 3
   },
   "file_extension": ".py",
   "mimetype": "text/x-python",
   "name": "python",
   "nbconvert_exporter": "python",
   "pygments_lexer": "ipython3",
   "version": "3.9.13"
  }
 },
 "nbformat": 4,
 "nbformat_minor": 1
}
