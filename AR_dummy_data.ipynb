{
 "cells": [
  {
   "cell_type": "code",
   "execution_count": null,
   "metadata": {},
   "outputs": [],
   "source": []
  },
  {
   "cell_type": "code",
   "execution_count": null,
   "metadata": {},
   "outputs": [],
   "source": []
  },
  {
   "cell_type": "code",
   "execution_count": null,
   "metadata": {},
   "outputs": [],
   "source": []
  },
  {
   "cell_type": "markdown",
   "metadata": {
    "application/vnd.databricks.v1+cell": {
     "cellMetadata": {},
     "inputWidgets": {},
     "nuid": "bd969096-5ec4-427d-b13b-58005111ed4b",
     "showTitle": false,
     "title": ""
    }
   },
   "source": [
    "#Tesmp"
   ]
  },
  {
   "cell_type": "code",
   "execution_count": 1,
   "metadata": {
    "application/vnd.databricks.v1+cell": {
     "cellMetadata": {
      "byteLimit": 2048000,
      "rowLimit": 10000
     },
     "inputWidgets": {},
     "nuid": "19a22c2a-59ed-4a68-9d8e-5d03e21420a3",
     "showTitle": false,
     "title": ""
    }
   },
   "outputs": [],
   "source": [
    "data_path = \"src/resources/data/insurance.csv\""
   ]
  },
  {
   "cell_type": "code",
   "execution_count": 3,
   "metadata": {
    "application/vnd.databricks.v1+cell": {
     "cellMetadata": {
      "byteLimit": 2048000,
      "rowLimit": 10000
     },
     "inputWidgets": {},
     "nuid": "26b77078-c4a8-4b4e-9384-7b5691b68f95",
     "showTitle": false,
     "title": ""
    }
   },
   "outputs": [
    {
     "name": "stdout",
     "output_type": "stream",
     "text": [
      "+---+---+------+------+--------+------+---------+--------------------+\n",
      "| Id|age|   sex|   bmi|children|smoker|   region|charges_bucket_label|\n",
      "+---+---+------+------+--------+------+---------+--------------------+\n",
      "|  0| 19|female|  27.9|       0|   yes|southwest|           15k - 20k|\n",
      "|  1| 18|  male| 33.77|       1|    no|southeast|            Under 5k|\n",
      "|  2| 28|  male|  33.0|       3|    no|southeast|            Under 5k|\n",
      "|  3| 33|  male|22.705|       0|    no|northwest|           20k - 25k|\n",
      "|  4| 32|  male| 28.88|       0|    no|northwest|            Under 5k|\n",
      "+---+---+------+------+--------+------+---------+--------------------+\n",
      "\n"
     ]
    }
   ],
   "source": [
    "from pyspark.sql import SparkSession\n",
    "\n",
    "spark = SparkSession.builder.appName(\"customer_look_alike_modelling\").getOrCreate()\n",
    "df = spark.read.option(\"header\", \"true\").csv(data_path)\n",
    "df.limit(5).show()"
   ]
  },
  {
   "cell_type": "code",
   "execution_count": 14,
   "metadata": {
    "application/vnd.databricks.v1+cell": {
     "cellMetadata": {
      "byteLimit": 2048000,
      "rowLimit": 10000
     },
     "inputWidgets": {},
     "nuid": "70064537-447a-48f3-ad94-580c876ecc8e",
     "showTitle": false,
     "title": ""
    }
   },
   "outputs": [
    {
     "data": {
      "text/plain": [
       "['age', 'sex', 'bmi', 'children', 'smoker', 'region']"
      ]
     },
     "execution_count": 14,
     "metadata": {},
     "output_type": "execute_result"
    }
   ],
   "source": [
    "\n",
    "# rename to cols_to_convert\n",
    "# rows_to_convert = \"job_titles_cont,city_pl\".split(\",\")\n",
    "rows_to_convert = df.columns\n",
    "rows_to_convert.remove(\"Id\")\n",
    "rows_to_convert.remove(\"charges_bucket_label\")\n",
    "rows_to_convert"
   ]
  },
  {
   "cell_type": "code",
   "execution_count": 15,
   "metadata": {},
   "outputs": [
    {
     "data": {
      "text/plain": [
       "'age,sex,bmi,children,smoker,region'"
      ]
     },
     "execution_count": 15,
     "metadata": {},
     "output_type": "execute_result"
    }
   ],
   "source": [
    "\",\".join(rows_to_convert)"
   ]
  },
  {
   "cell_type": "code",
   "execution_count": 16,
   "metadata": {},
   "outputs": [
    {
     "data": {
      "text/plain": [
       "1338"
      ]
     },
     "execution_count": 16,
     "metadata": {},
     "output_type": "execute_result"
    }
   ],
   "source": [
    "df.count()"
   ]
  },
  {
   "cell_type": "code",
   "execution_count": 17,
   "metadata": {},
   "outputs": [],
   "source": [
    "from src.utils.functions import get_row_as_text, hf_embeddings, get_ars_retrieved_df\n",
    "train_df = get_row_as_text(df, rows_to_convert)"
   ]
  },
  {
   "cell_type": "code",
   "execution_count": null,
   "metadata": {},
   "outputs": [],
   "source": []
  },
  {
   "cell_type": "code",
   "execution_count": 18,
   "metadata": {
    "application/vnd.databricks.v1+cell": {
     "cellMetadata": {
      "byteLimit": 2048000,
      "rowLimit": 10000
     },
     "inputWidgets": {},
     "nuid": "bb2ae051-0b66-4773-8c61-c9df8cc533eb",
     "showTitle": false,
     "title": ""
    }
   },
   "outputs": [
    {
     "name": "stdout",
     "output_type": "stream",
     "text": [
      "+----------------------------------------------------------------------------+\n",
      "|row_as_text                                                                 |\n",
      "+----------------------------------------------------------------------------+\n",
      "|age: 19; sex: female; bmi: 27.9; children: 0; smoker: yes; region: southwest|\n",
      "|age: 18; sex: male; bmi: 33.77; children: 1; smoker: no; region: southeast  |\n",
      "+----------------------------------------------------------------------------+\n",
      "only showing top 2 rows\n",
      "\n"
     ]
    }
   ],
   "source": [
    "train_df.select(\"row_as_text\").show(2, truncate=False)"
   ]
  },
  {
   "cell_type": "code",
   "execution_count": 19,
   "metadata": {
    "application/vnd.databricks.v1+cell": {
     "cellMetadata": {
      "byteLimit": 2048000,
      "rowLimit": 10000
     },
     "inputWidgets": {},
     "nuid": "b9417325-8389-445a-91c8-23a24ab14737",
     "showTitle": false,
     "title": ""
    }
   },
   "outputs": [
    {
     "name": "stdout",
     "output_type": "stream",
     "text": [
      "root\n",
      " |-- Id: string (nullable = true)\n",
      " |-- age: string (nullable = true)\n",
      " |-- sex: string (nullable = true)\n",
      " |-- bmi: string (nullable = true)\n",
      " |-- children: string (nullable = true)\n",
      " |-- smoker: string (nullable = true)\n",
      " |-- region: string (nullable = true)\n",
      " |-- charges_bucket_label: string (nullable = true)\n",
      " |-- row_as_text: string (nullable = false)\n",
      "\n"
     ]
    }
   ],
   "source": [
    "train_df.printSchema()"
   ]
  },
  {
   "cell_type": "code",
   "execution_count": null,
   "metadata": {
    "application/vnd.databricks.v1+cell": {
     "cellMetadata": {
      "byteLimit": 2048000,
      "rowLimit": 10000
     },
     "inputWidgets": {},
     "nuid": "089d7000-fd73-4657-a2fd-30e6059d0083",
     "showTitle": false,
     "title": ""
    }
   },
   "outputs": [],
   "source": []
  },
  {
   "cell_type": "code",
   "execution_count": 20,
   "metadata": {
    "application/vnd.databricks.v1+cell": {
     "cellMetadata": {
      "byteLimit": 2048000,
      "rowLimit": 10000
     },
     "inputWidgets": {},
     "nuid": "7a7d024e-68b2-4501-baaf-0255e7470c0d",
     "showTitle": false,
     "title": ""
    }
   },
   "outputs": [
    {
     "data": {
      "text/plain": [
       "Row(Id='0', age='19', sex='female', bmi='27.9', children='0', smoker='yes', region='southwest', charges_bucket_label='15k - 20k', row_as_text='age: 19; sex: female; bmi: 27.9; children: 0; smoker: yes; region: southwest')"
      ]
     },
     "execution_count": 20,
     "metadata": {},
     "output_type": "execute_result"
    }
   ],
   "source": [
    "step = 1500\n",
    "k = 4000\n",
    "\n",
    "texts_list = train_df.rdd.collect()\n",
    "# texts_list = [x[0] for x in texts_label_list]\n",
    "# texts_list\n",
    "texts_list[0]"
   ]
  },
  {
   "cell_type": "code",
   "execution_count": 21,
   "metadata": {},
   "outputs": [],
   "source": [
    "import os\n",
    "\n",
    "# Specify the path of the directory you want to create\n",
    "db_dir = \"src/resources/embeddings/insurance\"\n",
    "\n",
    "# Create the directory\n",
    "os.makedirs(db_dir, exist_ok=True)"
   ]
  },
  {
   "cell_type": "code",
   "execution_count": 22,
   "metadata": {},
   "outputs": [],
   "source": [
    "from langchain.vectorstores import Chroma\n",
    "from src.utils.functions import hf_embeddings\n",
    "import chromadb\n",
    "import os\n",
    "\n",
    "client = chromadb.PersistentClient(path=db_dir)\n",
    "\n",
    "vdb = Chroma(persist_directory=db_dir, embedding_function=hf_embeddings,\n",
    "                 collection_metadata={\"hnsw:space\": \"cosine\"}, client=client)"
   ]
  },
  {
   "cell_type": "code",
   "execution_count": 23,
   "metadata": {
    "application/vnd.databricks.v1+cell": {
     "cellMetadata": {
      "byteLimit": 2048000,
      "rowLimit": 10000
     },
     "inputWidgets": {},
     "nuid": "51e8522a-c532-4a1b-8352-c027c0a875f6",
     "showTitle": false,
     "title": ""
    }
   },
   "outputs": [],
   "source": [
    "from langchain.vectorstores import Chroma\n",
    "vdb = Chroma(persist_directory=db_dir, embedding_function=hf_embeddings, collection_metadata={\"hnsw:space\": \"cosine\"})\n",
    "for i in range(0, len(texts_list), step):\n",
    "    texts = [x.row_as_text for x in texts_list[i:i+step]]\n",
    "    metadata = [{\"Id\": str(x.Id), \"charges_bucket_label\": str(x.charges_bucket_label)} for x in texts_list[i:i+step]]\n",
    "    vdb.add_texts(texts, metadata)\n",
    "    vdb.persist()"
   ]
  },
  {
   "cell_type": "code",
   "execution_count": 24,
   "metadata": {},
   "outputs": [],
   "source": [
    "from langchain.vectorstores import Chroma\n",
    "from src.utils.functions import hf_embeddings\n",
    "import chromadb\n",
    "\n",
    "client = chromadb.PersistentClient(path=db_dir)\n",
    "\n",
    "vdb = Chroma(persist_directory=db_dir, embedding_function=hf_embeddings,\n",
    "                 collection_metadata={\"hnsw:space\": \"cosine\"}, client=client)"
   ]
  },
  {
   "cell_type": "code",
   "execution_count": 25,
   "metadata": {},
   "outputs": [
    {
     "data": {
      "text/plain": [
       "1338"
      ]
     },
     "execution_count": 25,
     "metadata": {},
     "output_type": "execute_result"
    }
   ],
   "source": [
    "vdb._collection.count()"
   ]
  },
  {
   "cell_type": "code",
   "execution_count": null,
   "metadata": {},
   "outputs": [],
   "source": []
  }
 ],
 "metadata": {
  "application/vnd.databricks.v1+notebook": {
   "dashboards": [],
   "language": "python",
   "notebookMetadata": {
    "pythonIndentUnit": 2
   },
   "notebookName": "AR_dummy_data",
   "widgets": {}
  },
  "kernelspec": {
   "display_name": "Python 3 (ipykernel)",
   "language": "python",
   "name": "python3"
  },
  "language_info": {
   "codemirror_mode": {
    "name": "ipython",
    "version": 3
   },
   "file_extension": ".py",
   "mimetype": "text/x-python",
   "name": "python",
   "nbconvert_exporter": "python",
   "pygments_lexer": "ipython3",
   "version": "3.9.13"
  }
 },
 "nbformat": 4,
 "nbformat_minor": 1
}
